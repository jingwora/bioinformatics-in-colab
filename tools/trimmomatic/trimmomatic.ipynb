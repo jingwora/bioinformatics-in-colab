{
  "nbformat": 4,
  "nbformat_minor": 0,
  "metadata": {
    "colab": {
      "provenance": []
    },
    "kernelspec": {
      "name": "python3",
      "display_name": "Python 3"
    },
    "language_info": {
      "name": "python"
    }
  },
  "cells": [
    {
      "cell_type": "markdown",
      "source": [
        "# trimmomatic"
      ],
      "metadata": {
        "id": "qMNreF3tuFSY"
      }
    },
    {
      "cell_type": "markdown",
      "source": [
        "Trimmomatic is a fast, multithreaded command line tool that can be used to trim and crop Illumina (FASTQ) data as well as to remove adapters.\n",
        "- ILLUMINACLIP: Cut adapter and other illumina-specific sequences from the read.\n",
        "- SLIDINGWINDOW: Perform a sliding window trimming, cutting once the average quality within the window falls below a threshold.\n",
        "- LEADING: Cut bases off the start of a read, if below a threshold quality\n",
        "- TRAILING: Cut bases off the end of a read, if below a threshold quality\n",
        "- CROP: Cut the read to a specified length\n",
        "- HEADCROP: Cut the specified number of bases from the start of the read\n",
        "- MINLEN: Drop the read if it is below a specified length\n",
        "- TOPHRED33: Convert quality scores to Phred-33\n",
        "- TOPHRED64: Convert quality scores to Phred-64"
      ],
      "metadata": {
        "id": "R_3C5Yf_yTIo"
      }
    },
    {
      "cell_type": "markdown",
      "source": [
        "Ref:\n",
        "- Doc: http://www.usadellab.org/cms/?page=trimmomatic\n",
        "- Mannual: http://www.usadellab.org/cms/uploads/supplementary/Trimmomatic/TrimmomaticManual_V0.32.pdf\n",
        "- Github: https://github.com/usadellab/Trimmomatic"
      ],
      "metadata": {
        "id": "DVMp__ohx79D"
      }
    },
    {
      "cell_type": "markdown",
      "source": [
        "## Environment"
      ],
      "metadata": {
        "id": "FZ9x5pkX8PcO"
      }
    },
    {
      "cell_type": "code",
      "source": [
        "# To check available memory\n",
        "!cat /proc/meminfo | grep MemTotal\n",
        "\n",
        "# To check available number of threads\n",
        "!cat /proc/cpuinfo | grep processor | wc -l"
      ],
      "metadata": {
        "colab": {
          "base_uri": "https://localhost:8080/"
        },
        "id": "O7iP23TT8Tmi",
        "outputId": "a6cea824-2e10-40d8-8b0a-859fd341b302"
      },
      "execution_count": 1,
      "outputs": [
        {
          "output_type": "stream",
          "name": "stdout",
          "text": [
            "MemTotal:       13297200 kB\n",
            "2\n"
          ]
        }
      ]
    },
    {
      "cell_type": "markdown",
      "source": [
        "## Install"
      ],
      "metadata": {
        "id": "bBOjH2D38fLL"
      }
    },
    {
      "cell_type": "code",
      "execution_count": 2,
      "metadata": {
        "colab": {
          "base_uri": "https://localhost:8080/"
        },
        "id": "HgdjhCSxuDQP",
        "outputId": "d7b0f3ea-1bb9-443f-e04d-e2b9b305d21d"
      },
      "outputs": [
        {
          "output_type": "stream",
          "name": "stdout",
          "text": [
            "\r0% [Working]\r            \rGet:1 http://security.ubuntu.com/ubuntu focal-security InRelease [114 kB]\n",
            "\r            \rGet:2 https://cloud.r-project.org/bin/linux/ubuntu focal-cran40/ InRelease [3,622 B]\n",
            "\r0% [Connecting to archive.ubuntu.com (185.125.190.39)] [1 InRelease 14.2 kB/114\r                                                                               \rIgn:3 https://developer.download.nvidia.com/compute/machine-learning/repos/ubuntu2004/x86_64  InRelease\n",
            "\r0% [Waiting for headers] [1 InRelease 60.5 kB/114 kB 53%] [Waiting for headers]\r                                                                               \rGet:4 https://developer.download.nvidia.com/compute/cuda/repos/ubuntu2004/x86_64  InRelease [1,581 B]\n",
            "Hit:5 https://developer.download.nvidia.com/compute/machine-learning/repos/ubuntu2004/x86_64  Release\n",
            "Hit:6 http://archive.ubuntu.com/ubuntu focal InRelease\n",
            "Hit:7 http://ppa.launchpad.net/c2d4u.team/c2d4u4.0+/ubuntu focal InRelease\n",
            "Get:8 http://archive.ubuntu.com/ubuntu focal-updates InRelease [114 kB]\n",
            "Hit:9 http://ppa.launchpad.net/cran/libgit2/ubuntu focal InRelease\n",
            "Hit:10 http://ppa.launchpad.net/deadsnakes/ppa/ubuntu focal InRelease\n",
            "Get:11 https://developer.download.nvidia.com/compute/cuda/repos/ubuntu2004/x86_64  Packages [869 kB]\n",
            "Get:12 http://archive.ubuntu.com/ubuntu focal-backports InRelease [108 kB]\n",
            "Hit:13 http://ppa.launchpad.net/graphics-drivers/ppa/ubuntu focal InRelease\n",
            "Get:15 http://security.ubuntu.com/ubuntu focal-security/main amd64 Packages [2,448 kB]\n",
            "Get:16 http://security.ubuntu.com/ubuntu focal-security/universe amd64 Packages [990 kB]\n",
            "Get:17 http://archive.ubuntu.com/ubuntu focal-updates/main amd64 Packages [2,921 kB]\n",
            "Get:18 http://archive.ubuntu.com/ubuntu focal-updates/universe amd64 Packages [1,291 kB]\n",
            "Get:19 http://archive.ubuntu.com/ubuntu focal-backports/universe amd64 Packages [28.6 kB]\n",
            "Fetched 8,889 kB in 4s (2,125 kB/s)\n",
            "Reading package lists... Done\n",
            "Reading package lists... Done\n",
            "Building dependency tree       \n",
            "Reading state information... Done\n",
            "The following package was automatically installed and is no longer required:\n",
            "  libnvidia-common-510\n",
            "Use 'sudo apt autoremove' to remove it.\n",
            "The following additional packages will be installed:\n",
            "  default-jdk-headless openjdk-11-jdk\n",
            "Suggested packages:\n",
            "  openjdk-11-demo openjdk-11-source visualvm\n",
            "The following NEW packages will be installed:\n",
            "  default-jdk default-jdk-headless openjdk-11-jdk\n",
            "0 upgraded, 3 newly installed, 0 to remove and 27 not upgraded.\n",
            "Need to get 1,552 kB of archives.\n",
            "After this operation, 1,628 kB of additional disk space will be used.\n",
            "Get:1 http://archive.ubuntu.com/ubuntu focal/main amd64 default-jdk-headless amd64 2:1.11-72 [1,140 B]\n",
            "Get:2 http://archive.ubuntu.com/ubuntu focal-updates/main amd64 openjdk-11-jdk amd64 11.0.17+8-1ubuntu2~20.04 [1,550 kB]\n",
            "Get:3 http://archive.ubuntu.com/ubuntu focal/main amd64 default-jdk amd64 2:1.11-72 [1,096 B]\n",
            "Fetched 1,552 kB in 1s (1,385 kB/s)\n",
            "debconf: unable to initialize frontend: Dialog\n",
            "debconf: (No usable dialog-like program is installed, so the dialog based frontend cannot be used. at /usr/share/perl5/Debconf/FrontEnd/Dialog.pm line 76, <> line 3.)\n",
            "debconf: falling back to frontend: Readline\n",
            "debconf: unable to initialize frontend: Readline\n",
            "debconf: (This frontend requires a controlling tty.)\n",
            "debconf: falling back to frontend: Teletype\n",
            "dpkg-preconfigure: unable to re-open stdin: \n",
            "Selecting previously unselected package default-jdk-headless.\n",
            "(Reading database ... 129496 files and directories currently installed.)\n",
            "Preparing to unpack .../default-jdk-headless_2%3a1.11-72_amd64.deb ...\n",
            "Unpacking default-jdk-headless (2:1.11-72) ...\n",
            "Selecting previously unselected package openjdk-11-jdk:amd64.\n",
            "Preparing to unpack .../openjdk-11-jdk_11.0.17+8-1ubuntu2~20.04_amd64.deb ...\n",
            "Unpacking openjdk-11-jdk:amd64 (11.0.17+8-1ubuntu2~20.04) ...\n",
            "Selecting previously unselected package default-jdk.\n",
            "Preparing to unpack .../default-jdk_2%3a1.11-72_amd64.deb ...\n",
            "Unpacking default-jdk (2:1.11-72) ...\n",
            "Setting up default-jdk-headless (2:1.11-72) ...\n",
            "Setting up openjdk-11-jdk:amd64 (11.0.17+8-1ubuntu2~20.04) ...\n",
            "update-alternatives: using /usr/lib/jvm/java-11-openjdk-amd64/bin/jconsole to provide /usr/bin/jconsole (jconsole) in auto mode\n",
            "Setting up default-jdk (2:1.11-72) ...\n",
            "Reading package lists... Done\n",
            "Building dependency tree       \n",
            "Reading state information... Done\n",
            "default-jre is already the newest version (2:1.11-72).\n",
            "default-jre set to manually installed.\n",
            "The following package was automatically installed and is no longer required:\n",
            "  libnvidia-common-510\n",
            "Use 'sudo apt autoremove' to remove it.\n",
            "0 upgraded, 0 newly installed, 0 to remove and 27 not upgraded.\n"
          ]
        }
      ],
      "source": [
        "# Install Java\n",
        "!sudo apt-get update\n",
        "!sudo apt install default-jdk\n",
        "!sudo apt install default-jre"
      ]
    },
    {
      "cell_type": "code",
      "source": [
        "!java -version"
      ],
      "metadata": {
        "colab": {
          "base_uri": "https://localhost:8080/"
        },
        "id": "J4eFB_nuzI88",
        "outputId": "cdf6cdce-16b4-42a4-dcae-c71118fd3005"
      },
      "execution_count": 3,
      "outputs": [
        {
          "output_type": "stream",
          "name": "stdout",
          "text": [
            "openjdk version \"11.0.17\" 2022-10-18\n",
            "OpenJDK Runtime Environment (build 11.0.17+8-post-Ubuntu-1ubuntu220.04)\n",
            "OpenJDK 64-Bit Server VM (build 11.0.17+8-post-Ubuntu-1ubuntu220.04, mixed mode, sharing)\n"
          ]
        }
      ]
    },
    {
      "cell_type": "code",
      "source": [
        "# Install Bioconda\n",
        "\n",
        "! wget -O miniconda.sh https://repo.anaconda.com/miniconda/Miniconda3-py37_4.10.3-Linux-x86_64.sh\n",
        "! chmod +x miniconda.sh\n",
        "! bash ./miniconda.sh -b -f -p /usr/local\n",
        "! rm miniconda.sh\n",
        "! conda config --add channels conda-forge\n",
        "! conda config --add channels bioconda\n",
        "! conda install -y mamba\n",
        "! mamba update -qy --all\n",
        "! mamba clean -qafy\n",
        "import sys\n",
        "sys.path.append('/usr/local/lib/python3.7/site-packages/')"
      ],
      "metadata": {
        "colab": {
          "base_uri": "https://localhost:8080/"
        },
        "id": "PrQWJRlozK78",
        "outputId": "02364e17-472b-4ad1-f0f4-d9d2f52b1e0e"
      },
      "execution_count": 4,
      "outputs": [
        {
          "output_type": "stream",
          "name": "stdout",
          "text": [
            "--2023-02-02 00:25:53--  https://repo.anaconda.com/miniconda/Miniconda3-py37_4.10.3-Linux-x86_64.sh\n",
            "Resolving repo.anaconda.com (repo.anaconda.com)... 104.16.131.3, 104.16.130.3, 2606:4700::6810:8203, ...\n",
            "Connecting to repo.anaconda.com (repo.anaconda.com)|104.16.131.3|:443... connected.\n",
            "HTTP request sent, awaiting response... 200 OK\n",
            "Length: 89026327 (85M) [application/x-sh]\n",
            "Saving to: ‘miniconda.sh’\n",
            "\n",
            "miniconda.sh        100%[===================>]  84.90M   138MB/s    in 0.6s    \n",
            "\n",
            "2023-02-02 00:25:54 (138 MB/s) - ‘miniconda.sh’ saved [89026327/89026327]\n",
            "\n",
            "PREFIX=/usr/local\n",
            "Unpacking payload ...\n",
            "Collecting package metadata (current_repodata.json): - \b\b\\ \b\b| \b\bdone\n",
            "Solving environment: - \b\b\\ \b\b| \b\bdone\n",
            "\n",
            "## Package Plan ##\n",
            "\n",
            "  environment location: /usr/local\n",
            "\n",
            "  added / updated specs:\n",
            "    - _libgcc_mutex==0.1=main\n",
            "    - _openmp_mutex==4.5=1_gnu\n",
            "    - brotlipy==0.7.0=py37h27cfd23_1003\n",
            "    - ca-certificates==2021.7.5=h06a4308_1\n",
            "    - certifi==2021.5.30=py37h06a4308_0\n",
            "    - cffi==1.14.6=py37h400218f_0\n",
            "    - chardet==4.0.0=py37h06a4308_1003\n",
            "    - conda-package-handling==1.7.3=py37h27cfd23_1\n",
            "    - conda==4.10.3=py37h06a4308_0\n",
            "    - cryptography==3.4.7=py37hd23ed53_0\n",
            "    - idna==2.10=pyhd3eb1b0_0\n",
            "    - ld_impl_linux-64==2.35.1=h7274673_9\n",
            "    - libffi==3.3=he6710b0_2\n",
            "    - libgcc-ng==9.3.0=h5101ec6_17\n",
            "    - libgomp==9.3.0=h5101ec6_17\n",
            "    - libstdcxx-ng==9.3.0=hd4cf53a_17\n",
            "    - ncurses==6.2=he6710b0_1\n",
            "    - openssl==1.1.1k=h27cfd23_0\n",
            "    - pip==21.1.3=py37h06a4308_0\n",
            "    - pycosat==0.6.3=py37h27cfd23_0\n",
            "    - pycparser==2.20=py_2\n",
            "    - pyopenssl==20.0.1=pyhd3eb1b0_1\n",
            "    - pysocks==1.7.1=py37_1\n",
            "    - python==3.7.10=h12debd9_4\n",
            "    - readline==8.1=h27cfd23_0\n",
            "    - requests==2.25.1=pyhd3eb1b0_0\n",
            "    - ruamel_yaml==0.15.100=py37h27cfd23_0\n",
            "    - setuptools==52.0.0=py37h06a4308_0\n",
            "    - six==1.16.0=pyhd3eb1b0_0\n",
            "    - sqlite==3.36.0=hc218d9a_0\n",
            "    - tk==8.6.10=hbc83047_0\n",
            "    - tqdm==4.61.2=pyhd3eb1b0_1\n",
            "    - urllib3==1.26.6=pyhd3eb1b0_1\n",
            "    - wheel==0.36.2=pyhd3eb1b0_0\n",
            "    - xz==5.2.5=h7b6447c_0\n",
            "    - yaml==0.2.5=h7b6447c_0\n",
            "    - zlib==1.2.11=h7b6447c_3\n",
            "\n",
            "\n",
            "The following NEW packages will be INSTALLED:\n",
            "\n",
            "  _libgcc_mutex      pkgs/main/linux-64::_libgcc_mutex-0.1-main\n",
            "  _openmp_mutex      pkgs/main/linux-64::_openmp_mutex-4.5-1_gnu\n",
            "  brotlipy           pkgs/main/linux-64::brotlipy-0.7.0-py37h27cfd23_1003\n",
            "  ca-certificates    pkgs/main/linux-64::ca-certificates-2021.7.5-h06a4308_1\n",
            "  certifi            pkgs/main/linux-64::certifi-2021.5.30-py37h06a4308_0\n",
            "  cffi               pkgs/main/linux-64::cffi-1.14.6-py37h400218f_0\n",
            "  chardet            pkgs/main/linux-64::chardet-4.0.0-py37h06a4308_1003\n",
            "  conda              pkgs/main/linux-64::conda-4.10.3-py37h06a4308_0\n",
            "  conda-package-han~ pkgs/main/linux-64::conda-package-handling-1.7.3-py37h27cfd23_1\n",
            "  cryptography       pkgs/main/linux-64::cryptography-3.4.7-py37hd23ed53_0\n",
            "  idna               pkgs/main/noarch::idna-2.10-pyhd3eb1b0_0\n",
            "  ld_impl_linux-64   pkgs/main/linux-64::ld_impl_linux-64-2.35.1-h7274673_9\n",
            "  libffi             pkgs/main/linux-64::libffi-3.3-he6710b0_2\n",
            "  libgcc-ng          pkgs/main/linux-64::libgcc-ng-9.3.0-h5101ec6_17\n",
            "  libgomp            pkgs/main/linux-64::libgomp-9.3.0-h5101ec6_17\n",
            "  libstdcxx-ng       pkgs/main/linux-64::libstdcxx-ng-9.3.0-hd4cf53a_17\n",
            "  ncurses            pkgs/main/linux-64::ncurses-6.2-he6710b0_1\n",
            "  openssl            pkgs/main/linux-64::openssl-1.1.1k-h27cfd23_0\n",
            "  pip                pkgs/main/linux-64::pip-21.1.3-py37h06a4308_0\n",
            "  pycosat            pkgs/main/linux-64::pycosat-0.6.3-py37h27cfd23_0\n",
            "  pycparser          pkgs/main/noarch::pycparser-2.20-py_2\n",
            "  pyopenssl          pkgs/main/noarch::pyopenssl-20.0.1-pyhd3eb1b0_1\n",
            "  pysocks            pkgs/main/linux-64::pysocks-1.7.1-py37_1\n",
            "  python             pkgs/main/linux-64::python-3.7.10-h12debd9_4\n",
            "  readline           pkgs/main/linux-64::readline-8.1-h27cfd23_0\n",
            "  requests           pkgs/main/noarch::requests-2.25.1-pyhd3eb1b0_0\n",
            "  ruamel_yaml        pkgs/main/linux-64::ruamel_yaml-0.15.100-py37h27cfd23_0\n",
            "  setuptools         pkgs/main/linux-64::setuptools-52.0.0-py37h06a4308_0\n",
            "  six                pkgs/main/noarch::six-1.16.0-pyhd3eb1b0_0\n",
            "  sqlite             pkgs/main/linux-64::sqlite-3.36.0-hc218d9a_0\n",
            "  tk                 pkgs/main/linux-64::tk-8.6.10-hbc83047_0\n",
            "  tqdm               pkgs/main/noarch::tqdm-4.61.2-pyhd3eb1b0_1\n",
            "  urllib3            pkgs/main/noarch::urllib3-1.26.6-pyhd3eb1b0_1\n",
            "  wheel              pkgs/main/noarch::wheel-0.36.2-pyhd3eb1b0_0\n",
            "  xz                 pkgs/main/linux-64::xz-5.2.5-h7b6447c_0\n",
            "  yaml               pkgs/main/linux-64::yaml-0.2.5-h7b6447c_0\n",
            "  zlib               pkgs/main/linux-64::zlib-1.2.11-h7b6447c_3\n",
            "\n",
            "\n",
            "Preparing transaction: - \b\b\\ \b\b| \b\b/ \b\bdone\n",
            "Executing transaction: \\ \b\b| \b\b/ \b\b- \b\b\\ \b\b| \b\b/ \b\b- \b\b\\ \b\b| \b\b/ \b\b- \b\b\\ \b\b| \b\b/ \b\bdone\n",
            "installation finished.\n",
            "WARNING:\n",
            "    You currently have a PYTHONPATH environment variable set. This may cause\n",
            "    unexpected behavior when running the Python interpreter in Miniconda3.\n",
            "    For best results, please verify that your PYTHONPATH only points to\n",
            "    directories of packages that are compatible with the Python interpreter\n",
            "    in Miniconda3: /usr/local\n",
            "Collecting package metadata (current_repodata.json): - \b\b\\ \b\b| \b\b/ \b\b- \b\b\\ \b\b| \b\b/ \b\b- \b\b\\ \b\b| \b\b/ \b\b- \b\b\\ \b\b| \b\b/ \b\b- \b\b\\ \b\b| \b\b/ \b\b- \b\b\\ \b\b| \b\b/ \b\b- \b\b\\ \b\b| \b\b/ \b\b- \b\b\\ \b\b| \b\b/ \b\b- \b\b\\ \b\b| \b\b/ \b\b- \b\b\\ \b\b| \b\b/ \b\b- \b\b\\ \b\b| \b\b/ \b\b- \b\b\\ \b\b| \b\b/ \b\b- \b\b\\ \b\b| \b\b/ \b\b- \b\b\\ \b\b| \b\b/ \b\b- \b\b\\ \b\b| \b\b/ \b\b- \b\b\\ \b\b| \b\b/ \b\b- \b\b\\ \b\b| \b\b/ \b\b- \b\b\\ \b\b| \b\b/ \b\b- \b\b\\ \b\b| \b\b/ \b\b- \b\b\\ \b\b| \b\b/ \b\b- \b\b\\ \b\b| \b\b/ \b\b- \b\b\\ \b\b| \b\b/ \b\b- \b\b\\ \b\b| \b\b/ \b\b- \b\b\\ \b\b| \b\b/ \b\b- \b\b\\ \b\b| \b\b/ \b\b- \b\b\\ \b\b| \b\b/ \b\b- \b\b\\ \b\b| \b\b/ \b\b- \b\b\\ \b\b| \b\b/ \b\b- \b\b\\ \b\b| \b\b/ \b\b- \b\b\\ \b\b| \b\b/ \b\b- \b\b\\ \b\b| \b\b/ \b\b- \b\b\\ \b\b| \b\b/ \b\b- \b\b\\ \b\b| \b\b/ \b\b- \b\b\\ \b\b| \b\b/ \b\b- \b\b\\ \b\b| \b\b/ \b\b- \b\b\\ \b\b| \b\b/ \b\b- \b\b\\ \b\b| \b\b/ \b\b- \b\bdone\n",
            "Solving environment: | \b\b/ \b\b- \b\b\\ \b\b| \b\b/ \b\b- \b\b\\ \b\b| \b\b/ \b\b- \b\b\\ \b\b| \b\b/ \b\b- \b\b\\ \b\b| \b\b/ \b\b- \b\b\\ \b\b| \b\b/ \b\b- \b\b\\ \b\b| \b\b/ \b\b- \b\b\\ \b\b| \b\b/ \b\b- \b\b\\ \b\b| \b\b/ \b\b- \b\b\\ \b\b| \b\b/ \b\b- \b\b\\ \b\bdone\n",
            "\n",
            "\n",
            "==> WARNING: A newer version of conda exists. <==\n",
            "  current version: 4.10.3\n",
            "  latest version: 23.1.0\n",
            "\n",
            "Please update conda by running\n",
            "\n",
            "    $ conda update -n base -c defaults conda\n",
            "\n",
            "\n",
            "\n",
            "## Package Plan ##\n",
            "\n",
            "  environment location: /usr/local\n",
            "\n",
            "  added / updated specs:\n",
            "    - mamba\n",
            "\n",
            "\n",
            "The following packages will be downloaded:\n",
            "\n",
            "    package                    |            build\n",
            "    ---------------------------|-----------------\n",
            "    bzip2-1.0.8                |       h7f98852_4         484 KB  conda-forge\n",
            "    c-ares-1.18.1              |       h7f98852_0         113 KB  conda-forge\n",
            "    ca-certificates-2022.12.7  |       ha878542_0         143 KB  conda-forge\n",
            "    certifi-2022.12.7          |     pyhd8ed1ab_0         147 KB  conda-forge\n",
            "    icu-58.2                   |    hf484d3e_1000        22.6 MB  conda-forge\n",
            "    keyutils-1.6.1             |       h166bdaf_0         115 KB  conda-forge\n",
            "    krb5-1.19.3                |       h3790be6_0         1.4 MB  conda-forge\n",
            "    libarchive-3.5.2           |       hccf745f_1         1.6 MB  conda-forge\n",
            "    libcurl-7.87.0             |       h91b91d3_0         373 KB\n",
            "    libedit-3.1.20191231       |       he28a2e2_2         121 KB  conda-forge\n",
            "    libev-4.33                 |       h516909a_1         104 KB  conda-forge\n",
            "    libgcc-ng-11.2.0           |       h1234567_1         5.3 MB\n",
            "    libgomp-11.2.0             |       h1234567_1         474 KB\n",
            "    libiconv-1.17              |       h166bdaf_0         1.4 MB  conda-forge\n",
            "    libnghttp2-1.46.0          |       hce63b2e_0         680 KB\n",
            "    libsolv-0.7.22             |       he621ea3_0         436 KB\n",
            "    libssh2-1.10.0             |       ha56f1ee_2         233 KB  conda-forge\n",
            "    libstdcxx-ng-12.2.0        |      h46fd767_19         4.3 MB  conda-forge\n",
            "    libxml2-2.9.14             |       h74e7548_0         718 KB\n",
            "    lz4-c-1.9.3                |       h9c3ff4c_1         179 KB  conda-forge\n",
            "    lzo-2.10                   |    h516909a_1000         314 KB  conda-forge\n",
            "    mamba-0.15.3               |   py37h7f483ca_0         741 KB  conda-forge\n",
            "    openssl-1.1.1s             |       h7f8727e_0         3.6 MB\n",
            "    pcre2-10.37                |       h032f7d1_0         1.1 MB  conda-forge\n",
            "    python_abi-3.7             |          2_cp37m           4 KB  conda-forge\n",
            "    reproc-14.2.4              |       h295c915_1          30 KB\n",
            "    reproc-cpp-14.2.4          |       h295c915_1          22 KB\n",
            "    zlib-1.2.13                |       h5eee18b_0         103 KB\n",
            "    zstd-1.5.2                 |       ha4553b6_0         488 KB\n",
            "    ------------------------------------------------------------\n",
            "                                           Total:        47.2 MB\n",
            "\n",
            "The following NEW packages will be INSTALLED:\n",
            "\n",
            "  bzip2              conda-forge/linux-64::bzip2-1.0.8-h7f98852_4\n",
            "  c-ares             conda-forge/linux-64::c-ares-1.18.1-h7f98852_0\n",
            "  icu                conda-forge/linux-64::icu-58.2-hf484d3e_1000\n",
            "  keyutils           conda-forge/linux-64::keyutils-1.6.1-h166bdaf_0\n",
            "  krb5               conda-forge/linux-64::krb5-1.19.3-h3790be6_0\n",
            "  libarchive         conda-forge/linux-64::libarchive-3.5.2-hccf745f_1\n",
            "  libcurl            pkgs/main/linux-64::libcurl-7.87.0-h91b91d3_0\n",
            "  libedit            conda-forge/linux-64::libedit-3.1.20191231-he28a2e2_2\n",
            "  libev              conda-forge/linux-64::libev-4.33-h516909a_1\n",
            "  libiconv           conda-forge/linux-64::libiconv-1.17-h166bdaf_0\n",
            "  libnghttp2         pkgs/main/linux-64::libnghttp2-1.46.0-hce63b2e_0\n",
            "  libsolv            pkgs/main/linux-64::libsolv-0.7.22-he621ea3_0\n",
            "  libssh2            conda-forge/linux-64::libssh2-1.10.0-ha56f1ee_2\n",
            "  libxml2            pkgs/main/linux-64::libxml2-2.9.14-h74e7548_0\n",
            "  lz4-c              conda-forge/linux-64::lz4-c-1.9.3-h9c3ff4c_1\n",
            "  lzo                conda-forge/linux-64::lzo-2.10-h516909a_1000\n",
            "  mamba              conda-forge/linux-64::mamba-0.15.3-py37h7f483ca_0\n",
            "  pcre2              conda-forge/linux-64::pcre2-10.37-h032f7d1_0\n",
            "  python_abi         conda-forge/linux-64::python_abi-3.7-2_cp37m\n",
            "  reproc             pkgs/main/linux-64::reproc-14.2.4-h295c915_1\n",
            "  reproc-cpp         pkgs/main/linux-64::reproc-cpp-14.2.4-h295c915_1\n",
            "  zstd               pkgs/main/linux-64::zstd-1.5.2-ha4553b6_0\n",
            "\n",
            "The following packages will be UPDATED:\n",
            "\n",
            "  ca-certificates    pkgs/main::ca-certificates-2021.7.5-h~ --> conda-forge::ca-certificates-2022.12.7-ha878542_0\n",
            "  certifi            pkgs/main/linux-64::certifi-2021.5.30~ --> conda-forge/noarch::certifi-2022.12.7-pyhd8ed1ab_0\n",
            "  libgcc-ng                               9.3.0-h5101ec6_17 --> 11.2.0-h1234567_1\n",
            "  libgomp                                 9.3.0-h5101ec6_17 --> 11.2.0-h1234567_1\n",
            "  libstdcxx-ng       pkgs/main::libstdcxx-ng-9.3.0-hd4cf53~ --> conda-forge::libstdcxx-ng-12.2.0-h46fd767_19\n",
            "  openssl                                 1.1.1k-h27cfd23_0 --> 1.1.1s-h7f8727e_0\n",
            "  zlib                                    1.2.11-h7b6447c_3 --> 1.2.13-h5eee18b_0\n",
            "\n",
            "\n",
            "\n",
            "Downloading and Extracting Packages\n",
            "libnghttp2-1.46.0    | 680 KB    | : 100% 1.0/1 [00:00<00:00,  4.67it/s]\n",
            "libiconv-1.17        | 1.4 MB    | : 100% 1.0/1 [00:00<00:00,  2.77it/s]\n",
            "ca-certificates-2022 | 143 KB    | : 100% 1.0/1 [00:00<00:00,  9.43it/s]\n",
            "zstd-1.5.2           | 488 KB    | : 100% 1.0/1 [00:00<00:00,  9.44it/s]\n",
            "lzo-2.10             | 314 KB    | : 100% 1.0/1 [00:00<00:00,  7.71it/s]\n",
            "bzip2-1.0.8          | 484 KB    | : 100% 1.0/1 [00:00<00:00,  6.68it/s]\n",
            "certifi-2022.12.7    | 147 KB    | : 100% 1.0/1 [00:00<00:00, 10.01it/s]\n",
            "libssh2-1.10.0       | 233 KB    | : 100% 1.0/1 [00:00<00:00,  7.48it/s]\n",
            "c-ares-1.18.1        | 113 KB    | : 100% 1.0/1 [00:00<00:00, 12.72it/s]\n",
            "libgcc-ng-11.2.0     | 5.3 MB    | : 100% 1.0/1 [00:00<00:00,  3.63it/s]               \n",
            "libcurl-7.87.0       | 373 KB    | : 100% 1.0/1 [00:00<00:00, 10.03it/s]\n",
            "libarchive-3.5.2     | 1.6 MB    | : 100% 1.0/1 [00:00<00:00,  2.77it/s]\n",
            "libxml2-2.9.14       | 718 KB    | : 100% 1.0/1 [00:00<00:00,  9.16it/s]\n",
            "mamba-0.15.3         | 741 KB    | : 100% 1.0/1 [00:00<00:00,  4.31it/s]\n",
            "pcre2-10.37          | 1.1 MB    | : 100% 1.0/1 [00:00<00:00,  3.10it/s]\n",
            "keyutils-1.6.1       | 115 KB    | : 100% 1.0/1 [00:00<00:00, 15.50it/s]\n",
            "libev-4.33           | 104 KB    | : 100% 1.0/1 [00:00<00:00, 15.57it/s]\n",
            "openssl-1.1.1s       | 3.6 MB    | : 100% 1.0/1 [00:00<00:00,  3.65it/s]\n",
            "reproc-14.2.4        | 30 KB     | : 100% 1.0/1 [00:00<00:00,  7.60it/s]\n",
            "krb5-1.19.3          | 1.4 MB    | : 100% 1.0/1 [00:00<00:00,  2.19it/s]               \n",
            "reproc-cpp-14.2.4    | 22 KB     | : 100% 1.0/1 [00:00<00:00, 11.15it/s]\n",
            "libgomp-11.2.0       | 474 KB    | : 100% 1.0/1 [00:00<00:00,  9.94it/s]\n",
            "libstdcxx-ng-12.2.0  | 4.3 MB    | : 100% 1.0/1 [00:00<00:00,  1.11it/s]               \n",
            "libsolv-0.7.22       | 436 KB    | : 100% 1.0/1 [00:00<00:00,  9.72it/s]\n",
            "python_abi-3.7       | 4 KB      | : 100% 1.0/1 [00:00<00:00, 18.50it/s]\n",
            "zlib-1.2.13          | 103 KB    | : 100% 1.0/1 [00:00<00:00, 10.84it/s]\n",
            "libedit-3.1.20191231 | 121 KB    | : 100% 1.0/1 [00:00<00:00, 13.16it/s]\n",
            "icu-58.2             | 22.6 MB   | : 100% 1.0/1 [00:04<00:00,  4.84s/it]               \n",
            "lz4-c-1.9.3          | 179 KB    | : 100% 1.0/1 [00:00<00:00, 12.77it/s]\n",
            "Preparing transaction: / \b\bdone\n",
            "Verifying transaction: \\ \b\b| \b\b/ \b\b- \b\bdone\n",
            "Executing transaction: | \b\b/ \b\b- \b\b\\ \b\b| \b\b/ \b\b- \b\bdone\n",
            "  Package                    Version  Build                 Channel                     Size\n",
            "──────────────────────────────────────────────────────────────────────────────────────────────\n",
            "  Install:\n",
            "──────────────────────────────────────────────────────────────────────────────────────────────\n",
            "\n",
            "\u001b[32m  + charset-normalizer     \u001b[00m    2.1.1  pyhd8ed1ab_0          conda-forge/noarch         36 KB\n",
            "\u001b[32m  + colorama               \u001b[00m    0.4.6  pyhd8ed1ab_0          conda-forge/noarch         25 KB\n",
            "\u001b[32m  + conda-package-streaming\u001b[00m    0.7.0  pyhd8ed1ab_1          conda-forge/noarch         17 KB\n",
            "\u001b[32m  + libmamba               \u001b[00m   0.27.0  h0dd8ff0_0            conda-forge/linux-64        1 MB\n",
            "\u001b[32m  + libmambapy             \u001b[00m   0.27.0  py37h1ee4b26_0        conda-forge/linux-64      333 KB\n",
            "\u001b[32m  + libnsl                 \u001b[00m    2.0.0  h7f98852_0            conda-forge/linux-64       31 KB\n",
            "\u001b[32m  + libsqlite              \u001b[00m   3.40.0  h753d276_0            conda-forge/linux-64      791 KB\n",
            "\u001b[32m  + libzlib                \u001b[00m   1.2.13  h166bdaf_4            conda-forge/linux-64       64 KB\n",
            "\u001b[32m  + pybind11-abi           \u001b[00m        4  hd8ed1ab_3            conda-forge/noarch         10 KB\n",
            "\u001b[32m  + toolz                  \u001b[00m   0.12.0  pyhd8ed1ab_0          conda-forge/noarch         48 KB\n",
            "\u001b[32m  + yaml-cpp               \u001b[00m    0.7.0  h27087fc_2            conda-forge/linux-64      215 KB\n",
            "\u001b[32m  + zstandard              \u001b[00m   0.18.0  py37h540881e_0        conda-forge/linux-64      650 KB\n",
            "\n",
            "  Change:\n",
            "──────────────────────────────────────────────────────────────────────────────────────────────\n",
            "\n",
            "\u001b[31m  - _libgcc_mutex          \u001b[00m      0.1  main                  installed                       \n",
            "\u001b[32m  + _libgcc_mutex          \u001b[00m      0.1  conda_forge           conda-forge/linux-64        3 KB\n",
            "\u001b[31m  - _openmp_mutex          \u001b[00m      4.5  1_gnu                 installed                       \n",
            "\u001b[32m  + _openmp_mutex          \u001b[00m      4.5  2_gnu                 conda-forge/linux-64       23 KB\n",
            "\u001b[31m  - brotlipy               \u001b[00m    0.7.0  py37h27cfd23_1003     installed                       \n",
            "\u001b[32m  + brotlipy               \u001b[00m    0.7.0  py37h540881e_1004     conda-forge/linux-64      342 KB\n",
            "\u001b[31m  - libarchive             \u001b[00m    3.5.2  hccf745f_1            installed                       \n",
            "\u001b[32m  + libarchive             \u001b[00m    3.5.2  hb890918_3            conda-forge/linux-64        2 MB\n",
            "\u001b[31m  - libcurl                \u001b[00m   7.87.0  h91b91d3_0            installed                       \n",
            "\u001b[32m  + libcurl                \u001b[00m   7.87.0  h6312ad2_0            conda-forge/linux-64      339 KB\n",
            "\u001b[31m  - libssh2                \u001b[00m   1.10.0  ha56f1ee_2            installed                       \n",
            "\u001b[32m  + libssh2                \u001b[00m   1.10.0  haa6b8db_3            conda-forge/linux-64      234 KB\n",
            "\u001b[31m  - openssl                \u001b[00m   1.1.1s  h7f8727e_0            installed                       \n",
            "\u001b[32m  + openssl                \u001b[00m   1.1.1s  h0b41bf4_1            conda-forge/linux-64        2 MB\n",
            "\u001b[31m  - pysocks                \u001b[00m    1.7.1  py37_1                installed                       \n",
            "\u001b[32m  + pysocks                \u001b[00m    1.7.1  py37h89c1867_5        conda-forge/linux-64       28 KB\n",
            "\u001b[31m  - python_abi             \u001b[00m      3.7  2_cp37m               installed                       \n",
            "\u001b[32m  + python_abi             \u001b[00m      3.7  3_cp37m               conda-forge/linux-64        6 KB\n",
            "\u001b[31m  - reproc                 \u001b[00m   14.2.4  h295c915_1            installed                       \n",
            "\u001b[32m  + reproc                 \u001b[00m   14.2.4  h0b41bf4_0            conda-forge/linux-64       30 KB\n",
            "\u001b[31m  - reproc-cpp             \u001b[00m   14.2.4  h295c915_1            installed                       \n",
            "\u001b[32m  + reproc-cpp             \u001b[00m   14.2.4  hcb278e6_0            conda-forge/linux-64       21 KB\n",
            "\u001b[31m  - yaml                   \u001b[00m    0.2.5  h7b6447c_0            installed                       \n",
            "\u001b[32m  + yaml                   \u001b[00m    0.2.5  h7f98852_2            conda-forge/linux-64       87 KB\n",
            "\u001b[31m  - zlib                   \u001b[00m   1.2.13  h5eee18b_0            installed                       \n",
            "\u001b[32m  + zlib                   \u001b[00m   1.2.13  h166bdaf_4            conda-forge/linux-64       92 KB\n",
            "\u001b[31m  - zstd                   \u001b[00m    1.5.2  ha4553b6_0            installed                       \n",
            "\u001b[32m  + zstd                   \u001b[00m    1.5.2  h3eb15da_6            conda-forge/linux-64      410 KB\n",
            "\n",
            "  Upgrade:\n",
            "──────────────────────────────────────────────────────────────────────────────────────────────\n",
            "\n",
            "\u001b[31m  - cffi                   \u001b[00m   1.14.6  py37h400218f_0        installed                       \n",
            "\u001b[32m  + cffi                   \u001b[00m   1.15.1  py37h43b0acd_1        conda-forge/linux-64      227 KB\n",
            "\u001b[31m  - chardet                \u001b[00m    4.0.0  py37h06a4308_1003     installed                       \n",
            "\u001b[32m  + chardet                \u001b[00m    5.0.0  py37h89c1867_0        conda-forge/linux-64      230 KB\n",
            "\u001b[31m  - conda                  \u001b[00m   4.10.3  py37h06a4308_0        installed                       \n",
            "\u001b[32m  + conda                  \u001b[00m   22.9.0  py37h89c1867_1        conda-forge/linux-64      960 KB\n",
            "\u001b[31m  - conda-package-handling \u001b[00m    1.7.3  py37h27cfd23_1        installed                       \n",
            "\u001b[32m  + conda-package-handling \u001b[00m    2.0.2  pyh38be061_0          conda-forge/noarch        247 KB\n",
            "\u001b[31m  - cryptography           \u001b[00m    3.4.7  py37hd23ed53_0        installed                       \n",
            "\u001b[32m  + cryptography           \u001b[00m   38.0.2  py37h38fbfac_1        conda-forge/linux-64        2 MB\n",
            "\u001b[31m  - icu                    \u001b[00m     58.2  hf484d3e_1000         installed                       \n",
            "\u001b[32m  + icu                    \u001b[00m     70.1  h27087fc_0            conda-forge/linux-64       14 MB\n",
            "\u001b[31m  - idna                   \u001b[00m     2.10  pyhd3eb1b0_0          installed                       \n",
            "\u001b[32m  + idna                   \u001b[00m      3.4  pyhd8ed1ab_0          conda-forge/noarch         55 KB\n",
            "\u001b[31m  - krb5                   \u001b[00m   1.19.3  h3790be6_0            installed                       \n",
            "\u001b[32m  + krb5                   \u001b[00m   1.20.1  hf9c8cef_0            conda-forge/linux-64        1 MB\n",
            "\u001b[31m  - ld_impl_linux-64       \u001b[00m   2.35.1  h7274673_9            installed                       \n",
            "\u001b[32m  + ld_impl_linux-64       \u001b[00m     2.40  h41732ed_0            conda-forge/linux-64      688 KB\n",
            "\u001b[31m  - libffi                 \u001b[00m      3.3  he6710b0_2            installed                       \n",
            "\u001b[32m  + libffi                 \u001b[00m    3.4.2  h7f98852_5            conda-forge/linux-64       57 KB\n",
            "\u001b[31m  - libgcc-ng              \u001b[00m   11.2.0  h1234567_1            installed                       \n",
            "\u001b[32m  + libgcc-ng              \u001b[00m   12.2.0  h65d4601_19           conda-forge/linux-64      931 KB\n",
            "\u001b[31m  - libgomp                \u001b[00m   11.2.0  h1234567_1            installed                       \n",
            "\u001b[32m  + libgomp                \u001b[00m   12.2.0  h65d4601_19           conda-forge/linux-64      455 KB\n",
            "\u001b[31m  - libnghttp2             \u001b[00m   1.46.0  hce63b2e_0            installed                       \n",
            "\u001b[32m  + libnghttp2             \u001b[00m   1.51.0  hdcd2b5c_0            conda-forge/linux-64      608 KB\n",
            "\u001b[31m  - libsolv                \u001b[00m   0.7.22  he621ea3_0            installed                       \n",
            "\u001b[32m  + libsolv                \u001b[00m   0.7.23  h3eb15da_0            conda-forge/linux-64      451 KB\n",
            "\u001b[31m  - libxml2                \u001b[00m   2.9.14  h74e7548_0            installed                       \n",
            "\u001b[32m  + libxml2                \u001b[00m   2.10.3  h7463322_0            conda-forge/linux-64      754 KB\n",
            "\u001b[31m  - lz4-c                  \u001b[00m    1.9.3  h9c3ff4c_1            installed                       \n",
            "\u001b[32m  + lz4-c                  \u001b[00m    1.9.4  hcb278e6_0            conda-forge/linux-64      140 KB\n",
            "\u001b[31m  - mamba                  \u001b[00m   0.15.3  py37h7f483ca_0        installed                       \n",
            "\u001b[32m  + mamba                  \u001b[00m   0.27.0  py37h6dacc13_0        conda-forge/linux-64       44 KB\n",
            "\u001b[31m  - ncurses                \u001b[00m      6.2  he6710b0_1            installed                       \n",
            "\u001b[32m  + ncurses                \u001b[00m      6.3  h27087fc_1            conda-forge/linux-64     1002 KB\n",
            "\u001b[31m  - pcre2                  \u001b[00m    10.37  h032f7d1_0            installed                       \n",
            "\u001b[32m  + pcre2                  \u001b[00m    10.40  hc3806b6_0            conda-forge/linux-64        2 MB\n",
            "\u001b[31m  - pip                    \u001b[00m   21.1.3  py37h06a4308_0        installed                       \n",
            "\u001b[32m  + pip                    \u001b[00m     23.0  pyhd8ed1ab_0          conda-forge/noarch          1 MB\n",
            "\u001b[31m  - pycosat                \u001b[00m    0.6.3  py37h27cfd23_0        installed                       \n",
            "\u001b[32m  + pycosat                \u001b[00m    0.6.4  py37h540881e_0        conda-forge/linux-64      107 KB\n",
            "\u001b[31m  - pycparser              \u001b[00m     2.20  py_2                  installed                       \n",
            "\u001b[32m  + pycparser              \u001b[00m     2.21  pyhd8ed1ab_0          conda-forge/noarch        100 KB\n",
            "\u001b[31m  - pyopenssl              \u001b[00m   20.0.1  pyhd3eb1b0_1          installed                       \n",
            "\u001b[32m  + pyopenssl              \u001b[00m   23.0.0  pyhd8ed1ab_0          conda-forge/noarch        124 KB\n",
            "\u001b[31m  - python                 \u001b[00m   3.7.10  h12debd9_4            installed                       \n",
            "\u001b[32m  + python                 \u001b[00m   3.7.12  hb7a2778_100_cpython  conda-forge/linux-64       57 MB\n",
            "\u001b[31m  - readline               \u001b[00m      8.1  h27cfd23_0            installed                       \n",
            "\u001b[32m  + readline               \u001b[00m    8.1.2  h0f457ee_0            conda-forge/linux-64      291 KB\n",
            "\u001b[31m  - requests               \u001b[00m   2.25.1  pyhd3eb1b0_0          installed                       \n",
            "\u001b[32m  + requests               \u001b[00m   2.28.2  pyhd8ed1ab_0          conda-forge/noarch         55 KB\n",
            "\u001b[31m  - setuptools             \u001b[00m   52.0.0  py37h06a4308_0        installed                       \n",
            "\u001b[32m  + setuptools             \u001b[00m   66.1.1  pyhd8ed1ab_0          conda-forge/noarch        630 KB\n",
            "\u001b[31m  - sqlite                 \u001b[00m   3.36.0  hc218d9a_0            installed                       \n",
            "\u001b[32m  + sqlite                 \u001b[00m   3.40.0  h4ff8645_0            conda-forge/linux-64      801 KB\n",
            "\u001b[31m  - tk                     \u001b[00m   8.6.10  hbc83047_0            installed                       \n",
            "\u001b[32m  + tk                     \u001b[00m   8.6.12  h27826a3_0            conda-forge/linux-64        3 MB\n",
            "\u001b[31m  - tqdm                   \u001b[00m   4.61.2  pyhd3eb1b0_1          installed                       \n",
            "\u001b[32m  + tqdm                   \u001b[00m   4.64.1  pyhd8ed1ab_0          conda-forge/noarch         82 KB\n",
            "\u001b[31m  - urllib3                \u001b[00m   1.26.6  pyhd3eb1b0_1          installed                       \n",
            "\u001b[32m  + urllib3                \u001b[00m  1.26.14  pyhd8ed1ab_0          conda-forge/noarch        110 KB\n",
            "\u001b[31m  - wheel                  \u001b[00m   0.36.2  pyhd3eb1b0_0          installed                       \n",
            "\u001b[32m  + wheel                  \u001b[00m   0.38.4  pyhd8ed1ab_0          conda-forge/noarch         32 KB\n",
            "\u001b[31m  - xz                     \u001b[00m    5.2.5  h7b6447c_0            installed                       \n",
            "\u001b[32m  + xz                     \u001b[00m    5.2.6  h166bdaf_0            conda-forge/linux-64      409 KB\n",
            "\n",
            "  Summary:\n",
            "\n",
            "  Install: 12 packages\n",
            "  Change: 14 packages\n",
            "  Upgrade: 33 packages\n",
            "\n",
            "  Total download: 99 MB\n",
            "\n",
            "──────────────────────────────────────────────────────────────────────────────────────────────\n",
            "\n",
            "Preparing transaction: ...working... done\n",
            "Verifying transaction: ...working... done\n",
            "Executing transaction: ...working... done\n",
            "\n",
            "                  __    __    __    __\n",
            "                 /  \\  /  \\  /  \\  /  \\\n",
            "                /    \\/    \\/    \\/    \\\n",
            "███████████████/  /██/  /██/  /██/  /████████████████████████\n",
            "              /  / \\   / \\   / \\   / \\  \\____\n",
            "             /  /   \\_/   \\_/   \\_/   \\    o \\__,\n",
            "            / _/                       \\_____/  `\n",
            "            |/\n",
            "        ███╗   ███╗ █████╗ ███╗   ███╗██████╗  █████╗\n",
            "        ████╗ ████║██╔══██╗████╗ ████║██╔══██╗██╔══██╗\n",
            "        ██╔████╔██║███████║██╔████╔██║██████╔╝███████║\n",
            "        ██║╚██╔╝██║██╔══██║██║╚██╔╝██║██╔══██╗██╔══██║\n",
            "        ██║ ╚═╝ ██║██║  ██║██║ ╚═╝ ██║██████╔╝██║  ██║\n",
            "        ╚═╝     ╚═╝╚═╝  ╚═╝╚═╝     ╚═╝╚═════╝ ╚═╝  ╚═╝\n",
            "\n",
            "        mamba (0.27.0) supported by @QuantStack\n",
            "\n",
            "        GitHub:  https://github.com/mamba-org/mamba\n",
            "        Twitter: https://twitter.com/QuantStack\n",
            "\n",
            "█████████████████████████████████████████████████████████████\n",
            "\n"
          ]
        }
      ]
    },
    {
      "cell_type": "code",
      "source": [
        "!conda --version\n",
        "!conda config --show channels"
      ],
      "metadata": {
        "colab": {
          "base_uri": "https://localhost:8080/"
        },
        "id": "rvQttMG8zM98",
        "outputId": "ec154608-ed66-480a-8b70-dbd0804c9114"
      },
      "execution_count": 5,
      "outputs": [
        {
          "output_type": "stream",
          "name": "stdout",
          "text": [
            "conda 22.9.0\n",
            "channels:\n",
            "  - bioconda\n",
            "  - conda-forge\n",
            "  - defaults\n"
          ]
        }
      ]
    },
    {
      "cell_type": "code",
      "source": [
        "!conda install -y -c bioconda trimmomatic"
      ],
      "metadata": {
        "colab": {
          "base_uri": "https://localhost:8080/"
        },
        "id": "9sjRXCYTzRWe",
        "outputId": "431eb974-3819-4e4f-fbe1-fd5f8bf776ff"
      },
      "execution_count": 6,
      "outputs": [
        {
          "output_type": "stream",
          "name": "stdout",
          "text": [
            "Collecting package metadata (current_repodata.json): - \b\b\\ \b\b| \b\b/ \b\b- \b\b\\ \b\b| \b\b/ \b\b- \b\b\\ \b\b| \b\b/ \b\b- \b\b\\ \b\b| \b\b/ \b\b- \b\b\\ \b\b| \b\b/ \b\b- \b\b\\ \b\b| \b\b/ \b\b- \b\b\\ \b\b| \b\b/ \b\b- \b\b\\ \b\b| \b\b/ \b\b- \b\b\\ \b\b| \b\b/ \b\b- \b\b\\ \b\b| \b\b/ \b\b- \b\b\\ \b\b| \b\b/ \b\b- \b\b\\ \b\b| \b\b/ \b\b- \b\b\\ \b\b| \b\b/ \b\b- \b\b\\ \b\b| \b\b/ \b\b- \b\b\\ \b\b| \b\b/ \b\b- \b\b\\ \b\b| \b\b/ \b\b- \b\b\\ \b\b| \b\b/ \b\b- \b\b\\ \b\b| \b\b/ \b\b- \b\b\\ \b\b| \b\b/ \b\b- \b\b\\ \b\b| \b\b/ \b\b- \b\b\\ \b\b| \b\b/ \b\b- \b\b\\ \b\b| \b\b/ \b\b- \b\b\\ \b\b| \b\b/ \b\b- \b\b\\ \b\b| \b\b/ \b\b- \b\b\\ \b\b| \b\b/ \b\b- \b\b\\ \b\b| \b\b/ \b\b- \b\b\\ \b\b| \b\b/ \b\b- \b\b\\ \b\b| \b\b/ \b\b- \b\b\\ \b\b| \b\b/ \b\b- \b\b\\ \b\b| \b\b/ \b\b- \b\b\\ \b\b| \b\b/ \b\b- \b\b\\ \b\b| \b\b/ \b\b- \b\b\\ \b\b| \b\b/ \b\b- \b\b\\ \b\b| \b\b/ \b\b- \b\b\\ \b\b| \b\b/ \b\b- \b\b\\ \b\b| \b\b/ \b\b- \b\b\\ \b\b| \b\b/ \b\b- \b\b\\ \b\b| \b\b/ \b\b- \b\b\\ \b\b| \b\b/ \b\b- \b\b\\ \b\b| \b\b/ \b\b- \b\b\\ \b\b| \b\b/ \b\b- \b\b\\ \b\b| \b\b/ \b\b- \b\b\\ \b\b| \b\b/ \b\b- \b\b\\ \b\b| \b\b/ \b\b- \b\b\\ \b\b| \b\b/ \b\b- \b\b\\ \b\b| \b\b/ \b\b- \b\b\\ \b\b| \b\b/ \b\b- \b\b\\ \b\b| \b\b/ \b\b- \b\b\\ \b\b| \b\b/ \b\b- \b\b\\ \b\b| \b\b/ \b\b- \b\b\\ \b\b| \b\b/ \b\b- \b\b\\ \b\b| \b\b/ \b\b- \b\b\\ \b\b| \b\b/ \b\b- \b\b\\ \b\b| \b\b/ \b\b- \b\b\\ \b\b| \b\b/ \b\b- \b\bdone\n",
            "Solving environment: | \b\b/ \b\b- \b\b\\ \b\b| \b\b/ \b\b- \b\b\\ \b\b| \b\b/ \b\b- \b\b\\ \b\b| \b\b/ \b\b- \b\b\\ \b\b| \b\b/ \b\b- \b\b\\ \b\b| \b\b/ \b\b- \b\b\\ \b\b| \b\b/ \b\b- \b\b\\ \b\bdone\n",
            "\n",
            "\n",
            "==> WARNING: A newer version of conda exists. <==\n",
            "  current version: 22.9.0\n",
            "  latest version: 22.11.1\n",
            "\n",
            "Please update conda by running\n",
            "\n",
            "    $ conda update -n base -c conda-forge conda\n",
            "\n",
            "\n",
            "\n",
            "## Package Plan ##\n",
            "\n",
            "  environment location: /usr/local\n",
            "\n",
            "  added / updated specs:\n",
            "    - trimmomatic\n",
            "\n",
            "\n",
            "The following packages will be downloaded:\n",
            "\n",
            "    package                    |            build\n",
            "    ---------------------------|-----------------\n",
            "    alsa-lib-1.2.8             |       h166bdaf_0         578 KB  conda-forge\n",
            "    cairo-1.16.0               |    ha61ee94_1014         1.5 MB  conda-forge\n",
            "    expat-2.5.0                |       h27087fc_0         189 KB  conda-forge\n",
            "    font-ttf-dejavu-sans-mono-2.37|       hab24e00_0         388 KB  conda-forge\n",
            "    font-ttf-inconsolata-3.000 |       h77eed37_0          94 KB  conda-forge\n",
            "    font-ttf-source-code-pro-2.038|       h77eed37_0         684 KB  conda-forge\n",
            "    font-ttf-ubuntu-0.83       |       hab24e00_0         1.9 MB  conda-forge\n",
            "    fontconfig-2.14.2          |       h14ed4e7_0         266 KB  conda-forge\n",
            "    fonts-conda-ecosystem-1    |                0           4 KB  conda-forge\n",
            "    fonts-conda-forge-1        |                0           4 KB  conda-forge\n",
            "    freetype-2.12.1            |       hca18f0e_1         611 KB  conda-forge\n",
            "    gettext-0.21.1             |       h27087fc_0         4.1 MB  conda-forge\n",
            "    giflib-5.2.1               |       h36c2ea0_2          77 KB  conda-forge\n",
            "    graphite2-1.3.13           |    h58526e2_1001         102 KB  conda-forge\n",
            "    harfbuzz-6.0.0             |       h8e241bc_0         1.2 MB  conda-forge\n",
            "    jpeg-9e                    |       h166bdaf_2         269 KB  conda-forge\n",
            "    lcms2-2.14                 |       hfd0df8a_1         235 KB  conda-forge\n",
            "    lerc-4.0.0                 |       h27087fc_0         275 KB  conda-forge\n",
            "    libcups-2.3.3              |       h36d4200_3         4.3 MB  conda-forge\n",
            "    libdeflate-1.17            |       h0b41bf4_0          63 KB  conda-forge\n",
            "    libglib-2.74.1             |       h606061b_1         3.1 MB  conda-forge\n",
            "    libpng-1.6.39              |       h753d276_0         276 KB  conda-forge\n",
            "    libtiff-4.5.0              |       h6adf6a1_2         397 KB  conda-forge\n",
            "    libuuid-2.32.1             |    h7f98852_1000          28 KB  conda-forge\n",
            "    libwebp-base-1.2.4         |       h166bdaf_0         404 KB  conda-forge\n",
            "    libxcb-1.13                |    h7f98852_1004         391 KB  conda-forge\n",
            "    openjdk-17.0.3             |       h58dac75_5       161.0 MB  conda-forge\n",
            "    pixman-0.40.0              |       h36c2ea0_0         627 KB  conda-forge\n",
            "    pthread-stubs-0.4          |    h36c2ea0_1001           5 KB  conda-forge\n",
            "    trimmomatic-0.39           |       hdfd78af_2         144 KB  bioconda\n",
            "    xorg-fixesproto-5.0        |    h7f98852_1002           9 KB  conda-forge\n",
            "    xorg-inputproto-2.3.2      |    h7f98852_1002          19 KB  conda-forge\n",
            "    xorg-kbproto-1.0.7         |    h7f98852_1002          27 KB  conda-forge\n",
            "    xorg-libice-1.0.10         |       h7f98852_0          58 KB  conda-forge\n",
            "    xorg-libsm-1.2.3           |    hd9c2040_1000          26 KB  conda-forge\n",
            "    xorg-libx11-1.7.2          |       h7f98852_0         941 KB  conda-forge\n",
            "    xorg-libxau-1.0.9          |       h7f98852_0          13 KB  conda-forge\n",
            "    xorg-libxdmcp-1.1.3        |       h7f98852_0          19 KB  conda-forge\n",
            "    xorg-libxext-1.3.4         |       h7f98852_1          54 KB  conda-forge\n",
            "    xorg-libxfixes-5.0.3       |    h7f98852_1004          18 KB  conda-forge\n",
            "    xorg-libxi-1.7.10          |       h7f98852_0          46 KB  conda-forge\n",
            "    xorg-libxrender-0.9.10     |    h7f98852_1003          32 KB  conda-forge\n",
            "    xorg-libxtst-1.2.3         |    h7f98852_1002          31 KB  conda-forge\n",
            "    xorg-recordproto-1.14.2    |    h7f98852_1002           8 KB  conda-forge\n",
            "    xorg-renderproto-0.11.1    |    h7f98852_1002           9 KB  conda-forge\n",
            "    xorg-xextproto-7.3.0       |    h7f98852_1002          28 KB  conda-forge\n",
            "    xorg-xproto-7.0.31         |    h7f98852_1007          73 KB  conda-forge\n",
            "    ------------------------------------------------------------\n",
            "                                           Total:       184.5 MB\n",
            "\n",
            "The following NEW packages will be INSTALLED:\n",
            "\n",
            "  alsa-lib           conda-forge/linux-64::alsa-lib-1.2.8-h166bdaf_0 None\n",
            "  cairo              conda-forge/linux-64::cairo-1.16.0-ha61ee94_1014 None\n",
            "  expat              conda-forge/linux-64::expat-2.5.0-h27087fc_0 None\n",
            "  font-ttf-dejavu-s~ conda-forge/noarch::font-ttf-dejavu-sans-mono-2.37-hab24e00_0 None\n",
            "  font-ttf-inconsol~ conda-forge/noarch::font-ttf-inconsolata-3.000-h77eed37_0 None\n",
            "  font-ttf-source-c~ conda-forge/noarch::font-ttf-source-code-pro-2.038-h77eed37_0 None\n",
            "  font-ttf-ubuntu    conda-forge/noarch::font-ttf-ubuntu-0.83-hab24e00_0 None\n",
            "  fontconfig         conda-forge/linux-64::fontconfig-2.14.2-h14ed4e7_0 None\n",
            "  fonts-conda-ecosy~ conda-forge/noarch::fonts-conda-ecosystem-1-0 None\n",
            "  fonts-conda-forge  conda-forge/noarch::fonts-conda-forge-1-0 None\n",
            "  freetype           conda-forge/linux-64::freetype-2.12.1-hca18f0e_1 None\n",
            "  gettext            conda-forge/linux-64::gettext-0.21.1-h27087fc_0 None\n",
            "  giflib             conda-forge/linux-64::giflib-5.2.1-h36c2ea0_2 None\n",
            "  graphite2          conda-forge/linux-64::graphite2-1.3.13-h58526e2_1001 None\n",
            "  harfbuzz           conda-forge/linux-64::harfbuzz-6.0.0-h8e241bc_0 None\n",
            "  jpeg               conda-forge/linux-64::jpeg-9e-h166bdaf_2 None\n",
            "  lcms2              conda-forge/linux-64::lcms2-2.14-hfd0df8a_1 None\n",
            "  lerc               conda-forge/linux-64::lerc-4.0.0-h27087fc_0 None\n",
            "  libcups            conda-forge/linux-64::libcups-2.3.3-h36d4200_3 None\n",
            "  libdeflate         conda-forge/linux-64::libdeflate-1.17-h0b41bf4_0 None\n",
            "  libglib            conda-forge/linux-64::libglib-2.74.1-h606061b_1 None\n",
            "  libpng             conda-forge/linux-64::libpng-1.6.39-h753d276_0 None\n",
            "  libtiff            conda-forge/linux-64::libtiff-4.5.0-h6adf6a1_2 None\n",
            "  libuuid            conda-forge/linux-64::libuuid-2.32.1-h7f98852_1000 None\n",
            "  libwebp-base       conda-forge/linux-64::libwebp-base-1.2.4-h166bdaf_0 None\n",
            "  libxcb             conda-forge/linux-64::libxcb-1.13-h7f98852_1004 None\n",
            "  openjdk            conda-forge/linux-64::openjdk-17.0.3-h58dac75_5 None\n",
            "  pixman             conda-forge/linux-64::pixman-0.40.0-h36c2ea0_0 None\n",
            "  pthread-stubs      conda-forge/linux-64::pthread-stubs-0.4-h36c2ea0_1001 None\n",
            "  trimmomatic        bioconda/noarch::trimmomatic-0.39-hdfd78af_2 None\n",
            "  xorg-fixesproto    conda-forge/linux-64::xorg-fixesproto-5.0-h7f98852_1002 None\n",
            "  xorg-inputproto    conda-forge/linux-64::xorg-inputproto-2.3.2-h7f98852_1002 None\n",
            "  xorg-kbproto       conda-forge/linux-64::xorg-kbproto-1.0.7-h7f98852_1002 None\n",
            "  xorg-libice        conda-forge/linux-64::xorg-libice-1.0.10-h7f98852_0 None\n",
            "  xorg-libsm         conda-forge/linux-64::xorg-libsm-1.2.3-hd9c2040_1000 None\n",
            "  xorg-libx11        conda-forge/linux-64::xorg-libx11-1.7.2-h7f98852_0 None\n",
            "  xorg-libxau        conda-forge/linux-64::xorg-libxau-1.0.9-h7f98852_0 None\n",
            "  xorg-libxdmcp      conda-forge/linux-64::xorg-libxdmcp-1.1.3-h7f98852_0 None\n",
            "  xorg-libxext       conda-forge/linux-64::xorg-libxext-1.3.4-h7f98852_1 None\n",
            "  xorg-libxfixes     conda-forge/linux-64::xorg-libxfixes-5.0.3-h7f98852_1004 None\n",
            "  xorg-libxi         conda-forge/linux-64::xorg-libxi-1.7.10-h7f98852_0 None\n",
            "  xorg-libxrender    conda-forge/linux-64::xorg-libxrender-0.9.10-h7f98852_1003 None\n",
            "  xorg-libxtst       conda-forge/linux-64::xorg-libxtst-1.2.3-h7f98852_1002 None\n",
            "  xorg-recordproto   conda-forge/linux-64::xorg-recordproto-1.14.2-h7f98852_1002 None\n",
            "  xorg-renderproto   conda-forge/linux-64::xorg-renderproto-0.11.1-h7f98852_1002 None\n",
            "  xorg-xextproto     conda-forge/linux-64::xorg-xextproto-7.3.0-h7f98852_1002 None\n",
            "  xorg-xproto        conda-forge/linux-64::xorg-xproto-7.0.31-h7f98852_1007 None\n",
            "\n",
            "\n",
            "\n",
            "Downloading and Extracting Packages\n",
            "jpeg-9e              | 269 KB    | : 100% 1.0/1 [00:00<00:00,  3.87it/s]\n",
            "freetype-2.12.1      | 611 KB    | : 100% 1.0/1 [00:00<00:00,  7.14it/s]               \n",
            "xorg-libxi-1.7.10    | 46 KB     | : 100% 1.0/1 [00:00<00:00, 10.96it/s]\n",
            "xorg-libx11-1.7.2    | 941 KB    | : 100% 1.0/1 [00:00<00:00,  2.97it/s]\n",
            "xorg-libxtst-1.2.3   | 31 KB     | : 100% 1.0/1 [00:00<00:00, 11.80it/s]\n",
            "fontconfig-2.14.2    | 266 KB    | : 100% 1.0/1 [00:00<00:00, 11.36it/s]\n",
            "fonts-conda-forge-1  | 4 KB      | : 100% 1.0/1 [00:00<00:00, 16.16it/s]\n",
            "xorg-libice-1.0.10   | 58 KB     | : 100% 1.0/1 [00:00<00:00, 15.87it/s]\n",
            "xorg-libxau-1.0.9    | 13 KB     | : 100% 1.0/1 [00:00<00:00, 19.01it/s]\n",
            "xorg-libxdmcp-1.1.3  | 19 KB     | : 100% 1.0/1 [00:00<00:00, 15.69it/s]\n",
            "xorg-libsm-1.2.3     | 26 KB     | : 100% 1.0/1 [00:00<00:00, 15.60it/s]\n",
            "harfbuzz-6.0.0       | 1.2 MB    | : 100% 1.0/1 [00:00<00:00,  8.13it/s]\n",
            "cairo-1.16.0         | 1.5 MB    | : 100% 1.0/1 [00:00<00:00,  1.65it/s]               \n",
            "font-ttf-inconsolata | 94 KB     | : 100% 1.0/1 [00:00<00:00, 15.71it/s]\n",
            "pthread-stubs-0.4    | 5 KB      | : 100% 1.0/1 [00:00<00:00, 16.88it/s]\n",
            "font-ttf-dejavu-sans | 388 KB    | : 100% 1.0/1 [00:00<00:00,  8.13it/s]\n",
            "openjdk-17.0.3       | 161.0 MB  | : 100% 1.0/1 [00:03<00:00,  3.34s/it]               \n",
            "trimmomatic-0.39     | 144 KB    | : 100% 1.0/1 [00:00<00:00,  8.84it/s]\n",
            "xorg-xextproto-7.3.0 | 28 KB     | : 100% 1.0/1 [00:00<00:00, 16.24it/s]\n",
            "lerc-4.0.0           | 275 KB    | : 100% 1.0/1 [00:00<00:00,  7.00it/s]\n",
            "xorg-libxext-1.3.4   | 54 KB     | : 100% 1.0/1 [00:00<00:00, 13.91it/s]\n",
            "xorg-libxrender-0.9. | 32 KB     | : 100% 1.0/1 [00:00<00:00, 18.20it/s]\n",
            "font-ttf-source-code | 684 KB    | : 100% 1.0/1 [00:00<00:00,  3.94it/s]\n",
            "libuuid-2.32.1       | 28 KB     | : 100% 1.0/1 [00:00<00:00, 19.60it/s]\n",
            "lcms2-2.14           | 235 KB    | : 100% 1.0/1 [00:00<00:00, 16.13it/s]\n",
            "pixman-0.40.0        | 627 KB    | : 100% 1.0/1 [00:00<00:00,  3.99it/s]\n",
            "xorg-kbproto-1.0.7   | 27 KB     | : 100% 1.0/1 [00:00<00:00, 16.64it/s]\n",
            "xorg-inputproto-2.3. | 19 KB     | : 100% 1.0/1 [00:00<00:00, 18.37it/s]\n",
            "graphite2-1.3.13     | 102 KB    | : 100% 1.0/1 [00:00<00:00, 15.07it/s]\n",
            "xorg-xproto-7.0.31   | 73 KB     | : 100% 1.0/1 [00:00<00:00, 12.06it/s]\n",
            "expat-2.5.0          | 189 KB    | : 100% 1.0/1 [00:00<00:00, 10.74it/s]\n",
            "fonts-conda-ecosyste | 4 KB      | : 100% 1.0/1 [00:00<00:00, 17.85it/s]\n",
            "libwebp-base-1.2.4   | 404 KB    | : 100% 1.0/1 [00:00<00:00,  6.02it/s]\n",
            "libtiff-4.5.0        | 397 KB    | : 100% 1.0/1 [00:00<00:00, 13.63it/s]\n",
            "xorg-recordproto-1.1 | 8 KB      | : 100% 1.0/1 [00:00<00:00, 19.01it/s]\n",
            "xorg-libxfixes-5.0.3 | 18 KB     | : 100% 1.0/1 [00:00<00:00, 13.69it/s]\n",
            "gettext-0.21.1       | 4.1 MB    | : 100% 1.0/1 [00:01<00:00,  1.94s/it]\n",
            "libcups-2.3.3        | 4.3 MB    | : 100% 1.0/1 [00:00<00:00,  7.05it/s]\n",
            "giflib-5.2.1         | 77 KB     | : 100% 1.0/1 [00:00<00:00, 14.50it/s]\n",
            "libxcb-1.13          | 391 KB    | : 100% 1.0/1 [00:00<00:00,  3.97it/s]\n",
            "libpng-1.6.39        | 276 KB    | : 100% 1.0/1 [00:00<00:00, 11.69it/s]\n",
            "libglib-2.74.1       | 3.1 MB    | : 100% 1.0/1 [00:01<00:00,  1.11s/it]\n",
            "xorg-renderproto-0.1 | 9 KB      | : 100% 1.0/1 [00:00<00:00, 18.68it/s]\n",
            "alsa-lib-1.2.8       | 578 KB    | : 100% 1.0/1 [00:00<00:00,  4.20it/s]\n",
            "font-ttf-ubuntu-0.83 | 1.9 MB    | : 100% 1.0/1 [00:00<00:00,  1.93it/s]               \n",
            "xorg-fixesproto-5.0  | 9 KB      | : 100% 1.0/1 [00:00<00:00, 17.52it/s]\n",
            "libdeflate-1.17      | 63 KB     | : 100% 1.0/1 [00:00<00:00, 14.76it/s]\n",
            "Preparing transaction: / \b\b- \b\bdone\n",
            "Verifying transaction: | \b\b/ \b\b- \b\b\\ \b\b| \b\b/ \b\b- \b\b\\ \b\b| \b\b/ \b\b- \b\b\\ \b\b| \b\b/ \b\b- \b\b\\ \b\b| \b\b/ \b\b- \b\b\\ \b\bdone\n",
            "Executing transaction: / \b\b- \b\b\\ \b\b| \b\b/ \b\b- \b\bdone\n",
            "Retrieving notices: ...working... done\n"
          ]
        }
      ]
    },
    {
      "cell_type": "code",
      "source": [
        "!trimmomatic -version"
      ],
      "metadata": {
        "colab": {
          "base_uri": "https://localhost:8080/"
        },
        "id": "tcZ3xWYyzVxe",
        "outputId": "58a5c2b2-f3ae-4e79-dce7-4ac69ffe0b46"
      },
      "execution_count": 7,
      "outputs": [
        {
          "output_type": "stream",
          "name": "stdout",
          "text": [
            "0.39\n"
          ]
        }
      ]
    },
    {
      "cell_type": "markdown",
      "source": [
        "## Get reads"
      ],
      "metadata": {
        "id": "KUm8q82P2J_D"
      }
    },
    {
      "cell_type": "markdown",
      "source": [
        "## get Reads\n",
        "- Illumina MiSeq paired end sequencing\n",
        "- https://www.ebi.ac.uk/ena/browser/view/SRR957824"
      ],
      "metadata": {
        "id": "36Wvl5dZ2bQw"
      }
    },
    {
      "cell_type": "code",
      "source": [
        "!wget ftp://ftp.sra.ebi.ac.uk/vol1/fastq/SRR957/SRR957824/SRR957824_1.fastq.gz\n",
        "!wget ftp://ftp.sra.ebi.ac.uk/vol1/fastq/SRR957/SRR957824/SRR957824_2.fastq.gz"
      ],
      "metadata": {
        "colab": {
          "base_uri": "https://localhost:8080/"
        },
        "id": "UCm6Q8Kx2JFP",
        "outputId": "0ca064b3-11ea-49ef-9199-e80b991b6572"
      },
      "execution_count": 8,
      "outputs": [
        {
          "output_type": "stream",
          "name": "stdout",
          "text": [
            "--2023-02-02 00:28:44--  ftp://ftp.sra.ebi.ac.uk/vol1/fastq/SRR957/SRR957824/SRR957824_1.fastq.gz\n",
            "           => ‘SRR957824_1.fastq.gz’\n",
            "Resolving ftp.sra.ebi.ac.uk (ftp.sra.ebi.ac.uk)... 193.62.193.138\n",
            "Connecting to ftp.sra.ebi.ac.uk (ftp.sra.ebi.ac.uk)|193.62.193.138|:21... connected.\n",
            "Logging in as anonymous ... Logged in!\n",
            "==> SYST ... done.    ==> PWD ... done.\n",
            "==> TYPE I ... done.  ==> CWD (1) /vol1/fastq/SRR957/SRR957824 ... done.\n",
            "==> SIZE SRR957824_1.fastq.gz ... 177900303\n",
            "==> PASV ... done.    ==> RETR SRR957824_1.fastq.gz ... done.\n",
            "Length: 177900303 (170M) (unauthoritative)\n",
            "\n",
            "SRR957824_1.fastq.g 100%[===================>] 169.66M  25.4MB/s    in 7.8s    \n",
            "\n",
            "2023-02-02 00:28:53 (21.9 MB/s) - ‘SRR957824_1.fastq.gz’ saved [177900303]\n",
            "\n",
            "--2023-02-02 00:28:54--  ftp://ftp.sra.ebi.ac.uk/vol1/fastq/SRR957/SRR957824/SRR957824_2.fastq.gz\n",
            "           => ‘SRR957824_2.fastq.gz’\n",
            "Resolving ftp.sra.ebi.ac.uk (ftp.sra.ebi.ac.uk)... 193.62.193.138\n",
            "Connecting to ftp.sra.ebi.ac.uk (ftp.sra.ebi.ac.uk)|193.62.193.138|:21... connected.\n",
            "Logging in as anonymous ... Logged in!\n",
            "==> SYST ... done.    ==> PWD ... done.\n",
            "==> TYPE I ... done.  ==> CWD (1) /vol1/fastq/SRR957/SRR957824 ... done.\n",
            "==> SIZE SRR957824_2.fastq.gz ... 184912502\n",
            "==> PASV ... done.    ==> RETR SRR957824_2.fastq.gz ... done.\n",
            "Length: 184912502 (176M) (unauthoritative)\n",
            "\n",
            "SRR957824_2.fastq.g 100%[===================>] 176.35M  27.7MB/s    in 7.7s    \n",
            "\n",
            "2023-02-02 00:29:02 (22.9 MB/s) - ‘SRR957824_2.fastq.gz’ saved [184912502]\n",
            "\n"
          ]
        }
      ]
    },
    {
      "cell_type": "code",
      "source": [
        "!ls"
      ],
      "metadata": {
        "colab": {
          "base_uri": "https://localhost:8080/"
        },
        "id": "UFtWSGhSzZxL",
        "outputId": "5007db17-c90e-4160-f863-d458e0aa86c9"
      },
      "execution_count": 9,
      "outputs": [
        {
          "output_type": "stream",
          "name": "stdout",
          "text": [
            "sample_data  SRR957824_1.fastq.gz  SRR957824_2.fastq.gz\n"
          ]
        }
      ]
    },
    {
      "cell_type": "markdown",
      "source": [
        "## Experiments"
      ],
      "metadata": {
        "id": "qorMJ93f2sbO"
      }
    },
    {
      "cell_type": "code",
      "source": [
        "!trimmomatic -h"
      ],
      "metadata": {
        "colab": {
          "base_uri": "https://localhost:8080/"
        },
        "id": "_fw4egeW877o",
        "outputId": "d4e5fb68-671d-4428-e47f-2efdbb55c0c9"
      },
      "execution_count": 10,
      "outputs": [
        {
          "output_type": "stream",
          "name": "stdout",
          "text": [
            "Usage: \n",
            "       PE [-version] [-threads <threads>] [-phred33|-phred64] [-trimlog <trimLogFile>] [-summary <statsSummaryFile>] [-quiet] [-validatePairs] [-basein <inputBase> | <inputFile1> <inputFile2>] [-baseout <outputBase> | <outputFile1P> <outputFile1U> <outputFile2P> <outputFile2U>] <trimmer1>...\n",
            "   or: \n",
            "       SE [-version] [-threads <threads>] [-phred33|-phred64] [-trimlog <trimLogFile>] [-summary <statsSummaryFile>] [-quiet] <inputFile> <outputFile> <trimmer1>...\n",
            "   or: \n",
            "       -version\n"
          ]
        }
      ]
    },
    {
      "cell_type": "code",
      "source": [
        "# Downlod adapter\n",
        "# https://github.com/timflutre/trimmomatic/tree/master/adapters\n",
        "\n",
        "!wget https://github.com/timflutre/trimmomatic/raw/master/adapters/TruSeq2-PE.fa"
      ],
      "metadata": {
        "colab": {
          "base_uri": "https://localhost:8080/"
        },
        "id": "3I5W32wbRSSF",
        "outputId": "04e42389-4cb6-414a-b742-9fab87b20e00"
      },
      "execution_count": 11,
      "outputs": [
        {
          "output_type": "stream",
          "name": "stdout",
          "text": [
            "--2023-02-02 00:29:03--  https://github.com/timflutre/trimmomatic/raw/master/adapters/TruSeq2-PE.fa\n",
            "Resolving github.com (github.com)... 140.82.114.4\n",
            "Connecting to github.com (github.com)|140.82.114.4|:443... connected.\n",
            "HTTP request sent, awaiting response... 302 Found\n",
            "Location: https://raw.githubusercontent.com/timflutre/trimmomatic/master/adapters/TruSeq2-PE.fa [following]\n",
            "--2023-02-02 00:29:03--  https://raw.githubusercontent.com/timflutre/trimmomatic/master/adapters/TruSeq2-PE.fa\n",
            "Resolving raw.githubusercontent.com (raw.githubusercontent.com)... 185.199.108.133, 185.199.109.133, 185.199.110.133, ...\n",
            "Connecting to raw.githubusercontent.com (raw.githubusercontent.com)|185.199.108.133|:443... connected.\n",
            "HTTP request sent, awaiting response... 200 OK\n",
            "Length: 539 [text/plain]\n",
            "Saving to: ‘TruSeq2-PE.fa’\n",
            "\n",
            "TruSeq2-PE.fa       100%[===================>]     539  --.-KB/s    in 0s      \n",
            "\n",
            "2023-02-02 00:29:03 (23.4 MB/s) - ‘TruSeq2-PE.fa’ saved [539/539]\n",
            "\n"
          ]
        }
      ]
    },
    {
      "cell_type": "code",
      "source": [
        "%%bash\n",
        "#  PE [-version] [-threads <threads>] [-phred33|-phred64] [-trimlog <trimLogFile>] [-summary <statsSummaryFile>] [-quiet] [-validatePairs] [-basein <inputBase> | <inputFile1> <inputFile2>] [-baseout <outputBase> | <outputFile1P> <outputFile1U> <outputFile2P> <outputFile2U>] <trimmer1>...\n",
        "\n",
        "trimmomatic PE -phred33 -threads 2                           \\\n",
        "    SRR957824_1.fastq.gz SRR957824_2.fastq.gz                \\\n",
        "    SRR957824_1.clean.fastq.gz SRR957824_1.unpaired.fastq.gz \\\n",
        "    SRR957824_2.clean.fastq.gz SRR957824_2.unpaired.fastq.gz \\\n",
        "    ILLUMINACLIP:TruSeq2-PE.fa:2:30:10 LEADING:3 TRAILING:3 SLIDINGWINDOW:4:15 MINLEN:36"
      ],
      "metadata": {
        "colab": {
          "base_uri": "https://localhost:8080/"
        },
        "id": "IgYq2T2x2j-5",
        "outputId": "87ac2134-e482-4566-d9fe-34f798b55d3d"
      },
      "execution_count": 12,
      "outputs": [
        {
          "output_type": "stream",
          "name": "stderr",
          "text": [
            "TrimmomaticPE: Started with arguments:\n",
            " -phred33 -threads 2 SRR957824_1.fastq.gz SRR957824_2.fastq.gz SRR957824_1.clean.fastq.gz SRR957824_1.unpaired.fastq.gz SRR957824_2.clean.fastq.gz SRR957824_2.unpaired.fastq.gz ILLUMINACLIP:TruSeq2-PE.fa:2:30:10 LEADING:3 TRAILING:3 SLIDINGWINDOW:4:15 MINLEN:36\n",
            "Using PrefixPair: 'AATGATACGGCGACCACCGAGATCTACACTCTTTCCCTACACGACGCTCTTCCGATCT' and 'CAAGCAGAAGACGGCATACGAGATCGGTCTCGGCATTCCTGCTGAACCGCTCTTCCGATCT'\n",
            "Using Long Clipping Sequence: 'AGATCGGAAGAGCGTCGTGTAGGGAAAGAGTGTAGATCTCGGTGGTCGCCGTATCATT'\n",
            "Using Long Clipping Sequence: 'AGATCGGAAGAGCGGTTCAGCAGGAATGCCGAGACCGATCTCGTATGCCGTCTTCTGCTTG'\n",
            "Using Long Clipping Sequence: 'TTTTTTTTTTAATGATACGGCGACCACCGAGATCTACAC'\n",
            "Using Long Clipping Sequence: 'TTTTTTTTTTCAAGCAGAAGACGGCATACGA'\n",
            "Using Long Clipping Sequence: 'CAAGCAGAAGACGGCATACGAGATCGGTCTCGGCATTCCTGCTGAACCGCTCTTCCGATCT'\n",
            "Using Long Clipping Sequence: 'AATGATACGGCGACCACCGAGATCTACACTCTTTCCCTACACGACGCTCTTCCGATCT'\n",
            "ILLUMINACLIP: Using 1 prefix pairs, 6 forward/reverse sequences, 0 forward only sequences, 0 reverse only sequences\n",
            "Input Read Pairs: 1792335 Both Surviving: 1419052 (79.17%) Forward Only Surviving: 117891 (6.58%) Reverse Only Surviving: 6982 (0.39%) Dropped: 248410 (13.86%)\n",
            "TrimmomaticPE: Completed successfully\n"
          ]
        }
      ]
    },
    {
      "cell_type": "code",
      "source": [
        "!ls"
      ],
      "metadata": {
        "colab": {
          "base_uri": "https://localhost:8080/"
        },
        "id": "Mn31AFtt3F63",
        "outputId": "34ef33cf-8597-4cbd-8737-12a82a301b49"
      },
      "execution_count": 13,
      "outputs": [
        {
          "output_type": "stream",
          "name": "stdout",
          "text": [
            "sample_data\t\t       SRR957824_2.clean.fastq.gz\n",
            "SRR957824_1.clean.fastq.gz     SRR957824_2.fastq.gz\n",
            "SRR957824_1.fastq.gz\t       SRR957824_2.unpaired.fastq.gz\n",
            "SRR957824_1.unpaired.fastq.gz  TruSeq2-PE.fa\n"
          ]
        }
      ]
    },
    {
      "cell_type": "code",
      "source": [
        "!du -sh SRR957824_2.clean.fastq.gz SRR957824_1.clean.fastq.gz SRR957824_2.fastq.gz \\\n",
        "SRR957824_1.fastq.gz SRR957824_2.unpaired.fastq.gz SRR957824_1.unpaired.fastq.gz"
      ],
      "metadata": {
        "colab": {
          "base_uri": "https://localhost:8080/"
        },
        "id": "Y7zDo--G401J",
        "outputId": "64d4a53d-9ba3-41d2-c932-8ce42efdc7a6"
      },
      "execution_count": 14,
      "outputs": [
        {
          "output_type": "stream",
          "name": "stdout",
          "text": [
            "142M\tSRR957824_2.clean.fastq.gz\n",
            "137M\tSRR957824_1.clean.fastq.gz\n",
            "177M\tSRR957824_2.fastq.gz\n",
            "170M\tSRR957824_1.fastq.gz\n",
            "700K\tSRR957824_2.unpaired.fastq.gz\n",
            "11M\tSRR957824_1.unpaired.fastq.gz\n"
          ]
        }
      ]
    },
    {
      "cell_type": "code",
      "source": [],
      "metadata": {
        "id": "N0ZWKqX_SDjK"
      },
      "execution_count": 14,
      "outputs": []
    }
  ]
}