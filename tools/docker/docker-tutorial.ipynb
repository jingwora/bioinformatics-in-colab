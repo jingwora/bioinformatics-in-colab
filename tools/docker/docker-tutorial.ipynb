{
 "cells": [
  {
   "attachments": {},
   "cell_type": "markdown",
   "metadata": {},
   "source": [
    "# Docker Tutorial"
   ]
  },
  {
   "attachments": {},
   "cell_type": "markdown",
   "metadata": {},
   "source": [
    "- Docker is a free open platform to containerize package for reproduction\n",
    "\n",
    "  - Docker: Buleprint to build image\n",
    "  - Image: Template to run container\n",
    "  - Container: Running package"
   ]
  },
  {
   "attachments": {},
   "cell_type": "markdown",
   "metadata": {},
   "source": [
    "## Install\n",
    "\n",
    "- Docker Desktop WSL 2 backend on Windows\n",
    "- https://docs.docker.com/desktop/windows/wsl/"
   ]
  },
  {
   "attachments": {},
   "cell_type": "markdown",
   "metadata": {},
   "source": [
    "Create python requirements.txt"
   ]
  },
  {
   "cell_type": "code",
   "execution_count": 3,
   "metadata": {},
   "outputs": [
    {
     "name": "stdout",
     "output_type": "stream",
     "text": [
      "Overwriting requirements.txt\n"
     ]
    }
   ],
   "source": [
    "%%writefile requirements.txt\n",
    "numpy==1.24.1"
   ]
  },
  {
   "attachments": {},
   "cell_type": "markdown",
   "metadata": {},
   "source": [
    "Create environment\n",
    "```\n",
    "conda create --name docker-env python=3.8 --file requirements.txt\n",
    "conda activate docker-env\n",
    "\n",
    "```\n",
    "To run notebook in VSCode\n",
    "```\n",
    "conda install notebook ipykernel\n",
    "```\n",
    "\n",
    "Start VSCode\n",
    "```\n",
    "code .\n",
    "```"
   ]
  },
  {
   "cell_type": "code",
   "execution_count": 1,
   "metadata": {},
   "outputs": [
    {
     "name": "stdout",
     "output_type": "stream",
     "text": [
      "Docker version 20.10.22, build 3a2c30b\n"
     ]
    }
   ],
   "source": [
    "# docker version\n",
    "\n",
    "!docker -v"
   ]
  },
  {
   "cell_type": "code",
   "execution_count": 28,
   "metadata": {},
   "outputs": [
    {
     "name": "stdout",
     "output_type": "stream",
     "text": [
      "Client:\n",
      " Context:    default\n",
      " Debug Mode: false\n",
      " Plugins:\n",
      "  buildx: Docker Buildx (Docker Inc., v0.10.0)\n",
      "  compose: Docker Compose (Docker Inc., v2.15.1)\n",
      "  dev: Docker Dev Environments (Docker Inc., v0.0.5)\n",
      "  extension: Manages Docker extensions (Docker Inc., v0.2.17)\n",
      "  sbom: View the packaged-based Software Bill Of Materials (SBOM) for an image (Anchore Inc., 0.6.0)\n",
      "  scan: Docker Scan (Docker Inc., v0.23.0)\n",
      "\n",
      "Server:\n",
      " Containers: 3\n",
      "  Running: 0\n",
      "  Paused: 0\n",
      "  Stopped: 3\n",
      " Images: 4\n",
      " Server Version: 20.10.22\n",
      " Storage Driver: overlay2\n",
      "  Backing Filesystem: extfs\n",
      "  Supports d_type: true\n",
      "  Native Overlay Diff: true\n",
      "  userxattr: false\n",
      " Logging Driver: json-file\n",
      " Cgroup Driver: cgroupfs\n",
      " Cgroup Version: 1\n",
      " Plugins:\n",
      "  Volume: local\n",
      "  Network: bridge host ipvlan macvlan null overlay\n",
      "  Log: awslogs fluentd gcplogs gelf journald json-file local logentries splunk syslog\n",
      " Swarm: inactive\n",
      " Runtimes: io.containerd.runc.v2 io.containerd.runtime.v1.linux runc\n",
      " Default Runtime: runc\n",
      " Init Binary: docker-init\n",
      " containerd version: 9ba4b250366a5ddde94bb7c9d1def331423aa323\n",
      " runc version: v1.1.4-0-g5fd4c4d\n",
      " init version: de40ad0\n",
      " Security Options:\n",
      "  seccomp\n",
      "   Profile: default\n",
      " Kernel Version: 5.10.16.3-microsoft-standard-WSL2\n",
      " Operating System: Docker Desktop\n",
      " OSType: linux\n",
      " Architecture: x86_64\n",
      " CPUs: 12\n",
      " Total Memory: 12.32GiB\n",
      " Name: docker-desktop\n",
      " ID: ANFT:3AM2:F3GX:Q2SP:4AYS:J7W3:QJIF:GT6I:6SRM:HSSP:OT65:S73S\n",
      " Docker Root Dir: /var/lib/docker\n",
      " Debug Mode: false\n",
      " HTTP Proxy: http.docker.internal:3128\n",
      " HTTPS Proxy: http.docker.internal:3128\n",
      " No Proxy: hubproxy.docker.internal\n",
      " Registry: https://index.docker.io/v1/\n",
      " Labels:\n",
      " Experimental: false\n",
      " Insecure Registries:\n",
      "  hubproxy.docker.internal:5000\n",
      "  127.0.0.0/8\n",
      " Live Restore Enabled: false\n",
      "\n",
      "WARNING: No blkio throttle.read_bps_device support\n",
      "WARNING: No blkio throttle.write_bps_device support\n",
      "WARNING: No blkio throttle.read_iops_device support\n",
      "WARNING: No blkio throttle.write_iops_device support\n"
     ]
    }
   ],
   "source": [
    "# docker detail\n",
    "\n",
    "!docker info"
   ]
  },
  {
   "cell_type": "code",
   "execution_count": 2,
   "metadata": {},
   "outputs": [
    {
     "name": "stdout",
     "output_type": "stream",
     "text": [
      "\n",
      "Hello from Docker!\n",
      "This message shows that your installation appears to be working correctly.\n",
      "\n",
      "To generate this message, Docker took the following steps:\n",
      " 1. The Docker client contacted the Docker daemon.\n",
      " 2. The Docker daemon pulled the \"hello-world\" image from the Docker Hub.\n",
      "    (amd64)\n",
      " 3. The Docker daemon created a new container from that image which runs the\n",
      "    executable that produces the output you are currently reading.\n",
      " 4. The Docker daemon streamed that output to the Docker client, which sent it\n",
      "    to your terminal.\n",
      "\n",
      "To try something more ambitious, you can run an Ubuntu container with:\n",
      " $ docker run -it ubuntu bash\n",
      "\n",
      "Share images, automate workflows, and more with a free Docker ID:\n",
      " https://hub.docker.com/\n",
      "\n",
      "For more examples and ideas, visit:\n",
      " https://docs.docker.com/get-started/\n",
      "\n"
     ]
    }
   ],
   "source": [
    "# test docker\n",
    "\n",
    "!docker run hello-world"
   ]
  },
  {
   "attachments": {},
   "cell_type": "markdown",
   "metadata": {},
   "source": [
    "Prepare files\n"
   ]
  },
  {
   "cell_type": "code",
   "execution_count": 3,
   "metadata": {},
   "outputs": [
    {
     "name": "stdout",
     "output_type": "stream",
     "text": [
      "Overwriting main.py\n"
     ]
    }
   ],
   "source": [
    "%%writefile main.py\n",
    "import numpy as np\n",
    "\n",
    "pi_value = np.pi\n",
    "print(f\"pi = {pi_value}\")"
   ]
  },
  {
   "cell_type": "code",
   "execution_count": 4,
   "metadata": {},
   "outputs": [
    {
     "name": "stdout",
     "output_type": "stream",
     "text": [
      "Overwriting Dockerfile\n"
     ]
    }
   ],
   "source": [
    "%%writefile Dockerfile\n",
    "# For more information, please refer to https://aka.ms/vscode-docker-python\n",
    "FROM python:3.8-slim\n",
    "\n",
    "# Keeps Python from generating .pyc files in the container\n",
    "ENV PYTHONDONTWRITEBYTECODE=1\n",
    "\n",
    "# Turns off buffering for easier container logging\n",
    "ENV PYTHONUNBUFFERED=1\n",
    "\n",
    "# Install pip requirements\n",
    "COPY requirements.txt .\n",
    "RUN python -m pip install -r requirements.txt\n",
    "\n",
    "WORKDIR /app\n",
    "COPY . /app\n",
    "\n",
    "# Creates a non-root user with an explicit UID and adds permission to access the /app folder\n",
    "# For more info, please refer to https://aka.ms/vscode-docker-python-configure-containers\n",
    "RUN adduser -u 5678 --disabled-password --gecos \"\" appuser && chown -R appuser /app\n",
    "USER appuser\n",
    "\n",
    "# During debugging, this entry point will be overridden. For more information, please refer to https://aka.ms/vscode-docker-python-debug\n",
    "CMD [\"python\", \"main.py\"]"
   ]
  },
  {
   "cell_type": "code",
   "execution_count": 5,
   "metadata": {},
   "outputs": [
    {
     "name": "stdout",
     "output_type": "stream",
     "text": [
      "Overwriting .dockerignore\n"
     ]
    }
   ],
   "source": [
    "%%writefile .dockerignore\n",
    "**/__pycache__\n",
    "**/.venv\n",
    "**/.classpath\n",
    "**/.dockerignore\n",
    "**/.env\n",
    "**/.git\n",
    "**/.gitignore\n",
    "**/.project\n",
    "**/.settings\n",
    "**/.toolstarget\n",
    "**/.vs\n",
    "**/.vscode\n",
    "**/*.*proj.user\n",
    "**/*.dbmdl\n",
    "**/*.jfm\n",
    "**/bin\n",
    "**/charts\n",
    "**/docker-compose*\n",
    "**/compose*\n",
    "**/Dockerfile*\n",
    "**/node_modules\n",
    "**/npm-debug.log\n",
    "**/obj\n",
    "**/secrets.dev.yaml\n",
    "**/values.dev.yaml\n",
    "LICENSE\n",
    "README.md"
   ]
  },
  {
   "attachments": {},
   "cell_type": "markdown",
   "metadata": {},
   "source": [
    "Alternatively, we can use docker extension to create Dockerfile\n",
    "\n",
    "- Ctl + Shift + P\n",
    "- Choose Docker: Add Docker Files to Workspace\n",
    "- Choose Python General\n",
    "- Choose .py\n",
    "- Choose No for Docker compose files"
   ]
  },
  {
   "attachments": {},
   "cell_type": "markdown",
   "metadata": {},
   "source": [
    "### Create image"
   ]
  },
  {
   "cell_type": "code",
   "execution_count": 37,
   "metadata": {},
   "outputs": [],
   "source": [
    "# create python-pi image\n",
    "!docker build -t python-pi ."
   ]
  },
  {
   "attachments": {},
   "cell_type": "markdown",
   "metadata": {},
   "source": [
    "```\n",
    "[+] Building 0.0s (0/1)                                                         \n",
    "[+] Building 0.2s (2/3)                                                         \n",
    " => [internal] load build definition from Dockerfile                       0.0s\n",
    " => => transferring dockerfile: 876B                                       0.0s\n",
    " => [internal] load .dockerignore                                          0.0s\n",
    " => => transferring context: 382B                                          0.0s\n",
    " => [internal] load metadata for docker.io/library/python:3.8-slim         0.1s\n",
    " ...\n",
    "  => [6/6] RUN adduser -u 5678 --disabled-password --gecos \"\" appuser && c  0.8s\n",
    " => exporting to image                                                     0.5s\n",
    " => => exporting layers                                                    0.5s\n",
    " => => writing image sha256:e599ae4bd3e7348959fd6f18d8add2bdbc05e04f9ebf3  0.0s\n",
    " => => naming to docker.io/library/python-pi                               0.0s\n",
    "\n",
    "Use 'docker scan' to run Snyk tests against images to find vulnerabilities and learn how to fix them\n",
    "```"
   ]
  },
  {
   "cell_type": "code",
   "execution_count": 8,
   "metadata": {},
   "outputs": [
    {
     "name": "stdout",
     "output_type": "stream",
     "text": [
      "REPOSITORY          TAG       IMAGE ID       CREATED             SIZE\n",
      "python-pi           latest    e599ae4bd3e7   17 minutes ago      214MB\n",
      "docker101tutorial   latest    9aea348160d1   About an hour ago   47MB\n",
      "alpine/git          latest    22d84a66cda4   2 months ago        43.6MB\n",
      "hello-world         latest    feb5d9fea6a5   16 months ago       13.3kB\n"
     ]
    }
   ],
   "source": [
    "# Check all image \n",
    "!docker image list"
   ]
  },
  {
   "cell_type": "code",
   "execution_count": 7,
   "metadata": {},
   "outputs": [
    {
     "name": "stdout",
     "output_type": "stream",
     "text": [
      "pi = 3.141592653589793\n"
     ]
    }
   ],
   "source": [
    "# docker run\n",
    "# used to create a container from an image\n",
    "!docker run python-pi"
   ]
  },
  {
   "cell_type": "code",
   "execution_count": 9,
   "metadata": {},
   "outputs": [
    {
     "name": "stdout",
     "output_type": "stream",
     "text": [
      "CONTAINER ID   IMAGE               COMMAND                  CREATED             STATUS             PORTS                NAMES\n",
      "2ae3b6c4ab00   docker101tutorial   \"/docker-entrypoint.…\"   About an hour ago   Up About an hour   0.0.0.0:80->80/tcp   docker-tutorial\n"
     ]
    }
   ],
   "source": [
    "# docker ps\n",
    "# list all the running containers in the background.\n",
    "\n",
    "!docker ps"
   ]
  },
  {
   "cell_type": "code",
   "execution_count": 10,
   "metadata": {},
   "outputs": [
    {
     "name": "stdout",
     "output_type": "stream",
     "text": [
      "CONTAINER ID   IMAGE               COMMAND                  CREATED             STATUS                      PORTS                NAMES\n",
      "fede5aeabeb2   python-pi           \"python main.py\"         19 minutes ago      Exited (0) 19 minutes ago                        wonderful_torvalds\n",
      "6533a116a42e   hello-world         \"/hello\"                 20 minutes ago      Exited (0) 20 minutes ago                        amazing_hertz\n",
      "2ae3b6c4ab00   docker101tutorial   \"/docker-entrypoint.…\"   About an hour ago   Up About an hour            0.0.0.0:80->80/tcp   docker-tutorial\n"
     ]
    }
   ],
   "source": [
    "# Show run history\n",
    "\n",
    "!docker ps --all"
   ]
  },
  {
   "cell_type": "code",
   "execution_count": 15,
   "metadata": {},
   "outputs": [
    {
     "name": "stdout",
     "output_type": "stream",
     "text": [
      "2ae3b6c4ab00\n"
     ]
    }
   ],
   "source": [
    "# docker stop\n",
    "# stops a container using the container name or its id. \n",
    "\n",
    "!docker stop 2ae3b6c4ab00"
   ]
  },
  {
   "cell_type": "code",
   "execution_count": 16,
   "metadata": {},
   "outputs": [
    {
     "name": "stdout",
     "output_type": "stream",
     "text": [
      "2ae3b6c4ab00\n"
     ]
    }
   ],
   "source": [
    "# docker restart\n",
    "# This command is used to restart the stopped container. \n",
    "# It is recommended to use this after rebooting the system. \n",
    "\n",
    "!docker restart 2ae3b6c4ab00"
   ]
  },
  {
   "cell_type": "code",
   "execution_count": 17,
   "metadata": {},
   "outputs": [
    {
     "name": "stdout",
     "output_type": "stream",
     "text": [
      "2ae3b6c4ab00\n"
     ]
    }
   ],
   "source": [
    "# docker kill\n",
    "# This command is used to stop the container immediately by killing its execution. \n",
    "\n",
    "!docker kill 2ae3b6c4ab00\n"
   ]
  },
  {
   "cell_type": "code",
   "execution_count": 19,
   "metadata": {},
   "outputs": [
    {
     "name": "stdout",
     "output_type": "stream",
     "text": [
      "sha256:443c23d28e674d64854141aaf3e69765332b9d9fc7d6139e266c73e8fbcc4741\n"
     ]
    }
   ],
   "source": [
    "# docker commit\n",
    "# to create or save an image of the edited container on the local system.\n",
    "\n",
    "!docker commit fede5aeabeb2 test"
   ]
  },
  {
   "cell_type": "code",
   "execution_count": 31,
   "metadata": {},
   "outputs": [
    {
     "name": "stdout",
     "output_type": "stream",
     "text": [
      "Error: No such container:path: e599ae4bd3e7:/usr/local/apache2/logs/main.py\n"
     ]
    }
   ],
   "source": [
    "# docker cp\n",
    "# copy a file from a docker container to the local system.\n",
    "\n",
    "!docker cp e599ae4bd3e7:/usr/local/apache2/logs/main.py /home/jingwora/docker-tutorial/temp"
   ]
  },
  {
   "cell_type": "code",
   "execution_count": 22,
   "metadata": {},
   "outputs": [
    {
     "name": "stdout",
     "output_type": "stream",
     "text": [
      "REPOSITORY          TAG       IMAGE ID       CREATED              SIZE\n",
      "test                latest    443c23d28e67   About a minute ago   214MB\n",
      "python-pi           latest    e599ae4bd3e7   46 minutes ago       214MB\n",
      "docker101tutorial   latest    9aea348160d1   2 hours ago          47MB\n",
      "alpine/git          latest    22d84a66cda4   2 months ago         43.6MB\n",
      "hello-world         latest    feb5d9fea6a5   16 months ago        13.3kB\n"
     ]
    }
   ],
   "source": [
    "# confirm the copy \n",
    "!docker image list"
   ]
  },
  {
   "cell_type": "code",
   "execution_count": 25,
   "metadata": {},
   "outputs": [
    {
     "name": "stdout",
     "output_type": "stream",
     "text": [
      "Untagged: test:latest\n",
      "Deleted: sha256:443c23d28e674d64854141aaf3e69765332b9d9fc7d6139e266c73e8fbcc4741\n"
     ]
    }
   ],
   "source": [
    "# docker rmi \n",
    "# remove image\n",
    "\n",
    "!docker rmi 443c23d28e67"
   ]
  },
  {
   "cell_type": "code",
   "execution_count": 24,
   "metadata": {},
   "outputs": [],
   "source": [
    "# docker rm\n",
    "# remove docker container\n",
    "# docker rm eea5b2620e02 5200866fb18d # many files\n",
    "\n",
    "!docker rm 443c23d28e67"
   ]
  },
  {
   "cell_type": "code",
   "execution_count": null,
   "metadata": {},
   "outputs": [],
   "source": [
    "# docker exec\n",
    "# access the docker container and run commands inside the container\n",
    "!docker exec -it 09ca6feb6efc bash"
   ]
  },
  {
   "cell_type": "code",
   "execution_count": 32,
   "metadata": {},
   "outputs": [
    {
     "name": "stdout",
     "output_type": "stream",
     "text": [
      "IMAGE          CREATED             CREATED BY                                      SIZE      COMMENT\n",
      "e599ae4bd3e7   About an hour ago   CMD [\"python\" \"main.py\"]                        0B        buildkit.dockerfile.v0\n",
      "<missing>      About an hour ago   USER appuser                                    0B        buildkit.dockerfile.v0\n",
      "<missing>      About an hour ago   RUN /bin/sh -c adduser -u 5678 --disabled-pa…   2.88MB    buildkit.dockerfile.v0\n",
      "<missing>      About an hour ago   COPY . /app # buildkit                          1.03MB    buildkit.dockerfile.v0\n",
      "<missing>      About an hour ago   WORKDIR /app                                    0B        buildkit.dockerfile.v0\n",
      "<missing>      About an hour ago   RUN /bin/sh -c python -m pip install -r requ…   85.8MB    buildkit.dockerfile.v0\n",
      "<missing>      About an hour ago   COPY requirements.txt . # buildkit              14B       buildkit.dockerfile.v0\n",
      "<missing>      About an hour ago   ENV PYTHONUNBUFFERED=1                          0B        buildkit.dockerfile.v0\n",
      "<missing>      About an hour ago   ENV PYTHONDONTWRITEBYTECODE=1                   0B        buildkit.dockerfile.v0\n",
      "<missing>      4 days ago          /bin/sh -c #(nop)  CMD [\"python3\"]              0B        \n",
      "<missing>      4 days ago          /bin/sh -c set -eux;   savedAptMark=\"$(apt-m…   11.4MB    \n",
      "<missing>      4 days ago          /bin/sh -c #(nop)  ENV PYTHON_GET_PIP_SHA256…   0B        \n",
      "<missing>      4 days ago          /bin/sh -c #(nop)  ENV PYTHON_GET_PIP_URL=ht…   0B        \n",
      "<missing>      4 days ago          /bin/sh -c #(nop)  ENV PYTHON_SETUPTOOLS_VER…   0B        \n",
      "<missing>      4 days ago          /bin/sh -c #(nop)  ENV PYTHON_PIP_VERSION=22…   0B        \n",
      "<missing>      4 days ago          /bin/sh -c set -eux;  for src in idle3 pydoc…   32B       \n",
      "<missing>      4 days ago          /bin/sh -c set -eux;   savedAptMark=\"$(apt-m…   29.2MB    \n",
      "<missing>      2 weeks ago         /bin/sh -c #(nop)  ENV PYTHON_VERSION=3.8.16    0B        \n",
      "<missing>      2 weeks ago         /bin/sh -c #(nop)  ENV GPG_KEY=E3FF2839C048B…   0B        \n",
      "<missing>      2 weeks ago         /bin/sh -c set -eux;  apt-get update;  apt-g…   3.11MB    \n",
      "<missing>      2 weeks ago         /bin/sh -c #(nop)  ENV LANG=C.UTF-8             0B        \n",
      "<missing>      2 weeks ago         /bin/sh -c #(nop)  ENV PATH=/usr/local/bin:/…   0B        \n",
      "<missing>      2 weeks ago         /bin/sh -c #(nop)  CMD [\"bash\"]                 0B        \n",
      "<missing>      2 weeks ago         /bin/sh -c #(nop) ADD file:e2398d0bf516084b2…   80.5MB    \n"
     ]
    }
   ],
   "source": [
    "# docker history\n",
    "# shows the history of a docker image with the image name mentioned in the command.\n",
    "\n",
    "!docker history python-pi"
   ]
  },
  {
   "cell_type": "code",
   "execution_count": 35,
   "metadata": {},
   "outputs": [
    {
     "name": "stdout",
     "output_type": "stream",
     "text": [
      "CONTAINER ID   IMAGE     COMMAND   CREATED   STATUS    PORTS     NAMES\n"
     ]
    }
   ],
   "source": [
    "# container ls\n",
    "# list container\n",
    "\n",
    "!docker container ls"
   ]
  },
  {
   "cell_type": "code",
   "execution_count": 36,
   "metadata": {},
   "outputs": [],
   "source": [
    "# docker logs\n",
    "# show the logs of the docker container with contained id mentioned in the command.\n",
    "\n",
    "!docker logs e599ae4bd3e7"
   ]
  },
  {
   "cell_type": "code",
   "execution_count": 27,
   "metadata": {},
   "outputs": [
    {
     "name": "stdout",
     "output_type": "stream",
     "text": [
      "NETWORK ID     NAME      DRIVER    SCOPE\n",
      "6ab1ecfb9007   bridge    bridge    local\n",
      "9e732aebb3f6   host      host      local\n",
      "4fc177c2ecdb   none      null      local\n"
     ]
    }
   ],
   "source": [
    "# docker network ls\n",
    "# details of the list of networks in the cluster.\n",
    "\n",
    "!docker network ls"
   ]
  },
  {
   "attachments": {},
   "cell_type": "markdown",
   "metadata": {},
   "source": [
    "### Docker Hub"
   ]
  },
  {
   "cell_type": "code",
   "execution_count": null,
   "metadata": {},
   "outputs": [],
   "source": [
    "# docker login\n",
    "# log in to your docker hub\n",
    "\n",
    "!docker login"
   ]
  },
  {
   "cell_type": "code",
   "execution_count": null,
   "metadata": {},
   "outputs": [],
   "source": [
    "# docker logout\n",
    "# log you out of the docker hub.\n",
    "\n",
    "!docker logout"
   ]
  },
  {
   "cell_type": "code",
   "execution_count": 12,
   "metadata": {},
   "outputs": [
    {
     "name": "stdout",
     "output_type": "stream",
     "text": [
      "NAME                            DESCRIPTION                                     STARS     OFFICIAL   AUTOMATED\n",
      "mysql                           MySQL is a widely used, open-source relation…   13733     [OK]       \n",
      "mariadb                         MariaDB Server is a high performing open sou…   5241      [OK]       \n",
      "phpmyadmin                      phpMyAdmin - A web interface for MySQL and M…   726       [OK]       \n",
      "percona                         Percona Server is a fork of the MySQL relati…   599       [OK]       \n",
      "databack/mysql-backup           Back up mysql databases to... anywhere!         80                   \n",
      "bitnami/mysql                   Bitnami MySQL Docker Image                      80                   [OK]\n",
      "linuxserver/mysql-workbench                                                     48                   \n",
      "ubuntu/mysql                    MySQL open source fast, stable, multi-thread…   41                   \n",
      "linuxserver/mysql               A Mysql container, brought to you by LinuxSe…   38                   \n",
      "circleci/mysql                  MySQL is a widely used, open-source relation…   28                   \n",
      "google/mysql                    MySQL server for Google Compute Engine          22                   [OK]\n",
      "rapidfort/mysql                 RapidFort optimized, hardened image for MySQL   14                   \n",
      "bitnami/mysqld-exporter                                                         4                    \n",
      "ibmcom/mysql-s390x              Docker image for mysql-s390x                    2                    \n",
      "vitess/mysqlctld                vitess/mysqlctld                                1                    [OK]\n",
      "newrelic/mysql-plugin           New Relic Plugin for monitoring MySQL databa…   1                    [OK]\n",
      "hashicorp/mysql-portworx-demo                                                   0                    \n",
      "rapidfort/mysql-official        RapidFort optimized, hardened image for MySQ…   0                    \n",
      "mirantis/mysql                                                                  0                    \n",
      "docksal/mysql                   MySQL service images for Docksal - https://d…   0                    \n",
      "rapidfort/mysql8-ib             RapidFort optimized, hardened image for MySQ…   0                    \n",
      "cimg/mysql                                                                      0                    \n",
      "eclipse/mysql                   Mysql 5.7, curl, rsync                          0                    [OK]\n",
      "drud/mysql                                                                      0                    \n",
      "silintl/mysql-backup-restore    Simple docker image to perform mysql backups…   0                    [OK]\n"
     ]
    }
   ],
   "source": [
    "# docker search\n",
    "# searches for specific images through the Docker hub. \n",
    "\n",
    "!docker search MySQL"
   ]
  },
  {
   "cell_type": "code",
   "execution_count": null,
   "metadata": {},
   "outputs": [],
   "source": [
    "# docker pull\n",
    "# pulls a specific image from the Docker Hub.\n",
    "\n",
    "!docker pull --platform Linux/x86_64 MySQL"
   ]
  },
  {
   "cell_type": "code",
   "execution_count": null,
   "metadata": {},
   "outputs": [],
   "source": [
    "# docker push\n",
    "# push or upload a docker image on the repository or the docker hub. \n",
    "\n",
    "!docker push python-pi"
   ]
  },
  {
   "attachments": {},
   "cell_type": "markdown",
   "metadata": {},
   "source": [
    "Ref:\n",
    "- https://hub.docker.com/ \n",
    "- https://biocontainers.pro/\n",
    "- https://docs.docker.com/engine/reference/run/"
   ]
  }
 ],
 "metadata": {
  "kernelspec": {
   "display_name": "docker-env",
   "language": "python",
   "name": "python3"
  },
  "language_info": {
   "codemirror_mode": {
    "name": "ipython",
    "version": 3
   },
   "file_extension": ".py",
   "mimetype": "text/x-python",
   "name": "python",
   "nbconvert_exporter": "python",
   "pygments_lexer": "ipython3",
   "version": "3.8.15"
  },
  "orig_nbformat": 4,
  "vscode": {
   "interpreter": {
    "hash": "1d72ff28f10b5c47fa9f3c42b33bd73d41d71df3435cff83193392d5266f9af2"
   }
  }
 },
 "nbformat": 4,
 "nbformat_minor": 2
}
