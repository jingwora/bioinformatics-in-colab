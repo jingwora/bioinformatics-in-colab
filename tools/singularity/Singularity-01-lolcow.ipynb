{
 "cells": [
  {
   "attachments": {},
   "cell_type": "markdown",
   "metadata": {},
   "source": [
    "# Singularity"
   ]
  },
  {
   "attachments": {},
   "cell_type": "markdown",
   "metadata": {},
   "source": [
    "## Overview"
   ]
  },
  {
   "attachments": {},
   "cell_type": "markdown",
   "metadata": {},
   "source": [
    "- Package an analysis pipeline so that it runs on your laptop, in the cloud, and in a high performance computing (HPC) environment to produce the same result.\n",
    "- Publish a paper and include a link to a container with all of the data and software that you used so that others can easily reproduce your results.\n",
    "- Install and run an application that requires a complicated stack of dependencies with a few keystrokes.\n",
    "- Create a pipeline or complex workflow where each individual program is meant to run on a different operating system.\n",
    "- Singularity shines for scientific software running in an HPC environent.\n",
    "- Singularity v3.0 was written in Go. \n"
   ]
  },
  {
   "attachments": {},
   "cell_type": "markdown",
   "metadata": {},
   "source": [
    "### Docker\n",
    "\n",
    "- Docker is built for running multiple containers on a single system and it allows containers to share common software features for efficiency. \n",
    "- Mature software with a large user community\n",
    "\n",
    "Weaknesses\n",
    "- Complex\n",
    "- Not architected with security in mind\n",
    "- Not built for HPC (but good for cloud)\n"
   ]
  },
  {
   "attachments": {},
   "cell_type": "markdown",
   "metadata": {},
   "source": [
    "## Instlling"
   ]
  },
  {
   "attachments": {},
   "cell_type": "markdown",
   "metadata": {},
   "source": [
    "Update packages\n",
    "```:Ubuntu\n",
    "sudo apt-get update\n",
    "\n",
    "sudo apt-get install -y build-essential libssl-dev uuid-dev libgpgme11-dev \\\n",
    "   squashfs-tools libseccomp-dev wget pkg-config git cryptsetup debootstrap\n",
    "```"
   ]
  },
  {
   "attachments": {},
   "cell_type": "markdown",
   "metadata": {},
   "source": [
    "Install GO\n",
    "```\n",
    "wget https://dl.google.com/go/go1.13.linux-amd64.tar.gz\n",
    "sudo tar --directory=/usr/local -xzvf go1.13.linux-amd64.tar.gz\n",
    "export PATH=/usr/local/go/bin:$PATH\n",
    "```"
   ]
  },
  {
   "attachments": {},
   "cell_type": "markdown",
   "metadata": {},
   "source": [
    "Install Singularity\n",
    "```\n",
    "wget https://github.com/singularityware/singularity/releases/download/v3.5.3/singularity-3.5.3.tar.gz\n",
    "tar -xzvf singularity-3.5.3.tar.gz\n",
    "cd singularity\n",
    "./mconfig\n",
    "cd builddir\n",
    "make\n",
    "sudo make install\n",
    ". etc/bash_completion.d/singularity\n",
    "sudo cp etc/bash_completion.d/singularity /etc/bash_completion.d/\n",
    "```"
   ]
  },
  {
   "attachments": {},
   "cell_type": "markdown",
   "metadata": {},
   "source": [
    "Basice command"
   ]
  },
  {
   "cell_type": "code",
   "execution_count": 7,
   "metadata": {},
   "outputs": [
    {
     "name": "stdout",
     "output_type": "stream",
     "text": [
      "singularity version 3.5.3\n"
     ]
    }
   ],
   "source": [
    "!singularity --version"
   ]
  },
  {
   "cell_type": "code",
   "execution_count": 1,
   "metadata": {},
   "outputs": [
    {
     "name": "stdout",
     "output_type": "stream",
     "text": [
      "Usage:\n",
      "  singularity [global options...] <command>\n",
      "\n",
      "Available Commands:\n",
      "  build       Build a Singularity image\n",
      "  cache       Manage the local cache\n",
      "  capability  Manage Linux capabilities for users and groups\n",
      "  config      Manage various singularity configuration (root user only)\n",
      "  delete      Deletes requested image from the library\n",
      "  exec        Run a command within a container\n",
      "  inspect     Show metadata for an image\n",
      "  instance    Manage containers running as services\n",
      "  key         Manage OpenPGP keys\n",
      "  oci         Manage OCI containers\n",
      "  plugin      Manage Singularity plugins\n",
      "  pull        Pull an image from a URI\n",
      "  push        Upload image to the provided URI\n",
      "  remote      Manage singularity remote endpoints\n",
      "  run         Run the user-defined default command within a container\n",
      "  run-help    Show the user-defined help for an image\n",
      "  search      Search a Container Library for images\n",
      "  shell       Run a shell within a container\n",
      "  sif         siftool is a program for Singularity Image Format (SIF) file manipulation\n",
      "  sign        Attach a cryptographic signature to an image\n",
      "  test        Run the user-defined tests within a container\n",
      "  verify      Verify cryptographic signatures attached to an image\n",
      "  version     Show the version for Singularity\n",
      "\n",
      "Run 'singularity --help' for more detailed usage information.\n"
     ]
    }
   ],
   "source": [
    "# command summary\n",
    "\n",
    "!singularity"
   ]
  },
  {
   "cell_type": "code",
   "execution_count": 2,
   "metadata": {},
   "outputs": [
    {
     "name": "stdout",
     "output_type": "stream",
     "text": [
      "Build a Singularity image\n",
      "\n",
      "Usage:\n",
      "  singularity build [local options...] <IMAGE PATH> <BUILD SPEC>\n",
      "\n",
      "Description:\n",
      "\n",
      "  IMAGE PATH:\n",
      "\n",
      "  When Singularity builds the container, output can be one of a few formats:\n",
      "\n",
      "      default:    The compressed Singularity read only image format (default)\n",
      "      sandbox:    This is a read-write container within a directory structure\n",
      "\n",
      "  note: It is a common workflow to use the \"sandbox\" mode for development of the\n",
      "  container, and then build it as a default Singularity image for production \n",
      "  use. The default format is immutable.\n",
      "\n",
      "  BUILD SPEC:\n",
      "\n",
      "  The build spec target is a definition (def) file, local image, or URI that can \n",
      "  be used to create a Singularity container. Several different local target \n",
      "  formats exist:\n",
      "\n",
      "      def file  : This is a recipe for building a container (examples below)\n",
      "      directory:  A directory structure containing a (ch)root file system\n",
      "      image:      A local image on your machine (will convert to sif if\n",
      "                  it is legacy format)\n",
      "\n",
      "  Targets can also be remote and defined by a URI of the following formats:\n",
      "\n",
      "      library://  an image library (default https://cloud.sylabs.io/library)\n",
      "      docker://   a Docker registry (default Docker Hub)\n",
      "      shub://     a Singularity registry (default Singularity Hub)\n",
      "      oras://     a supporting OCI registry\n",
      "\n",
      "Options:\n",
      "      --arch string       architecture for remote build (default \"amd64\")\n",
      "      --builder string    remote Build Service URL, setting this implies\n",
      "                          --remote (default \"https://build.sylabs.io\")\n",
      "  -d, --detached          submit build job and print build ID (no\n",
      "                          real-time logs and requires --remote)\n",
      "      --disable-cache     do not use cache or create cache\n",
      "      --docker-login      login to a Docker Repository interactively\n",
      "  -e, --encrypt           build an image with an encrypted file system\n",
      "  -f, --fakeroot          build using user namespace to fake root user\n",
      "                          (requires a privileged installation)\n",
      "      --fix-perms         ensure owner has rwX permissions on all\n",
      "                          container content for oci/docker sources\n",
      "  -F, --force             overwrite an image file if it exists\n",
      "  -h, --help              help for build\n",
      "      --json              interpret build definition as JSON\n",
      "      --library string    container Library URL (default\n",
      "                          \"https://library.sylabs.io\")\n",
      "      --no-cleanup        do NOT clean up bundle after failed build, can\n",
      "                          be helpul for debugging\n",
      "      --nohttps           do NOT use HTTPS with the docker:// transport\n",
      "                          (useful for local docker registries without a\n",
      "                          certificate)\n",
      "  -T, --notest            build without running tests in %test section\n",
      "      --passphrase        prompt for an encryption passphrase\n",
      "      --pem-path string   enter an path to a PEM formated RSA key for an\n",
      "                          encrypted container\n",
      "  -r, --remote            build image remotely (does not require root)\n",
      "  -s, --sandbox           build image as sandbox format (chroot directory\n",
      "                          structure)\n",
      "      --section strings   only run specific section(s) of deffile (setup,\n",
      "                          post, files, environment, test, labels, none)\n",
      "                          (default [all])\n",
      "  -u, --update            run definition over existing container (skips header)\n",
      "\n",
      "\n",
      "Examples:\n",
      "\n",
      "  DEF FILE BASE OS:\n",
      "\n",
      "      Library:\n",
      "          Bootstrap: library\n",
      "          From: debian:9\n",
      "\n",
      "      Docker:\n",
      "          Bootstrap: docker\n",
      "          From: tensorflow/tensorflow:latest\n",
      "          IncludeCmd: yes # Use the CMD as runscript instead of ENTRYPOINT\n",
      "\n",
      "      Singularity Hub:\n",
      "          Bootstrap: shub\n",
      "          From: singularityhub/centos\n",
      "\n",
      "      YUM/RHEL:\n",
      "          Bootstrap: yum\n",
      "          OSVersion: 7\n",
      "          MirrorURL: http://mirror.centos.org/centos-%{OSVERSION}/%{OSVERSION}/os/x86_64/\n",
      "          Include: yum\n",
      "\n",
      "      Debian/Ubuntu:\n",
      "          Bootstrap: debootstrap\n",
      "          OSVersion: trusty\n",
      "          MirrorURL: http://us.archive.ubuntu.com/ubuntu/\n",
      "\n",
      "      Local Image:\n",
      "          Bootstrap: localimage\n",
      "          From: /home/dave/starter.img\n",
      "\n",
      "      Scratch:\n",
      "          Bootstrap: scratch # Populate the container with a minimal rootfs in %setup\n",
      "\n",
      "  DEFFILE SECTIONS:\n",
      "\n",
      "      %pre\n",
      "          echo \"This is a scriptlet that will be executed on the host, as root before\"\n",
      "          echo \"the container has been bootstrapped. This section is not commonly used.\"\n",
      "\n",
      "      %setup\n",
      "          echo \"This is a scriptlet that will be executed on the host, as root, after\"\n",
      "          echo \"the container has been bootstrapped. To install things into the container\"\n",
      "          echo \"reference the file system location with $SINGULARITY_ROOTFS.\"\n",
      "\n",
      "      %post\n",
      "          echo \"This scriptlet section will be executed from within the container after\"\n",
      "          echo \"the bootstrap/base has been created and setup.\"\n",
      "\n",
      "      %test\n",
      "          echo \"Define any test commands that should be executed after container has been\"\n",
      "          echo \"built. This scriptlet will be executed from within the running container\"\n",
      "          echo \"as the root user. Pay attention to the exit/return value of this scriptlet\"\n",
      "          echo \"as any non-zero exit code will be assumed as failure.\"\n",
      "          exit 0\n",
      "\n",
      "      %runscript\n",
      "          echo \"Define actions for the container to be executed with the run command or\"\n",
      "          echo \"when container is executed.\"\n",
      "\n",
      "      %startscript\n",
      "          echo \"Define actions for container to perform when started as an instance.\"\n",
      "\n",
      "      %labels\n",
      "          HELLO MOTO\n",
      "          KEY VALUE\n",
      "\n",
      "      %files\n",
      "          /path/on/host/file.txt /path/on/container/file.txt\n",
      "          relative_file.txt /path/on/container/relative_file.txt\n",
      "\n",
      "      %environment\n",
      "          LUKE=goodguy\n",
      "          VADER=badguy\n",
      "          HAN=someguy\n",
      "          export HAN VADER LUKE\n",
      "\n",
      "      %help\n",
      "          This is a text file to be displayed with the run-help command.\n",
      "\n",
      "  COMMANDS:\n",
      "\n",
      "      Build a sif file from a Singularity recipe file:\n",
      "          $ singularity build /tmp/debian0.sif /path/to/debian.def\n",
      "\n",
      "      Build a sif image from the Library:\n",
      "          $ singularity build /tmp/debian1.sif library://debian:latest\n",
      "\n",
      "      Build a base sandbox from DockerHub, make changes to it, then build sif\n",
      "          $ singularity build --sandbox /tmp/debian docker://debian:latest\n",
      "          $ singularity exec --writable /tmp/debian apt-get install python\n",
      "          $ singularity build /tmp/debian2.sif /tmp/debian\n",
      "\n",
      "\n",
      "For additional help or support, please visit https://www.sylabs.io/docs/\n"
     ]
    }
   ],
   "source": [
    "# singularity help <command>\n",
    "\n",
    "!singularity help build"
   ]
  },
  {
   "cell_type": "code",
   "execution_count": 6,
   "metadata": {},
   "outputs": [
    {
     "name": "stdout",
     "output_type": "stream",
     "text": [
      "\u001b[31mFATAL:  \u001b[0m Unable to handle library://godlovedc/funny/lolcow uri: unable to check if /home/jingwora/.singularity/cache/library/sha256.03187b702f874cf974f12d168cb741f05a3cfc6ae63ff7f111042b43864edca1/lolcow_latest.sif exists: hash does not match\n"
     ]
    }
   ],
   "source": [
    "# text run library\n",
    "\n",
    "!singularity run library://godlovedc/funny/lolcow"
   ]
  },
  {
   "cell_type": "code",
   "execution_count": null,
   "metadata": {},
   "outputs": [],
   "source": [
    "# download lolcow\n",
    "\n",
    "!singularity pull library://godlovedc/funny/lolcow"
   ]
  },
  {
   "cell_type": "code",
   "execution_count": 1,
   "metadata": {},
   "outputs": [
    {
     "name": "stdout",
     "output_type": "stream",
     "text": [
      "lolcow_latest.sif\n"
     ]
    }
   ],
   "source": [
    "# Singularity Image Format (SIF) file containing an image of a root level filesystem.\n",
    "\n",
    "!ls lolcow_latest.sif"
   ]
  },
  {
   "cell_type": "code",
   "execution_count": 4,
   "metadata": {},
   "outputs": [
    {
     "name": "stdout",
     "output_type": "stream",
     "text": [
      "\u001b[31mFATAL:  \u001b[0m Image file already exists: \"lolcow_latest.sif\" - will not overwrite\n"
     ]
    }
   ],
   "source": [
    "# download the Docker version of lolcow\n",
    "# Doing so may produce an error if the container already exists.\n",
    "\n",
    "!singularity pull docker://godlovedc/lolcow"
   ]
  },
  {
   "cell_type": "code",
   "execution_count": 5,
   "metadata": {},
   "outputs": [
    {
     "name": "stdout",
     "output_type": "stream",
     "text": [
      "\u001b[31mFATAL:  \u001b[0m could not open image /home/jingwora/singularity/lolcow_latest.sif: SIF image /home/jingwora/singularity/lolcow_latest.sif is corrupted: wrong partition size\n"
     ]
    }
   ],
   "source": [
    "!singularity shell lolcow_latest.sif"
   ]
  },
  {
   "attachments": {},
   "cell_type": "markdown",
   "metadata": {},
   "source": [
    "### Singularity flow\n",
    "- create a writable container (called a sandbox)\n",
    "- shell into the container with the --writable option and tinker with it interactively\n",
    "- record changes that we like in our definition file\n",
    "- rebuild the container from the definition file if we break it\n",
    "- rinse and repeat until we are happy with the result\n",
    "- rebuild the container from the final definition file as a read-only singularity image format (SIF) image for use in production"
   ]
  },
  {
   "attachments": {},
   "cell_type": "markdown",
   "metadata": {},
   "source": [
    "`build`\n",
    "- To build a singularity container\n",
    "- The build command installs an OS, sets up your container’s environment and installs the apps you need.\n",
    "- To use the build command, we need a `definition file`, a set of instructions telling Singularity what software to install in the container."
   ]
  },
  {
   "cell_type": "code",
   "execution_count": 1,
   "metadata": {},
   "outputs": [],
   "source": [
    "# make directory\n",
    "!mkdir lolcow"
   ]
  },
  {
   "cell_type": "code",
   "execution_count": 2,
   "metadata": {},
   "outputs": [],
   "source": [
    "# copy sample file \n",
    "!cp singularity/examples/debian/Singularity lolcow/lolcow.def"
   ]
  },
  {
   "attachments": {},
   "cell_type": "markdown",
   "metadata": {},
   "source": [
    "Definition Files\n",
    "- A Singularity Definition file is divided into two parts:\n",
    "\n",
    "- Header: The core operating system to build within the container.\n",
    "\n",
    "- Sections: Execute commands during the build process\n",
    "\n",
    "- https://docs.sylabs.io/guides/3.5/user-guide/definition_files.html\n",
    "- https://github.com/sylabs/examples"
   ]
  },
  {
   "attachments": {},
   "cell_type": "markdown",
   "metadata": {},
   "source": [
    "### Header\n",
    "Bootstrap\n",
    "- The only keyword that is required for every type of build is Bootstrap. \n",
    "- Preferred bootstrap agents\n",
    "  - library (images hosted on the Container Library\n",
    "  - docker (images hosted on Docker Hub)\n",
    "  - shub (images hosted on Singularity Hub)\n",
    "  - oras (images from supporting OCI registries)\n",
    "  - scratch (a flexible option for building a container from scratch)"
   ]
  },
  {
   "attachments": {},
   "cell_type": "markdown",
   "metadata": {},
   "source": [
    "### Sections\n",
    "- The main content of the bootstrap file is broken into sections.\n",
    "- Different sections add different content or execute commands at different times during the build process. \n",
    "- Multiple sections of the same name can be included and will be appended to one another during the build process.\n",
    "- Each section is defined by a `%` character followed by the name of the particular section.\n",
    "- Sections that are executed at build time are executed with the `/bin/sh` interpreter and can accept `/bin/sh` options. \n",
    "- Sections that produce scripts to be executed at runtime can accept options intended for `/bin/sh`"
   ]
  },
  {
   "cell_type": "code",
   "execution_count": 3,
   "metadata": {},
   "outputs": [
    {
     "name": "stdout",
     "output_type": "stream",
     "text": [
      "BootStrap: debootstrap\n",
      "OSVersion: stable\n",
      "MirrorURL: http://ftp.us.debian.org/debian/\n",
      "\n",
      "%runscript\n",
      "    echo \"This is what happens when you run the container...\"\n",
      "\n",
      "%post\n",
      "    echo \"Hello from inside the container\"\n",
      "    apt-get -y --allow-unauthenticated install vim\n"
     ]
    }
   ],
   "source": [
    "# read file\n",
    "!cat lolcow/lolcow.def"
   ]
  },
  {
   "attachments": {},
   "cell_type": "markdown",
   "metadata": {},
   "source": [
    "Developing a new container\n",
    "- Use this definition file to build our lolcow.img container.\n",
    "```\n",
    "sudo singularity build --sandbox lolcow lolcow.def\n",
    "```"
   ]
  },
  {
   "attachments": {},
   "cell_type": "markdown",
   "metadata": {},
   "source": [
    "- This is telling Singularity to build a container called lolcow from the lolcow.def definition file.\n",
    "- `sandbox` option in the command above tells Singularity that we want to build a special type of container (called a sandbox) for development purposes.\n",
    "- `SIF` (singularity image format) fie format is defualt that uses squashfs for the file system. SIF files are compressed and immutable making them the best choice for reproducible, production-grade containers. "
   ]
  },
  {
   "attachments": {},
   "cell_type": "markdown",
   "metadata": {},
   "source": [
    "- When your build finishes, you will have a basic Debian container saved in a local directory called `lolcow`.\n",
    "\n"
   ]
  },
  {
   "attachments": {},
   "cell_type": "markdown",
   "metadata": {},
   "source": [
    "Now let’s enter our new container and look around.\n",
    "```\n",
    "singularity shell lolcow\n",
    "```\n",
    "Your prompt change to Singularity>"
   ]
  },
  {
   "attachments": {},
   "cell_type": "markdown",
   "metadata": {},
   "source": [
    "Let’s try installing some software. If you enter a container without root privileges, you are unable to obtain root privileges within the container. \n",
    "```\n",
    "Singularity> sudo apt-get update\n",
    "bash: sudo: command not found\n",
    "```"
   ]
  },
  {
   "attachments": {},
   "cell_type": "markdown",
   "metadata": {},
   "source": [
    "Let’s exit the container and re-enter as root.\n",
    "```\n",
    "exit\n",
    "```"
   ]
  },
  {
   "attachments": {},
   "cell_type": "markdown",
   "metadata": {},
   "source": [
    "re-enter as root.\n",
    "```\n",
    "sudo singularity shell --writable lolcow\n",
    "```\n",
    "`--writable` option allows us to modify the container. "
   ]
  },
  {
   "attachments": {},
   "cell_type": "markdown",
   "metadata": {},
   "source": [
    "Let’s try installing our software again.\n",
    "```\n",
    "Singularity> apt-get update\n",
    "Singularity> apt-get install -y fortune cowsay lolcat\n",
    "```\n",
    "Now you should see the programs successfully installed. "
   ]
  },
  {
   "attachments": {},
   "cell_type": "markdown",
   "metadata": {},
   "source": [
    "Let’s try running the demo in this new container.\n",
    "```\n",
    "Singularity> fortune | cowsay | lolcat\n",
    "```\n",
    "command not found! It looks like the programs were not added to our $PATH. "
   ]
  },
  {
   "attachments": {},
   "cell_type": "markdown",
   "metadata": {},
   "source": [
    "Let add path and try again.\n",
    "```\n",
    "Singularity> export PATH=$PATH:/usr/games\n",
    "Singularity> fortune | cowsay | lolcat\n",
    "\n",
    "```"
   ]
  },
  {
   "attachments": {},
   "cell_type": "markdown",
   "metadata": {},
   "source": [
    "```\n",
    " __________________________________\n",
    "/ Knock, knock!                    \\\n",
    "|                                  |\n",
    "| Who's there? Sam and Janet.      |\n",
    "|                                  |\n",
    "| Sam and Janet who? Sam and Janet |\n",
    "\\ Evening...                       /\n",
    " ----------------------------------\n",
    "        \\   ^__^\n",
    "         \\  (oo)\\_______\n",
    "            (__)\\       )\\/\\\n",
    "                ||----w |\n",
    "                ||     ||\n",
    "```\n",
    "```\n",
    "Singularity> exit\n",
    "```"
   ]
  },
  {
   "attachments": {},
   "cell_type": "markdown",
   "metadata": {},
   "source": [
    "- We changed our path in this session, but those changes will disappear as soon as we exit the container.\n",
    "- To make the changes permanent we should add them to the definition file and re-bootstrap the container."
   ]
  },
  {
   "attachments": {},
   "cell_type": "markdown",
   "metadata": {},
   "source": [
    "Let’s update our definition file with the changes we made to this container.\n",
    "- Add `apt-get update` to `%post`\n",
    "- Create `%environment` with `export PATH=$PATH:/usr/games`"
   ]
  },
  {
   "cell_type": "code",
   "execution_count": 6,
   "metadata": {},
   "outputs": [
    {
     "name": "stdout",
     "output_type": "stream",
     "text": [
      "Overwriting lolcow/lolcow.def\n"
     ]
    }
   ],
   "source": [
    "%%writefile lolcow/lolcow.def\n",
    "\n",
    "BootStrap: debootstrap\n",
    "OSVersion: stable\n",
    "MirrorURL: http://ftp.us.debian.org/debian/\n",
    "\n",
    "%runscript\n",
    "    echo \"This is what happens when you run the container...\"\n",
    "\n",
    "%post\n",
    "    echo \"Hello from inside the container\"\n",
    "    apt-get update\n",
    "    apt-get -y install fortune cowsay lolcat\n",
    "\n",
    "%environment\n",
    "    export PATH=$PATH:/usr/games"
   ]
  },
  {
   "attachments": {},
   "cell_type": "markdown",
   "metadata": {},
   "source": [
    "Let’s rebuild the container with the new definition file without `--sandbox` option.\n",
    "\n",
    "```\n",
    "$ sudo singularity build lolcow.sif lolcow.def\n",
    "```\n",
    "We will get `.sif` file."
   ]
  },
  {
   "cell_type": "code",
   "execution_count": 8,
   "metadata": {},
   "outputs": [
    {
     "name": "stdout",
     "output_type": "stream",
     "text": [
      "\n",
      "BootStrap: debootstrap\n",
      "OSVersion: stable\n",
      "MirrorURL: http://ftp.us.debian.org/debian/\n",
      "\n",
      "%runscript\n",
      "    echo \"This is what happens when you run the container...\"\n",
      "\n",
      "%post\n",
      "    echo \"Hello from inside the container\"\n",
      "    apt-get update\n",
      "    apt-get -y install fortune cowsay lolcat\n",
      "\n",
      "%environment\n",
      "    export PATH=$PATH:/usr/games\n",
      "\n"
     ]
    }
   ],
   "source": [
    "# inspect command to read the runscript\n",
    "\n",
    "!singularity inspect --deffile  lolcow/lolcow.sif"
   ]
  },
  {
   "attachments": {},
   "cell_type": "markdown",
   "metadata": {},
   "source": [
    "In practice, most people build containers from existing containers on the Container Library or on Docker Hub and use the `%post` section to modify those containers to suit their needs.\n",
    "```\n",
    "Bootstrap: docker\n",
    "From: debian\n",
    "```"
   ]
  },
  {
   "attachments": {},
   "cell_type": "markdown",
   "metadata": {},
   "source": [
    "You can also build a container from a base container on your local file system.\n",
    "```\n",
    "Bootstrap: localimage\n",
    "From: /home/student/debian.sif\n",
    "```"
   ]
  },
  {
   "attachments": {},
   "cell_type": "markdown",
   "metadata": {},
   "source": [
    "Alternatively, we can build without definition file.\n",
    "\n",
    "```\n",
    "$ singularity build debian1.sif library://debian\n",
    "$ singularity build debian2.sif docker://debian\n",
    "$ singularity build debian3.sif debian2.sif\n",
    "```\n",
    "Behind the scenes, Singularity creates a small definition file for each of these commands and then builds the corresponding container as you can see if you use the inspect `--deffile` command."
   ]
  },
  {
   "attachments": {},
   "cell_type": "markdown",
   "metadata": {},
   "source": [
    "`--fakeroot` allowss you to pretend to be the root user inside of your container without actually granting singularity elevated privileges on host system. \n",
    "\n",
    "```\n",
    "singularity build --fakeroot container.sif container.def\n",
    "```"
   ]
  },
  {
   "attachments": {},
   "cell_type": "markdown",
   "metadata": {},
   "source": [
    "### Tags and hashes"
   ]
  },
  {
   "attachments": {},
   "cell_type": "markdown",
   "metadata": {},
   "source": [
    "Docker Hub and the Container Library both have a concept of a `tagged image` for developers to release several different versions."
   ]
  },
  {
   "attachments": {},
   "cell_type": "markdown",
   "metadata": {},
   "source": [
    "```\n",
    "$ singularity pull library://debian:9\n",
    "```\n",
    "definition file:\n",
    "```\n",
    "Bootstrap: library\n",
    "From: debian:9\n",
    "```\n",
    "If you omit the `:<tag>`, you will get the container tagged with latest by default."
   ]
  },
  {
   "attachments": {},
   "cell_type": "markdown",
   "metadata": {},
   "source": [
    "Some library has no default container which will fails.\n",
    "```\n",
    "$ singularity pull library://lolcow\n",
    "FATAL:   While pulling library image: image lolcow:latest (amd64) does not exist in the library\n",
    "```"
   ]
  },
  {
   "attachments": {},
   "cell_type": "markdown",
   "metadata": {},
   "source": [
    "Tags are not immutable and may change without warning. If you are interested in pulling the same container multiple times, you should pull by the `hash`.\n",
    "```\n",
    "$ singularity pull library://debian:sha256.b92c7fdfcc6152b983deb9fde5a2d1083183998c11fb3ff3b89c0efc7b240448\n",
    "```"
   ]
  },
  {
   "attachments": {},
   "cell_type": "markdown",
   "metadata": {},
   "source": [
    "The syntax to do the same from Docker Hub is a bit different:\n",
    "```\n",
    "$ singularity pull docker://debian@sha256:f17410575376cc2ad0f6f172699ee825a51588f54f6d72bbfeef6e2fa9a57e2f\n",
    "```"
   ]
  },
  {
   "attachments": {},
   "cell_type": "markdown",
   "metadata": {},
   "source": [
    "### trusted containers"
   ]
  },
  {
   "attachments": {},
   "cell_type": "markdown",
   "metadata": {},
   "source": [
    "General guidelines.\n",
    "\n",
    "- Don’t build containers from untrusted sources or run them as root\n",
    "- Review the runscript before you run it\n",
    "- Use the `--no-home` and `--contain-all` options when running an unfamiliar container\n",
    "- Establish your level of trust with a container"
   ]
  },
  {
   "attachments": {},
   "cell_type": "markdown",
   "metadata": {},
   "source": [
    "Docker Official Images\n",
    "- https://docs.docker.com/docker-hub/official_images/\n",
    "\n",
    "Docker Verified Publisher Program\n",
    "- https://docs.docker.com/docker-hub/publish/"
   ]
  },
  {
   "attachments": {},
   "cell_type": "markdown",
   "metadata": {},
   "source": [
    "The Singularity Remote Builder offers ways to build your containers by composing a definition file or drag-and-drop using the web GUI.\n",
    "- https://cloud.sylabs.io/builder\n",
    "\n",
    "```\n",
    "$ singularity remote login SylabsCloud\n",
    "INFO:    Authenticating with remote: SylabsCloud\n",
    "Generate an API Key at https://cloud.sylabs.io/auth/tokens, and paste here:\n",
    "API Key:\n",
    "INFO:    API Key Verified!\n",
    "```"
   ]
  },
  {
   "attachments": {},
   "cell_type": "markdown",
   "metadata": {},
   "source": [
    "### Signing and sharing containers"
   ]
  },
  {
   "attachments": {},
   "cell_type": "markdown",
   "metadata": {},
   "source": [
    "You can generate a new PGP key with the key command like so:\n",
    "```\n",
    "$ singularity key newpair\n",
    "Enter your name (e.g., John Doe) : Class Admin\n",
    "Enter your email address (e.g., john.doe@example.com) : class.admin@mymail.com\n",
    "Enter optional comment (e.g., development keys) : This is an example key for a class\n",
    "Enter a passphrase :\n",
    "Retype your passphrase :\n",
    "Would you like to push it to the keystore? [Y,n] y\n",
    "Generating Entity and OpenPGP Key Pair... done\n",
    "Key successfully pushed to: https://keys.sylabs.io\n",
    "```"
   ]
  },
  {
   "attachments": {},
   "cell_type": "markdown",
   "metadata": {},
   "source": [
    "This lets you cryptographically sign the container you just created with the sign command:\n",
    "```\n",
    "$ singularity sign alpine.sif\n",
    "Signing image: alpine.sif\n",
    "Enter key passphrase :\n",
    "Signature created and applied to alpine.sif\n",
    "```"
   ]
  },
  {
   "attachments": {},
   "cell_type": "markdown",
   "metadata": {},
   "source": [
    "The you can push it to the library like so:\n",
    "```\n",
    "$ singularity push alpine.sif library://godloved/base/alpine:latest\n",
    "INFO:    Container is trusted - run 'singularity key list' to list your trusted keys\n",
    " 2.59 MiB / 2.59 MiB [========================================================] 100.00% 10.72 MiB/s 0s\n",
    "```"
   ]
  },
  {
   "attachments": {},
   "cell_type": "markdown",
   "metadata": {},
   "source": [
    "Then when others pull the container they can use the verify command to make sure that it has not been tampered with.\n",
    "```\n",
    "$ singularity verify alpine.sif\n",
    "Container is signed by 1 key(s):\n",
    "\n",
    "Verifying partition: FS:\n",
    "73B905527AB1AA3929B6A736A47CBE85B37CB086\n",
    "[LOCAL]   Class Admin (This is an example key for a class) <class.admin@mymail.com>\n",
    "[OK]      Data integrity verified\n",
    "\n",
    "INFO:    Container verified: alpine.sif\n",
    "```"
   ]
  },
  {
   "attachments": {},
   "cell_type": "markdown",
   "metadata": {},
   "source": [
    "### Accessing Host Files with Bind Mounts"
   ]
  },
  {
   "attachments": {},
   "cell_type": "markdown",
   "metadata": {},
   "source": [
    "Within the container we can create and modify  files in our home directory (host system)."
   ]
  },
  {
   "attachments": {},
   "cell_type": "markdown",
   "metadata": {},
   "source": [
    "Example:\n",
    "```\n",
    "$ singularity shell lolcow.sif\n",
    "\n",
    "Singularity> echo wutini > ~/jawa.txt\n",
    "\n",
    "Singularity> cat ~/jawa.txt\n",
    "wutini\n",
    "\n",
    "Singularity> exit\n",
    "\n",
    "$ cat ~/jawa.txt\n",
    "wutini\n",
    "```"
   ]
  },
  {
   "attachments": {},
   "cell_type": "markdown",
   "metadata": {},
   "source": [
    "There are several special directories that Singularity bind mounts into your container by default. These include:\n",
    "\n",
    "- $HOME\n",
    "- /tmp\n",
    "- /proc\n",
    "- /sys\n",
    "- /dev"
   ]
  },
  {
   "attachments": {},
   "cell_type": "markdown",
   "metadata": {},
   "source": [
    "You can specify other directories to bind using the `--bind` option or the environmental variable `$SINGULARITY_BINDPATH`"
   ]
  },
  {
   "attachments": {},
   "cell_type": "markdown",
   "metadata": {},
   "source": [
    "to access a directory called /data from within our container.\n",
    "```\n",
    "$ sudo mkdir /data\n",
    "\n",
    "$ sudo chown $USER:$USER /data\n",
    "\n",
    "$ echo 'I am your father' > /data/vader.txt\n",
    "```\n",
    "using the --bind option to bind mount /data into the container.\n",
    "\n",
    "```\n",
    "$ singularity exec --bind /data lolcow.sif ls -l /data\n",
    "total 4\n",
    "-rw-rw-r-- 1 student student 17 Mar  2 00:51 vader.txt\n",
    "```"
   ]
  },
  {
   "attachments": {},
   "cell_type": "markdown",
   "metadata": {},
   "source": [
    "bind mount multiple directories\n",
    "```\n",
    "$ singularity shell --bind src1:dest1,src2:dest2,src3:dest3 some.sif\n",
    "\n",
    "$ export SINGULARITY_BINDPATH=src1:dest1,src2:dest2,src3:dest3\n",
    "```"
   ]
  },
  {
   "attachments": {},
   "cell_type": "markdown",
   "metadata": {},
   "source": [
    "### Runscript\n",
    "\n",
    "Consider an application that takes one file as input, analyzes the data in the file, and produces another file as output. "
   ]
  },
  {
   "attachments": {},
   "cell_type": "markdown",
   "metadata": {},
   "source": [
    "Create input file\n",
    "```\n",
    "$ echo \"The grass is always greener over the septic tank\" > data/input\n",
    "\n",
    "```\n",
    "Analyze data\n",
    "```\n",
    "$ cat data/input | singularity exec lolcow.sif cowsay > data/output\n",
    "```\n",
    "Ouput\n",
    "```\n",
    "$ cat /data/output\n",
    " ______________________________________\n",
    "/ The grass is always greener over the \\\n",
    "\\ septic tank                          /\n",
    " --------------------------------------\n",
    "        \\   ^__^\n",
    "         \\  (oo)\\_______\n",
    "            (__)\\       )\\/\\\n",
    "                ||----w |\n",
    "                ||     ||\n",
    "```"
   ]
  },
  {
   "attachments": {},
   "cell_type": "markdown",
   "metadata": {},
   "source": [
    "Use runscript\n",
    "- Create a runscript inside the container"
   ]
  },
  {
   "cell_type": "code",
   "execution_count": 3,
   "metadata": {},
   "outputs": [
    {
     "name": "stdout",
     "output_type": "stream",
     "text": [
      "Overwriting lolcow/lolcow.def\n"
     ]
    }
   ],
   "source": [
    "%%writefile lolcow/lolcow.def\n",
    "BootStrap: library\n",
    "From: debian:9\n",
    "\n",
    "%runscript\n",
    "    if [ $# -ne 2 ]; then\n",
    "        echo \"Please provide an input and an output file.\"\n",
    "        exit 1\n",
    "    fi\n",
    "    cat $1 | cowsay > $2\n",
    "\n",
    "%post\n",
    "    apt-get update\n",
    "    apt-get -y install fortune cowsay lolcat\n",
    "\n",
    "%environment\n",
    "    export PATH=$PATH:/usr/games"
   ]
  },
  {
   "attachments": {},
   "cell_type": "markdown",
   "metadata": {},
   "source": [
    "- Rebuild out container to install the new runscript.\n",
    "- `--force` option to force overwritten.\n",
    "```\n",
    "$ sudo singularity build --force lolcow.sif lolcow.def\n",
    "```\n",
    "to bind mount the /data directory into the container.\n",
    "```\n",
    "$ export SINGULARITY_BINDPATH=/data\n",
    "$ ./lolcow.sif data/input data/output2\n",
    "$ cat data/output2\n",
    " ______________________________________\n",
    "/ The grass is always greener over the \\\n",
    "\\ septic tank                          /\n",
    " --------------------------------------\n",
    "        \\   ^__^\n",
    "         \\  (oo)\\_______\n",
    "            (__)\\       )\\/\\\n",
    "                ||----w |\n",
    "                ||     ||\n",
    "```"
   ]
  },
  {
   "attachments": {},
   "cell_type": "markdown",
   "metadata": {},
   "source": [
    "### Native Installation"
   ]
  },
  {
   "attachments": {},
   "cell_type": "markdown",
   "metadata": {},
   "source": [
    "Clear up lolcow\n",
    "```\n",
    "$ cd ~/lolcow\n",
    "\n",
    "$ pwd # double check\n",
    "/home/student/lolcow\n",
    "\n",
    "$ sudo rm -rf * # caution! see NOTE above!\n",
    "```"
   ]
  },
  {
   "attachments": {},
   "cell_type": "markdown",
   "metadata": {},
   "source": [
    "make a few new directories\n",
    "```\n",
    "$ mkdir libexec bin\n",
    "```"
   ]
  },
  {
   "attachments": {},
   "cell_type": "markdown",
   "metadata": {},
   "source": [
    "create the contents of the libexec directory. It will contain the container, and a rather trickly little wrapper script.\n",
    "```\n",
    "$ singularity pull libexec/lolcow.sif library://godlovedc/funny/lolcow\n",
    "\n",
    "$ cat >libexec/lolcow.sh<<\"EOF\"\n",
    "#!/bin/bash\n",
    "export SINGULARITY_BINDPATH=\"/data\"\n",
    "dir=\"$(dirname $(readlink -f ${BASH_SOURCE[0]}))\"\n",
    "img=\"lolcow.sif\"\n",
    "cmd=$(basename \"$0\")\n",
    "arg=\"$@\"\n",
    "echo running: singularity exec \"${dir}/${img}\" $cmd $arg\n",
    "singularity exec \"${dir}/${img}\" $cmd $arg\n",
    "EOF\n",
    "\n",
    "$ chmod 755 libexec/lolcow.sh\n",
    "```"
   ]
  },
  {
   "attachments": {},
   "cell_type": "markdown",
   "metadata": {},
   "source": [
    "make a few symlinks in the bin directory.\n",
    "```\n",
    "$ ln -s ../libexec/lolcow.sh bin/fortune\n",
    "\n",
    "$ ln -s ../libexec/lolcow.sh bin/cowsay\n",
    "\n",
    "$ ln -s ../libexec/lolcow.sh bin/lolcat\n",
    "```"
   ]
  },
  {
   "attachments": {},
   "cell_type": "markdown",
   "metadata": {},
   "source": [
    "Check files and folders"
   ]
  },
  {
   "cell_type": "code",
   "execution_count": 5,
   "metadata": {},
   "outputs": [
    {
     "name": "stdout",
     "output_type": "stream",
     "text": [
      "\u001b[01;34mlolcow\u001b[0m\n",
      "├── \u001b[01;34mbin\u001b[0m\n",
      "│   ├── \u001b[01;36mcowsay\u001b[0m -> \u001b[01;32m../libexec/lolcow.sh\u001b[0m\n",
      "│   ├── \u001b[01;36mfortune\u001b[0m -> \u001b[01;32m../libexec/lolcow.sh\u001b[0m\n",
      "│   └── \u001b[01;36mlolcat\u001b[0m -> \u001b[01;32m../libexec/lolcow.sh\u001b[0m\n",
      "└── \u001b[01;34mlibexec\u001b[0m\n",
      "    ├── \u001b[01;32mlolcow.sh\u001b[0m\n",
      "    └── \u001b[01;32mlolcow.sif\u001b[0m\n",
      "\n",
      "2 directories, 5 files\n"
     ]
    }
   ],
   "source": [
    "!tree lolcow"
   ]
  },
  {
   "attachments": {},
   "cell_type": "markdown",
   "metadata": {},
   "source": [
    "Now let’s see how it works:\n",
    "\n",
    "```\n",
    "$ cd ~\n",
    "\n",
    "$ export PATH=$PATH:~/lolcow/bin\n",
    "\n",
    "$ which cowsay fortune lolcat\n",
    "/home/student/lolcow/bin/cowsay\n",
    "/home/student/lolcow/bin/fortune\n",
    "/home/student/lolcow/bin/lolcat\n",
    "\n",
    "$ cowsay moo\n",
    "running: singularity exec /home/student/lolcow/libexec/lolcow.sif cowsay moo\n",
    " _____\n",
    "< moo >\n",
    " -----\n",
    "        \\   ^__^\n",
    "         \\  (oo)\\_______\n",
    "            (__)\\       )\\/\\\n",
    "                ||----w |\n",
    "                ||     ||\n",
    "\n",
    "$ lolcat --help\n",
    "running: singularity exec /home/student/lolcow/libexec/lolcow.sif lolcat --help\n",
    "\n",
    "Usage: lolcat [OPTION]... [FILE]...\n",
    "\n",
    "Concatenate FILE(s), or standard input, to standard output.\n",
    "With no FILE, or when FILE is -, read standard input.\n",
    "\n",
    "    --spread, -p <f>:   Rainbow spread (default: 3.0)\n",
    "      --freq, -F <f>:   Rainbow frequency (default: 0.1)\n",
    "      --seed, -S <i>:   Rainbow seed, 0 = random (default: 0)\n",
    "       --animate, -a:   Enable psychedelics\n",
    "  --duration, -d <i>:   Animation duration (default: 12)\n",
    "     --speed, -s <f>:   Animation speed (default: 20.0)\n",
    "         --force, -f:   Force color even when stdout is not a tty\n",
    "       --version, -v:   Print version and exit\n",
    "          --help, -h:   Show this message\n",
    "\n",
    "Examples:\n",
    "  lolcat f - g      Output f's contents, then stdin, then g's contents.\n",
    "  lolcat            Copy standard input to standard output.\n",
    "  fortune | lolcat  Display a rainbow cookie.\n",
    "\n",
    "Report lolcat bugs to <http://www.github.org/busyloop/lolcat/issues>\n",
    "lolcat home page: <http://www.github.org/busyloop/lolcat/>\n",
    "Report lolcat translation bugs to <http://speaklolcat.com/>\n",
    "Once you understand how it works, remove (or comment) the echo line in lolcow/libexec/lolcow.sh and even things like this should work without a hitch:\n",
    "\n",
    "$ fortune | cowsay -n | lolcat\n",
    " ___________________________________________________________\n",
    "< You never hesitate to tackle the most difficult problems. >\n",
    " -----------------------------------------------------------\n",
    "        \\   ^__^\n",
    "         \\  (oo)\\_______\n",
    "            (__)\\       )\\/\\\n",
    "                ||----w |\n",
    "                ||     ||\n",
    "```"
   ]
  },
  {
   "attachments": {},
   "cell_type": "markdown",
   "metadata": {},
   "source": [
    "Run\n",
    "```\n",
    "$ fortune | cowsay -n | lolcat\n",
    " ___________________________________________________________\n",
    "< You never hesitate to tackle the most difficult problems. >\n",
    " -----------------------------------------------------------\n",
    "        \\   ^__^\n",
    "         \\  (oo)\\_______\n",
    "            (__)\\       )\\/\\\n",
    "                ||----w |\n",
    "                ||     ||\n",
    "```"
   ]
  },
  {
   "attachments": {},
   "cell_type": "markdown",
   "metadata": {},
   "source": [
    "### Miscellaneous Topics and FAQs"
   ]
  },
  {
   "attachments": {},
   "cell_type": "markdown",
   "metadata": {},
   "source": [
    "X11 and OpenGL\n",
    "-  If you want to display X11 graphics you must install `xorg` within your container."
   ]
  },
  {
   "attachments": {},
   "cell_type": "markdown",
   "metadata": {},
   "source": [
    "GPU computing\n",
    "- In Singularity v2.3+ the experimental `--nv` option will look for NVIDIA libraries on the host system and automatically bind mount them to the container so that GPUs work seamlessly."
   ]
  },
  {
   "attachments": {},
   "cell_type": "markdown",
   "metadata": {},
   "source": [
    "Using the network on the host system\n",
    "- Network ports on the host system are accessible from within the container and work seamlessly. For example, you could install `ipython` within a container, start a jupyter notebook instance, and then connect to that instance using a browser running outside of the container on the host system or from another host."
   ]
  },
  {
   "attachments": {},
   "cell_type": "markdown",
   "metadata": {},
   "source": [
    "A note on SUID programs and daemons\n",
    "- Some programs need root privileges to run. These often include services or daemons that start via the `init.d` or `system.d` systems and run in the background. For instance, `sshd` the ssh daemon that listens on port 22 and allows another user to connect to your computer requires root privileges. You will not be able to run it in a container unless you start the container as root."
   ]
  },
  {
   "attachments": {},
   "cell_type": "markdown",
   "metadata": {},
   "source": [
    "Long-running Instances\n",
    "- Up to now all of our examples have run Singularity containers in the foreground. But what if you want to run a service like a `web server` or a `database` in a Singularity container in the background?"
   ]
  },
  {
   "attachments": {},
   "cell_type": "markdown",
   "metadata": {},
   "source": [
    "instance\n",
    "- Use the `instance` command group to start and control container instances that run in the background. \n",
    "\n",
    "```\n",
    "$ singularity instance.start lolcow.simg cow1\n",
    "```\n",
    "instance.list\n",
    "- command to show the instances that are currently running\n",
    "```\n",
    "singularity instance.list\n",
    "```"
   ]
  },
  {
   "attachments": {},
   "cell_type": "markdown",
   "metadata": {},
   "source": [
    "- We can connect to running instances using the `instance://` URI like so:\n",
    "```\n",
    "$ singularity shell instance://cow1\n",
    "Singularity: Invoking an interactive shell within container...\n",
    "\n",
    "Singularity lolcow.simg:~> ps -ef\n",
    "UID        PID  PPID  C STIME TTY          TIME CMD\n",
    "dave         1     0  0 19:05 ?        00:00:00 singularity-instance: dave [cow1]\n",
    "dave         3     0  0 19:06 pts/0    00:00:00 /bin/bash --norc\n",
    "dave         4     3  0 19:06 pts/0    00:00:00 ps -ef\n",
    "\n",
    "Singularity lolcow.simg:~> exit\n",
    "```"
   ]
  },
  {
   "attachments": {},
   "cell_type": "markdown",
   "metadata": {},
   "source": [
    "You can start multiple instances running in the background, as long as you give them unique names.\n",
    "```\n",
    "$ singularity instance.start lolcow.simg cow2\n",
    "\n",
    "$ singularity instance.start lolcow.simg cow3\n",
    "\n",
    "$ singularity instance.list\n",
    "DAEMON NAME      PID      CONTAINER IMAGE\n",
    "cow1             10794    /home/dave/lolcow.simg\n",
    "cow2             10855    /home/dave/lolcow.simg\n",
    "cow3             10885    /home/dave/lolcow.simg\n",
    "```"
   ]
  },
  {
   "attachments": {},
   "cell_type": "markdown",
   "metadata": {},
   "source": [
    "You can stop individual instances using their unique names or stop all instances with the --all option.\n",
    "\n",
    "```\n",
    "$ singularity instance.stop cow1\n",
    "Stopping cow1 instance of /home/dave/lolcow.simg (PID=10794)\n",
    "\n",
    "$ singularity instance.stop --all\n",
    "Stopping cow2 instance of /home/dave/lolcow.simg (PID=10855)\n",
    "Stopping cow3 instance of /home/dave/lolcow.simg (PID=10885)\n",
    "```"
   ]
  },
  {
   "attachments": {},
   "cell_type": "markdown",
   "metadata": {},
   "source": [
    "nginx"
   ]
  },
  {
   "attachments": {},
   "cell_type": "markdown",
   "metadata": {},
   "source": [
    "```\n",
    "$ sudo singularity instance.start docker://nginx web\n",
    "Docker image path: index.docker.io/library/nginx:latest\n",
    "Cache folder set to /root/.singularity/docker\n",
    "[3/3] |===================================| 100.0%\n",
    "Creating container runtime...\n",
    "\n",
    "$ sudo singularity instance.list\n",
    "DAEMON NAME      PID      CONTAINER IMAGE\n",
    "web              15379    /tmp/.singularity-runtime.MBzI4Hus/nginx\n",
    "```\n"
   ]
  },
  {
   "attachments": {},
   "cell_type": "markdown",
   "metadata": {},
   "source": [
    "to start nginx running in the instance called web.\n",
    "```\n",
    "sudo singularity exec instance://web nginx\n",
    "```"
   ]
  },
  {
   "attachments": {},
   "cell_type": "markdown",
   "metadata": {},
   "source": [
    "Now we have an nginx web server running on our localhost. We can verify that it is running with curl.\n",
    "```\n",
    "$ curl localhost\n",
    "127.0.0.1 - - [02/Nov/2017:19:20:39 +0000] \"GET / HTTP/1.1\" 200 612 \"-\" \"curl/7.52.1\" \"-\"\n",
    "<!DOCTYPE html>\n",
    "<html>\n",
    "<head>\n",
    "<title>Welcome to nginx!</title>\n",
    "<style>\n",
    "    body {\n",
    "        width: 35em;\n",
    "        margin: 0 auto;\n",
    "        font-family: Tahoma, Verdana, Arial, sans-serif;\n",
    "    }\n",
    "</style>\n",
    "</head>\n",
    "<body>\n",
    "<h1>Welcome to nginx!</h1>\n",
    "<p>If you see this page, the nginx web server is successfully installed and\n",
    "working. Further configuration is required.</p>\n",
    "\n",
    "<p>For online documentation and support please refer to\n",
    "<a href=\"http://nginx.org/\">nginx.org</a>.<br/>\n",
    "Commercial support is available at\n",
    "<a href=\"http://nginx.com/\">nginx.com</a>.</p>\n",
    "\n",
    "<p><em>Thank you for using nginx.</em></p>\n",
    "</body>\n",
    "</html>\n",
    "```"
   ]
  },
  {
   "attachments": {},
   "cell_type": "markdown",
   "metadata": {},
   "source": [
    "stop all running instances\n",
    "```\n",
    "$ sudo singularity instance.stop --all\n",
    "```"
   ]
  },
  {
   "attachments": {},
   "cell_type": "markdown",
   "metadata": {},
   "source": [
    "Ref:\n",
    "- Doc: https://docs.sylabs.io/guides/3.0/user-guide/installation.html\n",
    "- Tutorial: https://singularity-tutorial.github.io/\n",
    "\n",
    "- Container registries\n",
    "  - sylabs: https://cloud.sylabs.io/library\n",
    "  - Docker: https://hub.docker.com/\n",
    "  - Singularity Hub: http://datasets.datalad.org/?dir=/shub\n",
    "  - Quay.io: https://quay.io/\n",
    "  - NGC: https://ngc.nvidia.com/catalog\n",
    "  - BioContainers: https://biocontainers.pro/#/registry"
   ]
  },
  {
   "cell_type": "markdown",
   "metadata": {},
   "source": []
  }
 ],
 "metadata": {
  "kernelspec": {
   "display_name": "docker-env",
   "language": "python",
   "name": "python3"
  },
  "language_info": {
   "codemirror_mode": {
    "name": "ipython",
    "version": 3
   },
   "file_extension": ".py",
   "mimetype": "text/x-python",
   "name": "python",
   "nbconvert_exporter": "python",
   "pygments_lexer": "ipython3",
   "version": "3.8.15"
  },
  "orig_nbformat": 4,
  "vscode": {
   "interpreter": {
    "hash": "1d72ff28f10b5c47fa9f3c42b33bd73d41d71df3435cff83193392d5266f9af2"
   }
  }
 },
 "nbformat": 4,
 "nbformat_minor": 2
}
