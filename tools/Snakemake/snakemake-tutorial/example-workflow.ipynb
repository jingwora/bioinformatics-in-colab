{
 "cells": [
  {
   "attachments": {},
   "cell_type": "markdown",
   "metadata": {},
   "source": [
    "# Basics: An example workflow"
   ]
  },
  {
   "attachments": {},
   "cell_type": "markdown",
   "metadata": {},
   "source": [
    "- https://snakemake.readthedocs.io/en/stable/tutorial/basics.html"
   ]
  },
  {
   "attachments": {},
   "cell_type": "markdown",
   "metadata": {},
   "source": [
    "## Environment Setting"
   ]
  },
  {
   "cell_type": "code",
   "execution_count": 3,
   "metadata": {},
   "outputs": [
    {
     "name": "stdout",
     "output_type": "stream",
     "text": [
      "# conda environments:\n",
      "#\n",
      "base                     /home/jingwora/mambaforge\n",
      "snakemake-tutorial    *  /home/jingwora/mambaforge/envs/snakemake-tutorial\n",
      "\n"
     ]
    }
   ],
   "source": [
    "!conda env list"
   ]
  },
  {
   "cell_type": "code",
   "execution_count": 2,
   "metadata": {},
   "outputs": [
    {
     "name": "stdout",
     "output_type": "stream",
     "text": [
      "Python 3.8.5\n"
     ]
    }
   ],
   "source": [
    "!python --version"
   ]
  },
  {
   "attachments": {},
   "cell_type": "markdown",
   "metadata": {},
   "source": [
    "## File preparation"
   ]
  },
  {
   "cell_type": "code",
   "execution_count": 7,
   "metadata": {},
   "outputs": [
    {
     "name": "stdout",
     "output_type": "stream",
     "text": [
      "  % Total    % Received % Xferd  Average Speed   Time    Time     Time  Current\n",
      "                                 Dload  Upload   Total   Spent    Left  Speed\n",
      "  0     0    0     0    0     0      0      0 --:--:-- --:--:-- --:--:--     0\n",
      "100 7085k    0 7085k    0     0  2517k      0 --:--:--  0:00:02 --:--:-- 2948k\n"
     ]
    }
   ],
   "source": [
    "# Downalod file\n",
    "!curl -L https://github.com/snakemake/snakemake-tutorial-data/archive/v5.24.1.tar.gz -o snakemake-tutorial-data.tar.gz"
   ]
  },
  {
   "cell_type": "code",
   "execution_count": 8,
   "metadata": {},
   "outputs": [],
   "source": [
    "# Unzip file\n",
    "!tar --wildcards -xf snakemake-tutorial-data.tar.gz --strip 1 \"*/data\" \"*/environment.yaml\""
   ]
  },
  {
   "attachments": {},
   "cell_type": "markdown",
   "metadata": {},
   "source": [
    "## Overview"
   ]
  },
  {
   "attachments": {},
   "cell_type": "markdown",
   "metadata": {},
   "source": [
    "A Snakemake workflow is defined by specifying rules in a Snakefile. Rules decompose the workflow into small steps (for example, the application of a single tool) by specifying how to create sets of output files from sets of input files. Snakemake automatically determines the dependencies between the rules by matching file names."
   ]
  },
  {
   "attachments": {},
   "cell_type": "markdown",
   "metadata": {},
   "source": [
    "### Background\n",
    "- __DNA sequencing__ produces gigabytes of data from a single biological sample\n",
    "- For technical reasons, DNA sequencing cuts the DNA of a sample into millions of small pieces, called __reads__.\n",
    "- In order to recover the genome of the sample, one has to map these reads against a known reference genome (for example, the human one obtained during the famous human genome project). This task is called __read mapping__.\n",
    "- By investigating the differences between the mapped reads and the reference sequence at a particular genome position, __variants__ can be detected. "
   ]
  },
  {
   "attachments": {},
   "cell_type": "markdown",
   "metadata": {},
   "source": [
    "- `bwa_map` rule name\n",
    "- `input`, `output`: directives fillowed by lists of files that are expected to be used or created by the rule.\n",
    "- `shell`:  directive contains the shell command to execute\n",
    "- The shell command invokes `bwa mem` with reference genome and reads, and pipes the output into `samtools` which creates a compressed BAM file containing the alignments. The output of `samtools` is redirected into the output file defined by the rule with `>`.\n",
    "- Snakemake applies the rules given in the Snakefile in a top-down way.\n",
    "- `{ }` : wildcards, all output files of a rule have to contain exactly the same wildcards."
   ]
  },
  {
   "attachments": {},
   "cell_type": "markdown",
   "metadata": {},
   "source": [
    "```\n",
    "rule bwa_map:\n",
    "    input:\n",
    "        \"data/genome.fa\",\n",
    "        \"data/samples/{sample}.fastq\"\n",
    "    output:\n",
    "        \"mapped_reads/{sample}.bam\"\n",
    "    shell:\n",
    "        \"bwa mem {input} | samtools view -Sb - > {output}\" \n",
    "\n",
    "```\n",
    "Execution\n",
    "\n",
    "```\n",
    "snakemake -np mapped_reads/A.bam\n",
    "```"
   ]
  },
  {
   "attachments": {},
   "cell_type": "markdown",
   "metadata": {},
   "source": [
    "execute the workflow with target D1.sorted.txt\n",
    "\n",
    "`snakemake D1.sorted.txt`"
   ]
  },
  {
   "attachments": {},
   "cell_type": "markdown",
   "metadata": {},
   "source": [
    "execute the workflow without target: first rule defines target\n",
    "\n",
    "`snakemake`"
   ]
  },
  {
   "attachments": {},
   "cell_type": "markdown",
   "metadata": {},
   "source": [
    "dry-run\n",
    "\n",
    "`snakemake -n`"
   ]
  },
  {
   "attachments": {},
   "cell_type": "markdown",
   "metadata": {},
   "source": [
    "dry-run, print shell commands\n",
    "\n",
    "`snakemake -n -p`"
   ]
  },
  {
   "attachments": {},
   "cell_type": "markdown",
   "metadata": {},
   "source": [
    "dry-run, print execution reason for each job\n",
    "\n",
    "`snakemake -n -r`"
   ]
  },
  {
   "attachments": {},
   "cell_type": "markdown",
   "metadata": {},
   "source": [
    "dry-run, print execution reason for each job\n",
    "\n",
    "`snakemake -n -r`"
   ]
  },
  {
   "attachments": {},
   "cell_type": "markdown",
   "metadata": {},
   "source": [
    "executing a workflow\n",
    "\n",
    "`$ snakemake --cores 1 mapped_reads/A.bam`"
   ]
  },
  {
   "attachments": {},
   "cell_type": "markdown",
   "metadata": {},
   "source": [
    "specify multiple targets\n",
    "```\n",
    "$ snakemake -np mapped_reads/A.bam mapped_reads/B.bam\n",
    "$ snakemake -np mapped_reads/{A,B}.bam\n",
    "```"
   ]
  },
  {
   "attachments": {},
   "cell_type": "markdown",
   "metadata": {},
   "source": [
    "visualization of the DAG\n",
    "\n",
    "`snakemake --dag sorted_reads/{A,B}.bam.bai | dot -Tsvg > dag.svg`"
   ]
  },
  {
   "attachments": {},
   "cell_type": "markdown",
   "metadata": {},
   "source": [
    "### Job execution\n",
    "- The application of a rule to generate a set of output files is called job. \n",
    "- A job is executed if and only if: \n",
    "  - output file is target and does not exist\n",
    "  - output file needed by another executed job and does not exist\n",
    "  - input file newer than output file\n",
    "  - rule has been modified\n",
    "  - input file will be updated by other job\n",
    "  - execution is enforced"
   ]
  },
  {
   "attachments": {},
   "cell_type": "markdown",
   "metadata": {},
   "source": [
    "### Steps\n",
    "\n",
    "1. Mapping reads\n",
    "2. Sorting read alignments \n",
    "3. Indexing read alignments and visualizing the DAG of jobs"
   ]
  },
  {
   "cell_type": "code",
   "execution_count": 10,
   "metadata": {},
   "outputs": [
    {
     "name": "stdout",
     "output_type": "stream",
     "text": [
      "Overwriting Snakefile\n"
     ]
    }
   ],
   "source": [
    "%%writefile Snakefile\n",
    "rule bwa_map:\n",
    "    input:\n",
    "        \"data/genome.fa\",\n",
    "        \"data/samples/{sample}.fastq\"\n",
    "    output:\n",
    "        \"mapped_reads/{sample}.bam\"\n",
    "    shell:\n",
    "        \"bwa mem {input} | samtools view -Sb - > {output}\"\n",
    "\n",
    "rule samtools_sort:\n",
    "    input:\n",
    "        \"mapped_reads/{sample}.bam\"\n",
    "    output:\n",
    "        \"sorted_reads/{sample}.bam\"\n",
    "    shell:\n",
    "        \"samtools sort -T sorted_reads/{wildcards.sample} \"\n",
    "        \"-O bam {input} > {output}\"\n",
    "\n",
    "rule samtools_index:\n",
    "    input:\n",
    "        \"sorted_reads/{sample}.bam\"\n",
    "    output:\n",
    "        \"sorted_reads/{sample}.bam.bai\"\n",
    "    shell:\n",
    "        \"samtools index {input}\"        "
   ]
  },
  {
   "cell_type": "code",
   "execution_count": 11,
   "metadata": {},
   "outputs": [
    {
     "name": "stdout",
     "output_type": "stream",
     "text": [
      "\u001b[33mBuilding DAG of jobs...\u001b[0m\n"
     ]
    }
   ],
   "source": [
    "!snakemake --dag sorted_reads/{A,B}.bam.bai | dot -Tsvg > dag.svg"
   ]
  },
  {
   "cell_type": "markdown",
   "metadata": {},
   "source": []
  }
 ],
 "metadata": {
  "kernelspec": {
   "display_name": "snakemake-tutorial",
   "language": "python",
   "name": "python3"
  },
  "language_info": {
   "codemirror_mode": {
    "name": "ipython",
    "version": 3
   },
   "file_extension": ".py",
   "mimetype": "text/x-python",
   "name": "python",
   "nbconvert_exporter": "python",
   "pygments_lexer": "ipython3",
   "version": "3.8.5"
  },
  "orig_nbformat": 4,
  "vscode": {
   "interpreter": {
    "hash": "2b2577eaf8b5b98e770c4d58e4f40bef1e3d5246b179838cafae4e094c30dcea"
   }
  }
 },
 "nbformat": 4,
 "nbformat_minor": 2
}
