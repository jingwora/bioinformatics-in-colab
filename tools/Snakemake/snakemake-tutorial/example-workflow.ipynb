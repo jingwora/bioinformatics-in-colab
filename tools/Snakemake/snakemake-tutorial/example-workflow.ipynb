{
 "cells": [
  {
   "attachments": {},
   "cell_type": "markdown",
   "metadata": {},
   "source": [
    "# Basics: An example workflow"
   ]
  },
  {
   "attachments": {},
   "cell_type": "markdown",
   "metadata": {},
   "source": [
    "- https://snakemake.readthedocs.io/en/stable/tutorial/basics.html"
   ]
  },
  {
   "attachments": {},
   "cell_type": "markdown",
   "metadata": {},
   "source": [
    "## Environment Setting"
   ]
  },
  {
   "cell_type": "code",
   "execution_count": null,
   "metadata": {},
   "outputs": [],
   "source": [
    "# # Installing Mambaforge\n",
    "# !curl -L https://github.com/conda-forge/miniforge/releases/latest/download/Mambaforge-Linux-x86_64.sh -o Mambaforge-Linux-x86_64.sh\n",
    "# !bash Mambaforge-Linux-x86_64.sh"
   ]
  },
  {
   "cell_type": "code",
   "execution_count": null,
   "metadata": {},
   "outputs": [],
   "source": [
    "# # # Preparing a working directory\n",
    "# !mkdir snakemake-tutorial\n",
    "# !cd snakemake-tutorial"
   ]
  },
  {
   "cell_type": "code",
   "execution_count": null,
   "metadata": {},
   "outputs": [],
   "source": [
    "\n",
    "# !curl -L https://github.com/snakemake/snakemake-tutorial-data/archive/v5.24.1.tar.gz -o snakemake-tutorial-data.tar.gz\n",
    "# !tar --wildcards -xf snakemake-tutorial-data.tar.gz --strip 1 \"*/data\" \"*/environment.yaml\"\n"
   ]
  },
  {
   "cell_type": "code",
   "execution_count": null,
   "metadata": {},
   "outputs": [],
   "source": [
    "# # Creating an environment with the required software\n",
    "# !conda activate base\n",
    "# !mamba env create --name snakemake-tutorial --file environment.yaml\n",
    "# !conda install -n base -c conda-forge mamba"
   ]
  },
  {
   "cell_type": "code",
   "execution_count": null,
   "metadata": {},
   "outputs": [],
   "source": [
    "# # Activating the environment\n",
    "# !conda activate snakemake-tutorial"
   ]
  },
  {
   "attachments": {},
   "cell_type": "markdown",
   "metadata": {},
   "source": [
    "### Version"
   ]
  },
  {
   "cell_type": "code",
   "execution_count": 3,
   "metadata": {},
   "outputs": [
    {
     "name": "stdout",
     "output_type": "stream",
     "text": [
      "# conda environments:\n",
      "#\n",
      "base                     /home/jingwora/mambaforge\n",
      "snakemake-tutorial    *  /home/jingwora/mambaforge/envs/snakemake-tutorial\n",
      "\n"
     ]
    }
   ],
   "source": [
    "!conda env list"
   ]
  },
  {
   "cell_type": "code",
   "execution_count": 2,
   "metadata": {},
   "outputs": [
    {
     "name": "stdout",
     "output_type": "stream",
     "text": [
      "Python 3.8.5\n"
     ]
    }
   ],
   "source": [
    "!python --version"
   ]
  },
  {
   "cell_type": "code",
   "execution_count": 42,
   "metadata": {},
   "outputs": [
    {
     "name": "stdout",
     "output_type": "stream",
     "text": [
      "samtools 1.9\n",
      "Using htslib 1.9\n",
      "Copyright (C) 2018 Genome Research Ltd.\n"
     ]
    }
   ],
   "source": [
    "!samtools --version"
   ]
  },
  {
   "cell_type": "code",
   "execution_count": 43,
   "metadata": {},
   "outputs": [
    {
     "data": {
      "text/plain": [
       "'0.15.2'"
      ]
     },
     "execution_count": 43,
     "metadata": {},
     "output_type": "execute_result"
    }
   ],
   "source": [
    "import pysam\n",
    "pysam.__version__"
   ]
  },
  {
   "cell_type": "code",
   "execution_count": 44,
   "metadata": {},
   "outputs": [
    {
     "name": "stdout",
     "output_type": "stream",
     "text": [
      "\n",
      "Program: bwa (alignment via Burrows-Wheeler transformation)\n",
      "Version: 0.7.17-r1188\n",
      "Contact: Heng Li <lh3@sanger.ac.uk>\n",
      "\n",
      "Usage:   bwa <command> [options]\n",
      "\n",
      "Command: index         index sequences in the FASTA format\n",
      "         mem           BWA-MEM algorithm\n",
      "         fastmap       identify super-maximal exact matches\n",
      "         pemerge       merge overlapping paired ends (EXPERIMENTAL)\n",
      "         aln           gapped/ungapped alignment\n",
      "         samse         generate alignment (single ended)\n",
      "         sampe         generate alignment (paired ended)\n",
      "         bwasw         BWA-SW for long queries\n",
      "\n",
      "         shm           manage indices in shared memory\n",
      "         fa2pac        convert FASTA to PAC format\n",
      "         pac2bwt       generate BWT from PAC\n",
      "         pac2bwtgen    alternative algorithm for generating BWT\n",
      "         bwtupdate     update .bwt to the new format\n",
      "         bwt2sa        generate SA from BWT and Occ\n",
      "\n",
      "Note: To use BWA, you need to first index the genome with `bwa index'.\n",
      "      There are three alignment algorithms in BWA: `mem', `bwasw', and\n",
      "      `aln/samse/sampe'. If you are not sure which to use, try `bwa mem'\n",
      "      first. Please `man ./bwa.1' for the manual.\n",
      "\n"
     ]
    }
   ],
   "source": [
    "!bwa"
   ]
  },
  {
   "cell_type": "code",
   "execution_count": 45,
   "metadata": {},
   "outputs": [
    {
     "name": "stdout",
     "output_type": "stream",
     "text": [
      "bcftools 1.9\n",
      "Using htslib 1.9\n",
      "Copyright (C) 2018 Genome Research Ltd.\n",
      "License GPLv3+: GNU GPL version 3 or later <http://gnu.org/licenses/gpl.html>\n",
      "This is free software: you are free to change and redistribute it.\n",
      "There is NO WARRANTY, to the extent permitted by law.\n"
     ]
    }
   ],
   "source": [
    "!bcftools --version"
   ]
  },
  {
   "cell_type": "code",
   "execution_count": 46,
   "metadata": {},
   "outputs": [
    {
     "name": "stdout",
     "output_type": "stream",
     "text": [
      "6.15.5\n"
     ]
    }
   ],
   "source": [
    "!snakemake --version"
   ]
  },
  {
   "attachments": {},
   "cell_type": "markdown",
   "metadata": {},
   "source": [
    "## Overview"
   ]
  },
  {
   "attachments": {},
   "cell_type": "markdown",
   "metadata": {},
   "source": [
    "A Snakemake workflow is defined by specifying rules in a Snakefile. Rules decompose the workflow into small steps (for example, the application of a single tool) by specifying how to create sets of output files from sets of input files. Snakemake automatically determines the dependencies between the rules by matching file names."
   ]
  },
  {
   "attachments": {},
   "cell_type": "markdown",
   "metadata": {},
   "source": [
    "### Background\n",
    "- __DNA sequencing__ produces gigabytes of data from a single biological sample\n",
    "- For technical reasons, DNA sequencing cuts the DNA of a sample into millions of small pieces, called __reads__.\n",
    "- In order to recover the genome of the sample, one has to map these reads against a known reference genome (for example, the human one obtained during the famous human genome project). This task is called __read mapping__.\n",
    "- By investigating the differences between the mapped reads and the reference sequence at a particular genome position, __variants__ can be detected. "
   ]
  },
  {
   "attachments": {},
   "cell_type": "markdown",
   "metadata": {},
   "source": [
    "- `bwa_map` rule name\n",
    "- `input`, `output`: directives fillowed by lists of files that are expected to be used or created by the rule.\n",
    "- `shell`:  directive contains the shell command to execute\n",
    "- The shell command invokes `bwa mem` with reference genome and reads, and pipes the output into `samtools` which creates a compressed BAM file containing the alignments. The output of `samtools` is redirected into the output file defined by the rule with `>`.\n",
    "- Snakemake applies the rules given in the Snakefile in a top-down way.\n",
    "- `{ }` : wildcards, all output files of a rule have to contain exactly the same wildcards."
   ]
  },
  {
   "attachments": {},
   "cell_type": "markdown",
   "metadata": {},
   "source": [
    "```\n",
    "rule bwa_map:\n",
    "    input:\n",
    "        \"data/genome.fa\",\n",
    "        \"data/samples/{sample}.fastq\"\n",
    "    output:\n",
    "        \"mapped_reads/{sample}.bam\"\n",
    "    shell:\n",
    "        \"bwa mem {input} | samtools view -Sb - > {output}\" \n",
    "\n",
    "```\n",
    "Execution\n",
    "\n",
    "```\n",
    "snakemake -np mapped_reads/A.bam\n",
    "```"
   ]
  },
  {
   "attachments": {},
   "cell_type": "markdown",
   "metadata": {},
   "source": [
    "execute the workflow with target D1.sorted.txt\n",
    "\n",
    "`snakemake D1.sorted.txt`"
   ]
  },
  {
   "attachments": {},
   "cell_type": "markdown",
   "metadata": {},
   "source": [
    "execute the workflow without target: first rule defines target\n",
    "\n",
    "`snakemake`"
   ]
  },
  {
   "attachments": {},
   "cell_type": "markdown",
   "metadata": {},
   "source": [
    "dry-run\n",
    "\n",
    "`snakemake -n`"
   ]
  },
  {
   "attachments": {},
   "cell_type": "markdown",
   "metadata": {},
   "source": [
    "dry-run, print shell commands\n",
    "\n",
    "`snakemake -n -p`"
   ]
  },
  {
   "attachments": {},
   "cell_type": "markdown",
   "metadata": {},
   "source": [
    "dry-run, print execution reason for each job\n",
    "\n",
    "`snakemake -n -r`"
   ]
  },
  {
   "attachments": {},
   "cell_type": "markdown",
   "metadata": {},
   "source": [
    "dry-run, print execution reason for each job\n",
    "\n",
    "`snakemake -n -r`"
   ]
  },
  {
   "attachments": {},
   "cell_type": "markdown",
   "metadata": {},
   "source": [
    "executing a workflow\n",
    "\n",
    "`$ snakemake --cores 1 mapped_reads/A.bam`"
   ]
  },
  {
   "attachments": {},
   "cell_type": "markdown",
   "metadata": {},
   "source": [
    "specify multiple targets\n",
    "```\n",
    "$ snakemake -np mapped_reads/A.bam mapped_reads/B.bam\n",
    "$ snakemake -np mapped_reads/{A,B}.bam\n",
    "```"
   ]
  },
  {
   "attachments": {},
   "cell_type": "markdown",
   "metadata": {},
   "source": [
    "visualization of the DAG\n",
    "\n",
    "`snakemake --dag sorted_reads/{A,B}.bam.bai | dot -Tsvg > dag.svg`"
   ]
  },
  {
   "attachments": {},
   "cell_type": "markdown",
   "metadata": {},
   "source": [
    "### Job execution\n",
    "- The application of a rule to generate a set of output files is called job. \n",
    "- A job is executed if and only if: \n",
    "  - output file is target and does not exist\n",
    "  - output file needed by another executed job and does not exist\n",
    "  - input file newer than output file\n",
    "  - rule has been modified\n",
    "  - input file will be updated by other job\n",
    "  - execution is enforced"
   ]
  },
  {
   "attachments": {},
   "cell_type": "markdown",
   "metadata": {},
   "source": [
    "### Steps\n",
    "\n",
    "1. Mapping reads\n",
    "2. Sorting read alignments \n",
    "3. Indexing read alignments and visualizing the DAG of jobs\n",
    "4. Calling genomic variants\n",
    "5. Using custom scripts\n",
    "6. Adding a target rule"
   ]
  },
  {
   "cell_type": "code",
   "execution_count": 39,
   "metadata": {},
   "outputs": [
    {
     "name": "stdout",
     "output_type": "stream",
     "text": [
      "Overwriting Snakefile\n"
     ]
    }
   ],
   "source": [
    "%%writefile Snakefile\n",
    "\n",
    "SAMPLES = [\"A\", \"B\"]\n",
    "\n",
    "\n",
    "rule all:\n",
    "    input:\n",
    "        \"plots/quals.svg\"\n",
    "\n",
    "\n",
    "rule bwa_map:\n",
    "    input:\n",
    "        \"data/genome.fa\",\n",
    "        \"data/samples/{sample}.fastq\"\n",
    "    output:\n",
    "        \"mapped_reads/{sample}.bam\"\n",
    "    shell:\n",
    "        \"bwa mem {input} | samtools view -Sb - > {output}\"\n",
    "\n",
    "\n",
    "rule samtools_sort:\n",
    "    input:\n",
    "        \"mapped_reads/{sample}.bam\"\n",
    "    output:\n",
    "        \"sorted_reads/{sample}.bam\"\n",
    "    shell:\n",
    "        \"samtools sort -T sorted_reads/{wildcards.sample} \"\n",
    "        \"-O bam {input} > {output}\"\n",
    "\n",
    "\n",
    "rule samtools_index:\n",
    "    input:\n",
    "        \"sorted_reads/{sample}.bam\"\n",
    "    output:\n",
    "        \"sorted_reads/{sample}.bam.bai\"\n",
    "    shell:\n",
    "        \"samtools index {input}\"\n",
    "\n",
    "\n",
    "rule bcftools_call:\n",
    "    input:\n",
    "        fa=\"data/genome.fa\",\n",
    "        bam=expand(\"sorted_reads/{sample}.bam\", sample=SAMPLES),\n",
    "        bai=expand(\"sorted_reads/{sample}.bam.bai\", sample=SAMPLES)\n",
    "    output:\n",
    "        \"calls/all.vcf\"\n",
    "    shell:\n",
    "        \"bcftools mpileup -f {input.fa} {input.bam} | \"\n",
    "        \"bcftools call -mv - > {output}\"\n",
    "\n",
    "\n",
    "rule plot_quals:\n",
    "    input:\n",
    "        \"calls/all.vcf\"\n",
    "    output:\n",
    "        \"plots/quals.svg\"\n",
    "    script:\n",
    "        \"scripts/plot-quals.py\""
   ]
  },
  {
   "cell_type": "code",
   "execution_count": 40,
   "metadata": {},
   "outputs": [
    {
     "name": "stdout",
     "output_type": "stream",
     "text": [
      "mkdir: cannot create directory ‘scripts’: File exists\n",
      "mkdir: cannot create directory ‘calls’: File exists\n",
      "mkdir: cannot create directory ‘plots’: File exists\n"
     ]
    }
   ],
   "source": [
    "!mkdir scripts\n",
    "!mkdir calls\n",
    "!mkdir plots"
   ]
  },
  {
   "cell_type": "code",
   "execution_count": 31,
   "metadata": {},
   "outputs": [
    {
     "name": "stdout",
     "output_type": "stream",
     "text": [
      "Overwriting scripts/plot-quals.py\n"
     ]
    }
   ],
   "source": [
    "%%writefile scripts/plot-quals.py\n",
    "\n",
    "import matplotlib\n",
    "matplotlib.use(\"Agg\")\n",
    "import matplotlib.pyplot as plt\n",
    "from pysam import VariantFile\n",
    "\n",
    "quals = [record.qual for record in VariantFile(snakemake.input[0])]\n",
    "plt.hist(quals)\n",
    "\n",
    "plt.savefig(snakemake.output[0])"
   ]
  },
  {
   "attachments": {},
   "cell_type": "markdown",
   "metadata": {},
   "source": [
    "### Create the DAG"
   ]
  },
  {
   "cell_type": "code",
   "execution_count": 35,
   "metadata": {},
   "outputs": [
    {
     "name": "stdout",
     "output_type": "stream",
     "text": [
      "\u001b[33mBuilding DAG of jobs...\u001b[0m\n"
     ]
    }
   ],
   "source": [
    "!snakemake --dag sorted_reads/{A,B}.bam.bai | dot -Tsvg > dag.svg"
   ]
  },
  {
   "cell_type": "code",
   "execution_count": 36,
   "metadata": {},
   "outputs": [
    {
     "name": "stdout",
     "output_type": "stream",
     "text": [
      "\u001b[33mBuilding DAG of jobs...\u001b[0m\n"
     ]
    }
   ],
   "source": [
    "!snakemake --dag all | dot -Tsvg > dag_all.svg"
   ]
  },
  {
   "attachments": {},
   "cell_type": "markdown",
   "metadata": {},
   "source": [
    "### Excecute"
   ]
  },
  {
   "cell_type": "code",
   "execution_count": 48,
   "metadata": {},
   "outputs": [
    {
     "name": "stdout",
     "output_type": "stream",
     "text": [
      "\u001b[33mBuilding DAG of jobs...\u001b[0m\n",
      "Traceback (most recent call last):\n",
      "  File \"/home/jingwora/mambaforge/envs/snakemake-tutorial/lib/python3.8/site-packages/snakemake/__init__.py\", line 701, in snakemake\n",
      "    success = workflow.execute(\n",
      "  File \"/home/jingwora/mambaforge/envs/snakemake-tutorial/lib/python3.8/site-packages/snakemake/workflow.py\", line 1066, in execute\n",
      "    logger.run_info(\"\\n\".join(dag.stats()))\n",
      "  File \"/home/jingwora/mambaforge/envs/snakemake-tutorial/lib/python3.8/site-packages/snakemake/dag.py\", line 2191, in stats\n",
      "    yield tabulate(rows, headers=\"keys\")\n",
      "  File \"/home/jingwora/mambaforge/envs/snakemake-tutorial/lib/python3.8/site-packages/tabulate/__init__.py\", line 2048, in tabulate\n",
      "    list_of_lists, headers = _normalize_tabular_data(\n",
      "  File \"/home/jingwora/mambaforge/envs/snakemake-tutorial/lib/python3.8/site-packages/tabulate/__init__.py\", line 1471, in _normalize_tabular_data\n",
      "    rows = list(map(lambda r: r if _is_separating_line(r) else list(r), rows))\n",
      "  File \"/home/jingwora/mambaforge/envs/snakemake-tutorial/lib/python3.8/site-packages/tabulate/__init__.py\", line 1471, in <lambda>\n",
      "    rows = list(map(lambda r: r if _is_separating_line(r) else list(r), rows))\n",
      "  File \"/home/jingwora/mambaforge/envs/snakemake-tutorial/lib/python3.8/site-packages/tabulate/__init__.py\", line 107, in _is_separating_line\n",
      "    (len(row) >= 1 and row[0] == SEPARATING_LINE)\n",
      "  File \"/home/jingwora/mambaforge/envs/snakemake-tutorial/lib/python3.8/site-packages/snakemake/rules.py\", line 1138, in __eq__\n",
      "    return self.name == other.name and self.output == other.output\n",
      "AttributeError: 'str' object has no attribute 'name'\n"
     ]
    }
   ],
   "source": [
    "!snakemake -n"
   ]
  },
  {
   "cell_type": "code",
   "execution_count": null,
   "metadata": {},
   "outputs": [],
   "source": []
  },
  {
   "cell_type": "code",
   "execution_count": null,
   "metadata": {},
   "outputs": [],
   "source": []
  }
 ],
 "metadata": {
  "kernelspec": {
   "display_name": "snakemake-tutorial",
   "language": "python",
   "name": "python3"
  },
  "language_info": {
   "codemirror_mode": {
    "name": "ipython",
    "version": 3
   },
   "file_extension": ".py",
   "mimetype": "text/x-python",
   "name": "python",
   "nbconvert_exporter": "python",
   "pygments_lexer": "ipython3",
   "version": "3.8.5"
  },
  "orig_nbformat": 4,
  "vscode": {
   "interpreter": {
    "hash": "2b2577eaf8b5b98e770c4d58e4f40bef1e3d5246b179838cafae4e094c30dcea"
   }
  }
 },
 "nbformat": 4,
 "nbformat_minor": 2
}
