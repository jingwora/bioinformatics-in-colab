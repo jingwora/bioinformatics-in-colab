{
 "cells": [
  {
   "attachments": {},
   "cell_type": "markdown",
   "metadata": {},
   "source": [
    "# Linux Command"
   ]
  },
  {
   "attachments": {},
   "cell_type": "markdown",
   "metadata": {},
   "source": [
    "### Get permissions"
   ]
  },
  {
   "cell_type": "code",
   "execution_count": 86,
   "metadata": {},
   "outputs": [],
   "source": [
    "# input password for sudo\n",
    "import getpass\n",
    "mypw = getpass.getpass()\n",
    "with open(\"mypw\", \"w\") as file:\n",
    "    file.write(mypw)"
   ]
  },
  {
   "attachments": {},
   "cell_type": "markdown",
   "metadata": {},
   "source": [
    "### Package"
   ]
  },
  {
   "cell_type": "code",
   "execution_count": 78,
   "metadata": {},
   "outputs": [
    {
     "name": "stdout",
     "output_type": "stream",
     "text": [
      "Reading package lists... Done \n",
      "Building dependency tree... Done\n",
      "Reading state information... Done\n",
      "locate is already the newest version (4.8.0-1ubuntu3).\n",
      "0 upgraded, 0 newly installed, 0 to remove and 49 not upgraded.\n"
     ]
    }
   ],
   "source": [
    "# sudo (superuser do) \n",
    "# elevates a user's permissions to administrator or root.\n",
    "# sudo apt install <package_name>\n",
    "# sudo apt install locate\n",
    "!sudo -S apt install locate < mypw"
   ]
  },
  {
   "cell_type": "code",
   "execution_count": null,
   "metadata": {},
   "outputs": [],
   "source": [
    "# Ubuntu         : apt install <package_name>\n",
    "# CentOS and RHEL: yum install <package_name>\n",
    "# CentOS and RHEL: rpm -i <package_name>.rpm\n",
    "# Arch           : pacman -S <package_name>"
   ]
  },
  {
   "attachments": {},
   "cell_type": "markdown",
   "metadata": {},
   "source": [
    "## Manage directory"
   ]
  },
  {
   "cell_type": "code",
   "execution_count": 1,
   "metadata": {},
   "outputs": [
    {
     "name": "stdout",
     "output_type": "stream",
     "text": [
      "/home/jingwora/linux-cmd\n"
     ]
    }
   ],
   "source": [
    "# pwd(print working directory)\n",
    "!pwd"
   ]
  },
  {
   "cell_type": "code",
   "execution_count": 3,
   "metadata": {},
   "outputs": [
    {
     "name": "stdout",
     "output_type": "stream",
     "text": [
      "linux-cmd.ipynb  readme.txt\n"
     ]
    }
   ],
   "source": [
    "# ls\n",
    "# to display a list of files\n",
    "# Syntax: ls [options] [file_name]\n",
    "# -a  : list all files including hidden file\n",
    "# -d  : list directories\n",
    "# -l  : list with long format - show permissions\n",
    "# -lh :This command will show you the file sizes\n",
    "\n",
    "!ls"
   ]
  },
  {
   "cell_type": "code",
   "execution_count": 4,
   "metadata": {},
   "outputs": [
    {
     "name": "stdout",
     "output_type": "stream",
     "text": [
      "total 12\n",
      "-rw-r--r-- 1 jingwora jingwora 10555 Jan 19 21:53 linux-cmd.ipynb\n",
      "-rw-r--r-- 1 jingwora jingwora     0 Jan 19 17:57 readme.txt\n"
     ]
    }
   ],
   "source": [
    "# list with detail\n",
    "!ls -l"
   ]
  },
  {
   "cell_type": "code",
   "execution_count": 5,
   "metadata": {},
   "outputs": [
    {
     "name": "stdout",
     "output_type": "stream",
     "text": [
      "total 20\n",
      "drwxr-xr-x  2 jingwora jingwora  4096 Jan 19 21:51 .\n",
      "drwxr-x--- 25 jingwora jingwora  4096 Jan 19 16:46 ..\n",
      "-rw-r--r--  1 jingwora jingwora 10555 Jan 19 21:53 linux-cmd.ipynb\n",
      "-rw-r--r--  1 jingwora jingwora     0 Jan 19 17:57 readme.txt\n"
     ]
    }
   ],
   "source": [
    "# list and include hidden files\n",
    "!ls -la"
   ]
  },
  {
   "cell_type": "code",
   "execution_count": 6,
   "metadata": {},
   "outputs": [
    {
     "name": "stdout",
     "output_type": "stream",
     "text": [
      "total 20K\n",
      "drwxr-xr-x  2 jingwora jingwora 4.0K Jan 19 21:51 .\n",
      "drwxr-x--- 25 jingwora jingwora 4.0K Jan 19 16:46 ..\n",
      "-rw-r--r--  1 jingwora jingwora  11K Jan 19 21:53 linux-cmd.ipynb\n",
      "-rw-r--r--  1 jingwora jingwora    0 Jan 19 17:57 readme.txt\n"
     ]
    }
   ],
   "source": [
    "# sizes in a human-readable format\n",
    "!ls -lah"
   ]
  },
  {
   "cell_type": "code",
   "execution_count": 7,
   "metadata": {},
   "outputs": [],
   "source": [
    "# mkdir\n",
    "# make directory\n",
    "# Syntax: mkdir [options] <direcotry_name>\n",
    "\n",
    "!mkdir folder1\n",
    "!mkdir folder2"
   ]
  },
  {
   "cell_type": "code",
   "execution_count": 8,
   "metadata": {},
   "outputs": [],
   "source": [
    "# rmdir\n",
    "# remove directory\n",
    "# Syntax: rmdir [options] <direcotry_name>\n",
    "\n",
    "!rmdir folder2"
   ]
  },
  {
   "cell_type": "code",
   "execution_count": 9,
   "metadata": {},
   "outputs": [],
   "source": [
    "# change directory ## not available in notebook\n",
    "!cd folder1"
   ]
  },
  {
   "cell_type": "code",
   "execution_count": 10,
   "metadata": {},
   "outputs": [],
   "source": [
    "# change upper directory ## not available in notebook\n",
    "!cd .."
   ]
  },
  {
   "cell_type": "code",
   "execution_count": 11,
   "metadata": {},
   "outputs": [],
   "source": [
    "# change to root directory ## not available in notebook\n",
    "!cd"
   ]
  },
  {
   "cell_type": "code",
   "execution_count": 66,
   "metadata": {},
   "outputs": [
    {
     "name": "stdout",
     "output_type": "stream",
     "text": [
      "Hello, world!\n"
     ]
    }
   ],
   "source": [
    "# print\n",
    "# Syntax: echo [option] <string>\n",
    "\n",
    "!echo Hello, world!"
   ]
  },
  {
   "attachments": {},
   "cell_type": "markdown",
   "metadata": {},
   "source": [
    "## Create / edit file"
   ]
  },
  {
   "cell_type": "code",
   "execution_count": 12,
   "metadata": {},
   "outputs": [],
   "source": [
    "# create empty file or to modify an existing file's timestamp\n",
    "# Syntax: touch [options] <file_name>\n",
    "\n",
    "!touch file1.txt"
   ]
  },
  {
   "cell_type": "code",
   "execution_count": 13,
   "metadata": {},
   "outputs": [],
   "source": [
    "# write file\n",
    "# !cat > file1.txt  ## not available in notebook\n",
    "# $This is a new line\n",
    "# $This is a new line\n",
    "# $CTRL+D"
   ]
  },
  {
   "cell_type": "code",
   "execution_count": 14,
   "metadata": {},
   "outputs": [],
   "source": [
    "# append to file\n",
    "# !cat >> file1.txt ## not available in notebook\n",
    "# $This is a new line\n",
    "# $CTRL+D"
   ]
  },
  {
   "cell_type": "code",
   "execution_count": 15,
   "metadata": {},
   "outputs": [],
   "source": [
    "# create text file with content\n",
    "# Syntax: echo [option] <string> > <file_name>\n",
    "\n",
    "!echo \"echo hello world\" > file1.txt"
   ]
  },
  {
   "cell_type": "code",
   "execution_count": 16,
   "metadata": {},
   "outputs": [],
   "source": [
    "# append to file\n",
    "# Syntax: echo [option] <string> >> <file_name>\n",
    "\n",
    "!echo \"append\" >> file1.txt"
   ]
  },
  {
   "cell_type": "code",
   "execution_count": 18,
   "metadata": {},
   "outputs": [
    {
     "name": "stdout",
     "output_type": "stream",
     "text": [
      "echo hello world\n",
      "append\n",
      "append file\n"
     ]
    }
   ],
   "source": [
    "# append file to another file\n",
    "# Syntax: cat [option] <file_name> >> <file_name>\n",
    "\n",
    "!echo \"append file\" > file2.txt\n",
    "!cat file2.txt >> file1.txt\n",
    "!cat file1.txt"
   ]
  },
  {
   "cell_type": "code",
   "execution_count": 19,
   "metadata": {},
   "outputs": [],
   "source": [
    "# sed (stream editor)\n",
    "# replace / delete line\n",
    "# Syntax: sed [option] <rule> <file_name> \n",
    "# -i option allows changing a file in place\n",
    "\n",
    "!sed -i '2d' file1.txt # delete line 2"
   ]
  },
  {
   "cell_type": "code",
   "execution_count": 148,
   "metadata": {},
   "outputs": [],
   "source": [
    "# copy\n",
    "# Syntax: copy [option] <source> <target>\n",
    "# copy <source_file> <target_file> # copy 1 file\n",
    "# copy <source_folder1> <target_folder2> # copy folder to anothre folder\n",
    "# copy <source_file> <source_file1> <source_file2> <target_folder> # copy many files to folder\n",
    "\n",
    "!cp file1.txt file3.txt\n"
   ]
  },
  {
   "cell_type": "code",
   "execution_count": 150,
   "metadata": {},
   "outputs": [],
   "source": [
    "# mv\n",
    "# move file\n",
    "# Syntax: mv [option] <source> <target>\n",
    "# -i prompts you before overwriteing\n",
    "# -f does not prompt you before overwriting\n",
    "\n",
    "!mv file3.txt folder1/file3.txt"
   ]
  },
  {
   "cell_type": "code",
   "execution_count": 22,
   "metadata": {},
   "outputs": [],
   "source": [
    "# rename file\n",
    "# Syntax: mv [option] <source> <target>\n",
    "# -i prompts you before overwriteing\n",
    "# -f does not prompt you before overwriting\n",
    "\n",
    "!mv file2.txt file4.txt"
   ]
  },
  {
   "cell_type": "code",
   "execution_count": 23,
   "metadata": {},
   "outputs": [],
   "source": [
    "# remove file\n",
    "!rm file4.txt"
   ]
  },
  {
   "cell_type": "code",
   "execution_count": 24,
   "metadata": {},
   "outputs": [],
   "source": [
    "# locate\n",
    "# finding a file\n",
    "# Syntax: locate [options] <file_name>\n",
    "## sudo apt install locate\n",
    "\n",
    "!locate file3.txt"
   ]
  },
  {
   "cell_type": "code",
   "execution_count": 25,
   "metadata": {},
   "outputs": [
    {
     "name": "stdout",
     "output_type": "stream",
     "text": [
      "./folder1/file3.txt\n"
     ]
    }
   ],
   "source": [
    "# search file name\n",
    "# Syntax: find [options] <file_name>\n",
    "# -name : search by name\n",
    "\n",
    "!find -name file3.txt"
   ]
  },
  {
   "cell_type": "code",
   "execution_count": 26,
   "metadata": {},
   "outputs": [
    {
     "name": "stdout",
     "output_type": "stream",
     "text": [
      "echo hello world\n"
     ]
    }
   ],
   "source": [
    "# grep (global regular expression print) \n",
    "# enables searching through text in a file or a standard output. \n",
    "# Syntax: grep [options] <pattern> <file_name>\n",
    "\n",
    "!grep world file1.txt"
   ]
  },
  {
   "cell_type": "code",
   "execution_count": 27,
   "metadata": {},
   "outputs": [],
   "source": [
    "# diff (difference) \n",
    "# command compares two files and prints the difference.\n",
    "# Syntax: diff [options] <file1> <file2> \n",
    "\n",
    "!diff file1.txt folder1/file3.txt"
   ]
  },
  {
   "attachments": {},
   "cell_type": "markdown",
   "metadata": {},
   "source": [
    "## Show data"
   ]
  },
  {
   "cell_type": "code",
   "execution_count": 28,
   "metadata": {},
   "outputs": [
    {
     "name": "stdout",
     "output_type": "stream",
     "text": [
      "echo hello world\n",
      "append file\n"
     ]
    }
   ],
   "source": [
    "# cat(concatenate)\n",
    "# display content\n",
    "# Syntax: cat [options] <file_name> \n",
    "# -n : display content with line number\n",
    "# cat <file1> >> <file2> # append the contents of one file to the end of another file\n",
    "\n",
    "!cat file1.txt"
   ]
  },
  {
   "cell_type": "code",
   "execution_count": 29,
   "metadata": {},
   "outputs": [
    {
     "name": "stdout",
     "output_type": "stream",
     "text": [
      "     1\techo hello world\n",
      "     2\tappend file\n"
     ]
    }
   ],
   "source": [
    "# display content with line number\n",
    "!cat -n file1.txt"
   ]
  },
  {
   "cell_type": "code",
   "execution_count": 30,
   "metadata": {},
   "outputs": [
    {
     "name": "stdout",
     "output_type": "stream",
     "text": [
      "echo hello world\n",
      "append file\n"
     ]
    }
   ],
   "source": [
    "# head \n",
    "# shows top ten lines.\n",
    "# Syntax: head [option] <file_name>\n",
    "# head -n 2 file1.txt  # top n lines\n",
    "!head file1.txt"
   ]
  },
  {
   "cell_type": "code",
   "execution_count": 31,
   "metadata": {},
   "outputs": [
    {
     "name": "stdout",
     "output_type": "stream",
     "text": [
      "echo hello world\n",
      "append file\n"
     ]
    }
   ],
   "source": [
    "# tail \n",
    "# shows last ten lines\n",
    "# Syntax: tail [option] <file_name>\n",
    "# tail -n 2 file1.txt  # last n lines\n",
    "# tail +2 file1.txt    # start from line number n\n",
    "!tail file1.txt"
   ]
  },
  {
   "cell_type": "code",
   "execution_count": 32,
   "metadata": {},
   "outputs": [
    {
     "name": "stdout",
     "output_type": "stream",
     "text": [
      "\u001b[01;34m.\u001b[0m\n",
      "├── file1.txt\n",
      "├── \u001b[01;34mfolder1\u001b[0m\n",
      "│   └── file3.txt\n",
      "├── linux-cmd.ipynb\n",
      "└── readme.txt\n",
      "\n",
      "1 directory, 4 files\n"
     ]
    }
   ],
   "source": [
    "# check file tree\n",
    "##  sudo apt-get install tree\n",
    "\n",
    "!tree"
   ]
  },
  {
   "cell_type": "code",
   "execution_count": 33,
   "metadata": {},
   "outputs": [
    {
     "name": "stdout",
     "output_type": "stream",
     "text": [
      "Filesystem     1K-blocks      Used Available Use% Mounted on\n",
      "/dev/sdb       263174212  11770352 237965704   5% /\n",
      "tmpfs            6460248         0   6460248   0% /mnt/wsl\n",
      "tools          233305084 206209824  27095260  89% /init\n",
      "none             6460248         8   6460240   1% /run\n",
      "none             6460248         0   6460248   0% /run/lock\n",
      "none             6460248         0   6460248   0% /run/shm\n",
      "none             6460248         0   6460248   0% /run/user\n",
      "tmpfs            6460248         0   6460248   0% /sys/fs/cgroup\n",
      "drivers        233305084 206209824  27095260  89% /usr/lib/wsl/drivers\n",
      "lib            233305084 206209824  27095260  89% /usr/lib/wsl/lib\n",
      "C:\\            233305084 206209824  27095260  89% /mnt/c\n",
      "D:\\            976629756 127425928 849203828  14% /mnt/d\n",
      "G:\\            104857600  79117104  25740496  76% /mnt/g\n",
      "H:\\            104857600  79117104  25740496  76% /mnt/h\n"
     ]
    }
   ],
   "source": [
    "# df (disk free) \n",
    "# command shows the statistics about the available disk space on the filesystem.\n",
    "!df"
   ]
  },
  {
   "cell_type": "code",
   "execution_count": 34,
   "metadata": {},
   "outputs": [
    {
     "name": "stdout",
     "output_type": "stream",
     "text": [
      "Filesystem     1K-blocks      Used Available Use% Mounted on\n",
      "/dev/sdb       263174212  11770368 237965688   5% /\n",
      "tmpfs            6460248         0   6460248   0% /mnt/wsl\n",
      "tools          233305084 206209824  27095260  89% /init\n",
      "none             6460248         8   6460240   1% /run\n",
      "none             6460248         0   6460248   0% /run/lock\n",
      "none             6460248         0   6460248   0% /run/shm\n",
      "none             6460248         0   6460248   0% /run/user\n",
      "tmpfs            6460248         0   6460248   0% /sys/fs/cgroup\n",
      "drivers        233305084 206209824  27095260  89% /usr/lib/wsl/drivers\n"
     ]
    }
   ],
   "source": [
    "# show first ten lines of the df\n",
    "!df | head"
   ]
  },
  {
   "cell_type": "code",
   "execution_count": 35,
   "metadata": {},
   "outputs": [
    {
     "name": "stdout",
     "output_type": "stream",
     "text": [
      "8\t./folder1\n",
      "28\t.\n"
     ]
    }
   ],
   "source": [
    "# du (disk usage) \n",
    "# command helps show how much space a file or directory takes up.\n",
    "!du"
   ]
  },
  {
   "cell_type": "code",
   "execution_count": 107,
   "metadata": {},
   "outputs": [
    {
     "name": "stdout",
     "output_type": "stream",
     "text": [
      "file1.txt: ASCII text\n"
     ]
    }
   ],
   "source": [
    "# file\n",
    "# provides information about a file\n",
    "# Syntax: file <filename>\n",
    "!file file1.txt"
   ]
  },
  {
   "cell_type": "code",
   "execution_count": 146,
   "metadata": {},
   "outputs": [
    {
     "name": "stdout",
     "output_type": "stream",
     "text": [
      "\u001b[H\u001b[2J"
     ]
    }
   ],
   "source": [
    "# clear \n",
    "# command to clear the contents of the terminal\n",
    "!clear"
   ]
  },
  {
   "attachments": {},
   "cell_type": "markdown",
   "metadata": {},
   "source": [
    "## File Compression"
   ]
  },
  {
   "cell_type": "code",
   "execution_count": 36,
   "metadata": {},
   "outputs": [
    {
     "name": "stdout",
     "output_type": "stream",
     "text": [
      "file1.txt\n"
     ]
    }
   ],
   "source": [
    "# tar (tape archiver)  \n",
    "# command helps archive, compress, and extract archived files.\n",
    "# Syntax: tar -czvf <target> <source>\n",
    "# -c: Create an archive.\n",
    "# -z: Compress the archive with gzip.\n",
    "# -v: Display progress in the terminal while creating the archive.\n",
    "# -f: Allows you to specify the filename of the archive.\n",
    "\n",
    "!tar -czvf compressed_file1.tar.gz file1.txt"
   ]
  },
  {
   "cell_type": "code",
   "execution_count": 37,
   "metadata": {},
   "outputs": [
    {
     "name": "stdout",
     "output_type": "stream",
     "text": [
      "folder1/\n",
      "folder1/file3.txt\n"
     ]
    }
   ],
   "source": [
    "# compress folder\n",
    "# Syntax: tar -czvf <target> <source>\n",
    "\n",
    "!tar -czvf compressed_folder1.tar.gz folder1"
   ]
  },
  {
   "cell_type": "code",
   "execution_count": 38,
   "metadata": {},
   "outputs": [
    {
     "name": "stdout",
     "output_type": "stream",
     "text": [
      "file1.txt\n"
     ]
    }
   ],
   "source": [
    "# tar uncompress\n",
    "# Syntax: tar -xvf <source>\n",
    "# -x : Extract a tar ball.\n",
    "# -v : Verbose output or show progress while extracting files.\n",
    "# -f : Specify an archive or a tarball filename.\n",
    "# -j : Decompress and extract the contents of the compressed archive created by bzip2 program (tar.bz2 extension).\n",
    "# -z : Decompress and extract the contents of the compressed archive created by gzip program (tar.gz extension).\n",
    "# uncompress file1\n",
    "\n",
    "!tar -xvf compressed_file1.tar.gz"
   ]
  },
  {
   "cell_type": "code",
   "execution_count": 39,
   "metadata": {},
   "outputs": [
    {
     "name": "stdout",
     "output_type": "stream",
     "text": [
      "folder1/\n",
      "folder1/file3.txt\n"
     ]
    }
   ],
   "source": [
    "# uncompress folder1\n",
    "\n",
    "!tar -xvf compressed_folder1.tar.gz"
   ]
  },
  {
   "cell_type": "code",
   "execution_count": 40,
   "metadata": {},
   "outputs": [
    {
     "name": "stdout",
     "output_type": "stream",
     "text": [
      "file1.txt\n"
     ]
    }
   ],
   "source": [
    "# to extract a single file\n",
    "# Syntax: tar -xvf <compressed_file> <target_file>\n",
    "\n",
    "!tar -xvf compressed_file1.tar.gz file1.txt"
   ]
  },
  {
   "cell_type": "code",
   "execution_count": 41,
   "metadata": {},
   "outputs": [
    {
     "name": "stdout",
     "output_type": "stream",
     "text": [
      "  adding: file1.txt (stored 0%)\n"
     ]
    }
   ],
   "source": [
    "# zip file\n",
    "# Syntax: zip <zip_file> <file1> <file2> ...\n",
    "\n",
    "!zip file1.zip file1.txt"
   ]
  },
  {
   "cell_type": "code",
   "execution_count": 42,
   "metadata": {},
   "outputs": [
    {
     "name": "stdout",
     "output_type": "stream",
     "text": [
      "Archive:  file1.zip\n",
      " extracting: file1.txt               \n"
     ]
    }
   ],
   "source": [
    "# unzip\n",
    "# Syntax: unzip <zip_file>\n",
    "# -o overwrite\n",
    "\n",
    "!unzip -o file1.zip"
   ]
  },
  {
   "cell_type": "code",
   "execution_count": 133,
   "metadata": {},
   "outputs": [
    {
     "name": "stdout",
     "output_type": "stream",
     "text": [
      " 2  5 29 file1.txt\n"
     ]
    }
   ],
   "source": [
    "# wc (word count) \n",
    "# command counts the number of lines, words, and bytes in a file.\n",
    "# Syntax: wc [option] <file_name>\n",
    "\n",
    "!wc file1.txt"
   ]
  },
  {
   "attachments": {},
   "cell_type": "markdown",
   "metadata": {},
   "source": [
    "### User & Permission"
   ]
  },
  {
   "cell_type": "code",
   "execution_count": 134,
   "metadata": {},
   "outputs": [
    {
     "name": "stdout",
     "output_type": "stream",
     "text": [
      "jingwora\n"
     ]
    }
   ],
   "source": [
    "# whoami \n",
    "# command to show the currently logged-in user for the shell session\n",
    "\n",
    "!whoami"
   ]
  },
  {
   "cell_type": "code",
   "execution_count": 135,
   "metadata": {},
   "outputs": [
    {
     "name": "stdout",
     "output_type": "stream",
     "text": [
      "[sudo] password for jingwora: useradd: user 'jingwora2' already exists\n",
      "[sudo] password for jingwora: jingwora:x:1000:1000:,,,:/home/jingwora:/bin/bash\n",
      "jingwora2:x:1001:1001::/home/jingwora2:/bin/sh\n",
      "jingwora3:x:1002:1002::/home/jingwora3:/bin/sh\n"
     ]
    }
   ],
   "source": [
    "# useradd\n",
    "# creates a new user on a Linux system\n",
    "# Syntax: sudo useradd <username>\n",
    "# sudo useradd jingwora2\n",
    "\n",
    "!sudo -S useradd jingwora2 < mypw\n",
    "!sudo -S useradd jingwora3 < mypw\n",
    "!cat /etc/passwd | tail -n 3 # show last 3 users"
   ]
  },
  {
   "cell_type": "code",
   "execution_count": 136,
   "metadata": {},
   "outputs": [
    {
     "name": "stdout",
     "output_type": "stream",
     "text": [
      "[sudo] password for jingwora: "
     ]
    }
   ],
   "source": [
    "# userdel\n",
    "# Syntax: sudo userdel <username>\n",
    "# sudo userdel jingwora3\n",
    "\n",
    "!sudo -S userdel jingwora3 < mypw"
   ]
  },
  {
   "cell_type": "code",
   "execution_count": 137,
   "metadata": {},
   "outputs": [
    {
     "name": "stderr",
     "output_type": "stream",
     "text": [
      "\n",
      "KeyboardInterrupt\n",
      "\n"
     ]
    }
   ],
   "source": [
    "# passwd \n",
    "# command to alter your password from the terminal.\n",
    "# passwd"
   ]
  },
  {
   "cell_type": "code",
   "execution_count": 46,
   "metadata": {},
   "outputs": [
    {
     "name": "stdout",
     "output_type": "stream",
     "text": [
      "-rwxrwxrwx 1 jingwora jingwora 29 Jan 19 21:57 file1.txt\n"
     ]
    }
   ],
   "source": [
    "# chmod (change mode) \n",
    "# command to change file and directory permissions\n",
    "\n",
    "# The first number is the permission of the current user (owner).\n",
    "# The second number is the permission for the group.\n",
    "# The third number is permissions for everyone else.\n",
    "\n",
    "# Syntax: chmod <permission> <file or directory>\n",
    "\n",
    "!chmod 777 file1.txt\n",
    "!ls -l file1.txt"
   ]
  },
  {
   "cell_type": "code",
   "execution_count": 48,
   "metadata": {},
   "outputs": [
    {
     "name": "stdout",
     "output_type": "stream",
     "text": [
      "-rwxr--r-- 1 jingwora jingwora 29 Jan 19 21:57 file1.txt\n"
     ]
    }
   ],
   "source": [
    "# set by class\n",
    "!chmod u=rwx,g=r,o=r file1.txt\n",
    "!ls -l file1.txt"
   ]
  },
  {
   "attachments": {},
   "cell_type": "markdown",
   "metadata": {},
   "source": [
    "privileges with numbers:\n",
    "- no permission : 0\n",
    "- execute (x) : 1\n",
    "- write (w) : 2\n",
    "- read (r) : 4\n",
    "- read + execute (rx) : 5\n",
    "- read + write (rw): 6\n",
    "- read + write + execute (rwx): 7"
   ]
  },
  {
   "cell_type": "code",
   "execution_count": 131,
   "metadata": {},
   "outputs": [
    {
     "name": "stdout",
     "output_type": "stream",
     "text": [
      "[sudo] password for jingwora: -rw-r--r-- 1 jingwora2 jingwora 29 Jan 20 09:28 file2.txt\n"
     ]
    }
   ],
   "source": [
    "# change file ownership\n",
    "# Syntax: chown <new_user_name> <file_name>\n",
    "\n",
    "!sudo -S chown jingwora2 file2.txt < mypw\n",
    "!ls -l file2.txt"
   ]
  },
  {
   "cell_type": "code",
   "execution_count": 132,
   "metadata": {},
   "outputs": [
    {
     "name": "stdout",
     "output_type": "stream",
     "text": [
      "[sudo] password for jingwora: -rw-r--r-- 1 jingwora2 jingwora2 29 Jan 20 09:28 file2.txt\n"
     ]
    }
   ],
   "source": [
    "# change group ownershi\n",
    "# Syntax: chgrp <new_group_name> <file_name>\n",
    "\n",
    "!sudo -S chgrp jingwora2 file2.txt < mypw\n",
    "!ls -l file2.txt "
   ]
  },
  {
   "attachments": {},
   "cell_type": "markdown",
   "metadata": {},
   "source": [
    "### Process"
   ]
  },
  {
   "cell_type": "code",
   "execution_count": 52,
   "metadata": {},
   "outputs": [
    {
     "name": "stdout",
     "output_type": "stream",
     "text": [
      "  PID TTY          TIME CMD\n",
      " 2807 pts/2    00:00:00 ps\n"
     ]
    }
   ],
   "source": [
    "# ps (process status) \n",
    "# command lists the currently running processes on the system.\n",
    "!ps"
   ]
  },
  {
   "cell_type": "code",
   "execution_count": 51,
   "metadata": {},
   "outputs": [
    {
     "name": "stdout",
     "output_type": "stream",
     "text": [
      "\u001b[?1h\u001b=\u001b[H\u001b[2J\u001b[mtop - 09:03:27 up 12:37,  0 users,  load average: 0.17, 0.09, 0.03\u001b[m\u001b[m\u001b[m\u001b[m\u001b[K\n",
      "Tasks:\u001b[m\u001b[m\u001b[1m  25 \u001b[m\u001b[mtotal,\u001b[m\u001b[m\u001b[1m   1 \u001b[m\u001b[mrunning,\u001b[m\u001b[m\u001b[1m  24 \u001b[m\u001b[msleeping,\u001b[m\u001b[m\u001b[1m   0 \u001b[m\u001b[mstopped,\u001b[m\u001b[m\u001b[1m   0 \u001b[m\u001b[mzombie\u001b[m\u001b[m\u001b[m\u001b[m\u001b[K\n",
      "%Cpu(s):\u001b[m\u001b[m\u001b[1m  0.0 \u001b[m\u001b[mus,\u001b[m\u001b[m\u001b[1m  0.5 \u001b[m\u001b[msy,\u001b[m\u001b[m\u001b[1m  0.0 \u001b[m\u001b[mni,\u001b[m\u001b[m\u001b[1m 98.9 \u001b[m\u001b[mid,\u001b[m\u001b[m\u001b[1m  0.0 \u001b[m\u001b[mwa,\u001b[m\u001b[m\u001b[1m  0.0 \u001b[m\u001b[mhi,\u001b[m\u001b[m\u001b[1m  0.5 \u001b[m\u001b[msi,\u001b[m\u001b[m\u001b[1m  0.0 \u001b[m\u001b[mst\u001b[m\u001b[m\u001b[m\u001b[m\u001b[K\n",
      "MiB Mem :\u001b[m\u001b[m\u001b[1m  12617.7 \u001b[m\u001b[mtotal,\u001b[m\u001b[m\u001b[1m  11103.1 \u001b[m\u001b[mfree,\u001b[m\u001b[m\u001b[1m    648.3 \u001b[m\u001b[mused,\u001b[m\u001b[m\u001b[1m    866.3 \u001b[m\u001b[mbuff/cache\u001b[m\u001b[m\u001b[m\u001b[m\u001b[K\n",
      "MiB Swap:\u001b[m\u001b[m\u001b[1m   4096.0 \u001b[m\u001b[mtotal,\u001b[m\u001b[m\u001b[1m   4096.0 \u001b[m\u001b[mfree,\u001b[m\u001b[m\u001b[1m      0.0 \u001b[m\u001b[mused.\u001b[m\u001b[m\u001b[1m  11656.8 \u001b[m\u001b[mavail Mem \u001b[m\u001b[m\u001b[m\u001b[m\u001b[K\n",
      "\u001b[K\n",
      "\u001b[7m  PID USER      PR  NI    VIRT    RES    SHR S  %CPU  %MEM     TIME+ COMMAND    \u001b[m\u001b[m\u001b[K\n",
      "\u001b[m 1902 jingwora  20   0 1117268 185524  43008 S  12.5   1.4   1:58.51 node       \u001b[m\u001b[m\u001b[K\n",
      "\u001b[m    1 root      20   0    1068    580    476 S   0.0   0.0   0:02.71 init       \u001b[m\u001b[m\u001b[K\n",
      "\u001b[m 1237 root      20   0    1416    468     20 S   0.0   0.0   0:05.73 init       \u001b[m\u001b[m\u001b[K\n",
      "\u001b[m 1766 root      20   0    1416    468     20 S   0.0   0.0   0:00.00 init       \u001b[m\u001b[m\u001b[K\n",
      "\u001b[m 1767 root      20   0    1416    468     20 S   0.0   0.0   0:00.02 init       \u001b[m\u001b[m\u001b[K\n",
      "\u001b[m 1768 jingwora  20   0    6204   5160   3408 S   0.0   0.0   0:00.07 bash       \u001b[m\u001b[m\u001b[K\n",
      "\u001b[m 1827 root      20   0    1416    468     20 S   0.0   0.0   0:00.00 init       \u001b[m\u001b[m\u001b[K\n",
      "\u001b[m 1828 root      20   0    1416    468     20 S   0.0   0.0   0:00.00 init       \u001b[m\u001b[m\u001b[K\n",
      "\u001b[m 1829 jingwora  20   0    2884   1052    956 S   0.0   0.0   0:00.00 sh         \u001b[m\u001b[m\u001b[K\n",
      "\u001b[m 1830 jingwora  20   0    2884    956    864 S   0.0   0.0   0:00.00 sh         \u001b[m\u001b[m\u001b[K\n",
      "\u001b[m 1835 jingwora  20   0    2884    944    852 S   0.0   0.0   0:00.00 sh         \u001b[m\u001b[m\u001b[K\n",
      "\u001b[m 1839 jingwora  20   0  932964  85996  35360 S   0.0   0.7   0:22.94 node       \u001b[m\u001b[m\u001b[K\n",
      "\u001b[m 1859 jingwora  20   0  624752  48352  32480 S   0.0   0.4   0:02.83 node       \u001b[m\u001b[m\u001b[K\n",
      "\u001b[m 1913 jingwora  20   0 1031940  46920  32136 S   0.0   0.4   0:03.50 node       \u001b[m\u001b[m\u001b[K\n",
      "\u001b[m 1973 jingwora  20   0  186848  32284   9796 S   0.0   0.2   0:02.66 python3    \u001b[m\u001b[m\u001b[K\n",
      "\u001b[m 2019 jingwora  20   0   11.1g 202348  36700 S   0.0   1.6   0:15.56 node       \u001b[m\u001b[m\u001b[K\n",
      "\u001b[m 2118 jingwora  20   0  676560  67348  15556 S   0.0   0.5   0:02.17 python     \u001b[m\u001b[m\u001b[K\u001b[H\u001b[mtop - 09:03:30 up 12:37,  0 users,  load average: 0.17, 0.09, 0.03\u001b[m\u001b[m\u001b[m\u001b[m\u001b[K\n",
      "\n",
      "%Cpu(s):\u001b[m\u001b[m\u001b[1m  0.2 \u001b[m\u001b[mus,\u001b[m\u001b[m\u001b[1m  0.2 \u001b[m\u001b[msy,\u001b[m\u001b[m\u001b[1m  0.0 \u001b[m\u001b[mni,\u001b[m\u001b[m\u001b[1m 99.6 \u001b[m\u001b[mid,\u001b[m\u001b[m\u001b[1m  0.0 \u001b[m\u001b[mwa,\u001b[m\u001b[m\u001b[1m  0.0 \u001b[m\u001b[mhi,\u001b[m\u001b[m\u001b[1m  0.0 \u001b[m\u001b[msi,\u001b[m\u001b[m\u001b[1m  0.0 \u001b[m\u001b[mst\u001b[m\u001b[m\u001b[m\u001b[m\u001b[K\n",
      "MiB Mem :\u001b[m\u001b[m\u001b[1m  12617.7 \u001b[m\u001b[mtotal,\u001b[m\u001b[m\u001b[1m  11103.3 \u001b[m\u001b[mfree,\u001b[m\u001b[m\u001b[1m    648.1 \u001b[m\u001b[mused,\u001b[m\u001b[m\u001b[1m    866.3 \u001b[m\u001b[mbuff/cache\u001b[m\u001b[m\u001b[m\u001b[m\u001b[K\n",
      "MiB Swap:\u001b[m\u001b[m\u001b[1m   4096.0 \u001b[m\u001b[mtotal,\u001b[m\u001b[m\u001b[1m   4096.0 \u001b[m\u001b[mfree,\u001b[m\u001b[m\u001b[1m      0.0 \u001b[m\u001b[mused.\u001b[m\u001b[m\u001b[1m  11657.0 \u001b[m\u001b[mavail Mem \u001b[m\u001b[m\u001b[m\u001b[m\u001b[K\n",
      "\u001b[K\n",
      "\n",
      "\u001b[m 2118 jingwora  20   0  676560  67360  15556 S   3.0   0.5   0:02.26 python     \u001b[m\u001b[m\u001b[K\n",
      "\u001b[m 1902 jingwora  20   0 1117464 185740  43008 S   2.3   1.4   1:58.58 node       \u001b[m\u001b[m\u001b[K\n",
      "\u001b[m 2250 jingwora  20   0  584080  41444  29908 S   0.7   0.3   0:00.63 node       \u001b[m\u001b[m\u001b[K\n",
      "\u001b[m    1 root      20   0    1068    580    476 S   0.0   0.0   0:02.71 init       \u001b[m\u001b[m\u001b[K\n",
      "\u001b[m 1237 root      20   0    1416    468     20 S   0.0   0.0   0:05.73 init       \u001b[m\u001b[m\u001b[K\n",
      "\u001b[m 1766 root      20   0    1416    468     20 S   0.0   0.0   0:00.00 init       \u001b[m\u001b[m\u001b[K\n",
      "\u001b[m 1767 root      20   0    1416    468     20 S   0.0   0.0   0:00.02 init       \u001b[m\u001b[m\u001b[K\n",
      "\u001b[m 1768 jingwora  20   0    6204   5160   3408 S   0.0   0.0   0:00.07 bash       \u001b[m\u001b[m\u001b[K\n",
      "\u001b[m 1827 root      20   0    1416    468     20 S   0.0   0.0   0:00.00 init       \u001b[m\u001b[m\u001b[K\n",
      "\u001b[m 1828 root      20   0    1416    468     20 S   0.0   0.0   0:00.00 init       \u001b[m\u001b[m\u001b[K\n",
      "\u001b[m 1829 jingwora  20   0    2884   1052    956 S   0.0   0.0   0:00.00 sh         \u001b[m\u001b[m\u001b[K\n",
      "\u001b[m 1830 jingwora  20   0    2884    956    864 S   0.0   0.0   0:00.00 sh         \u001b[m\u001b[m\u001b[K\n",
      "\u001b[m 1835 jingwora  20   0    2884    944    852 S   0.0   0.0   0:00.00 sh         \u001b[m\u001b[m\u001b[K\n",
      "\u001b[m 1839 jingwora  20   0  932964  85996  35360 S   0.0   0.7   0:22.94 node       \u001b[m\u001b[m\u001b[K\n",
      "\u001b[m 1859 jingwora  20   0  624752  48352  32480 S   0.0   0.4   0:02.83 node       \u001b[m\u001b[m\u001b[K\n",
      "\u001b[m 1913 jingwora  20   0 1031940  46920  32136 S   0.0   0.4   0:03.50 node       \u001b[m\u001b[m\u001b[K\n",
      "\u001b[m 1973 jingwora  20   0  186848  32284   9796 S   0.0   0.2   0:02.66 python3    \u001b[m\u001b[m\u001b[K\u001b[H\u001b[mtop - 09:03:33 up 12:37,  0 users,  load average: 0.15, 0.09, 0.03\u001b[m\u001b[m\u001b[m\u001b[m\u001b[K\n",
      "\n",
      "%Cpu(s):\u001b[m\u001b[m\u001b[1m  0.8 \u001b[m\u001b[mus,\u001b[m\u001b[m\u001b[1m  0.3 \u001b[m\u001b[msy,\u001b[m\u001b[m\u001b[1m  0.0 \u001b[m\u001b[mni,\u001b[m\u001b[m\u001b[1m 98.8 \u001b[m\u001b[mid,\u001b[m\u001b[m\u001b[1m  0.0 \u001b[m\u001b[mwa,\u001b[m\u001b[m\u001b[1m  0.0 \u001b[m\u001b[mhi,\u001b[m\u001b[m\u001b[1m  0.1 \u001b[m\u001b[msi,\u001b[m\u001b[m\u001b[1m  0.0 \u001b[m\u001b[mst\u001b[m\u001b[m\u001b[m\u001b[m\u001b[K\n",
      "MiB Mem :\u001b[m\u001b[m\u001b[1m  12617.7 \u001b[m\u001b[mtotal,\u001b[m\u001b[m\u001b[1m  11103.1 \u001b[m\u001b[mfree,\u001b[m\u001b[m\u001b[1m    648.3 \u001b[m\u001b[mused,\u001b[m\u001b[m\u001b[1m    866.3 \u001b[m\u001b[mbuff/cache\u001b[m\u001b[m\u001b[m\u001b[m\u001b[K\n",
      "MiB Swap:\u001b[m\u001b[m\u001b[1m   4096.0 \u001b[m\u001b[mtotal,\u001b[m\u001b[m\u001b[1m   4096.0 \u001b[m\u001b[mfree,\u001b[m\u001b[m\u001b[1m      0.0 \u001b[m\u001b[mused.\u001b[m\u001b[m\u001b[1m  11656.7 \u001b[m\u001b[mavail Mem \u001b[m\u001b[m\u001b[m\u001b[m\u001b[K\n",
      "\u001b[K\n",
      "\n",
      "\u001b[m 1902 jingwora  20   0 1117268 185560  43008 S  10.7   1.4   1:58.90 node       \u001b[m\u001b[m\u001b[K\n",
      "\u001b[m 2118 jingwora  20   0  676560  67360  15556 S   3.7   0.5   0:02.37 python     \u001b[m\u001b[m\u001b[K\n",
      "\u001b[m 2241 jingwora  20   0  319844  35484  26576 S   0.3   0.3   0:01.31 node       \u001b[m\u001b[m\u001b[K\n",
      "\n",
      "\n",
      "\n",
      "\n",
      "\n",
      "\n",
      "\n",
      "\n",
      "\n",
      "\n",
      "\n",
      "\n",
      "\n",
      "\u001b[H\u001b[mtop - 09:03:36 up 12:38,  0 users,  load average: 0.15, 0.09, 0.03\u001b[m\u001b[m\u001b[m\u001b[m\u001b[K\n",
      "\n",
      "%Cpu(s):\u001b[m\u001b[m\u001b[1m  0.4 \u001b[m\u001b[mus,\u001b[m\u001b[m\u001b[1m  0.1 \u001b[m\u001b[msy,\u001b[m\u001b[m\u001b[1m  0.0 \u001b[m\u001b[mni,\u001b[m\u001b[m\u001b[1m 99.5 \u001b[m\u001b[mid,\u001b[m\u001b[m\u001b[1m  0.0 \u001b[m\u001b[mwa,\u001b[m\u001b[m\u001b[1m  0.0 \u001b[m\u001b[mhi,\u001b[m\u001b[m\u001b[1m  0.0 \u001b[m\u001b[msi,\u001b[m\u001b[m\u001b[1m  0.0 \u001b[m\u001b[mst\u001b[m\u001b[m\u001b[m\u001b[m\u001b[K\n",
      "MiB Mem :\u001b[m\u001b[m\u001b[1m  12617.7 \u001b[m\u001b[mtotal,\u001b[m\u001b[m\u001b[1m  11107.5 \u001b[m\u001b[mfree,\u001b[m\u001b[m\u001b[1m    643.9 \u001b[m\u001b[mused,\u001b[m\u001b[m\u001b[1m    866.3 \u001b[m\u001b[mbuff/cache\u001b[m\u001b[m\u001b[m\u001b[m\u001b[K\n",
      "MiB Swap:\u001b[m\u001b[m\u001b[1m   4096.0 \u001b[m\u001b[mtotal,\u001b[m\u001b[m\u001b[1m   4096.0 \u001b[m\u001b[mfree,\u001b[m\u001b[m\u001b[1m      0.0 \u001b[m\u001b[mused.\u001b[m\u001b[m\u001b[1m  11661.2 \u001b[m\u001b[mavail Mem \u001b[m\u001b[m\u001b[m\u001b[m\u001b[K\n",
      "\u001b[K\n",
      "\n",
      "\u001b[m 2118 jingwora  20   0  676560  67360  15556 S   4.3   0.5   0:02.50 python     \u001b[m\u001b[m\u001b[K\n",
      "\u001b[m 1902 jingwora  20   0 1117268 181628  43008 S   2.7   1.4   1:58.98 node       \u001b[m\u001b[m\u001b[K\n",
      "\u001b[m 2019 jingwora  20   0   11.1g 202348  36700 S   0.3   1.6   0:15.57 node       \u001b[m\u001b[m\u001b[K\n",
      "\u001b[m 2250 jingwora  20   0  584080  40728  29908 S   0.3   0.3   0:00.64 node       \u001b[m\u001b[m\u001b[K\n",
      "\u001b[m    1 root      20   0    1068    580    476 S   0.0   0.0   0:02.71 init       \u001b[m\u001b[m\u001b[K\n",
      "\u001b[m 1237 root      20   0    1416    468     20 S   0.0   0.0   0:05.73 init       \u001b[m\u001b[m\u001b[K\n",
      "\u001b[m 1766 root      20   0    1416    468     20 S   0.0   0.0   0:00.00 init       \u001b[m\u001b[m\u001b[K\n",
      "\u001b[m 1767 root      20   0    1416    468     20 S   0.0   0.0   0:00.02 init       \u001b[m\u001b[m\u001b[K\n",
      "\u001b[m 1768 jingwora  20   0    6204   5160   3408 S   0.0   0.0   0:00.07 bash       \u001b[m\u001b[m\u001b[K\n",
      "\u001b[m 1827 root      20   0    1416    468     20 S   0.0   0.0   0:00.00 init       \u001b[m\u001b[m\u001b[K\n",
      "\u001b[m 1828 root      20   0    1416    468     20 S   0.0   0.0   0:00.00 init       \u001b[m\u001b[m\u001b[K\n",
      "\u001b[m 1829 jingwora  20   0    2884   1052    956 S   0.0   0.0   0:00.00 sh         \u001b[m\u001b[m\u001b[K\n",
      "\u001b[m 1830 jingwora  20   0    2884    956    864 S   0.0   0.0   0:00.00 sh         \u001b[m\u001b[m\u001b[K\n",
      "\u001b[m 1835 jingwora  20   0    2884    944    852 S   0.0   0.0   0:00.00 sh         \u001b[m\u001b[m\u001b[K\n",
      "\u001b[m 1839 jingwora  20   0  932964  85996  35360 S   0.0   0.7   0:22.94 node       \u001b[m\u001b[m\u001b[K\n",
      "\u001b[m 1859 jingwora  20   0  624752  48352  32480 S   0.0   0.4   0:02.83 node       \u001b[m\u001b[m\u001b[K\n",
      "\u001b[m 1913 jingwora  20   0 1031940  46920  32136 S   0.0   0.4   0:03.50 node       \u001b[m\u001b[m\u001b[K\u001b[H\u001b[mtop - 09:03:39 up 12:38,  0 users,  load average: 0.14, 0.08, 0.03\u001b[m\u001b[m\u001b[m\u001b[m\u001b[K\n",
      "Tasks:\u001b[m\u001b[m\u001b[1m  25 \u001b[m\u001b[mtotal,\u001b[m\u001b[m\u001b[1m   2 \u001b[m\u001b[mrunning,\u001b[m\u001b[m\u001b[1m  23 \u001b[m\u001b[msleeping,\u001b[m\u001b[m\u001b[1m   0 \u001b[m\u001b[mstopped,\u001b[m\u001b[m\u001b[1m   0 \u001b[m\u001b[mzombie\u001b[m\u001b[m\u001b[m\u001b[m\u001b[K\n",
      "%Cpu(s):\u001b[m\u001b[m\u001b[1m  0.3 \u001b[m\u001b[mus,\u001b[m\u001b[m\u001b[1m  0.3 \u001b[m\u001b[msy,\u001b[m\u001b[m\u001b[1m  0.0 \u001b[m\u001b[mni,\u001b[m\u001b[m\u001b[1m 99.4 \u001b[m\u001b[mid,\u001b[m\u001b[m\u001b[1m  0.0 \u001b[m\u001b[mwa,\u001b[m\u001b[m\u001b[1m  0.0 \u001b[m\u001b[mhi,\u001b[m\u001b[m\u001b[1m  0.0 \u001b[m\u001b[msi,\u001b[m\u001b[m\u001b[1m  0.0 \u001b[m\u001b[mst\u001b[m\u001b[m\u001b[m\u001b[m\u001b[K\n",
      "MiB Mem :\u001b[m\u001b[m\u001b[1m  12617.7 \u001b[m\u001b[mtotal,\u001b[m\u001b[m\u001b[1m  11104.3 \u001b[m\u001b[mfree,\u001b[m\u001b[m\u001b[1m    647.1 \u001b[m\u001b[mused,\u001b[m\u001b[m\u001b[1m    866.3 \u001b[m\u001b[mbuff/cache\u001b[m\u001b[m\u001b[m\u001b[m\u001b[K\n",
      "MiB Swap:\u001b[m\u001b[m\u001b[1m   4096.0 \u001b[m\u001b[mtotal,\u001b[m\u001b[m\u001b[1m   4096.0 \u001b[m\u001b[mfree,\u001b[m\u001b[m\u001b[1m      0.0 \u001b[m\u001b[mused.\u001b[m\u001b[m\u001b[1m  11658.0 \u001b[m\u001b[mavail Mem \u001b[m\u001b[m\u001b[m\u001b[m\u001b[K\n",
      "\u001b[K\n",
      "\n",
      "\u001b[m 2118 jingwora  20   0  676560  67360  15556 S   4.7   0.5   0:02.64 python     \u001b[m\u001b[m\u001b[K\n",
      "\u001b[m\u001b[1m 1902 jingwora  20   0 1117268 181724  43008 R   4.0   1.4   1:59.10 node       \u001b[m\u001b[m\u001b[K\n",
      "\u001b[m 2249 root      20   0    1068    200     20 S   0.3   0.0   0:00.20 init       \u001b[m\u001b[m\u001b[K\n",
      "\u001b[m    1 root      20   0    1068    580    476 S   0.0   0.0   0:02.71 init       \u001b[m\u001b[m\u001b[K\n",
      "\u001b[m 1237 root      20   0    1416    468     20 S   0.0   0.0   0:05.73 init       \u001b[m\u001b[m\u001b[K\n",
      "\u001b[m 1766 root      20   0    1416    468     20 S   0.0   0.0   0:00.00 init       \u001b[m\u001b[m\u001b[K\n",
      "\u001b[m 1767 root      20   0    1416    468     20 S   0.0   0.0   0:00.02 init       \u001b[m\u001b[m\u001b[K\n",
      "\u001b[m 1768 jingwora  20   0    6204   5160   3408 S   0.0   0.0   0:00.07 bash       \u001b[m\u001b[m\u001b[K\n",
      "\u001b[m 1827 root      20   0    1416    468     20 S   0.0   0.0   0:00.00 init       \u001b[m\u001b[m\u001b[K\n",
      "\u001b[m 1828 root      20   0    1416    468     20 S   0.0   0.0   0:00.00 init       \u001b[m\u001b[m\u001b[K\n",
      "\u001b[m 1829 jingwora  20   0    2884   1052    956 S   0.0   0.0   0:00.00 sh         \u001b[m\u001b[m\u001b[K\n",
      "\u001b[m 1830 jingwora  20   0    2884    956    864 S   0.0   0.0   0:00.00 sh         \u001b[m\u001b[m\u001b[K\n",
      "\u001b[m 1835 jingwora  20   0    2884    944    852 S   0.0   0.0   0:00.00 sh         \u001b[m\u001b[m\u001b[K\n",
      "\u001b[m 1839 jingwora  20   0  932964  85996  35360 S   0.0   0.7   0:22.94 node       \u001b[m\u001b[m\u001b[K\n",
      "\u001b[m 1859 jingwora  20   0  624752  48352  32480 S   0.0   0.4   0:02.83 node       \u001b[m\u001b[m\u001b[K\n",
      "\u001b[m 1913 jingwora  20   0 1031940  46920  32136 S   0.0   0.4   0:03.50 node       \u001b[m\u001b[m\u001b[K\n",
      "\u001b[m 1973 jingwora  20   0  186848  32284   9796 S   0.0   0.2   0:02.66 python3    \u001b[m\u001b[m\u001b[K\u001b[H\u001b[mtop - 09:03:42 up 12:38,  0 users,  load average: 0.13, 0.08, 0.03\u001b[m\u001b[m\u001b[m\u001b[m\u001b[K\n",
      "Tasks:\u001b[m\u001b[m\u001b[1m  25 \u001b[m\u001b[mtotal,\u001b[m\u001b[m\u001b[1m   1 \u001b[m\u001b[mrunning,\u001b[m\u001b[m\u001b[1m  24 \u001b[m\u001b[msleeping,\u001b[m\u001b[m\u001b[1m   0 \u001b[m\u001b[mstopped,\u001b[m\u001b[m\u001b[1m   0 \u001b[m\u001b[mzombie\u001b[m\u001b[m\u001b[m\u001b[m\u001b[K\n",
      "%Cpu(s):\u001b[m\u001b[m\u001b[1m  0.3 \u001b[m\u001b[mus,\u001b[m\u001b[m\u001b[1m  0.1 \u001b[m\u001b[msy,\u001b[m\u001b[m\u001b[1m  0.0 \u001b[m\u001b[mni,\u001b[m\u001b[m\u001b[1m 99.6 \u001b[m\u001b[mid,\u001b[m\u001b[m\u001b[1m  0.0 \u001b[m\u001b[mwa,\u001b[m\u001b[m\u001b[1m  0.0 \u001b[m\u001b[mhi,\u001b[m\u001b[m\u001b[1m  0.0 \u001b[m\u001b[msi,\u001b[m\u001b[m\u001b[1m  0.0 \u001b[m\u001b[mst\u001b[m\u001b[m\u001b[m\u001b[m\u001b[K\n",
      "MiB Mem :\u001b[m\u001b[m\u001b[1m  12617.7 \u001b[m\u001b[mtotal,\u001b[m\u001b[m\u001b[1m  11105.4 \u001b[m\u001b[mfree,\u001b[m\u001b[m\u001b[1m    646.0 \u001b[m\u001b[mused,\u001b[m\u001b[m\u001b[1m    866.3 \u001b[m\u001b[mbuff/cache\u001b[m\u001b[m\u001b[m\u001b[m\u001b[K\n",
      "MiB Swap:\u001b[m\u001b[m\u001b[1m   4096.0 \u001b[m\u001b[mtotal,\u001b[m\u001b[m\u001b[1m   4096.0 \u001b[m\u001b[mfree,\u001b[m\u001b[m\u001b[1m      0.0 \u001b[m\u001b[mused.\u001b[m\u001b[m\u001b[1m  11659.1 \u001b[m\u001b[mavail Mem \u001b[m\u001b[m\u001b[m\u001b[m\u001b[K\n",
      "\u001b[K\n",
      "\n",
      "\u001b[m 1902 jingwora  20   0 1117268 182164  43008 S   2.7   1.4   1:59.18 node       \u001b[m\u001b[m\u001b[K\n",
      "\u001b[m 2118 jingwora  20   0  676560  67360  15556 S   2.7   0.5   0:02.72 python     \u001b[m\u001b[m\u001b[K\n",
      "\u001b[m    1 root      20   0    1068    580    476 S   0.0   0.0   0:02.71 init       \u001b[m\u001b[m\u001b[K\n",
      "\u001b[m 1237 root      20   0    1416    468     20 S   0.0   0.0   0:05.73 init       \u001b[m\u001b[m\u001b[K\n",
      "\u001b[m 1766 root      20   0    1416    468     20 S   0.0   0.0   0:00.00 init       \u001b[m\u001b[m\u001b[K\n",
      "\u001b[m 1767 root      20   0    1416    468     20 S   0.0   0.0   0:00.02 init       \u001b[m\u001b[m\u001b[K\n",
      "\u001b[m 1768 jingwora  20   0    6204   5160   3408 S   0.0   0.0   0:00.07 bash       \u001b[m\u001b[m\u001b[K\n",
      "\u001b[m 1827 root      20   0    1416    468     20 S   0.0   0.0   0:00.00 init       \u001b[m\u001b[m\u001b[K\n",
      "\u001b[m 1828 root      20   0    1416    468     20 S   0.0   0.0   0:00.00 init       \u001b[m\u001b[m\u001b[K\n",
      "\u001b[m 1829 jingwora  20   0    2884   1052    956 S   0.0   0.0   0:00.00 sh         \u001b[m\u001b[m\u001b[K\n",
      "\u001b[m 1830 jingwora  20   0    2884    956    864 S   0.0   0.0   0:00.00 sh         \u001b[m\u001b[m\u001b[K\n",
      "\u001b[m 1835 jingwora  20   0    2884    944    852 S   0.0   0.0   0:00.00 sh         \u001b[m\u001b[m\u001b[K\n",
      "\u001b[m 1839 jingwora  20   0  932964  85996  35360 S   0.0   0.7   0:22.94 node       \u001b[m\u001b[m\u001b[K\n",
      "\u001b[m 1859 jingwora  20   0  624752  48352  32480 S   0.0   0.4   0:02.83 node       \u001b[m\u001b[m\u001b[K\n",
      "\u001b[m 1913 jingwora  20   0 1031940  46920  32136 S   0.0   0.4   0:03.50 node       \u001b[m\u001b[m\u001b[K\n",
      "\u001b[m 1973 jingwora  20   0  186848  32284   9796 S   0.0   0.2   0:02.66 python3    \u001b[m\u001b[m\u001b[K\n",
      "\u001b[m 2019 jingwora  20   0   11.1g 202348  36700 S   0.0   1.6   0:15.57 node       \u001b[m\u001b[m\u001b[K\u001b[H\u001b[mtop - 09:03:45 up 12:38,  0 users,  load average: 0.13, 0.08, 0.03\u001b[m\u001b[m\u001b[m\u001b[m\u001b[K\n",
      "\n",
      "%Cpu(s):\u001b[m\u001b[m\u001b[1m  0.2 \u001b[m\u001b[mus,\u001b[m\u001b[m\u001b[1m  0.1 \u001b[m\u001b[msy,\u001b[m\u001b[m\u001b[1m  0.0 \u001b[m\u001b[mni,\u001b[m\u001b[m\u001b[1m 99.6 \u001b[m\u001b[mid,\u001b[m\u001b[m\u001b[1m  0.0 \u001b[m\u001b[mwa,\u001b[m\u001b[m\u001b[1m  0.0 \u001b[m\u001b[mhi,\u001b[m\u001b[m\u001b[1m  0.0 \u001b[m\u001b[msi,\u001b[m\u001b[m\u001b[1m  0.0 \u001b[m\u001b[mst\u001b[m\u001b[m\u001b[m\u001b[m\u001b[K\n",
      "MiB Mem :\u001b[m\u001b[m\u001b[1m  12617.7 \u001b[m\u001b[mtotal,\u001b[m\u001b[m\u001b[1m  11105.3 \u001b[m\u001b[mfree,\u001b[m\u001b[m\u001b[1m    646.0 \u001b[m\u001b[mused,\u001b[m\u001b[m\u001b[1m    866.3 \u001b[m\u001b[mbuff/cache\u001b[m\u001b[m\u001b[m\u001b[m\u001b[K\n",
      "MiB Swap:\u001b[m\u001b[m\u001b[1m   4096.0 \u001b[m\u001b[mtotal,\u001b[m\u001b[m\u001b[1m   4096.0 \u001b[m\u001b[mfree,\u001b[m\u001b[m\u001b[1m      0.0 \u001b[m\u001b[mused.\u001b[m\u001b[m\u001b[1m  11659.0 \u001b[m\u001b[mavail Mem \u001b[m\u001b[m\u001b[m\u001b[m\u001b[K\n",
      "\u001b[K\n",
      "\n",
      "\u001b[m 2118 jingwora  20   0  676700  67460  15556 S   4.0   0.5   0:02.84 python     \u001b[m\u001b[m\u001b[K\n",
      "\u001b[m 1902 jingwora  20   0 1117268 182248  43008 S   2.0   1.4   1:59.24 node       \u001b[m\u001b[m\u001b[K\n",
      "\u001b[m 2250 jingwora  20   0  584232  40728  29908 S   0.3   0.3   0:00.65 node       \u001b[m\u001b[m\u001b[K\n",
      "\u001b[m\u001b[1m 2722 jingwora  20   0    7784   3724   3120 R   0.3   0.0   0:00.37 top        \u001b[m\u001b[m\u001b[K\n",
      "\u001b[m    1 root      20   0    1068    580    476 S   0.0   0.0   0:02.71 init       \u001b[m\u001b[m\u001b[K\n",
      "\u001b[m 1237 root      20   0    1416    468     20 S   0.0   0.0   0:05.73 init       \u001b[m\u001b[m\u001b[K\n",
      "\u001b[m 1766 root      20   0    1416    468     20 S   0.0   0.0   0:00.00 init       \u001b[m\u001b[m\u001b[K\n",
      "\u001b[m 1767 root      20   0    1416    468     20 S   0.0   0.0   0:00.02 init       \u001b[m\u001b[m\u001b[K\n",
      "\u001b[m 1768 jingwora  20   0    6204   5160   3408 S   0.0   0.0   0:00.07 bash       \u001b[m\u001b[m\u001b[K\n",
      "\u001b[m 1827 root      20   0    1416    468     20 S   0.0   0.0   0:00.00 init       \u001b[m\u001b[m\u001b[K\n",
      "\u001b[m 1828 root      20   0    1416    468     20 S   0.0   0.0   0:00.00 init       \u001b[m\u001b[m\u001b[K\n",
      "\u001b[m 1829 jingwora  20   0    2884   1052    956 S   0.0   0.0   0:00.00 sh         \u001b[m\u001b[m\u001b[K\n",
      "\u001b[m 1830 jingwora  20   0    2884    956    864 S   0.0   0.0   0:00.00 sh         \u001b[m\u001b[m\u001b[K\n",
      "\u001b[m 1835 jingwora  20   0    2884    944    852 S   0.0   0.0   0:00.00 sh         \u001b[m\u001b[m\u001b[K\n",
      "\u001b[m 1839 jingwora  20   0  932964  85996  35360 S   0.0   0.7   0:22.94 node       \u001b[m\u001b[m\u001b[K\n",
      "\u001b[m 1859 jingwora  20   0  624752  48352  32480 S   0.0   0.4   0:02.83 node       \u001b[m\u001b[m\u001b[K\n",
      "\u001b[m 1913 jingwora  20   0 1031940  46920  32136 S   0.0   0.4   0:03.50 node       \u001b[m\u001b[m\u001b[K\u001b[H\u001b[mtop - 09:03:48 up 12:38,  0 users,  load average: 0.12, 0.08, 0.03\u001b[m\u001b[m\u001b[m\u001b[m\u001b[K\n",
      "\n",
      "%Cpu(s):\u001b[m\u001b[m\u001b[1m  0.9 \u001b[m\u001b[mus,\u001b[m\u001b[m\u001b[1m  0.1 \u001b[m\u001b[msy,\u001b[m\u001b[m\u001b[1m  0.0 \u001b[m\u001b[mni,\u001b[m\u001b[m\u001b[1m 99.0 \u001b[m\u001b[mid,\u001b[m\u001b[m\u001b[1m  0.0 \u001b[m\u001b[mwa,\u001b[m\u001b[m\u001b[1m  0.0 \u001b[m\u001b[mhi,\u001b[m\u001b[m\u001b[1m  0.0 \u001b[m\u001b[msi,\u001b[m\u001b[m\u001b[1m  0.0 \u001b[m\u001b[mst\u001b[m\u001b[m\u001b[m\u001b[m\u001b[K\n",
      "MiB Mem :\u001b[m\u001b[m\u001b[1m  12617.7 \u001b[m\u001b[mtotal,\u001b[m\u001b[m\u001b[1m  11106.0 \u001b[m\u001b[mfree,\u001b[m\u001b[m\u001b[1m    645.4 \u001b[m\u001b[mused,\u001b[m\u001b[m\u001b[1m    866.3 \u001b[m\u001b[mbuff/cache\u001b[m\u001b[m\u001b[m\u001b[m\u001b[K\n",
      "MiB Swap:\u001b[m\u001b[m\u001b[1m   4096.0 \u001b[m\u001b[mtotal,\u001b[m\u001b[m\u001b[1m   4096.0 \u001b[m\u001b[mfree,\u001b[m\u001b[m\u001b[1m      0.0 \u001b[m\u001b[mused.\u001b[m\u001b[m\u001b[1m  11659.7 \u001b[m\u001b[mavail Mem \u001b[m\u001b[m\u001b[m\u001b[m\u001b[K\n",
      "\u001b[K\n",
      "\n",
      "\u001b[m 1902 jingwora  20   0 1117268 182188  43008 S   8.6   1.4   1:59.50 node       \u001b[m\u001b[m\u001b[K\n",
      "\u001b[m 2118 jingwora  20   0  676700  67460  15556 S   3.7   0.5   0:02.95 python     \u001b[m\u001b[m\u001b[K\n",
      "\u001b[m 2250 jingwora  20   0  584364  41256  29908 S   0.3   0.3   0:00.66 node       \u001b[m\u001b[m\u001b[K\n",
      "\u001b[m    1 root      20   0    1068    580    476 S   0.0   0.0   0:02.71 init       \u001b[m\u001b[m\u001b[K\n",
      "\u001b[m 1237 root      20   0    1416    468     20 S   0.0   0.0   0:05.73 init       \u001b[m\u001b[m\u001b[K\n",
      "\u001b[m 1766 root      20   0    1416    468     20 S   0.0   0.0   0:00.00 init       \u001b[m\u001b[m\u001b[K\n",
      "\u001b[m 1767 root      20   0    1416    468     20 S   0.0   0.0   0:00.02 init       \u001b[m\u001b[m\u001b[K\n",
      "\u001b[m 1768 jingwora  20   0    6204   5160   3408 S   0.0   0.0   0:00.07 bash       \u001b[m\u001b[m\u001b[K\n",
      "\u001b[m 1827 root      20   0    1416    468     20 S   0.0   0.0   0:00.00 init       \u001b[m\u001b[m\u001b[K\n",
      "\u001b[m 1828 root      20   0    1416    468     20 S   0.0   0.0   0:00.00 init       \u001b[m\u001b[m\u001b[K\n",
      "\u001b[m 1829 jingwora  20   0    2884   1052    956 S   0.0   0.0   0:00.00 sh         \u001b[m\u001b[m\u001b[K\n",
      "\u001b[m 1830 jingwora  20   0    2884    956    864 S   0.0   0.0   0:00.00 sh         \u001b[m\u001b[m\u001b[K\n",
      "\u001b[m 1835 jingwora  20   0    2884    944    852 S   0.0   0.0   0:00.00 sh         \u001b[m\u001b[m\u001b[K\n",
      "\u001b[m 1839 jingwora  20   0  932964  85996  35360 S   0.0   0.7   0:22.94 node       \u001b[m\u001b[m\u001b[K\n",
      "\u001b[m 1859 jingwora  20   0  624752  48352  32480 S   0.0   0.4   0:02.83 node       \u001b[m\u001b[m\u001b[K\n",
      "\u001b[m 1913 jingwora  20   0 1031940  46920  32136 S   0.0   0.4   0:03.50 node       \u001b[m\u001b[m\u001b[K\n",
      "\u001b[m 1973 jingwora  20   0  186848  32284   9796 S   0.0   0.2   0:02.66 python3    \u001b[m\u001b[m\u001b[K\u001b[H\u001b[mtop - 09:03:51 up 12:38,  0 users,  load average: 0.12, 0.08, 0.03\u001b[m\u001b[m\u001b[m\u001b[m\u001b[K\n",
      "\n",
      "%Cpu(s):\u001b[m\u001b[m\u001b[1m  0.3 \u001b[m\u001b[mus,\u001b[m\u001b[m\u001b[1m  0.1 \u001b[m\u001b[msy,\u001b[m\u001b[m\u001b[1m  0.0 \u001b[m\u001b[mni,\u001b[m\u001b[m\u001b[1m 99.6 \u001b[m\u001b[mid,\u001b[m\u001b[m\u001b[1m  0.0 \u001b[m\u001b[mwa,\u001b[m\u001b[m\u001b[1m  0.0 \u001b[m\u001b[mhi,\u001b[m\u001b[m\u001b[1m  0.0 \u001b[m\u001b[msi,\u001b[m\u001b[m\u001b[1m  0.0 \u001b[m\u001b[mst\u001b[m\u001b[m\u001b[m\u001b[m\u001b[K\n",
      "MiB Mem :\u001b[m\u001b[m\u001b[1m  12617.7 \u001b[m\u001b[mtotal,\u001b[m\u001b[m\u001b[1m  11105.3 \u001b[m\u001b[mfree,\u001b[m\u001b[m\u001b[1m    646.1 \u001b[m\u001b[mused,\u001b[m\u001b[m\u001b[1m    866.3 \u001b[m\u001b[mbuff/cache\u001b[m\u001b[m\u001b[m\u001b[m\u001b[K\n",
      "MiB Swap:\u001b[m\u001b[m\u001b[1m   4096.0 \u001b[m\u001b[mtotal,\u001b[m\u001b[m\u001b[1m   4096.0 \u001b[m\u001b[mfree,\u001b[m\u001b[m\u001b[1m      0.0 \u001b[m\u001b[mused.\u001b[m\u001b[m\u001b[1m  11659.0 \u001b[m\u001b[mavail Mem \u001b[m\u001b[m\u001b[m\u001b[m\u001b[K\n",
      "\u001b[K\n",
      "\n",
      "\u001b[m 2118 jingwora  20   0  676700  67460  15556 S   4.7   0.5   0:03.09 python     \u001b[m\u001b[m\u001b[K\n",
      "\u001b[m 1902 jingwora  20   0 1117268 182164  43008 S   1.7   1.4   1:59.55 node       \u001b[m\u001b[m\u001b[K\n",
      "\u001b[m    1 root      20   0    1068    580    476 S   0.0   0.0   0:02.71 init       \u001b[m\u001b[m\u001b[K\n",
      "\u001b[m 1237 root      20   0    1416    468     20 S   0.0   0.0   0:05.73 init       \u001b[m\u001b[m\u001b[K\n",
      "\u001b[m 1766 root      20   0    1416    468     20 S   0.0   0.0   0:00.00 init       \u001b[m\u001b[m\u001b[K\n",
      "\u001b[m 1767 root      20   0    1416    468     20 S   0.0   0.0   0:00.02 init       \u001b[m\u001b[m\u001b[K\n",
      "\u001b[m 1768 jingwora  20   0    6204   5160   3408 S   0.0   0.0   0:00.07 bash       \u001b[m\u001b[m\u001b[K\n",
      "\u001b[m 1827 root      20   0    1416    468     20 S   0.0   0.0   0:00.00 init       \u001b[m\u001b[m\u001b[K\n",
      "\u001b[m 1828 root      20   0    1416    468     20 S   0.0   0.0   0:00.00 init       \u001b[m\u001b[m\u001b[K\n",
      "\u001b[m 1829 jingwora  20   0    2884   1052    956 S   0.0   0.0   0:00.00 sh         \u001b[m\u001b[m\u001b[K\n",
      "\u001b[m 1830 jingwora  20   0    2884    956    864 S   0.0   0.0   0:00.00 sh         \u001b[m\u001b[m\u001b[K\n",
      "\u001b[m 1835 jingwora  20   0    2884    944    852 S   0.0   0.0   0:00.00 sh         \u001b[m\u001b[m\u001b[K\n",
      "\u001b[m 1839 jingwora  20   0  932964  85996  35360 S   0.0   0.7   0:22.94 node       \u001b[m\u001b[m\u001b[K\n",
      "\u001b[m 1859 jingwora  20   0  624752  48352  32480 S   0.0   0.4   0:02.83 node       \u001b[m\u001b[m\u001b[K\n",
      "\u001b[m 1913 jingwora  20   0 1031940  46920  32136 S   0.0   0.4   0:03.50 node       \u001b[m\u001b[m\u001b[K\n",
      "\u001b[m 1973 jingwora  20   0  186848  32284   9796 S   0.0   0.2   0:02.66 python3    \u001b[m\u001b[m\u001b[K\n",
      "\u001b[m 2019 jingwora  20   0   11.1g 202348  36700 S   0.0   1.6   0:15.57 node       \u001b[m\u001b[m\u001b[K\u001b[H\u001b[mtop - 09:03:54 up 12:38,  0 users,  load average: 0.11, 0.08, 0.03\u001b[m\u001b[m\u001b[m\u001b[m\u001b[K\n",
      "\n",
      "%Cpu(s):\u001b[m\u001b[m\u001b[1m  0.4 \u001b[m\u001b[mus,\u001b[m\u001b[m\u001b[1m  0.4 \u001b[m\u001b[msy,\u001b[m\u001b[m\u001b[1m  0.0 \u001b[m\u001b[mni,\u001b[m\u001b[m\u001b[1m 99.2 \u001b[m\u001b[mid,\u001b[m\u001b[m\u001b[1m  0.0 \u001b[m\u001b[mwa,\u001b[m\u001b[m\u001b[1m  0.0 \u001b[m\u001b[mhi,\u001b[m\u001b[m\u001b[1m  0.0 \u001b[m\u001b[msi,\u001b[m\u001b[m\u001b[1m  0.0 \u001b[m\u001b[mst\u001b[m\u001b[m\u001b[m\u001b[m\u001b[K\n",
      "\n",
      "\n",
      "\u001b[K\n",
      "\n",
      "\u001b[m 1902 jingwora  20   0 1117268 181776  43008 S   5.6   1.4   1:59.72 node       \u001b[m\u001b[m\u001b[K\n",
      "\u001b[m 2118 jingwora  20   0  676700  67460  15556 S   4.0   0.5   0:03.21 python     \u001b[m\u001b[m\u001b[K\n",
      "\u001b[m 2250 jingwora  20   0  584496  41516  29908 S   0.3   0.3   0:00.67 node       \u001b[m\u001b[m\u001b[K\n",
      "\u001b[m    1 root      20   0    1068    580    476 S   0.0   0.0   0:02.71 init       \u001b[m\u001b[m\u001b[K\n",
      "\u001b[m 1237 root      20   0    1416    468     20 S   0.0   0.0   0:05.73 init       \u001b[m\u001b[m\u001b[K\n",
      "\u001b[m 1766 root      20   0    1416    468     20 S   0.0   0.0   0:00.00 init       \u001b[m\u001b[m\u001b[K\n",
      "\u001b[m 1767 root      20   0    1416    468     20 S   0.0   0.0   0:00.02 init       \u001b[m\u001b[m\u001b[K\n",
      "\u001b[m 1768 jingwora  20   0    6204   5160   3408 S   0.0   0.0   0:00.07 bash       \u001b[m\u001b[m\u001b[K\n",
      "\u001b[m 1827 root      20   0    1416    468     20 S   0.0   0.0   0:00.00 init       \u001b[m\u001b[m\u001b[K\n",
      "\u001b[m 1828 root      20   0    1416    468     20 S   0.0   0.0   0:00.00 init       \u001b[m\u001b[m\u001b[K\n",
      "\u001b[m 1829 jingwora  20   0    2884   1052    956 S   0.0   0.0   0:00.00 sh         \u001b[m\u001b[m\u001b[K\n",
      "\u001b[m 1830 jingwora  20   0    2884    956    864 S   0.0   0.0   0:00.00 sh         \u001b[m\u001b[m\u001b[K\n",
      "\u001b[m 1835 jingwora  20   0    2884    944    852 S   0.0   0.0   0:00.00 sh         \u001b[m\u001b[m\u001b[K\n",
      "\u001b[m 1839 jingwora  20   0  932964  85996  35360 S   0.0   0.7   0:22.94 node       \u001b[m\u001b[m\u001b[K\n",
      "\u001b[m 1859 jingwora  20   0  624752  48352  32480 S   0.0   0.4   0:02.83 node       \u001b[m\u001b[m\u001b[K\n",
      "\u001b[m 1913 jingwora  20   0 1031940  46920  32136 S   0.0   0.4   0:03.50 node       \u001b[m\u001b[m\u001b[K\n",
      "\u001b[m 1973 jingwora  20   0  186848  32284   9796 S   0.0   0.2   0:02.66 python3    \u001b[m\u001b[m\u001b[K\u001b[H\u001b[mtop - 09:03:57 up 12:38,  0 users,  load average: 0.10, 0.08, 0.03\u001b[m\u001b[m\u001b[m\u001b[m\u001b[K\n",
      "\n",
      "%Cpu(s):\u001b[m\u001b[m\u001b[1m  0.5 \u001b[m\u001b[mus,\u001b[m\u001b[m\u001b[1m  0.2 \u001b[m\u001b[msy,\u001b[m\u001b[m\u001b[1m  0.0 \u001b[m\u001b[mni,\u001b[m\u001b[m\u001b[1m 99.1 \u001b[m\u001b[mid,\u001b[m\u001b[m\u001b[1m  0.0 \u001b[m\u001b[mwa,\u001b[m\u001b[m\u001b[1m  0.0 \u001b[m\u001b[mhi,\u001b[m\u001b[m\u001b[1m  0.1 \u001b[m\u001b[msi,\u001b[m\u001b[m\u001b[1m  0.0 \u001b[m\u001b[mst\u001b[m\u001b[m\u001b[m\u001b[m\u001b[K\n",
      "MiB Mem :\u001b[m\u001b[m\u001b[1m  12617.7 \u001b[m\u001b[mtotal,\u001b[m\u001b[m\u001b[1m  11104.9 \u001b[m\u001b[mfree,\u001b[m\u001b[m\u001b[1m    646.4 \u001b[m\u001b[mused,\u001b[m\u001b[m\u001b[1m    866.3 \u001b[m\u001b[mbuff/cache\u001b[m\u001b[m\u001b[m\u001b[m\u001b[K\n",
      "MiB Swap:\u001b[m\u001b[m\u001b[1m   4096.0 \u001b[m\u001b[mtotal,\u001b[m\u001b[m\u001b[1m   4096.0 \u001b[m\u001b[mfree,\u001b[m\u001b[m\u001b[1m      0.0 \u001b[m\u001b[mused.\u001b[m\u001b[m\u001b[1m  11658.6 \u001b[m\u001b[mavail Mem \u001b[m\u001b[m\u001b[m\u001b[m\u001b[K\n",
      "\u001b[K\n",
      "\n",
      "\u001b[m 1902 jingwora  20   0 1117268 181504  43008 S   7.0   1.4   1:59.93 node       \u001b[m\u001b[m\u001b[K\n",
      "\u001b[m 2118 jingwora  20   0  676700  67460  15556 S   3.3   0.5   0:03.31 python     \u001b[m\u001b[m\u001b[K\n",
      "\u001b[m 1839 jingwora  20   0  932964  85996  35360 S   0.3   0.7   0:22.95 node       \u001b[m\u001b[m\u001b[K\n",
      "\u001b[m 2249 root      20   0    1068    200     20 S   0.3   0.0   0:00.21 init       \u001b[m\u001b[m\u001b[K\n",
      "\u001b[m    1 root      20   0    1068    580    476 S   0.0   0.0   0:02.71 init       \u001b[m\u001b[m\u001b[K\n",
      "\u001b[m 1237 root      20   0    1416    468     20 S   0.0   0.0   0:05.73 init       \u001b[m\u001b[m\u001b[K\n",
      "\u001b[m 1766 root      20   0    1416    468     20 S   0.0   0.0   0:00.00 init       \u001b[m\u001b[m\u001b[K\n",
      "\u001b[m 1767 root      20   0    1416    468     20 S   0.0   0.0   0:00.02 init       \u001b[m\u001b[m\u001b[K\n",
      "\u001b[m 1768 jingwora  20   0    6204   5160   3408 S   0.0   0.0   0:00.07 bash       \u001b[m\u001b[m\u001b[K\n",
      "\u001b[m 1827 root      20   0    1416    468     20 S   0.0   0.0   0:00.00 init       \u001b[m\u001b[m\u001b[K\n",
      "\u001b[m 1828 root      20   0    1416    468     20 S   0.0   0.0   0:00.00 init       \u001b[m\u001b[m\u001b[K\n",
      "\u001b[m 1829 jingwora  20   0    2884   1052    956 S   0.0   0.0   0:00.00 sh         \u001b[m\u001b[m\u001b[K\n",
      "\u001b[m 1830 jingwora  20   0    2884    956    864 S   0.0   0.0   0:00.00 sh         \u001b[m\u001b[m\u001b[K\n",
      "\u001b[m 1835 jingwora  20   0    2884    944    852 S   0.0   0.0   0:00.00 sh         \u001b[m\u001b[m\u001b[K\n",
      "\n",
      "\n",
      "\u001b[H\u001b[mtop - 09:04:00 up 12:38,  0 users,  load average: 0.10, 0.08, 0.03\u001b[m\u001b[m\u001b[m\u001b[m\u001b[K\n",
      "Tasks:\u001b[m\u001b[m\u001b[1m  25 \u001b[m\u001b[mtotal,\u001b[m\u001b[m\u001b[1m   2 \u001b[m\u001b[mrunning,\u001b[m\u001b[m\u001b[1m  23 \u001b[m\u001b[msleeping,\u001b[m\u001b[m\u001b[1m   0 \u001b[m\u001b[mstopped,\u001b[m\u001b[m\u001b[1m   0 \u001b[m\u001b[mzombie\u001b[m\u001b[m\u001b[m\u001b[m\u001b[K\n",
      "%Cpu(s):\u001b[m\u001b[m\u001b[1m  0.2 \u001b[m\u001b[mus,\u001b[m\u001b[m\u001b[1m  0.3 \u001b[m\u001b[msy,\u001b[m\u001b[m\u001b[1m  0.0 \u001b[m\u001b[mni,\u001b[m\u001b[m\u001b[1m 99.4 \u001b[m\u001b[mid,\u001b[m\u001b[m\u001b[1m  0.0 \u001b[m\u001b[mwa,\u001b[m\u001b[m\u001b[1m  0.0 \u001b[m\u001b[mhi,\u001b[m\u001b[m\u001b[1m  0.0 \u001b[m\u001b[msi,\u001b[m\u001b[m\u001b[1m  0.0 \u001b[m\u001b[mst\u001b[m\u001b[m\u001b[m\u001b[m\u001b[K\n",
      "MiB Mem :\u001b[m\u001b[m\u001b[1m  12617.7 \u001b[m\u001b[mtotal,\u001b[m\u001b[m\u001b[1m  11112.2 \u001b[m\u001b[mfree,\u001b[m\u001b[m\u001b[1m    639.2 \u001b[m\u001b[mused,\u001b[m\u001b[m\u001b[1m    866.3 \u001b[m\u001b[mbuff/cache\u001b[m\u001b[m\u001b[m\u001b[m\u001b[K\n",
      "MiB Swap:\u001b[m\u001b[m\u001b[1m   4096.0 \u001b[m\u001b[mtotal,\u001b[m\u001b[m\u001b[1m   4096.0 \u001b[m\u001b[mfree,\u001b[m\u001b[m\u001b[1m      0.0 \u001b[m\u001b[mused.\u001b[m\u001b[m\u001b[1m  11665.9 \u001b[m\u001b[mavail Mem \u001b[m\u001b[m\u001b[m\u001b[m\u001b[K\n",
      "\u001b[K\n",
      "\n",
      "\u001b[m 1902 jingwora  20   0 1117268 182076  43008 S   4.0   1.4   2:00.05 node       \u001b[m\u001b[m\u001b[K\n",
      "\u001b[m\u001b[1m 2118 jingwora  20   0  676700  67460  15556 R   2.3   0.5   0:03.38 python     \u001b[m\u001b[m\u001b[K\n",
      "\u001b[m    1 root      20   0    1068    580    476 S   0.0   0.0   0:02.71 init       \u001b[m\u001b[m\u001b[K\n",
      "\u001b[m 1237 root      20   0    1416    468     20 S   0.0   0.0   0:05.73 init       \u001b[m\u001b[m\u001b[K\n",
      "\u001b[m 1766 root      20   0    1416    468     20 S   0.0   0.0   0:00.00 init       \u001b[m\u001b[m\u001b[K\n",
      "\u001b[m 1767 root      20   0    1416    468     20 S   0.0   0.0   0:00.02 init       \u001b[m\u001b[m\u001b[K\n",
      "\u001b[m 1768 jingwora  20   0    6204   5160   3408 S   0.0   0.0   0:00.07 bash       \u001b[m\u001b[m\u001b[K\n",
      "\u001b[m 1827 root      20   0    1416    468     20 S   0.0   0.0   0:00.00 init       \u001b[m\u001b[m\u001b[K\n",
      "\u001b[m 1828 root      20   0    1416    468     20 S   0.0   0.0   0:00.00 init       \u001b[m\u001b[m\u001b[K\n",
      "\u001b[m 1829 jingwora  20   0    2884   1052    956 S   0.0   0.0   0:00.00 sh         \u001b[m\u001b[m\u001b[K\n",
      "\u001b[m 1830 jingwora  20   0    2884    956    864 S   0.0   0.0   0:00.00 sh         \u001b[m\u001b[m\u001b[K\n",
      "\u001b[m 1835 jingwora  20   0    2884    944    852 S   0.0   0.0   0:00.00 sh         \u001b[m\u001b[m\u001b[K\n",
      "\u001b[m 1839 jingwora  20   0  932964  85996  35360 S   0.0   0.7   0:22.95 node       \u001b[m\u001b[m\u001b[K\n",
      "\u001b[m 1859 jingwora  20   0  624752  48352  32480 S   0.0   0.4   0:02.83 node       \u001b[m\u001b[m\u001b[K\n",
      "\u001b[m 1913 jingwora  20   0 1031940  46920  32136 S   0.0   0.4   0:03.50 node       \u001b[m\u001b[m\u001b[K\n",
      "\u001b[m 1973 jingwora  20   0  186848  32284   9796 S   0.0   0.2   0:02.66 python3    \u001b[m\u001b[m\u001b[K\n",
      "\u001b[m 2019 jingwora  20   0   11.1g 202348  36700 S   0.0   1.6   0:15.57 node       \u001b[m\u001b[m\u001b[K\u001b[H\u001b[mtop - 09:04:03 up 12:38,  0 users,  load average: 0.09, 0.08, 0.03\u001b[m\u001b[m\u001b[m\u001b[m\u001b[K\n",
      "Tasks:\u001b[m\u001b[m\u001b[1m  25 \u001b[m\u001b[mtotal,\u001b[m\u001b[m\u001b[1m   1 \u001b[m\u001b[mrunning,\u001b[m\u001b[m\u001b[1m  24 \u001b[m\u001b[msleeping,\u001b[m\u001b[m\u001b[1m   0 \u001b[m\u001b[mstopped,\u001b[m\u001b[m\u001b[1m   0 \u001b[m\u001b[mzombie\u001b[m\u001b[m\u001b[m\u001b[m\u001b[K\n",
      "%Cpu(s):\u001b[m\u001b[m\u001b[1m  0.1 \u001b[m\u001b[mus,\u001b[m\u001b[m\u001b[1m  0.1 \u001b[m\u001b[msy,\u001b[m\u001b[m\u001b[1m  0.0 \u001b[m\u001b[mni,\u001b[m\u001b[m\u001b[1m 99.7 \u001b[m\u001b[mid,\u001b[m\u001b[m\u001b[1m  0.0 \u001b[m\u001b[mwa,\u001b[m\u001b[m\u001b[1m  0.0 \u001b[m\u001b[mhi,\u001b[m\u001b[m\u001b[1m  0.0 \u001b[m\u001b[msi,\u001b[m\u001b[m\u001b[1m  0.0 \u001b[m\u001b[mst\u001b[m\u001b[m\u001b[m\u001b[m\u001b[K\n",
      "MiB Mem :\u001b[m\u001b[m\u001b[1m  12617.7 \u001b[m\u001b[mtotal,\u001b[m\u001b[m\u001b[1m  11111.7 \u001b[m\u001b[mfree,\u001b[m\u001b[m\u001b[1m    639.7 \u001b[m\u001b[mused,\u001b[m\u001b[m\u001b[1m    866.4 \u001b[m\u001b[mbuff/cache\u001b[m\u001b[m\u001b[m\u001b[m\u001b[K\n",
      "MiB Swap:\u001b[m\u001b[m\u001b[1m   4096.0 \u001b[m\u001b[mtotal,\u001b[m\u001b[m\u001b[1m   4096.0 \u001b[m\u001b[mfree,\u001b[m\u001b[m\u001b[1m      0.0 \u001b[m\u001b[mused.\u001b[m\u001b[m\u001b[1m  11665.4 \u001b[m\u001b[mavail Mem \u001b[m\u001b[m\u001b[m\u001b[m\u001b[K\n",
      "\u001b[K\n",
      "\n",
      "\u001b[m 1902 jingwora  20   0 1117524 182380  43008 S   2.7   1.4   2:00.13 node       \u001b[m\u001b[m\u001b[K\n",
      "\u001b[m 2118 jingwora  20   0  676700  67460  15556 S   2.7   0.5   0:03.46 python     \u001b[m\u001b[m\u001b[K\n",
      "\u001b[m 2241 jingwora  20   0  319844  35484  26576 S   0.3   0.3   0:01.32 node       \u001b[m\u001b[m\u001b[K\n",
      "\u001b[m 2250 jingwora  20   0  584920  41780  29908 S   0.3   0.3   0:00.68 node       \u001b[m\u001b[m\u001b[K\n",
      "\u001b[m    1 root      20   0    1068    580    476 S   0.0   0.0   0:02.71 init       \u001b[m\u001b[m\u001b[K\n",
      "\u001b[m 1237 root      20   0    1416    468     20 S   0.0   0.0   0:05.73 init       \u001b[m\u001b[m\u001b[K\n",
      "\u001b[m 1766 root      20   0    1416    468     20 S   0.0   0.0   0:00.00 init       \u001b[m\u001b[m\u001b[K\n",
      "\u001b[m 1767 root      20   0    1416    468     20 S   0.0   0.0   0:00.02 init       \u001b[m\u001b[m\u001b[K\n",
      "\u001b[m 1768 jingwora  20   0    6204   5160   3408 S   0.0   0.0   0:00.07 bash       \u001b[m\u001b[m\u001b[K\n",
      "\u001b[m 1827 root      20   0    1416    468     20 S   0.0   0.0   0:00.00 init       \u001b[m\u001b[m\u001b[K\n",
      "\u001b[m 1828 root      20   0    1416    468     20 S   0.0   0.0   0:00.00 init       \u001b[m\u001b[m\u001b[K\n",
      "\u001b[m 1829 jingwora  20   0    2884   1052    956 S   0.0   0.0   0:00.00 sh         \u001b[m\u001b[m\u001b[K\n",
      "\u001b[m 1830 jingwora  20   0    2884    956    864 S   0.0   0.0   0:00.00 sh         \u001b[m\u001b[m\u001b[K\n",
      "\u001b[m 1835 jingwora  20   0    2884    944    852 S   0.0   0.0   0:00.00 sh         \u001b[m\u001b[m\u001b[K\n",
      "\u001b[m 1839 jingwora  20   0  932964  86260  35360 S   0.0   0.7   0:22.95 node       \u001b[m\u001b[m\u001b[K\n",
      "\u001b[m 1859 jingwora  20   0  624752  48352  32480 S   0.0   0.4   0:02.83 node       \u001b[m\u001b[m\u001b[K\n",
      "\u001b[m 1913 jingwora  20   0 1031940  46920  32136 S   0.0   0.4   0:03.50 node       \u001b[m\u001b[m\u001b[K\u001b[H\u001b[mtop - 09:04:06 up 12:38,  0 users,  load average: 0.09, 0.08, 0.03\u001b[m\u001b[m\u001b[m\u001b[m\u001b[K\n",
      "\n",
      "%Cpu(s):\u001b[m\u001b[m\u001b[1m  0.6 \u001b[m\u001b[mus,\u001b[m\u001b[m\u001b[1m  0.3 \u001b[m\u001b[msy,\u001b[m\u001b[m\u001b[1m  0.0 \u001b[m\u001b[mni,\u001b[m\u001b[m\u001b[1m 99.1 \u001b[m\u001b[mid,\u001b[m\u001b[m\u001b[1m  0.0 \u001b[m\u001b[mwa,\u001b[m\u001b[m\u001b[1m  0.0 \u001b[m\u001b[mhi,\u001b[m\u001b[m\u001b[1m  0.0 \u001b[m\u001b[msi,\u001b[m\u001b[m\u001b[1m  0.0 \u001b[m\u001b[mst\u001b[m\u001b[m\u001b[m\u001b[m\u001b[K\n",
      "MiB Mem :\u001b[m\u001b[m\u001b[1m  12617.7 \u001b[m\u001b[mtotal,\u001b[m\u001b[m\u001b[1m  11109.9 \u001b[m\u001b[mfree,\u001b[m\u001b[m\u001b[1m    641.4 \u001b[m\u001b[mused,\u001b[m\u001b[m\u001b[1m    866.4 \u001b[m\u001b[mbuff/cache\u001b[m\u001b[m\u001b[m\u001b[m\u001b[K\n",
      "MiB Swap:\u001b[m\u001b[m\u001b[1m   4096.0 \u001b[m\u001b[mtotal,\u001b[m\u001b[m\u001b[1m   4096.0 \u001b[m\u001b[mfree,\u001b[m\u001b[m\u001b[1m      0.0 \u001b[m\u001b[mused.\u001b[m\u001b[m\u001b[1m  11663.7 \u001b[m\u001b[mavail Mem \u001b[m\u001b[m\u001b[m\u001b[m\u001b[K\n",
      "\u001b[K\n",
      "\n",
      "\u001b[m 1902 jingwora  20   0 1118292 184308  43008 S   8.7   1.4   2:00.39 node       \u001b[m\u001b[m\u001b[K\n",
      "\u001b[m 2118 jingwora  20   0  676700  67460  15556 S   2.7   0.5   0:03.54 python     \u001b[m\u001b[m\u001b[K\n",
      "\u001b[m    1 root      20   0    1068    580    476 S   0.0   0.0   0:02.71 init       \u001b[m\u001b[m\u001b[K\n",
      "\u001b[m 1237 root      20   0    1416    468     20 S   0.0   0.0   0:05.73 init       \u001b[m\u001b[m\u001b[K\n",
      "\u001b[m 1766 root      20   0    1416    468     20 S   0.0   0.0   0:00.00 init       \u001b[m\u001b[m\u001b[K\n",
      "\u001b[m 1767 root      20   0    1416    468     20 S   0.0   0.0   0:00.02 init       \u001b[m\u001b[m\u001b[K\n",
      "\u001b[m 1768 jingwora  20   0    6204   5160   3408 S   0.0   0.0   0:00.07 bash       \u001b[m\u001b[m\u001b[K\n",
      "\u001b[m 1827 root      20   0    1416    468     20 S   0.0   0.0   0:00.00 init       \u001b[m\u001b[m\u001b[K\n",
      "\u001b[m 1828 root      20   0    1416    468     20 S   0.0   0.0   0:00.00 init       \u001b[m\u001b[m\u001b[K\n",
      "\u001b[m 1829 jingwora  20   0    2884   1052    956 S   0.0   0.0   0:00.00 sh         \u001b[m\u001b[m\u001b[K\n",
      "\u001b[m 1830 jingwora  20   0    2884    956    864 S   0.0   0.0   0:00.00 sh         \u001b[m\u001b[m\u001b[K\n",
      "\u001b[m 1835 jingwora  20   0    2884    944    852 S   0.0   0.0   0:00.00 sh         \u001b[m\u001b[m\u001b[K\n",
      "\u001b[m 1839 jingwora  20   0  932964  86260  35360 S   0.0   0.7   0:22.95 node       \u001b[m\u001b[m\u001b[K\n",
      "\u001b[m 1859 jingwora  20   0  624752  48352  32480 S   0.0   0.4   0:02.83 node       \u001b[m\u001b[m\u001b[K\n",
      "\u001b[m 1913 jingwora  20   0 1031940  46920  32136 S   0.0   0.4   0:03.50 node       \u001b[m\u001b[m\u001b[K\n",
      "\u001b[m 1973 jingwora  20   0  186848  32284   9796 S   0.0   0.2   0:02.66 python3    \u001b[m\u001b[m\u001b[K\n",
      "\u001b[m 2019 jingwora  20   0   11.1g 202612  36700 S   0.0   1.6   0:15.57 node       \u001b[m\u001b[m\u001b[K\u001b[H\u001b[mtop - 09:04:09 up 12:38,  0 users,  load average: 0.08, 0.08, 0.03\u001b[m\u001b[m\u001b[m\u001b[m\u001b[K\n",
      "\n",
      "%Cpu(s):\u001b[m\u001b[m\u001b[1m  0.2 \u001b[m\u001b[mus,\u001b[m\u001b[m\u001b[1m  0.1 \u001b[m\u001b[msy,\u001b[m\u001b[m\u001b[1m  0.0 \u001b[m\u001b[mni,\u001b[m\u001b[m\u001b[1m 99.6 \u001b[m\u001b[mid,\u001b[m\u001b[m\u001b[1m  0.0 \u001b[m\u001b[mwa,\u001b[m\u001b[m\u001b[1m  0.0 \u001b[m\u001b[mhi,\u001b[m\u001b[m\u001b[1m  0.1 \u001b[m\u001b[msi,\u001b[m\u001b[m\u001b[1m  0.0 \u001b[m\u001b[mst\u001b[m\u001b[m\u001b[m\u001b[m\u001b[K\n",
      "MiB Mem :\u001b[m\u001b[m\u001b[1m  12617.7 \u001b[m\u001b[mtotal,\u001b[m\u001b[m\u001b[1m  11108.2 \u001b[m\u001b[mfree,\u001b[m\u001b[m\u001b[1m    643.1 \u001b[m\u001b[mused,\u001b[m\u001b[m\u001b[1m    866.4 \u001b[m\u001b[mbuff/cache\u001b[m\u001b[m\u001b[m\u001b[m\u001b[K\n",
      "MiB Swap:\u001b[m\u001b[m\u001b[1m   4096.0 \u001b[m\u001b[mtotal,\u001b[m\u001b[m\u001b[1m   4096.0 \u001b[m\u001b[mfree,\u001b[m\u001b[m\u001b[1m      0.0 \u001b[m\u001b[mused.\u001b[m\u001b[m\u001b[1m  11662.0 \u001b[m\u001b[mavail Mem \u001b[m\u001b[m\u001b[m\u001b[m\u001b[K\n",
      "\u001b[K\n",
      "\n",
      "\u001b[m 2118 jingwora  20   0  676700  67460  15556 S   3.0   0.5   0:03.63 python     \u001b[m\u001b[m\u001b[K\n",
      "\u001b[m 1902 jingwora  20   0 1118292 185972  43008 S   2.3   1.4   2:00.46 node       \u001b[m\u001b[m\u001b[K\n",
      "\n",
      "\n",
      "\n",
      "\n",
      "\n",
      "\n",
      "\n",
      "\n",
      "\n",
      "\n",
      "\n",
      "\n",
      "\n",
      "\n",
      "\u001b[?1l\u001b>\u001b[25;1H\n",
      "\u001b[K"
     ]
    }
   ],
   "source": [
    "# top (table of processes) \n",
    "# command is an extended version of the ps command. \n",
    "!top"
   ]
  },
  {
   "cell_type": "code",
   "execution_count": null,
   "metadata": {},
   "outputs": [],
   "source": [
    "# kill \n",
    "# command to terminate an unresponsive process.\n",
    "# Syntax: kill [signal_option] <process_ID>\n",
    "# -15 saves all progress before closing the process.\n",
    "# -9 forces a stop immediately."
   ]
  },
  {
   "attachments": {},
   "cell_type": "markdown",
   "metadata": {},
   "source": [
    "### Connection"
   ]
  },
  {
   "cell_type": "code",
   "execution_count": 57,
   "metadata": {},
   "outputs": [
    {
     "name": "stdout",
     "output_type": "stream",
     "text": [
      "PING google.com (216.58.220.110) 56(84) bytes of data.\n",
      "64 bytes from syd10s01-in-f110.1e100.net (216.58.220.110): icmp_seq=1 ttl=57 time=7.72 ms\n",
      "^C\n",
      "\n",
      "--- google.com ping statistics ---\n",
      "1 packets transmitted, 1 received, 0% packet loss, time 0ms\n",
      "rtt min/avg/max/mdev = 7.718/7.718/7.718/0.000 ms\n"
     ]
    }
   ],
   "source": [
    "# ping (packet internet groper) \n",
    "# command to check internet connectivity.\n",
    "\n",
    "!ping google.com"
   ]
  },
  {
   "cell_type": "code",
   "execution_count": 60,
   "metadata": {},
   "outputs": [
    {
     "name": "stdout",
     "output_type": "stream",
     "text": [
      "--2023-01-20 09:27:28--  https://github.com/jingwora/bioinformatics-tools/raw/main/tools/linux-command/file1.txt\n",
      "Resolving github.com (github.com)... 20.27.177.113\n",
      "Connecting to github.com (github.com)|20.27.177.113|:443... connected.\n",
      "HTTP request sent, awaiting response... 302 Found\n",
      "Location: https://raw.githubusercontent.com/jingwora/bioinformatics-tools/main/tools/linux-command/file1.txt [following]\n",
      "--2023-01-20 09:27:28--  https://raw.githubusercontent.com/jingwora/bioinformatics-tools/main/tools/linux-command/file1.txt\n",
      "Resolving raw.githubusercontent.com (raw.githubusercontent.com)... 185.199.108.133, 185.199.109.133, 185.199.110.133, ...\n",
      "Connecting to raw.githubusercontent.com (raw.githubusercontent.com)|185.199.108.133|:443... connected.\n",
      "HTTP request sent, awaiting response... 200 OK\n",
      "Length: 29 [text/plain]\n",
      "Saving to: ‘file1.txt.1’\n",
      "\n",
      "file1.txt.1         100%[===================>]      29  --.-KB/s    in 0s      \n",
      "\n",
      "2023-01-20 09:27:28 (2.40 MB/s) - ‘file1.txt.1’ saved [29/29]\n",
      "\n"
     ]
    }
   ],
   "source": [
    "# wget (WWW get) \n",
    "# command for downloading files from the internet.\n",
    "# Syntax: wget <URL>\n",
    "\n",
    "!wget https://github.com/jingwora/bioinformatics-tools/raw/main/tools/linux-command/file1.txt"
   ]
  },
  {
   "cell_type": "code",
   "execution_count": 62,
   "metadata": {},
   "outputs": [
    {
     "name": "stdout",
     "output_type": "stream",
     "text": [
      "--2023-01-20 09:28:15--  https://github.com/jingwora/bioinformatics-tools/raw/main/tools/linux-command/file1.txt\n",
      "Resolving github.com (github.com)... 20.27.177.113\n",
      "Connecting to github.com (github.com)|20.27.177.113|:443... connected.\n",
      "HTTP request sent, awaiting response... 302 Found\n",
      "Location: https://raw.githubusercontent.com/jingwora/bioinformatics-tools/main/tools/linux-command/file1.txt [following]\n",
      "--2023-01-20 09:28:15--  https://raw.githubusercontent.com/jingwora/bioinformatics-tools/main/tools/linux-command/file1.txt\n",
      "Resolving raw.githubusercontent.com (raw.githubusercontent.com)... 185.199.108.133, 185.199.109.133, 185.199.110.133, ...\n",
      "Connecting to raw.githubusercontent.com (raw.githubusercontent.com)|185.199.108.133|:443... connected.\n",
      "HTTP request sent, awaiting response... 200 OK\n",
      "Length: 29 [text/plain]\n",
      "Saving to: ‘file2.txt’\n",
      "\n",
      "file2.txt           100%[===================>]      29  --.-KB/s    in 0s      \n",
      "\n",
      "2023-01-20 09:28:15 (2.29 MB/s) - ‘file2.txt’ saved [29/29]\n",
      "\n"
     ]
    }
   ],
   "source": [
    "# download and rename\n",
    "# can be used for overwrite\n",
    "# Syntax: wget -O <new_file_name> <URL>\n",
    "\n",
    "!wget -O file2.txt https://github.com/jingwora/bioinformatics-tools/raw/main/tools/linux-command/file1.txt\n"
   ]
  },
  {
   "cell_type": "code",
   "execution_count": 138,
   "metadata": {},
   "outputs": [
    {
     "name": "stdout",
     "output_type": "stream",
     "text": [
      "172.30.234.45 \n"
     ]
    }
   ],
   "source": [
    "# to check your IP address \n",
    "!hostname -I"
   ]
  },
  {
   "cell_type": "code",
   "execution_count": 139,
   "metadata": {},
   "outputs": [
    {
     "name": "stdout",
     "output_type": "stream",
     "text": [
      "1: lo: <LOOPBACK,UP,LOWER_UP> mtu 65536 qdisc noqueue state UNKNOWN group default qlen 1000\n",
      "    link/loopback 00:00:00:00:00:00 brd 00:00:00:00:00:00\n",
      "    inet 127.0.0.1/8 scope host lo\n",
      "       valid_lft forever preferred_lft forever\n",
      "    inet6 ::1/128 scope host \n",
      "       valid_lft forever preferred_lft forever\n",
      "2: bond0: <BROADCAST,MULTICAST,MASTER> mtu 1500 qdisc noop state DOWN group default qlen 1000\n",
      "    link/ether e2:f7:ef:f7:1b:57 brd ff:ff:ff:ff:ff:ff\n",
      "3: dummy0: <BROADCAST,NOARP> mtu 1500 qdisc noop state DOWN group default qlen 1000\n",
      "    link/ether 5e:f9:eb:73:31:42 brd ff:ff:ff:ff:ff:ff\n",
      "4: tunl0@NONE: <NOARP> mtu 1480 qdisc noop state DOWN group default qlen 1000\n",
      "    link/ipip 0.0.0.0 brd 0.0.0.0\n",
      "5: sit0@NONE: <NOARP> mtu 1480 qdisc noop state DOWN group default qlen 1000\n",
      "    link/sit 0.0.0.0 brd 0.0.0.0\n",
      "6: eth0: <BROADCAST,MULTICAST,UP,LOWER_UP> mtu 1500 qdisc mq state UP group default qlen 1000\n",
      "    link/ether 00:15:5d:ad:8e:e4 brd ff:ff:ff:ff:ff:ff\n",
      "    inet 172.30.234.45/20 brd 172.30.239.255 scope global eth0\n",
      "       valid_lft forever preferred_lft forever\n",
      "    inet6 fe80::215:5dff:fead:8ee4/64 scope link \n",
      "       valid_lft forever preferred_lft forever\n"
     ]
    }
   ],
   "source": [
    "# check ip address\n",
    "!ip addr"
   ]
  },
  {
   "cell_type": "code",
   "execution_count": null,
   "metadata": {},
   "outputs": [],
   "source": [
    "# mount \n",
    "# command allows attaching additional devices to the file system.\n",
    "# Syntax: mount -t <type> <device> <directory>"
   ]
  },
  {
   "attachments": {},
   "cell_type": "markdown",
   "metadata": {},
   "source": [
    "### System"
   ]
  },
  {
   "cell_type": "code",
   "execution_count": 63,
   "metadata": {},
   "outputs": [
    {
     "name": "stdout",
     "output_type": "stream",
     "text": [
      "Linux DESKTOP-1GHH8VU 5.10.16.3-microsoft-standard-WSL2 #1 SMP Fri Apr 2 22:23:49 UTC 2021 x86_64 x86_64 x86_64 GNU/Linux\n"
     ]
    }
   ],
   "source": [
    "# uname (Unix name) \n",
    "# command to print system information. \n",
    "# -a option to print a complete overview\n",
    "\n",
    "!uname -a"
   ]
  },
  {
   "cell_type": "code",
   "execution_count": 64,
   "metadata": {},
   "outputs": [],
   "source": [
    "# history\n",
    "# The terminal session keeps a history log of commands. \n",
    "# To see the list, use the history command\n",
    "\n",
    "!history"
   ]
  },
  {
   "cell_type": "code",
   "execution_count": 65,
   "metadata": {},
   "outputs": [
    {
     "name": "stdout",
     "output_type": "stream",
     "text": [
      "MAN(1)                        Manual pager utils                        MAN(1)\n",
      "\n",
      "NAME\n",
      "       man - an interface to the system reference manuals\n",
      "\n",
      "SYNOPSIS\n",
      "       man [man options] [[section] page ...] ...\n",
      "       man -k [apropos options] regexp ...\n",
      "       man -K [man options] [section] term ...\n",
      "       man -f [whatis options] page ...\n",
      "       man -l [man options] file ...\n",
      "       man -w|-W [man options] page ...\n",
      "\n",
      "DESCRIPTION\n",
      "       man  is  the system's manual pager.  Each page argument given to man is\n",
      "       normally the name of a program, utility or function.  The  manual  page\n",
      "       associated with each of these arguments is then found and displayed.  A\n",
      "       section, if provided, will direct man to look only in that  section  of\n",
      "       the  manual.   The  default action is to search in all of the available\n",
      "       sections following a pre-defined order (see DEFAULTS), and to show only\n",
      "       the first page found, even if page exists in several sections.\n",
      "\n",
      "       The table below shows the section numbers of the manual followed by the\n",
      "       types of pages they contain.\n",
      "\n",
      "       1   Executable programs or shell commands\n",
      "       2   System calls (functions provided by the kernel)\n",
      "       3   Library calls (functions within program libraries)\n",
      "       4   Special files (usually found in /dev)\n",
      "       5   File formats and conventions, e.g. /etc/passwd\n",
      "       6   Games\n",
      "       7   Miscellaneous (including  macro  packages  and  conventions),  e.g.\n",
      "           man(7), groff(7), man-pages(7)\n",
      "       8   System administration commands (usually only for root)\n",
      "       9   Kernel routines [Non standard]\n",
      "\n",
      "       A manual page consists of several sections.\n",
      "\n",
      "       Conventional  section  names include NAME, SYNOPSIS, CONFIGURATION, DE‐\n",
      "       SCRIPTION, OPTIONS,  EXIT STATUS,  RETURN VALUE,  ERRORS,  ENVIRONMENT,\n",
      "       FILES,  VERSIONS,  CONFORMING TO,  NOTES,  BUGS,  EXAMPLE, AUTHORS, and\n",
      "       SEE ALSO.\n",
      "\n",
      "       The following conventions apply to the SYNOPSIS section and can be used\n",
      "       as a guide in other sections.\n",
      "\n",
      "       bold text          type exactly as shown.\n",
      "       italic text        replace with appropriate argument.\n",
      "       [-abc]             any or all arguments within [ ] are optional.\n",
      "       -a|-b              options delimited by | cannot be used together.\n",
      "       argument ...       argument is repeatable.\n",
      "       [expression] ...   entire expression within [ ] is repeatable.\n",
      "\n",
      "       Exact rendering may vary depending on the output device.  For instance,\n",
      "       man will usually not be able to render italics when running in a termi‐\n",
      "       nal, and will typically use underlined or coloured text instead.\n",
      "\n",
      "       The command or function illustration is a pattern that should match all\n",
      "       possible invocations.  In some cases it is advisable to illustrate sev‐\n",
      "       eral  exclusive invocations as is shown in the SYNOPSIS section of this\n",
      "       manual page.\n",
      "\n",
      "EXAMPLES\n",
      "       man ls\n",
      "           Display the manual page for the item (program) ls.\n",
      "\n",
      "       man man.7\n",
      "           Display the manual page for  macro  package  man  from  section  7.\n",
      "           (This is an alternative spelling of \"man 7 man\".)\n",
      "\n",
      "       man 'man(7)'\n",
      "           Display  the  manual  page  for  macro  package man from section 7.\n",
      "           (This is another alternative spelling of \"man 7 man\".   It  may  be\n",
      "           more convenient when copying and pasting cross-references to manual\n",
      "           pages.  Note that the parentheses must normally be quoted  to  pro‐\n",
      "           tect them from the shell.)\n",
      "\n",
      "       man -a intro\n",
      "           Display,  in  succession,  all  of the available intro manual pages\n",
      "           contained within the manual.  It is possible to quit  between  suc‐\n",
      "           cessive displays or skip any of them.\n",
      "\n",
      "       man -t bash | lpr -Pps\n",
      "           Format  the  manual  page  for bash into the default troff or groff\n",
      "           format and pipe it to the printer named ps.  The default output for\n",
      "           groff  is usually PostScript.  man --help should advise as to which\n",
      "           processor is bound to the -t option.\n",
      "\n",
      "       man -l -Tdvi ./foo.1x.gz > ./foo.1x.dvi\n",
      "           This command will decompress and format  the  nroff  source  manual\n",
      "           page  ./foo.1x.gz  into a device independent (dvi) file.  The redi‐\n",
      "           rection is necessary as the -T flag causes output to be directed to\n",
      "           stdout  with  no  pager.  The output could be viewed with a program\n",
      "           such as xdvi or further processed into PostScript using  a  program\n",
      "           such as dvips.\n",
      "\n",
      "       man -k printf\n",
      "           Search the short descriptions and manual page names for the keyword\n",
      "           printf as regular expression.  Print out any  matches.   Equivalent\n",
      "           to apropos printf.\n",
      "\n",
      "       man -f smail\n",
      "           Lookup the manual pages referenced by smail and print out the short\n",
      "           descriptions of any found.  Equivalent to whatis smail.\n",
      "\n",
      "OVERVIEW\n",
      "       Many options are available to man in order to give as much  flexibility\n",
      "       as  possible to the user.  Changes can be made to the search path, sec‐\n",
      "       tion order, output processor, and other behaviours and  operations  de‐\n",
      "       tailed below.\n",
      "\n",
      "       If set, various environment variables are interrogated to determine the\n",
      "       operation of man.  It is  possible  to  set  the  \"catch-all\"  variable\n",
      "       $MANOPT  to  any string in command line format, with the exception that\n",
      "       any spaces used as part of an option's argument must be  escaped  (pre‐\n",
      "       ceded by a backslash).  man will parse $MANOPT prior to parsing its own\n",
      "       command line.  Those options requiring an argument will  be  overridden\n",
      "       by the same options found on the command line.  To reset all of the op‐\n",
      "       tions set in $MANOPT, -D can be specified as the initial  command  line\n",
      "       option.  This will allow man to \"forget\" about the options specified in\n",
      "       $MANOPT, although they must still have been valid.\n",
      "\n",
      "       Manual pages are normally stored in nroff(1) format under  a  directory\n",
      "       such  as /usr/share/man.  In some installations, there may also be pre‐\n",
      "       formatted cat pages to improve performance.  See manpath(5) for details\n",
      "       of where these files are stored.\n",
      "\n",
      "       This package supports manual pages in multiple languages, controlled by\n",
      "       your locale.  If your system did not set this up for you automatically,\n",
      "       then  you may need to set $LC_MESSAGES, $LANG, or another system-depen‐\n",
      "       dent environment variable to indicate your  preferred  locale,  usually\n",
      "       specified in the POSIX format:\n",
      "\n",
      "       <language>[_<territory>[.<character-set>[,<version>]]]\n",
      "\n",
      "       If  the  desired page is available in your locale, it will be displayed\n",
      "       in lieu of the standard (usually American English) page.\n",
      "\n",
      "       If you find that the translations supplied with this  package  are  not\n",
      "       available  in  your  native language and you would like to supply them,\n",
      "       please contact the maintainer who will be coordinating such activity.\n",
      "\n",
      "       Individual manual pages are normally  written  and  maintained  by  the\n",
      "       maintainers  of  the  program, function, or other topic that they docu‐\n",
      "       ment, and are not included with this package.  If you find that a  man‐\n",
      "       ual  page is missing or inadequate, please report that to the maintain‐\n",
      "       ers of the package in question.\n",
      "\n",
      "       For information regarding other features and extensions available  with\n",
      "       this manual pager, please read the documents supplied with the package.\n",
      "\n",
      "DEFAULTS\n",
      "       The  order  of  sections to search may be overridden by the environment\n",
      "       variable $MANSECT or by the SECTION directive  in  /etc/manpath.config.\n",
      "       By default it is as follows:\n",
      "\n",
      "              1 n l 8 3 0 2 3posix 3pm 3perl 3am 5 4 9 6 7\n",
      "\n",
      "       The  formatted  manual  page  is  displayed using a pager.  This can be\n",
      "       specified in a number of ways, or else will fall back to a default (see\n",
      "       option -P for details).\n",
      "\n",
      "       The  filters are deciphered by a number of means.  Firstly, the command\n",
      "       line option -p or the environment variable $MANROFFSEQ is interrogated.\n",
      "       If  -p  was not used and the environment variable was not set, the ini‐\n",
      "       tial line of the nroff file is parsed for a  preprocessor  string.   To\n",
      "       contain a valid preprocessor string, the first line must resemble\n",
      "\n",
      "       '\\\" <string>\n",
      "\n",
      "       where  string  can be any combination of letters described by option -p\n",
      "       below.\n",
      "\n",
      "       If none of the above methods provide any filter information, a  default\n",
      "       set is used.\n",
      "\n",
      "       A  formatting  pipeline is formed from the filters and the primary for‐\n",
      "       matter (nroff or [tg]roff with -t) and executed.  Alternatively, if  an\n",
      "       executable program mandb_nfmt (or mandb_tfmt with -t) exists in the man\n",
      "       tree root, it is executed instead.  It gets passed  the  manual  source\n",
      "       file, the preprocessor string, and optionally the device specified with\n",
      "       -T or -E as arguments.\n",
      "\n",
      "OPTIONS\n",
      "       Non-argument options that are duplicated either on the command line, in\n",
      "       $MANOPT,  or  both, are not harmful.  For options that require an argu‐\n",
      "       ment, each duplication will override the previous argument value.\n",
      "\n",
      "   General options\n",
      "       -C file, --config-file=file\n",
      "              Use this user configuration file  rather  than  the  default  of\n",
      "              ~/.manpath.\n",
      "\n",
      "       -d, --debug\n",
      "              Print debugging information.\n",
      "\n",
      "       -D, --default\n",
      "              This  option is normally issued as the very first option and re‐\n",
      "              sets man's behaviour to its default.  Its use is to reset  those\n",
      "              options  that  may  have  been set in $MANOPT.  Any options that\n",
      "              follow -D will have their usual effect.\n",
      "\n",
      "       --warnings[=warnings]\n",
      "              Enable warnings from groff.  This may be used to perform  sanity\n",
      "              checks on the source text of manual pages.  warnings is a comma-\n",
      "              separated list of warning names; if it is not supplied, the  de‐\n",
      "              fault  is  \"mac\".   See  the “Warnings” node in info groff for a\n",
      "              list of available warning names.\n",
      "\n",
      "   Main modes of operation\n",
      "       -f, --whatis\n",
      "              Equivalent to whatis.  Display a short description from the man‐\n",
      "              ual page, if available.  See whatis(1) for details.\n",
      "\n",
      "       -k, --apropos\n",
      "              Equivalent  to  apropos.   Search the short manual page descrip‐\n",
      "              tions for keywords and display any matches.  See apropos(1)  for\n",
      "              details.\n",
      "\n",
      "       -K, --global-apropos\n",
      "              Search  for  text  in  all  manual pages.  This is a brute-force\n",
      "              search, and is likely to take some time; if you can, you  should\n",
      "              specify  a section to reduce the number of pages that need to be\n",
      "              searched.  Search terms may be simple strings (the default),  or\n",
      "              regular expressions if the --regex option is used.\n",
      "\n",
      "              Note that this searches the sources of the manual pages, not the\n",
      "              rendered text, and so may include false positives due to  things\n",
      "              like  comments  in  source  files.   Searching the rendered text\n",
      "              would be much slower.\n",
      "\n",
      "       -l, --local-file\n",
      "              Activate \"local\" mode.  Format and display  local  manual  files\n",
      "              instead  of  searching  through  the system's manual collection.\n",
      "              Each manual page argument will be interpreted as an nroff source\n",
      "              file in the correct format.  No cat file is produced.  If '-' is\n",
      "              listed as one of the arguments, input will be taken from  stdin.\n",
      "              When this option is not used, and man fails to find the page re‐\n",
      "              quired, before displaying the error message, it attempts to  act\n",
      "              as if this option was supplied, using the name as a filename and\n",
      "              looking for an exact match.\n",
      "\n",
      "       -w, --where, --path, --location\n",
      "              Don't actually display the manual page, but do print  the  loca‐\n",
      "              tion  of  the source nroff file that would be formatted.  If the\n",
      "              -a option is also used, then print the locations of  all  source\n",
      "              files that match the search criteria.\n",
      "\n",
      "       -W, --where-cat, --location-cat\n",
      "              Don't  actually  display the manual page, but do print the loca‐\n",
      "              tion of the preformatted cat file that would be  displayed.   If\n",
      "              the -a option is also used, then print the locations of all pre‐\n",
      "              formatted cat files that match the search criteria.\n",
      "\n",
      "              If -w and -W are both used, then print both source file and  cat\n",
      "              file  separated  by a space.  If all of -w, -W, and -a are used,\n",
      "              then do this for each possible match.\n",
      "\n",
      "       -c, --catman\n",
      "              This option is not for general use and should only  be  used  by\n",
      "              the catman program.\n",
      "\n",
      "       -R encoding, --recode=encoding\n",
      "              Instead  of  formatting the manual page in the usual way, output\n",
      "              its source converted to the specified encoding.  If you  already\n",
      "              know  the  encoding  of  the  source file, you can also use man‐\n",
      "              conv(1) directly.  However, this option allows  you  to  convert\n",
      "              several  manual pages to a single encoding without having to ex‐\n",
      "              plicitly state the encoding of each, provided that they were al‐\n",
      "              ready  installed in a structure similar to a manual page hierar‐\n",
      "              chy.\n",
      "\n",
      "              Consider using man-recode(1)  instead  for  converting  multiple\n",
      "              manual  pages,  since it has an interface designed for bulk con‐\n",
      "              version and so can be much faster.\n",
      "\n",
      "   Finding manual pages\n",
      "       -L locale, --locale=locale\n",
      "              man will normally determine your current locale by a call to the\n",
      "              C  function  setlocale(3) which interrogates various environment\n",
      "              variables, possibly including $LC_MESSAGES and $LANG.  To tempo‐\n",
      "              rarily  override the determined value, use this option to supply\n",
      "              a locale string directly to man.  Note that it will not take ef‐\n",
      "              fect until the search for pages actually begins.  Output such as\n",
      "              the help message will always be displayed in the  initially  de‐\n",
      "              termined locale.\n",
      "\n",
      "       -m system[,...], --systems=system[,...]\n",
      "              If  this  system  has  access to other operating systems' manual\n",
      "              pages, they can be accessed using this option.  To search for  a\n",
      "              manual  page from NewOS's manual page collection, use the option\n",
      "              -m NewOS.\n",
      "\n",
      "              The system specified can be a combination of comma delimited op‐\n",
      "              erating system names.  To include a search of the native operat‐\n",
      "              ing system's manual pages, include the system name  man  in  the\n",
      "              argument string.  This option will override the $SYSTEM environ‐\n",
      "              ment variable.\n",
      "\n",
      "       -M path, --manpath=path\n",
      "              Specify an alternate manpath to use.  By default, man uses  man‐\n",
      "              path  derived code to determine the path to search.  This option\n",
      "              overrides the $MANPATH environment variable and causes option -m\n",
      "              to be ignored.\n",
      "\n",
      "              A  path specified as a manpath must be the root of a manual page\n",
      "              hierarchy structured into sections as described  in  the  man-db\n",
      "              manual  (under  \"The manual page system\").  To view manual pages\n",
      "              outside such hierarchies, see the -l option.\n",
      "\n",
      "       -S list, -s list, --sections=list\n",
      "              The given list is a colon- or comma-separated list of  sections,\n",
      "              used  to  determine  which manual sections to search and in what\n",
      "              order.  This option overrides the $MANSECT environment variable.\n",
      "              (The -s spelling is for compatibility with System V.)\n",
      "\n",
      "       -e sub-extension, --extension=sub-extension\n",
      "              Some systems incorporate large packages of manual pages, such as\n",
      "              those that accompany the Tcl package, into the main manual  page\n",
      "              hierarchy.  To get around the problem of having two manual pages\n",
      "              with the same name such as exit(3), the Tcl pages  were  usually\n",
      "              all  assigned  to  section l.  As this is unfortunate, it is now\n",
      "              possible to put the pages in the correct section, and to  assign\n",
      "              a specific \"extension\" to them, in this case, exit(3tcl).  Under\n",
      "              normal operation, man will  display  exit(3)  in  preference  to\n",
      "              exit(3tcl).   To negotiate this situation and to avoid having to\n",
      "              know which section the page you require resides in,  it  is  now\n",
      "              possible  to  give  man  a sub-extension string indicating which\n",
      "              package the page must belong to.  Using the above example,  sup‐\n",
      "              plying  the  option  -e tcl  to  man will restrict the search to\n",
      "              pages having an extension of *tcl.\n",
      "\n",
      "       -i, --ignore-case\n",
      "              Ignore case when searching for manual pages.  This  is  the  de‐\n",
      "              fault.\n",
      "\n",
      "       -I, --match-case\n",
      "              Search for manual pages case-sensitively.\n",
      "\n",
      "       --regex\n",
      "              Show  all pages with any part of either their names or their de‐\n",
      "              scriptions matching each page argument as a regular  expression,\n",
      "              as with apropos(1).  Since there is usually no reasonable way to\n",
      "              pick a \"best\" page when searching for a regular expression, this\n",
      "              option implies -a.\n",
      "\n",
      "       --wildcard\n",
      "              Show  all pages with any part of either their names or their de‐\n",
      "              scriptions matching each page argument using  shell-style  wild‐\n",
      "              cards,  as  with  apropos(1) --wildcard.  The page argument must\n",
      "              match the entire name or description, or match  on  word  bound‐\n",
      "              aries  in the description.  Since there is usually no reasonable\n",
      "              way to pick a \"best\" page when searching for  a  wildcard,  this\n",
      "              option implies -a.\n",
      "\n",
      "       --names-only\n",
      "              If  the  --regex  or  --wildcard option is used, match only page\n",
      "              names, not page descriptions, as with whatis(1).  Otherwise,  no\n",
      "              effect.\n",
      "\n",
      "       -a, --all\n",
      "              By  default,  man  will  exit after displaying the most suitable\n",
      "              manual page it finds.  Using this option forces man  to  display\n",
      "              all the manual pages with names that match the search criteria.\n",
      "\n",
      "       -u, --update\n",
      "              This  option  causes  man  to  update its database caches of in‐\n",
      "              stalled manual pages.  This is only needed in  rare  situations,\n",
      "              and it is normally better to run mandb(8) instead.\n",
      "\n",
      "       --no-subpages\n",
      "              By default, man will try to interpret pairs of manual page names\n",
      "              given on the command line as equivalent to a single manual  page\n",
      "              name  containing  a  hyphen or an underscore.  This supports the\n",
      "              common pattern of programs that implement a  number  of  subcom‐\n",
      "              mands,  allowing  them to provide manual pages for each that can\n",
      "              be accessed using similar syntax as would be used to invoke  the\n",
      "              subcommands themselves.  For example:\n",
      "\n",
      "                $ man -aw git diff\n",
      "                /usr/share/man/man1/git-diff.1.gz\n",
      "\n",
      "              To disable this behaviour, use the --no-subpages option.\n",
      "\n",
      "                $ man -aw --no-subpages git diff\n",
      "                /usr/share/man/man1/git.1.gz\n",
      "                /usr/share/man/man3/Git.3pm.gz\n",
      "                /usr/share/man/man1/diff.1.gz\n",
      "\n",
      "   Controlling formatted output\n",
      "       -P pager, --pager=pager\n",
      "              Specify  which output pager to use.  By default, man uses pager,\n",
      "              falling back to cat if pager is not found or is not  executable.\n",
      "              This  option overrides the $MANPAGER environment variable, which\n",
      "              in turn overrides the $PAGER environment variable.   It  is  not\n",
      "              used in conjunction with -f or -k.\n",
      "\n",
      "              The  value  may be a simple command name or a command with argu‐\n",
      "              ments, and may use shell quoting (backslashes, single quotes, or\n",
      "              double  quotes).   It may not use pipes to connect multiple com‐\n",
      "              mands; if you need that, use a wrapper script,  which  may  take\n",
      "              the file to display either as an argument or on standard input.\n",
      "\n",
      "       -r prompt, --prompt=prompt\n",
      "              If  a  recent version of less is used as the pager, man will at‐\n",
      "              tempt to set its prompt and some sensible options.  The  default\n",
      "              prompt looks like\n",
      "\n",
      "               Manual page name(sec) line x\n",
      "\n",
      "              where name denotes the manual page name, sec denotes the section\n",
      "              it was found under and x  the  current  line  number.   This  is\n",
      "              achieved by using the $LESS environment variable.\n",
      "\n",
      "              Supplying  -r  with  a  string  will override this default.  The\n",
      "              string may contain the text $MAN_PN which will  be  expanded  to\n",
      "              the  name  of  the current manual page and its section name sur‐\n",
      "              rounded by \"(\" and \")\".  The string used to produce the  default\n",
      "              could be expressed as\n",
      "\n",
      "              \\ Manual\\ page\\ \\$MAN_PN\\ ?ltline\\ %lt?L/%L.:\n",
      "              byte\\ %bB?s/%s..?\\ (END):?pB\\ %pB\\\\%..\n",
      "              (press h for help or q to quit)\n",
      "\n",
      "              It  is  broken into three lines here for the sake of readability\n",
      "              only.  For its meaning see the less(1) manual page.  The  prompt\n",
      "              string  is  first  evaluated  by  the shell.  All double quotes,\n",
      "              back-quotes and backslashes in the prompt must be escaped  by  a\n",
      "              preceding  backslash.  The prompt string may end in an escaped $\n",
      "              which may be followed by further options for less.   By  default\n",
      "              man sets the -ix8 options.\n",
      "\n",
      "              The $MANLESS environment variable described below may be used to\n",
      "              set a default prompt string if none is supplied on  the  command\n",
      "              line.\n",
      "\n",
      "       -7, --ascii\n",
      "              When  viewing a pure ascii(7) manual page on a 7 bit terminal or\n",
      "              terminal emulator, some characters  may  not  display  correctly\n",
      "              when  using  the  latin1(7)  device  description with GNU nroff.\n",
      "              This option allows pure ascii manual pages to  be  displayed  in\n",
      "              ascii  with the latin1 device.  It will not translate any latin1\n",
      "              text.  The following table  shows  the  translations  performed:\n",
      "              some  parts  of it may only be displayed properly when using GNU\n",
      "              nroff's latin1(7) device.\n",
      "\n",
      "              Description        Octal   latin1   ascii\n",
      "              ──────────────────────────────────────────\n",
      "              continuation hy‐    255      ‐        -\n",
      "              phen\n",
      "              bullet (middle      267      •        o\n",
      "              dot)\n",
      "              acute accent        264      ´        '\n",
      "              multiplication      327      ×        x\n",
      "              sign\n",
      "\n",
      "              If  the  latin1  column displays correctly, your terminal may be\n",
      "              set up for latin1 characters and this option is  not  necessary.\n",
      "              If  the  latin1 and ascii columns are identical, you are reading\n",
      "              this page using this option or man did not format this page  us‐\n",
      "              ing  the  latin1  device  description.   If the latin1 column is\n",
      "              missing or corrupt, you may need to view manual pages with  this\n",
      "              option.\n",
      "\n",
      "              This  option is ignored when using options -t, -H, -T, or -Z and\n",
      "              may be useless for nroff other than GNU's.\n",
      "\n",
      "       -E encoding, --encoding=encoding\n",
      "              Generate output for a character encoding other than the default.\n",
      "              For backward compatibility, encoding may be an nroff device such\n",
      "              as ascii, latin1, or utf8 as well as a true  character  encoding\n",
      "              such as UTF-8.\n",
      "\n",
      "       --no-hyphenation, --nh\n",
      "              Normally, nroff will automatically hyphenate text at line breaks\n",
      "              even in words that do not contain hyphens, if it is necessary to\n",
      "              do  so  to  lay  out  words on a line without excessive spacing.\n",
      "              This option disables automatic hyphenation, so words  will  only\n",
      "              be hyphenated if they already contain hyphens.\n",
      "\n",
      "              If  you  are  writing  a  manual page and simply want to prevent\n",
      "              nroff from hyphenating a word at an inappropriate point, do  not\n",
      "              use  this  option,  but consult the nroff documentation instead;\n",
      "              for instance, you can put \"\\%\" inside a word to indicate that it\n",
      "              may  be  hyphenated at that point, or put \"\\%\" at the start of a\n",
      "              word to prevent it from being hyphenated.\n",
      "\n",
      "       --no-justification, --nj\n",
      "              Normally, nroff will automatically justify text to both margins.\n",
      "              This  option disables full justification, leaving justified only\n",
      "              to the left margin, sometimes called \"ragged-right\" text.\n",
      "\n",
      "              If you are writing a manual page  and  simply  want  to  prevent\n",
      "              nroff  from  justifying  certain paragraphs, do not use this op‐\n",
      "              tion, but consult the nroff documentation instead; for instance,\n",
      "              you  can use the \".na\", \".nf\", \".fi\", and \".ad\" requests to tem‐\n",
      "              porarily disable adjusting and filling.\n",
      "\n",
      "       -p string, --preprocessor=string\n",
      "              Specify the sequence of preprocessors to  run  before  nroff  or\n",
      "              troff/groff.  Not all installations will have a full set of pre‐\n",
      "              processors.  Some of the preprocessors and the letters  used  to\n",
      "              designate  them are: eqn (e), grap (g), pic (p), tbl (t), vgrind\n",
      "              (v), refer (r).  This option overrides the $MANROFFSEQ  environ‐\n",
      "              ment  variable.   zsoelim  is  always run as the very first pre‐\n",
      "              processor.\n",
      "\n",
      "       -t, --troff\n",
      "              Use groff -mandoc to format the manual page to stdout.  This op‐\n",
      "              tion is not required in conjunction with -H, -T, or -Z.\n",
      "\n",
      "       -T[device], --troff-device[=device]\n",
      "              This option is used to change groff (or possibly troff's) output\n",
      "              to be suitable for a device other than the default.  It  implies\n",
      "              -t.   Examples  (provided  with Groff-1.17) include dvi, latin1,\n",
      "              ps, utf8, X75 and X100.\n",
      "\n",
      "       -H[browser], --html[=browser]\n",
      "              This option will cause groff to produce HTML  output,  and  will\n",
      "              display  that output in a web browser.  The choice of browser is\n",
      "              determined by the optional browser argument if one is  provided,\n",
      "              by  the  $BROWSER environment variable, or by a compile-time de‐\n",
      "              fault if that is unset (usually lynx).  This option implies  -t,\n",
      "              and will only work with GNU troff.\n",
      "\n",
      "       -X[dpi], --gxditview[=dpi]\n",
      "              This  option  displays the output of groff in a graphical window\n",
      "              using the gxditview program.  The dpi (dots per inch) may be 75,\n",
      "              75-12,  100, or 100-12, defaulting to 75; the -12 variants use a\n",
      "              12-point base font.   This  option  implies  -T  with  the  X75,\n",
      "              X75-12, X100, or X100-12 device respectively.\n",
      "\n",
      "       -Z, --ditroff\n",
      "              groff  will run troff and then use an appropriate post-processor\n",
      "              to produce output suitable for  the  chosen  device.   If  groff\n",
      "              -mandoc  is  groff, this option is passed to groff and will sup‐\n",
      "              press the use of a post-processor.  It implies -t.\n",
      "\n",
      "   Getting help\n",
      "       -?, --help\n",
      "              Print a help message and exit.\n",
      "\n",
      "       --usage\n",
      "              Print a short usage message and exit.\n",
      "\n",
      "       -V, --version\n",
      "              Display version information.\n",
      "\n",
      "EXIT STATUS\n",
      "       0      Successful program execution.\n",
      "\n",
      "       1      Usage, syntax or configuration file error.\n",
      "\n",
      "       2      Operational error.\n",
      "\n",
      "       3      A child process returned a non-zero exit status.\n",
      "\n",
      "       16     At least one of the pages/files/keywords didn't exist or  wasn't\n",
      "              matched.\n",
      "\n",
      "ENVIRONMENT\n",
      "       MANPATH\n",
      "              If  $MANPATH is set, its value is used as the path to search for\n",
      "              manual pages.\n",
      "\n",
      "              See the SEARCH PATH section of manpath(5) for the default behav‐\n",
      "              iour and details of how this environment variable is handled.\n",
      "\n",
      "       MANROFFOPT\n",
      "              Every  time  man invokes the formatter (nroff, troff, or groff),\n",
      "              it adds the contents of $MANROFFOPT to the  formatter's  command\n",
      "              line.\n",
      "\n",
      "       MANROFFSEQ\n",
      "              If $MANROFFSEQ is set, its value is used to determine the set of\n",
      "              preprocessors to pass each manual  page  through.   The  default\n",
      "              preprocessor list is system dependent.\n",
      "\n",
      "       MANSECT\n",
      "              If  $MANSECT is set, its value is a colon-delimited list of sec‐\n",
      "              tions and it is used  to  determine  which  manual  sections  to\n",
      "              search  and in what order.  The default is \"1 n l 8 3 0 2 3posix\n",
      "              3pm 3perl 3am 5 4 9 6 7\", unless overridden by the  SECTION  di‐\n",
      "              rective in /etc/manpath.config.\n",
      "\n",
      "       MANPAGER, PAGER\n",
      "              If $MANPAGER or $PAGER is set ($MANPAGER is used in preference),\n",
      "              its value is used as the name of the program used to display the\n",
      "              manual  page.  By default, pager is used, falling back to cat if\n",
      "              pager is not found or is not executable.\n",
      "\n",
      "              The value may be a simple command name or a command  with  argu‐\n",
      "              ments, and may use shell quoting (backslashes, single quotes, or\n",
      "              double quotes).  It may not use pipes to connect  multiple  com‐\n",
      "              mands;  if  you  need that, use a wrapper script, which may take\n",
      "              the file to display either as an argument or on standard input.\n",
      "\n",
      "       MANLESS\n",
      "              If $MANLESS is set, its value will be used as the default prompt\n",
      "              string for the less pager, as if it had been passed using the -r\n",
      "              option (so any occurrences of the text $MAN_PN will be  expanded\n",
      "              in  the  same  way).  For example, if you want to set the prompt\n",
      "              string unconditionally to “my prompt string”,  set  $MANLESS  to\n",
      "              ‘-Psmy prompt string’.  Using the -r option overrides this envi‐\n",
      "              ronment variable.\n",
      "\n",
      "       BROWSER\n",
      "              If $BROWSER is set, its value is a colon-delimited list of  com‐\n",
      "              mands,  each  of  which  in  turn  is used to try to start a web\n",
      "              browser for man --html.  In each command, %s is  replaced  by  a\n",
      "              filename  containing  the HTML output from groff, %% is replaced\n",
      "              by a single percent sign (%), and %c is replaced by a colon (:).\n",
      "\n",
      "       SYSTEM If $SYSTEM is set, it will have the same effect  as  if  it  had\n",
      "              been specified as the argument to the -m option.\n",
      "\n",
      "       MANOPT If $MANOPT is set, it will be parsed prior to man's command line\n",
      "              and is expected to be in a similar format.  As all of the  other\n",
      "              man  specific  environment variables can be expressed as command\n",
      "              line options, and are thus  candidates  for  being  included  in\n",
      "              $MANOPT  it  is  expected  that they will become obsolete.  N.B.\n",
      "              All spaces that should be interpreted as part of an option's ar‐\n",
      "              gument must be escaped.\n",
      "\n",
      "       MANWIDTH\n",
      "              If  $MANWIDTH  is  set, its value is used as the line length for\n",
      "              which manual pages should be formatted.  If it is not set,  man‐\n",
      "              ual  pages  will  be formatted with a line length appropriate to\n",
      "              the current terminal (using the value of $COLUMNS, and  ioctl(2)\n",
      "              if  available,  or  falling  back to 80 characters if neither is\n",
      "              available).  Cat pages will only be saved when the default  for‐\n",
      "              matting  can  be  used, that is when the terminal line length is\n",
      "              between 66 and 80 characters.\n",
      "\n",
      "       MAN_KEEP_FORMATTING\n",
      "              Normally, when output is not being directed to a terminal  (such\n",
      "              as  to a file or a pipe), formatting characters are discarded to\n",
      "              make it easier to read the result without special  tools.   How‐\n",
      "              ever,  if  $MAN_KEEP_FORMATTING  is  set to any non-empty value,\n",
      "              these formatting characters are retained.  This  may  be  useful\n",
      "              for  wrappers  around  man that can interpret formatting charac‐\n",
      "              ters.\n",
      "\n",
      "       MAN_KEEP_STDERR\n",
      "              Normally, when output is being directed to a  terminal  (usually\n",
      "              to  a  pager), any error output from the command used to produce\n",
      "              formatted versions of manual pages is discarded to avoid  inter‐\n",
      "              fering  with  the pager's display.  Programs such as groff often\n",
      "              produce relatively  minor  error  messages  about  typographical\n",
      "              problems  such as poor alignment, which are unsightly and gener‐\n",
      "              ally confusing when displayed along with the manual page.   How‐\n",
      "              ever,   some   users   want   to   see   them   anyway,  so,  if\n",
      "              $MAN_KEEP_STDERR is set to any  non-empty  value,  error  output\n",
      "              will be displayed as usual.\n",
      "\n",
      "       MAN_DISABLE_SECCOMP\n",
      "              On  Linux,  man  normally  confines subprocesses that handle un‐\n",
      "              trusted data using a seccomp(2) sandbox.  This makes it safer to\n",
      "              run  complex  parsing code over arbitrary manual pages.  If this\n",
      "              goes wrong for some reason unrelated to the content of the  page\n",
      "              being  displayed,  you  can set $MAN_DISABLE_SECCOMP to any non-\n",
      "              empty value to disable the sandbox.\n",
      "\n",
      "       PIPELINE_DEBUG\n",
      "              If the $PIPELINE_DEBUG environment variable is set to \"1\",  then\n",
      "              man  will  print debugging messages to standard error describing\n",
      "              each subprocess it runs.\n",
      "\n",
      "       LANG, LC_MESSAGES\n",
      "              Depending on system and implementation, either or both of  $LANG\n",
      "              and  $LC_MESSAGES  will  be interrogated for the current message\n",
      "              locale.  man will display its messages in that locale (if avail‐\n",
      "              able).  See setlocale(3) for precise details.\n",
      "\n",
      "FILES\n",
      "       /etc/manpath.config\n",
      "              man-db configuration file.\n",
      "\n",
      "       /usr/share/man\n",
      "              A global manual page hierarchy.\n",
      "\n",
      "SEE ALSO\n",
      "       apropos(1),   groff(1),   less(1),   manpath(1),   nroff(1),  troff(1),\n",
      "       whatis(1), zsoelim(1), manpath(5), man(7), catman(8), mandb(8)\n",
      "\n",
      "       Documentation for some packages may be available in other formats, such\n",
      "       as info(1) or HTML.\n",
      "\n",
      "HISTORY\n",
      "       1990, 1991 – Originally written by John W. Eaton (jwe@che.utexas.edu).\n",
      "\n",
      "       Dec 23 1992: Rik Faith (faith@cs.unc.edu) applied bug fixes supplied by\n",
      "       Willem Kasdorp (wkasdo@nikhefk.nikef.nl).\n",
      "\n",
      "       30th April 1994 – 23rd February 2000: Wilf. (G.Wilford@ee.surrey.ac.uk)\n",
      "       has been developing and maintaining this package with the help of a few\n",
      "       dedicated people.\n",
      "\n",
      "       30th October 1996 – 30th March  2001:  Fabrizio  Polacco  <fpolacco@de‐\n",
      "       bian.org>  maintained and enhanced this package for the Debian project,\n",
      "       with the help of all the community.\n",
      "\n",
      "       31st March 2001 – present day: Colin  Watson  <cjwatson@debian.org>  is\n",
      "       now developing and maintaining man-db.\n",
      "\n",
      "BUGS\n",
      "       https://gitlab.com/cjwatson/man-db/-/issues\n",
      "       https://savannah.nongnu.org/bugs/?group=man-db\n",
      "\n",
      "2.10.2                            2022-03-17                            MAN(1)\n"
     ]
    }
   ],
   "source": [
    "# man (manual) \n",
    "# Add man as a prefix to any command to check the manual reference\n",
    "# Syntax: man <command>\n",
    "\n",
    "!man man"
   ]
  },
  {
   "cell_type": "code",
   "execution_count": 67,
   "metadata": {},
   "outputs": [
    {
     "name": "stdout",
     "output_type": "stream",
     "text": [
      "DESKTOP-1GHH8VU\n"
     ]
    }
   ],
   "source": [
    "# hostname\n",
    "# to check the DNS name of the current machine\n",
    "\n",
    "!hostname"
   ]
  },
  {
   "cell_type": "code",
   "execution_count": 142,
   "metadata": {},
   "outputs": [],
   "source": [
    "# reboot \n",
    "# command restarts the system immediately from the terminal. "
   ]
  },
  {
   "cell_type": "code",
   "execution_count": 143,
   "metadata": {},
   "outputs": [
    {
     "name": "stdout",
     "output_type": "stream",
     "text": [
      "/usr/bin/cat\n"
     ]
    }
   ],
   "source": [
    "# which \n",
    "# command shows the path of an executable program (command)\n",
    "# Syntax: which <command>\n",
    "\n",
    "!which cat"
   ]
  },
  {
   "cell_type": "code",
   "execution_count": 144,
   "metadata": {},
   "outputs": [
    {
     "name": "stdout",
     "output_type": "stream",
     "text": [
      "cat (1)              - concatenate files and print on the standard output\n"
     ]
    }
   ],
   "source": [
    "# whatis \n",
    "# command is a quick way to determine what a command does.\n",
    "\n",
    "!whatis cat"
   ]
  },
  {
   "cell_type": "code",
   "execution_count": null,
   "metadata": {},
   "outputs": [],
   "source": [
    "# alias \n",
    "# command to show and set customized command shortcuts. \n",
    "# Syntax: alias <name>=<command>"
   ]
  },
  {
   "cell_type": "code",
   "execution_count": null,
   "metadata": {},
   "outputs": [],
   "source": [
    "# unalias \n",
    "# to remove a defined alias\n",
    "# Syntax: unalias <command>"
   ]
  },
  {
   "attachments": {},
   "cell_type": "markdown",
   "metadata": {},
   "source": [
    "Reference: https://phoenixnap.com/kb/linux-commands"
   ]
  }
 ],
 "metadata": {
  "kernelspec": {
   "display_name": "tsinfer",
   "language": "python",
   "name": "python3"
  },
  "language_info": {
   "codemirror_mode": {
    "name": "ipython",
    "version": 3
   },
   "file_extension": ".py",
   "mimetype": "text/x-python",
   "name": "python",
   "nbconvert_exporter": "python",
   "pygments_lexer": "ipython3",
   "version": "3.10.8 | packaged by conda-forge | (main, Nov 22 2022, 08:26:04) [GCC 10.4.0]"
  },
  "orig_nbformat": 4,
  "vscode": {
   "interpreter": {
    "hash": "3e7889d32685d7bd3545250573ca1b788d42bef239306b18b2f0ba00d19c6c1a"
   }
  }
 },
 "nbformat": 4,
 "nbformat_minor": 2
}
