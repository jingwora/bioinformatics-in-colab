{
 "cells": [
  {
   "attachments": {},
   "cell_type": "markdown",
   "metadata": {},
   "source": [
    "# Linux Command"
   ]
  },
  {
   "attachments": {},
   "cell_type": "markdown",
   "metadata": {},
   "source": [
    "## Manage directory"
   ]
  },
  {
   "cell_type": "code",
   "execution_count": 2,
   "metadata": {},
   "outputs": [
    {
     "name": "stdout",
     "output_type": "stream",
     "text": [
      "/home/jingwora/linux-cmd\n"
     ]
    }
   ],
   "source": [
    "# pwd(print working directory)\n",
    "!pwd"
   ]
  },
  {
   "cell_type": "code",
   "execution_count": 3,
   "metadata": {},
   "outputs": [
    {
     "name": "stdout",
     "output_type": "stream",
     "text": [
      "linux-cmd.ipynb\n"
     ]
    }
   ],
   "source": [
    "# list\n",
    "!ls"
   ]
  },
  {
   "cell_type": "code",
   "execution_count": 5,
   "metadata": {},
   "outputs": [
    {
     "name": "stdout",
     "output_type": "stream",
     "text": [
      "total 4\n",
      "-rw-r--r-- 1 jingwora jingwora 1072 Jan 19 17:43 linux-cmd.ipynb\n"
     ]
    }
   ],
   "source": [
    "# list with detail\n",
    "!ls -l"
   ]
  },
  {
   "cell_type": "code",
   "execution_count": 6,
   "metadata": {},
   "outputs": [
    {
     "name": "stdout",
     "output_type": "stream",
     "text": [
      "total 12\n",
      "drwxr-xr-x  2 jingwora jingwora 4096 Jan 19 17:41 .\n",
      "drwxr-x--- 25 jingwora jingwora 4096 Jan 19 16:46 ..\n",
      "-rw-r--r--  1 jingwora jingwora 1072 Jan 19 17:43 linux-cmd.ipynb\n"
     ]
    }
   ],
   "source": [
    "# list and include hidden files\n",
    "!ls -la"
   ]
  },
  {
   "cell_type": "code",
   "execution_count": 7,
   "metadata": {},
   "outputs": [
    {
     "name": "stdout",
     "output_type": "stream",
     "text": [
      "total 12K\n",
      "drwxr-xr-x  2 jingwora jingwora 4.0K Jan 19 17:41 .\n",
      "drwxr-x--- 25 jingwora jingwora 4.0K Jan 19 16:46 ..\n",
      "-rw-r--r--  1 jingwora jingwora 1.1K Jan 19 17:43 linux-cmd.ipynb\n"
     ]
    }
   ],
   "source": [
    "# sizes in a human-readable format\n",
    "!ls -lah"
   ]
  },
  {
   "cell_type": "code",
   "execution_count": 44,
   "metadata": {},
   "outputs": [],
   "source": [
    "# makd directory\n",
    "!mkdir folder1\n",
    "!mkdir folder2"
   ]
  },
  {
   "cell_type": "code",
   "execution_count": 45,
   "metadata": {},
   "outputs": [],
   "source": [
    "# remove directory\n",
    "!rmdir folder2"
   ]
  },
  {
   "cell_type": "code",
   "execution_count": 46,
   "metadata": {},
   "outputs": [],
   "source": [
    "# change directory\n",
    "!cd folder1"
   ]
  },
  {
   "cell_type": "code",
   "execution_count": 47,
   "metadata": {},
   "outputs": [],
   "source": [
    "# change upper directory\n",
    "!cd .."
   ]
  },
  {
   "cell_type": "code",
   "execution_count": 48,
   "metadata": {},
   "outputs": [],
   "source": [
    "# change to root directory\n",
    "!cd"
   ]
  },
  {
   "attachments": {},
   "cell_type": "markdown",
   "metadata": {},
   "source": [
    "## Create file"
   ]
  },
  {
   "cell_type": "code",
   "execution_count": 30,
   "metadata": {},
   "outputs": [
    {
     "name": "stdout",
     "output_type": "stream",
     "text": [
      "^C\n"
     ]
    }
   ],
   "source": [
    "# write file\n",
    "!cat > file1.txt\n",
    "# $This is a new line\n",
    "# $This is a new line\n",
    "# $CTRL+D"
   ]
  },
  {
   "cell_type": "code",
   "execution_count": 15,
   "metadata": {},
   "outputs": [
    {
     "name": "stdout",
     "output_type": "stream",
     "text": [
      "^C\n"
     ]
    }
   ],
   "source": [
    "# append to file\n",
    "!cat >> file1.txt\n",
    "# $This is a new line\n",
    "# $CTRL+D"
   ]
  },
  {
   "cell_type": "code",
   "execution_count": 50,
   "metadata": {},
   "outputs": [],
   "source": [
    "# create text file with content\n",
    "!echo \"echo hello world\" > file1.txt"
   ]
  },
  {
   "cell_type": "code",
   "execution_count": 51,
   "metadata": {},
   "outputs": [],
   "source": [
    "# append to file\n",
    "!echo \"append\" >> file1.txt"
   ]
  },
  {
   "cell_type": "code",
   "execution_count": 52,
   "metadata": {},
   "outputs": [
    {
     "name": "stdout",
     "output_type": "stream",
     "text": [
      "echo hello world\n",
      "append\n"
     ]
    }
   ],
   "source": [
    "# display content\n",
    "!cat file1.txt"
   ]
  },
  {
   "cell_type": "code",
   "execution_count": 53,
   "metadata": {},
   "outputs": [
    {
     "name": "stdout",
     "output_type": "stream",
     "text": [
      "     1\techo hello world\n",
      "     2\tappend\n"
     ]
    }
   ],
   "source": [
    "# display content with line number\n",
    "!cat -n file1.txt"
   ]
  },
  {
   "cell_type": "code",
   "execution_count": 54,
   "metadata": {},
   "outputs": [
    {
     "name": "stdout",
     "output_type": "stream",
     "text": [
      "echo hello world\n",
      "append\n",
      "append file\n"
     ]
    }
   ],
   "source": [
    "# append file to another file\n",
    "!echo \"append file\" > file2.txt\n",
    "!cat file2.txt >> file1.txt\n",
    "!cat file1.txt"
   ]
  },
  {
   "cell_type": "code",
   "execution_count": 55,
   "metadata": {},
   "outputs": [],
   "source": [
    "# to modify an existing file's timestamp or create empty file\n",
    "!touch file1.txt"
   ]
  },
  {
   "cell_type": "code",
   "execution_count": 56,
   "metadata": {},
   "outputs": [],
   "source": [
    "# copy\n",
    "!cp file1.txt file3.txt\n"
   ]
  },
  {
   "cell_type": "code",
   "execution_count": 57,
   "metadata": {},
   "outputs": [],
   "source": [
    "# move file\n",
    "!mv file3.txt folder1/file3.txt"
   ]
  },
  {
   "cell_type": "code",
   "execution_count": 58,
   "metadata": {},
   "outputs": [],
   "source": [
    "# rename file\n",
    "!mv file2.txt file4.txt"
   ]
  },
  {
   "cell_type": "code",
   "execution_count": 59,
   "metadata": {},
   "outputs": [
    {
     "name": "stdout",
     "output_type": "stream",
     "text": [
      "\u001b[01;34m.\u001b[0m\n",
      "├── file1.txt\n",
      "├── file4.txt\n",
      "├── \u001b[01;34mfolder1\u001b[0m\n",
      "│   └── file3.txt\n",
      "├── linux-cmd.ipynb\n",
      "└── readme.txt\n",
      "\n",
      "1 directory, 5 files\n"
     ]
    }
   ],
   "source": [
    "# check file tree\n",
    "# sudo apt-get install tree\n",
    "!tree"
   ]
  },
  {
   "attachments": {},
   "cell_type": "markdown",
   "metadata": {},
   "source": [
    "## Edit file"
   ]
  },
  {
   "cell_type": "code",
   "execution_count": 61,
   "metadata": {},
   "outputs": [],
   "source": [
    "# remove file\n",
    "!rm file4.txt"
   ]
  },
  {
   "cell_type": "code",
   "execution_count": 87,
   "metadata": {},
   "outputs": [],
   "source": [
    "# delete line (line2)\n",
    "!sed -i '2d' file1.txt"
   ]
  },
  {
   "cell_type": "code",
   "execution_count": 68,
   "metadata": {},
   "outputs": [],
   "source": [
    "# finding a file\n",
    "# sudo apt install locate\n",
    "!locate file3.txt"
   ]
  },
  {
   "cell_type": "code",
   "execution_count": 70,
   "metadata": {},
   "outputs": [
    {
     "name": "stdout",
     "output_type": "stream",
     "text": [
      "./folder1/file3.txt\n"
     ]
    }
   ],
   "source": [
    "# search file name\n",
    "!find -name file3.txt"
   ]
  },
  {
   "cell_type": "code",
   "execution_count": 76,
   "metadata": {},
   "outputs": [
    {
     "name": "stdout",
     "output_type": "stream",
     "text": [
      "echo hello world\n"
     ]
    }
   ],
   "source": [
    "# grep (global regular expression print) \n",
    "# enables searching through text in a file or a standard output. \n",
    "!grep world file1.txt"
   ]
  },
  {
   "cell_type": "code",
   "execution_count": 78,
   "metadata": {},
   "outputs": [
    {
     "name": "stdout",
     "output_type": "stream",
     "text": [
      "[sudo] password for jingwora: \n"
     ]
    }
   ],
   "source": [
    "# sudo (superuser do) \n",
    "# elevates a user's permissions to administrator or root.\n",
    "!sudo apt install locate"
   ]
  },
  {
   "cell_type": "code",
   "execution_count": 79,
   "metadata": {},
   "outputs": [
    {
     "name": "stdout",
     "output_type": "stream",
     "text": [
      "Filesystem     1K-blocks      Used Available Use% Mounted on\n",
      "/dev/sdb       263174212  11770944 237965112   5% /\n",
      "tmpfs            6460248         0   6460248   0% /mnt/wsl\n",
      "tools          233305084 206265928  27039156  89% /init\n",
      "none             6460248         8   6460240   1% /run\n",
      "none             6460248         0   6460248   0% /run/lock\n",
      "none             6460248         0   6460248   0% /run/shm\n",
      "none             6460248         0   6460248   0% /run/user\n",
      "tmpfs            6460248         0   6460248   0% /sys/fs/cgroup\n",
      "drivers        233305084 206265928  27039156  89% /usr/lib/wsl/drivers\n",
      "lib            233305084 206265928  27039156  89% /usr/lib/wsl/lib\n",
      "C:\\            233305084 206265928  27039156  89% /mnt/c\n",
      "D:\\            976629756 126977896 849651860  14% /mnt/d\n",
      "G:\\            104857600  79170404  25687196  76% /mnt/g\n",
      "H:\\            104857600  79170404  25687196  76% /mnt/h\n"
     ]
    }
   ],
   "source": [
    "# df (disk free) \n",
    "# command shows the statistics about the available disk space on the filesystem.\n",
    "!df"
   ]
  },
  {
   "cell_type": "code",
   "execution_count": 80,
   "metadata": {},
   "outputs": [
    {
     "name": "stdout",
     "output_type": "stream",
     "text": [
      "8\t./folder1\n",
      "28\t.\n"
     ]
    }
   ],
   "source": [
    "# du (disk usage) \n",
    "# command helps show how much space a file or directory takes up.\n",
    "!du"
   ]
  },
  {
   "cell_type": "code",
   "execution_count": 81,
   "metadata": {},
   "outputs": [
    {
     "name": "stdout",
     "output_type": "stream",
     "text": [
      "echo hello world\n",
      "append\n",
      "append file\n"
     ]
    }
   ],
   "source": [
    "# head \n",
    "# shows top ten lines.\n",
    "!head file1.txt"
   ]
  },
  {
   "cell_type": "code",
   "execution_count": 84,
   "metadata": {},
   "outputs": [
    {
     "name": "stdout",
     "output_type": "stream",
     "text": [
      "Filesystem     1K-blocks      Used Available Use% Mounted on\n",
      "/dev/sdb       263174212  11770960 237965096   5% /\n",
      "tmpfs            6460248         0   6460248   0% /mnt/wsl\n",
      "tools          233305084 206268824  27036260  89% /init\n",
      "none             6460248         8   6460240   1% /run\n",
      "none             6460248         0   6460248   0% /run/lock\n",
      "none             6460248         0   6460248   0% /run/shm\n",
      "none             6460248         0   6460248   0% /run/user\n",
      "tmpfs            6460248         0   6460248   0% /sys/fs/cgroup\n",
      "drivers        233305084 206268824  27036260  89% /usr/lib/wsl/drivers\n"
     ]
    }
   ],
   "source": [
    "# show first ten lines of the df\n",
    "!df | head"
   ]
  },
  {
   "cell_type": "code",
   "execution_count": 85,
   "metadata": {},
   "outputs": [
    {
     "name": "stdout",
     "output_type": "stream",
     "text": [
      "echo hello world\n",
      "append\n",
      "append file\n"
     ]
    }
   ],
   "source": [
    "# tail \n",
    "# shows last ten lines\n",
    "!tail file1.txt"
   ]
  },
  {
   "cell_type": "code",
   "execution_count": 88,
   "metadata": {},
   "outputs": [
    {
     "name": "stdout",
     "output_type": "stream",
     "text": [
      "1a2\n",
      "> append\n"
     ]
    }
   ],
   "source": [
    "# diff (difference) \n",
    "# command compares two files and prints the difference.\n",
    "!diff file1.txt folder1/file3.txt"
   ]
  },
  {
   "attachments": {},
   "cell_type": "markdown",
   "metadata": {},
   "source": [
    "## File Compression"
   ]
  },
  {
   "cell_type": "code",
   "execution_count": 92,
   "metadata": {},
   "outputs": [
    {
     "name": "stdout",
     "output_type": "stream",
     "text": [
      "file1.txt\n"
     ]
    }
   ],
   "source": [
    "# tar (tape archiver)  \n",
    "# command helps archive, compress, and extract archived files.\n",
    "# -c: Create an archive.\n",
    "# -z: Compress the archive with gzip.\n",
    "# -v: Display progress in the terminal while creating the archive, also known as “verbose” mode. The v is always optional in these commands, but it’s helpful.\n",
    "# -f: Allows you to specify the filename of the archive.\n",
    "\n",
    "# compress file\n",
    "# !tar -czvf <destination> <source>\n",
    "!tar -czvf compressed_file1.tar.gz file1.txt"
   ]
  },
  {
   "cell_type": "code",
   "execution_count": 93,
   "metadata": {},
   "outputs": [
    {
     "name": "stdout",
     "output_type": "stream",
     "text": [
      "folder1/\n",
      "folder1/file3.txt\n"
     ]
    }
   ],
   "source": [
    "# compress folder\n",
    "# !tar -czvf <destination> <source>\n",
    "!tar -czvf compressed_folder1.tar.gz folder1"
   ]
  },
  {
   "cell_type": "code",
   "execution_count": 95,
   "metadata": {},
   "outputs": [
    {
     "name": "stdout",
     "output_type": "stream",
     "text": [
      "file1.txt\n"
     ]
    }
   ],
   "source": [
    "# tar uncompress\n",
    "# -x : Extract a tar ball.\n",
    "# -v : Verbose output or show progress while extracting files.\n",
    "# -f : Specify an archive or a tarball filename.\n",
    "# -j : Decompress and extract the contents of the compressed archive created by bzip2 program (tar.bz2 extension).\n",
    "# -z : Decompress and extract the contents of the compressed archive created by gzip program (tar.gz extension).\n",
    "\n",
    "# uncompress file1\n",
    "!tar -xvf compressed_file1.tar.gz"
   ]
  },
  {
   "cell_type": "code",
   "execution_count": 96,
   "metadata": {},
   "outputs": [
    {
     "name": "stdout",
     "output_type": "stream",
     "text": [
      "folder1/\n",
      "folder1/file3.txt\n"
     ]
    }
   ],
   "source": [
    "# uncompress folder1\n",
    "!tar -xvf compressed_folder1.tar.gz"
   ]
  },
  {
   "cell_type": "code",
   "execution_count": 97,
   "metadata": {},
   "outputs": [
    {
     "name": "stdout",
     "output_type": "stream",
     "text": [
      "file1.txt\n"
     ]
    }
   ],
   "source": [
    "# to extract a single file\n",
    "# !tar -xvf <compressed file> <target file>\n",
    "!tar -xvf compressed_file1.tar.gz file1.txt"
   ]
  },
  {
   "cell_type": "code",
   "execution_count": null,
   "metadata": {},
   "outputs": [],
   "source": []
  }
 ],
 "metadata": {
  "kernelspec": {
   "display_name": "tsinfer",
   "language": "python",
   "name": "python3"
  },
  "language_info": {
   "codemirror_mode": {
    "name": "ipython",
    "version": 3
   },
   "file_extension": ".py",
   "mimetype": "text/x-python",
   "name": "python",
   "nbconvert_exporter": "python",
   "pygments_lexer": "ipython3",
   "version": "3.10.8"
  },
  "orig_nbformat": 4,
  "vscode": {
   "interpreter": {
    "hash": "3e7889d32685d7bd3545250573ca1b788d42bef239306b18b2f0ba00d19c6c1a"
   }
  }
 },
 "nbformat": 4,
 "nbformat_minor": 2
}
