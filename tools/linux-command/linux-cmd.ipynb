{
 "cells": [
  {
   "attachments": {},
   "cell_type": "markdown",
   "metadata": {},
   "source": [
    "# Linux Command"
   ]
  },
  {
   "attachments": {},
   "cell_type": "markdown",
   "metadata": {},
   "source": [
    "## Manage directory"
   ]
  },
  {
   "cell_type": "code",
   "execution_count": 1,
   "metadata": {},
   "outputs": [
    {
     "name": "stdout",
     "output_type": "stream",
     "text": [
      "/home/jingwora/linux-cmd\n"
     ]
    }
   ],
   "source": [
    "# pwd(print working directory)\n",
    "!pwd"
   ]
  },
  {
   "cell_type": "code",
   "execution_count": 2,
   "metadata": {},
   "outputs": [
    {
     "name": "stdout",
     "output_type": "stream",
     "text": [
      "[sudo] password for jingwora: \n"
     ]
    }
   ],
   "source": [
    "# sudo (superuser do) \n",
    "# elevates a user's permissions to administrator or root.\n",
    "# !sudo apt install locate"
   ]
  },
  {
   "cell_type": "code",
   "execution_count": 3,
   "metadata": {},
   "outputs": [
    {
     "name": "stdout",
     "output_type": "stream",
     "text": [
      "linux-cmd.ipynb  readme.txt\n"
     ]
    }
   ],
   "source": [
    "# list\n",
    "!ls"
   ]
  },
  {
   "cell_type": "code",
   "execution_count": 4,
   "metadata": {},
   "outputs": [
    {
     "name": "stdout",
     "output_type": "stream",
     "text": [
      "total 12\n",
      "-rw-r--r-- 1 jingwora jingwora 10555 Jan 19 21:53 linux-cmd.ipynb\n",
      "-rw-r--r-- 1 jingwora jingwora     0 Jan 19 17:57 readme.txt\n"
     ]
    }
   ],
   "source": [
    "# list with detail\n",
    "!ls -l"
   ]
  },
  {
   "cell_type": "code",
   "execution_count": 5,
   "metadata": {},
   "outputs": [
    {
     "name": "stdout",
     "output_type": "stream",
     "text": [
      "total 20\n",
      "drwxr-xr-x  2 jingwora jingwora  4096 Jan 19 21:51 .\n",
      "drwxr-x--- 25 jingwora jingwora  4096 Jan 19 16:46 ..\n",
      "-rw-r--r--  1 jingwora jingwora 10555 Jan 19 21:53 linux-cmd.ipynb\n",
      "-rw-r--r--  1 jingwora jingwora     0 Jan 19 17:57 readme.txt\n"
     ]
    }
   ],
   "source": [
    "# list and include hidden files\n",
    "!ls -la"
   ]
  },
  {
   "cell_type": "code",
   "execution_count": 6,
   "metadata": {},
   "outputs": [
    {
     "name": "stdout",
     "output_type": "stream",
     "text": [
      "total 20K\n",
      "drwxr-xr-x  2 jingwora jingwora 4.0K Jan 19 21:51 .\n",
      "drwxr-x--- 25 jingwora jingwora 4.0K Jan 19 16:46 ..\n",
      "-rw-r--r--  1 jingwora jingwora  11K Jan 19 21:53 linux-cmd.ipynb\n",
      "-rw-r--r--  1 jingwora jingwora    0 Jan 19 17:57 readme.txt\n"
     ]
    }
   ],
   "source": [
    "# sizes in a human-readable format\n",
    "!ls -lah"
   ]
  },
  {
   "cell_type": "code",
   "execution_count": 7,
   "metadata": {},
   "outputs": [],
   "source": [
    "# makd directory\n",
    "!mkdir folder1\n",
    "!mkdir folder2"
   ]
  },
  {
   "cell_type": "code",
   "execution_count": 8,
   "metadata": {},
   "outputs": [],
   "source": [
    "# remove directory\n",
    "!rmdir folder2"
   ]
  },
  {
   "cell_type": "code",
   "execution_count": 9,
   "metadata": {},
   "outputs": [],
   "source": [
    "# change directory\n",
    "!cd folder1"
   ]
  },
  {
   "cell_type": "code",
   "execution_count": 10,
   "metadata": {},
   "outputs": [],
   "source": [
    "# change upper directory\n",
    "!cd .."
   ]
  },
  {
   "cell_type": "code",
   "execution_count": 11,
   "metadata": {},
   "outputs": [],
   "source": [
    "# change to root directory\n",
    "!cd"
   ]
  },
  {
   "attachments": {},
   "cell_type": "markdown",
   "metadata": {},
   "source": [
    "## Create / edit file"
   ]
  },
  {
   "cell_type": "code",
   "execution_count": 12,
   "metadata": {},
   "outputs": [],
   "source": [
    "# create empty file or to modify an existing file's timestamp\n",
    "!touch file1.txt"
   ]
  },
  {
   "cell_type": "code",
   "execution_count": 13,
   "metadata": {},
   "outputs": [],
   "source": [
    "# write file\n",
    "# !cat > file1.txt\n",
    "# $This is a new line\n",
    "# $This is a new line\n",
    "# $CTRL+D"
   ]
  },
  {
   "cell_type": "code",
   "execution_count": 14,
   "metadata": {},
   "outputs": [],
   "source": [
    "# append to file\n",
    "# !cat >> file1.txt\n",
    "# $This is a new line\n",
    "# $CTRL+D"
   ]
  },
  {
   "cell_type": "code",
   "execution_count": 15,
   "metadata": {},
   "outputs": [],
   "source": [
    "# create text file with content\n",
    "!echo \"echo hello world\" > file1.txt"
   ]
  },
  {
   "cell_type": "code",
   "execution_count": 16,
   "metadata": {},
   "outputs": [],
   "source": [
    "# append to file\n",
    "!echo \"append\" >> file1.txt"
   ]
  },
  {
   "cell_type": "code",
   "execution_count": 18,
   "metadata": {},
   "outputs": [
    {
     "name": "stdout",
     "output_type": "stream",
     "text": [
      "echo hello world\n",
      "append\n",
      "append file\n"
     ]
    }
   ],
   "source": [
    "# append file to another file\n",
    "!echo \"append file\" > file2.txt\n",
    "!cat file2.txt >> file1.txt\n",
    "!cat file1.txt"
   ]
  },
  {
   "cell_type": "code",
   "execution_count": 19,
   "metadata": {},
   "outputs": [],
   "source": [
    "# delete line (line2)\n",
    "!sed -i '2d' file1.txt"
   ]
  },
  {
   "cell_type": "code",
   "execution_count": 20,
   "metadata": {},
   "outputs": [],
   "source": [
    "# copy\n",
    "!cp file1.txt file3.txt\n"
   ]
  },
  {
   "cell_type": "code",
   "execution_count": 21,
   "metadata": {},
   "outputs": [],
   "source": [
    "# move file\n",
    "!mv file3.txt folder1/file3.txt"
   ]
  },
  {
   "cell_type": "code",
   "execution_count": 22,
   "metadata": {},
   "outputs": [],
   "source": [
    "# rename file\n",
    "!mv file2.txt file4.txt"
   ]
  },
  {
   "cell_type": "code",
   "execution_count": 23,
   "metadata": {},
   "outputs": [],
   "source": [
    "# remove file\n",
    "!rm file4.txt"
   ]
  },
  {
   "cell_type": "code",
   "execution_count": 24,
   "metadata": {},
   "outputs": [],
   "source": [
    "# finding a file\n",
    "# sudo apt install locate\n",
    "!locate file3.txt"
   ]
  },
  {
   "cell_type": "code",
   "execution_count": 25,
   "metadata": {},
   "outputs": [
    {
     "name": "stdout",
     "output_type": "stream",
     "text": [
      "./folder1/file3.txt\n"
     ]
    }
   ],
   "source": [
    "# search file name\n",
    "!find -name file3.txt"
   ]
  },
  {
   "cell_type": "code",
   "execution_count": 26,
   "metadata": {},
   "outputs": [
    {
     "name": "stdout",
     "output_type": "stream",
     "text": [
      "echo hello world\n"
     ]
    }
   ],
   "source": [
    "# grep (global regular expression print) \n",
    "# enables searching through text in a file or a standard output. \n",
    "!grep world file1.txt"
   ]
  },
  {
   "cell_type": "code",
   "execution_count": 27,
   "metadata": {},
   "outputs": [],
   "source": [
    "# diff (difference) \n",
    "# command compares two files and prints the difference.\n",
    "!diff file1.txt folder1/file3.txt"
   ]
  },
  {
   "attachments": {},
   "cell_type": "markdown",
   "metadata": {},
   "source": [
    "## Show data"
   ]
  },
  {
   "cell_type": "code",
   "execution_count": 28,
   "metadata": {},
   "outputs": [
    {
     "name": "stdout",
     "output_type": "stream",
     "text": [
      "echo hello world\n",
      "append file\n"
     ]
    }
   ],
   "source": [
    "# display content\n",
    "!cat file1.txt"
   ]
  },
  {
   "cell_type": "code",
   "execution_count": 29,
   "metadata": {},
   "outputs": [
    {
     "name": "stdout",
     "output_type": "stream",
     "text": [
      "     1\techo hello world\n",
      "     2\tappend file\n"
     ]
    }
   ],
   "source": [
    "# display content with line number\n",
    "!cat -n file1.txt"
   ]
  },
  {
   "cell_type": "code",
   "execution_count": 30,
   "metadata": {},
   "outputs": [
    {
     "name": "stdout",
     "output_type": "stream",
     "text": [
      "echo hello world\n",
      "append file\n"
     ]
    }
   ],
   "source": [
    "# head \n",
    "# shows top ten lines.\n",
    "!head file1.txt"
   ]
  },
  {
   "cell_type": "code",
   "execution_count": 31,
   "metadata": {},
   "outputs": [
    {
     "name": "stdout",
     "output_type": "stream",
     "text": [
      "echo hello world\n",
      "append file\n"
     ]
    }
   ],
   "source": [
    "# tail \n",
    "# shows last ten lines\n",
    "!tail file1.txt"
   ]
  },
  {
   "cell_type": "code",
   "execution_count": 32,
   "metadata": {},
   "outputs": [
    {
     "name": "stdout",
     "output_type": "stream",
     "text": [
      "\u001b[01;34m.\u001b[0m\n",
      "├── file1.txt\n",
      "├── \u001b[01;34mfolder1\u001b[0m\n",
      "│   └── file3.txt\n",
      "├── linux-cmd.ipynb\n",
      "└── readme.txt\n",
      "\n",
      "1 directory, 4 files\n"
     ]
    }
   ],
   "source": [
    "# check file tree\n",
    "# sudo apt-get install tree\n",
    "!tree"
   ]
  },
  {
   "cell_type": "code",
   "execution_count": 33,
   "metadata": {},
   "outputs": [
    {
     "name": "stdout",
     "output_type": "stream",
     "text": [
      "Filesystem     1K-blocks      Used Available Use% Mounted on\n",
      "/dev/sdb       263174212  11770352 237965704   5% /\n",
      "tmpfs            6460248         0   6460248   0% /mnt/wsl\n",
      "tools          233305084 206209824  27095260  89% /init\n",
      "none             6460248         8   6460240   1% /run\n",
      "none             6460248         0   6460248   0% /run/lock\n",
      "none             6460248         0   6460248   0% /run/shm\n",
      "none             6460248         0   6460248   0% /run/user\n",
      "tmpfs            6460248         0   6460248   0% /sys/fs/cgroup\n",
      "drivers        233305084 206209824  27095260  89% /usr/lib/wsl/drivers\n",
      "lib            233305084 206209824  27095260  89% /usr/lib/wsl/lib\n",
      "C:\\            233305084 206209824  27095260  89% /mnt/c\n",
      "D:\\            976629756 127425928 849203828  14% /mnt/d\n",
      "G:\\            104857600  79117104  25740496  76% /mnt/g\n",
      "H:\\            104857600  79117104  25740496  76% /mnt/h\n"
     ]
    }
   ],
   "source": [
    "# df (disk free) \n",
    "# command shows the statistics about the available disk space on the filesystem.\n",
    "!df"
   ]
  },
  {
   "cell_type": "code",
   "execution_count": 34,
   "metadata": {},
   "outputs": [
    {
     "name": "stdout",
     "output_type": "stream",
     "text": [
      "Filesystem     1K-blocks      Used Available Use% Mounted on\n",
      "/dev/sdb       263174212  11770368 237965688   5% /\n",
      "tmpfs            6460248         0   6460248   0% /mnt/wsl\n",
      "tools          233305084 206209824  27095260  89% /init\n",
      "none             6460248         8   6460240   1% /run\n",
      "none             6460248         0   6460248   0% /run/lock\n",
      "none             6460248         0   6460248   0% /run/shm\n",
      "none             6460248         0   6460248   0% /run/user\n",
      "tmpfs            6460248         0   6460248   0% /sys/fs/cgroup\n",
      "drivers        233305084 206209824  27095260  89% /usr/lib/wsl/drivers\n"
     ]
    }
   ],
   "source": [
    "# show first ten lines of the df\n",
    "!df | head"
   ]
  },
  {
   "cell_type": "code",
   "execution_count": 35,
   "metadata": {},
   "outputs": [
    {
     "name": "stdout",
     "output_type": "stream",
     "text": [
      "8\t./folder1\n",
      "28\t.\n"
     ]
    }
   ],
   "source": [
    "# du (disk usage) \n",
    "# command helps show how much space a file or directory takes up.\n",
    "!du"
   ]
  },
  {
   "attachments": {},
   "cell_type": "markdown",
   "metadata": {},
   "source": [
    "## File Compression"
   ]
  },
  {
   "cell_type": "code",
   "execution_count": 36,
   "metadata": {},
   "outputs": [
    {
     "name": "stdout",
     "output_type": "stream",
     "text": [
      "file1.txt\n"
     ]
    }
   ],
   "source": [
    "# tar (tape archiver)  \n",
    "# command helps archive, compress, and extract archived files.\n",
    "# -c: Create an archive.\n",
    "# -z: Compress the archive with gzip.\n",
    "# -v: Display progress in the terminal while creating the archive, also known as “verbose” mode. The v is always optional in these commands, but it’s helpful.\n",
    "# -f: Allows you to specify the filename of the archive.\n",
    "\n",
    "# compress file\n",
    "# !tar -czvf <destination> <source>\n",
    "!tar -czvf compressed_file1.tar.gz file1.txt"
   ]
  },
  {
   "cell_type": "code",
   "execution_count": 37,
   "metadata": {},
   "outputs": [
    {
     "name": "stdout",
     "output_type": "stream",
     "text": [
      "folder1/\n",
      "folder1/file3.txt\n"
     ]
    }
   ],
   "source": [
    "# compress folder\n",
    "# !tar -czvf <destination> <source>\n",
    "!tar -czvf compressed_folder1.tar.gz folder1"
   ]
  },
  {
   "cell_type": "code",
   "execution_count": 38,
   "metadata": {},
   "outputs": [
    {
     "name": "stdout",
     "output_type": "stream",
     "text": [
      "file1.txt\n"
     ]
    }
   ],
   "source": [
    "# tar uncompress\n",
    "# -x : Extract a tar ball.\n",
    "# -v : Verbose output or show progress while extracting files.\n",
    "# -f : Specify an archive or a tarball filename.\n",
    "# -j : Decompress and extract the contents of the compressed archive created by bzip2 program (tar.bz2 extension).\n",
    "# -z : Decompress and extract the contents of the compressed archive created by gzip program (tar.gz extension).\n",
    "\n",
    "# uncompress file1\n",
    "!tar -xvf compressed_file1.tar.gz"
   ]
  },
  {
   "cell_type": "code",
   "execution_count": 39,
   "metadata": {},
   "outputs": [
    {
     "name": "stdout",
     "output_type": "stream",
     "text": [
      "folder1/\n",
      "folder1/file3.txt\n"
     ]
    }
   ],
   "source": [
    "# uncompress folder1\n",
    "!tar -xvf compressed_folder1.tar.gz"
   ]
  },
  {
   "cell_type": "code",
   "execution_count": 40,
   "metadata": {},
   "outputs": [
    {
     "name": "stdout",
     "output_type": "stream",
     "text": [
      "file1.txt\n"
     ]
    }
   ],
   "source": [
    "# to extract a single file\n",
    "# !tar -xvf <compressed file> <target file>\n",
    "!tar -xvf compressed_file1.tar.gz file1.txt"
   ]
  },
  {
   "cell_type": "code",
   "execution_count": 41,
   "metadata": {},
   "outputs": [
    {
     "name": "stdout",
     "output_type": "stream",
     "text": [
      "  adding: file1.txt (stored 0%)\n"
     ]
    }
   ],
   "source": [
    "# zip file\n",
    "# zip <zip file> <file1> <file2>\n",
    "!zip file1.zip file1.txt"
   ]
  },
  {
   "cell_type": "code",
   "execution_count": 42,
   "metadata": {},
   "outputs": [
    {
     "name": "stdout",
     "output_type": "stream",
     "text": [
      "Archive:  file1.zip\n",
      " extracting: file1.txt               \n"
     ]
    }
   ],
   "source": [
    "# unzip\n",
    "# unzip <zip file>\n",
    "# -o overwrite\n",
    "!unzip -o file1.zip"
   ]
  },
  {
   "attachments": {},
   "cell_type": "markdown",
   "metadata": {},
   "source": [
    "### Permission"
   ]
  },
  {
   "cell_type": "code",
   "execution_count": 46,
   "metadata": {},
   "outputs": [
    {
     "name": "stdout",
     "output_type": "stream",
     "text": [
      "-rwxrwxrwx 1 jingwora jingwora 29 Jan 19 21:57 file1.txt\n"
     ]
    }
   ],
   "source": [
    "# chmod (change mode) \n",
    "# command to change file and directory permissions\n",
    "\n",
    "# The first number is the permission of the current user (owner).\n",
    "# The second number is the permission for the group.\n",
    "# The third number is permissions for everyone else.\n",
    "\n",
    "# chmod <permission> <file or directory>\n",
    "\n",
    "!chmod 777 file1.txt\n",
    "!ls -l file1.txt"
   ]
  },
  {
   "cell_type": "code",
   "execution_count": 48,
   "metadata": {},
   "outputs": [
    {
     "name": "stdout",
     "output_type": "stream",
     "text": [
      "-rwxr--r-- 1 jingwora jingwora 29 Jan 19 21:57 file1.txt\n"
     ]
    }
   ],
   "source": [
    "# set by class\n",
    "!chmod u=rwx,g=r,o=r file1.txt\n",
    "!ls -l file1.txt"
   ]
  },
  {
   "attachments": {},
   "cell_type": "markdown",
   "metadata": {},
   "source": [
    "privileges with numbers:\n",
    "- no permission : 0\n",
    "- execute (x) : 1\n",
    "- write (w) : 2\n",
    "- read (r) : 4\n",
    "- read + execute (rx) : 5\n",
    "- read + write (rw): 6\n",
    "- read + write + execute (rwx): 7"
   ]
  },
  {
   "cell_type": "code",
   "execution_count": null,
   "metadata": {},
   "outputs": [],
   "source": [
    "# change file ownership\n",
    "# chown <new_user_name> <file_name>"
   ]
  },
  {
   "cell_type": "code",
   "execution_count": null,
   "metadata": {},
   "outputs": [],
   "source": [
    "# change group ownershi\n",
    "# chgrp <new_group_name> <file_name>"
   ]
  },
  {
   "attachments": {},
   "cell_type": "markdown",
   "metadata": {},
   "source": [
    "### Process"
   ]
  },
  {
   "cell_type": "code",
   "execution_count": 52,
   "metadata": {},
   "outputs": [
    {
     "name": "stdout",
     "output_type": "stream",
     "text": [
      "  PID TTY          TIME CMD\n",
      " 2807 pts/2    00:00:00 ps\n"
     ]
    }
   ],
   "source": [
    "# ps (process status) \n",
    "# command lists the currently running processes on the system.\n",
    "!ps"
   ]
  },
  {
   "cell_type": "code",
   "execution_count": 51,
   "metadata": {},
   "outputs": [
    {
     "name": "stdout",
     "output_type": "stream",
     "text": [
      "\u001b[?1h\u001b=\u001b[H\u001b[2J\u001b[mtop - 09:03:27 up 12:37,  0 users,  load average: 0.17, 0.09, 0.03\u001b[m\u001b[m\u001b[m\u001b[m\u001b[K\n",
      "Tasks:\u001b[m\u001b[m\u001b[1m  25 \u001b[m\u001b[mtotal,\u001b[m\u001b[m\u001b[1m   1 \u001b[m\u001b[mrunning,\u001b[m\u001b[m\u001b[1m  24 \u001b[m\u001b[msleeping,\u001b[m\u001b[m\u001b[1m   0 \u001b[m\u001b[mstopped,\u001b[m\u001b[m\u001b[1m   0 \u001b[m\u001b[mzombie\u001b[m\u001b[m\u001b[m\u001b[m\u001b[K\n",
      "%Cpu(s):\u001b[m\u001b[m\u001b[1m  0.0 \u001b[m\u001b[mus,\u001b[m\u001b[m\u001b[1m  0.5 \u001b[m\u001b[msy,\u001b[m\u001b[m\u001b[1m  0.0 \u001b[m\u001b[mni,\u001b[m\u001b[m\u001b[1m 98.9 \u001b[m\u001b[mid,\u001b[m\u001b[m\u001b[1m  0.0 \u001b[m\u001b[mwa,\u001b[m\u001b[m\u001b[1m  0.0 \u001b[m\u001b[mhi,\u001b[m\u001b[m\u001b[1m  0.5 \u001b[m\u001b[msi,\u001b[m\u001b[m\u001b[1m  0.0 \u001b[m\u001b[mst\u001b[m\u001b[m\u001b[m\u001b[m\u001b[K\n",
      "MiB Mem :\u001b[m\u001b[m\u001b[1m  12617.7 \u001b[m\u001b[mtotal,\u001b[m\u001b[m\u001b[1m  11103.1 \u001b[m\u001b[mfree,\u001b[m\u001b[m\u001b[1m    648.3 \u001b[m\u001b[mused,\u001b[m\u001b[m\u001b[1m    866.3 \u001b[m\u001b[mbuff/cache\u001b[m\u001b[m\u001b[m\u001b[m\u001b[K\n",
      "MiB Swap:\u001b[m\u001b[m\u001b[1m   4096.0 \u001b[m\u001b[mtotal,\u001b[m\u001b[m\u001b[1m   4096.0 \u001b[m\u001b[mfree,\u001b[m\u001b[m\u001b[1m      0.0 \u001b[m\u001b[mused.\u001b[m\u001b[m\u001b[1m  11656.8 \u001b[m\u001b[mavail Mem \u001b[m\u001b[m\u001b[m\u001b[m\u001b[K\n",
      "\u001b[K\n",
      "\u001b[7m  PID USER      PR  NI    VIRT    RES    SHR S  %CPU  %MEM     TIME+ COMMAND    \u001b[m\u001b[m\u001b[K\n",
      "\u001b[m 1902 jingwora  20   0 1117268 185524  43008 S  12.5   1.4   1:58.51 node       \u001b[m\u001b[m\u001b[K\n",
      "\u001b[m    1 root      20   0    1068    580    476 S   0.0   0.0   0:02.71 init       \u001b[m\u001b[m\u001b[K\n",
      "\u001b[m 1237 root      20   0    1416    468     20 S   0.0   0.0   0:05.73 init       \u001b[m\u001b[m\u001b[K\n",
      "\u001b[m 1766 root      20   0    1416    468     20 S   0.0   0.0   0:00.00 init       \u001b[m\u001b[m\u001b[K\n",
      "\u001b[m 1767 root      20   0    1416    468     20 S   0.0   0.0   0:00.02 init       \u001b[m\u001b[m\u001b[K\n",
      "\u001b[m 1768 jingwora  20   0    6204   5160   3408 S   0.0   0.0   0:00.07 bash       \u001b[m\u001b[m\u001b[K\n",
      "\u001b[m 1827 root      20   0    1416    468     20 S   0.0   0.0   0:00.00 init       \u001b[m\u001b[m\u001b[K\n",
      "\u001b[m 1828 root      20   0    1416    468     20 S   0.0   0.0   0:00.00 init       \u001b[m\u001b[m\u001b[K\n",
      "\u001b[m 1829 jingwora  20   0    2884   1052    956 S   0.0   0.0   0:00.00 sh         \u001b[m\u001b[m\u001b[K\n",
      "\u001b[m 1830 jingwora  20   0    2884    956    864 S   0.0   0.0   0:00.00 sh         \u001b[m\u001b[m\u001b[K\n",
      "\u001b[m 1835 jingwora  20   0    2884    944    852 S   0.0   0.0   0:00.00 sh         \u001b[m\u001b[m\u001b[K\n",
      "\u001b[m 1839 jingwora  20   0  932964  85996  35360 S   0.0   0.7   0:22.94 node       \u001b[m\u001b[m\u001b[K\n",
      "\u001b[m 1859 jingwora  20   0  624752  48352  32480 S   0.0   0.4   0:02.83 node       \u001b[m\u001b[m\u001b[K\n",
      "\u001b[m 1913 jingwora  20   0 1031940  46920  32136 S   0.0   0.4   0:03.50 node       \u001b[m\u001b[m\u001b[K\n",
      "\u001b[m 1973 jingwora  20   0  186848  32284   9796 S   0.0   0.2   0:02.66 python3    \u001b[m\u001b[m\u001b[K\n",
      "\u001b[m 2019 jingwora  20   0   11.1g 202348  36700 S   0.0   1.6   0:15.56 node       \u001b[m\u001b[m\u001b[K\n",
      "\u001b[m 2118 jingwora  20   0  676560  67348  15556 S   0.0   0.5   0:02.17 python     \u001b[m\u001b[m\u001b[K\u001b[H\u001b[mtop - 09:03:30 up 12:37,  0 users,  load average: 0.17, 0.09, 0.03\u001b[m\u001b[m\u001b[m\u001b[m\u001b[K\n",
      "\n",
      "%Cpu(s):\u001b[m\u001b[m\u001b[1m  0.2 \u001b[m\u001b[mus,\u001b[m\u001b[m\u001b[1m  0.2 \u001b[m\u001b[msy,\u001b[m\u001b[m\u001b[1m  0.0 \u001b[m\u001b[mni,\u001b[m\u001b[m\u001b[1m 99.6 \u001b[m\u001b[mid,\u001b[m\u001b[m\u001b[1m  0.0 \u001b[m\u001b[mwa,\u001b[m\u001b[m\u001b[1m  0.0 \u001b[m\u001b[mhi,\u001b[m\u001b[m\u001b[1m  0.0 \u001b[m\u001b[msi,\u001b[m\u001b[m\u001b[1m  0.0 \u001b[m\u001b[mst\u001b[m\u001b[m\u001b[m\u001b[m\u001b[K\n",
      "MiB Mem :\u001b[m\u001b[m\u001b[1m  12617.7 \u001b[m\u001b[mtotal,\u001b[m\u001b[m\u001b[1m  11103.3 \u001b[m\u001b[mfree,\u001b[m\u001b[m\u001b[1m    648.1 \u001b[m\u001b[mused,\u001b[m\u001b[m\u001b[1m    866.3 \u001b[m\u001b[mbuff/cache\u001b[m\u001b[m\u001b[m\u001b[m\u001b[K\n",
      "MiB Swap:\u001b[m\u001b[m\u001b[1m   4096.0 \u001b[m\u001b[mtotal,\u001b[m\u001b[m\u001b[1m   4096.0 \u001b[m\u001b[mfree,\u001b[m\u001b[m\u001b[1m      0.0 \u001b[m\u001b[mused.\u001b[m\u001b[m\u001b[1m  11657.0 \u001b[m\u001b[mavail Mem \u001b[m\u001b[m\u001b[m\u001b[m\u001b[K\n",
      "\u001b[K\n",
      "\n",
      "\u001b[m 2118 jingwora  20   0  676560  67360  15556 S   3.0   0.5   0:02.26 python     \u001b[m\u001b[m\u001b[K\n",
      "\u001b[m 1902 jingwora  20   0 1117464 185740  43008 S   2.3   1.4   1:58.58 node       \u001b[m\u001b[m\u001b[K\n",
      "\u001b[m 2250 jingwora  20   0  584080  41444  29908 S   0.7   0.3   0:00.63 node       \u001b[m\u001b[m\u001b[K\n",
      "\u001b[m    1 root      20   0    1068    580    476 S   0.0   0.0   0:02.71 init       \u001b[m\u001b[m\u001b[K\n",
      "\u001b[m 1237 root      20   0    1416    468     20 S   0.0   0.0   0:05.73 init       \u001b[m\u001b[m\u001b[K\n",
      "\u001b[m 1766 root      20   0    1416    468     20 S   0.0   0.0   0:00.00 init       \u001b[m\u001b[m\u001b[K\n",
      "\u001b[m 1767 root      20   0    1416    468     20 S   0.0   0.0   0:00.02 init       \u001b[m\u001b[m\u001b[K\n",
      "\u001b[m 1768 jingwora  20   0    6204   5160   3408 S   0.0   0.0   0:00.07 bash       \u001b[m\u001b[m\u001b[K\n",
      "\u001b[m 1827 root      20   0    1416    468     20 S   0.0   0.0   0:00.00 init       \u001b[m\u001b[m\u001b[K\n",
      "\u001b[m 1828 root      20   0    1416    468     20 S   0.0   0.0   0:00.00 init       \u001b[m\u001b[m\u001b[K\n",
      "\u001b[m 1829 jingwora  20   0    2884   1052    956 S   0.0   0.0   0:00.00 sh         \u001b[m\u001b[m\u001b[K\n",
      "\u001b[m 1830 jingwora  20   0    2884    956    864 S   0.0   0.0   0:00.00 sh         \u001b[m\u001b[m\u001b[K\n",
      "\u001b[m 1835 jingwora  20   0    2884    944    852 S   0.0   0.0   0:00.00 sh         \u001b[m\u001b[m\u001b[K\n",
      "\u001b[m 1839 jingwora  20   0  932964  85996  35360 S   0.0   0.7   0:22.94 node       \u001b[m\u001b[m\u001b[K\n",
      "\u001b[m 1859 jingwora  20   0  624752  48352  32480 S   0.0   0.4   0:02.83 node       \u001b[m\u001b[m\u001b[K\n",
      "\u001b[m 1913 jingwora  20   0 1031940  46920  32136 S   0.0   0.4   0:03.50 node       \u001b[m\u001b[m\u001b[K\n",
      "\u001b[m 1973 jingwora  20   0  186848  32284   9796 S   0.0   0.2   0:02.66 python3    \u001b[m\u001b[m\u001b[K\u001b[H\u001b[mtop - 09:03:33 up 12:37,  0 users,  load average: 0.15, 0.09, 0.03\u001b[m\u001b[m\u001b[m\u001b[m\u001b[K\n",
      "\n",
      "%Cpu(s):\u001b[m\u001b[m\u001b[1m  0.8 \u001b[m\u001b[mus,\u001b[m\u001b[m\u001b[1m  0.3 \u001b[m\u001b[msy,\u001b[m\u001b[m\u001b[1m  0.0 \u001b[m\u001b[mni,\u001b[m\u001b[m\u001b[1m 98.8 \u001b[m\u001b[mid,\u001b[m\u001b[m\u001b[1m  0.0 \u001b[m\u001b[mwa,\u001b[m\u001b[m\u001b[1m  0.0 \u001b[m\u001b[mhi,\u001b[m\u001b[m\u001b[1m  0.1 \u001b[m\u001b[msi,\u001b[m\u001b[m\u001b[1m  0.0 \u001b[m\u001b[mst\u001b[m\u001b[m\u001b[m\u001b[m\u001b[K\n",
      "MiB Mem :\u001b[m\u001b[m\u001b[1m  12617.7 \u001b[m\u001b[mtotal,\u001b[m\u001b[m\u001b[1m  11103.1 \u001b[m\u001b[mfree,\u001b[m\u001b[m\u001b[1m    648.3 \u001b[m\u001b[mused,\u001b[m\u001b[m\u001b[1m    866.3 \u001b[m\u001b[mbuff/cache\u001b[m\u001b[m\u001b[m\u001b[m\u001b[K\n",
      "MiB Swap:\u001b[m\u001b[m\u001b[1m   4096.0 \u001b[m\u001b[mtotal,\u001b[m\u001b[m\u001b[1m   4096.0 \u001b[m\u001b[mfree,\u001b[m\u001b[m\u001b[1m      0.0 \u001b[m\u001b[mused.\u001b[m\u001b[m\u001b[1m  11656.7 \u001b[m\u001b[mavail Mem \u001b[m\u001b[m\u001b[m\u001b[m\u001b[K\n",
      "\u001b[K\n",
      "\n",
      "\u001b[m 1902 jingwora  20   0 1117268 185560  43008 S  10.7   1.4   1:58.90 node       \u001b[m\u001b[m\u001b[K\n",
      "\u001b[m 2118 jingwora  20   0  676560  67360  15556 S   3.7   0.5   0:02.37 python     \u001b[m\u001b[m\u001b[K\n",
      "\u001b[m 2241 jingwora  20   0  319844  35484  26576 S   0.3   0.3   0:01.31 node       \u001b[m\u001b[m\u001b[K\n",
      "\n",
      "\n",
      "\n",
      "\n",
      "\n",
      "\n",
      "\n",
      "\n",
      "\n",
      "\n",
      "\n",
      "\n",
      "\n",
      "\u001b[H\u001b[mtop - 09:03:36 up 12:38,  0 users,  load average: 0.15, 0.09, 0.03\u001b[m\u001b[m\u001b[m\u001b[m\u001b[K\n",
      "\n",
      "%Cpu(s):\u001b[m\u001b[m\u001b[1m  0.4 \u001b[m\u001b[mus,\u001b[m\u001b[m\u001b[1m  0.1 \u001b[m\u001b[msy,\u001b[m\u001b[m\u001b[1m  0.0 \u001b[m\u001b[mni,\u001b[m\u001b[m\u001b[1m 99.5 \u001b[m\u001b[mid,\u001b[m\u001b[m\u001b[1m  0.0 \u001b[m\u001b[mwa,\u001b[m\u001b[m\u001b[1m  0.0 \u001b[m\u001b[mhi,\u001b[m\u001b[m\u001b[1m  0.0 \u001b[m\u001b[msi,\u001b[m\u001b[m\u001b[1m  0.0 \u001b[m\u001b[mst\u001b[m\u001b[m\u001b[m\u001b[m\u001b[K\n",
      "MiB Mem :\u001b[m\u001b[m\u001b[1m  12617.7 \u001b[m\u001b[mtotal,\u001b[m\u001b[m\u001b[1m  11107.5 \u001b[m\u001b[mfree,\u001b[m\u001b[m\u001b[1m    643.9 \u001b[m\u001b[mused,\u001b[m\u001b[m\u001b[1m    866.3 \u001b[m\u001b[mbuff/cache\u001b[m\u001b[m\u001b[m\u001b[m\u001b[K\n",
      "MiB Swap:\u001b[m\u001b[m\u001b[1m   4096.0 \u001b[m\u001b[mtotal,\u001b[m\u001b[m\u001b[1m   4096.0 \u001b[m\u001b[mfree,\u001b[m\u001b[m\u001b[1m      0.0 \u001b[m\u001b[mused.\u001b[m\u001b[m\u001b[1m  11661.2 \u001b[m\u001b[mavail Mem \u001b[m\u001b[m\u001b[m\u001b[m\u001b[K\n",
      "\u001b[K\n",
      "\n",
      "\u001b[m 2118 jingwora  20   0  676560  67360  15556 S   4.3   0.5   0:02.50 python     \u001b[m\u001b[m\u001b[K\n",
      "\u001b[m 1902 jingwora  20   0 1117268 181628  43008 S   2.7   1.4   1:58.98 node       \u001b[m\u001b[m\u001b[K\n",
      "\u001b[m 2019 jingwora  20   0   11.1g 202348  36700 S   0.3   1.6   0:15.57 node       \u001b[m\u001b[m\u001b[K\n",
      "\u001b[m 2250 jingwora  20   0  584080  40728  29908 S   0.3   0.3   0:00.64 node       \u001b[m\u001b[m\u001b[K\n",
      "\u001b[m    1 root      20   0    1068    580    476 S   0.0   0.0   0:02.71 init       \u001b[m\u001b[m\u001b[K\n",
      "\u001b[m 1237 root      20   0    1416    468     20 S   0.0   0.0   0:05.73 init       \u001b[m\u001b[m\u001b[K\n",
      "\u001b[m 1766 root      20   0    1416    468     20 S   0.0   0.0   0:00.00 init       \u001b[m\u001b[m\u001b[K\n",
      "\u001b[m 1767 root      20   0    1416    468     20 S   0.0   0.0   0:00.02 init       \u001b[m\u001b[m\u001b[K\n",
      "\u001b[m 1768 jingwora  20   0    6204   5160   3408 S   0.0   0.0   0:00.07 bash       \u001b[m\u001b[m\u001b[K\n",
      "\u001b[m 1827 root      20   0    1416    468     20 S   0.0   0.0   0:00.00 init       \u001b[m\u001b[m\u001b[K\n",
      "\u001b[m 1828 root      20   0    1416    468     20 S   0.0   0.0   0:00.00 init       \u001b[m\u001b[m\u001b[K\n",
      "\u001b[m 1829 jingwora  20   0    2884   1052    956 S   0.0   0.0   0:00.00 sh         \u001b[m\u001b[m\u001b[K\n",
      "\u001b[m 1830 jingwora  20   0    2884    956    864 S   0.0   0.0   0:00.00 sh         \u001b[m\u001b[m\u001b[K\n",
      "\u001b[m 1835 jingwora  20   0    2884    944    852 S   0.0   0.0   0:00.00 sh         \u001b[m\u001b[m\u001b[K\n",
      "\u001b[m 1839 jingwora  20   0  932964  85996  35360 S   0.0   0.7   0:22.94 node       \u001b[m\u001b[m\u001b[K\n",
      "\u001b[m 1859 jingwora  20   0  624752  48352  32480 S   0.0   0.4   0:02.83 node       \u001b[m\u001b[m\u001b[K\n",
      "\u001b[m 1913 jingwora  20   0 1031940  46920  32136 S   0.0   0.4   0:03.50 node       \u001b[m\u001b[m\u001b[K\u001b[H\u001b[mtop - 09:03:39 up 12:38,  0 users,  load average: 0.14, 0.08, 0.03\u001b[m\u001b[m\u001b[m\u001b[m\u001b[K\n",
      "Tasks:\u001b[m\u001b[m\u001b[1m  25 \u001b[m\u001b[mtotal,\u001b[m\u001b[m\u001b[1m   2 \u001b[m\u001b[mrunning,\u001b[m\u001b[m\u001b[1m  23 \u001b[m\u001b[msleeping,\u001b[m\u001b[m\u001b[1m   0 \u001b[m\u001b[mstopped,\u001b[m\u001b[m\u001b[1m   0 \u001b[m\u001b[mzombie\u001b[m\u001b[m\u001b[m\u001b[m\u001b[K\n",
      "%Cpu(s):\u001b[m\u001b[m\u001b[1m  0.3 \u001b[m\u001b[mus,\u001b[m\u001b[m\u001b[1m  0.3 \u001b[m\u001b[msy,\u001b[m\u001b[m\u001b[1m  0.0 \u001b[m\u001b[mni,\u001b[m\u001b[m\u001b[1m 99.4 \u001b[m\u001b[mid,\u001b[m\u001b[m\u001b[1m  0.0 \u001b[m\u001b[mwa,\u001b[m\u001b[m\u001b[1m  0.0 \u001b[m\u001b[mhi,\u001b[m\u001b[m\u001b[1m  0.0 \u001b[m\u001b[msi,\u001b[m\u001b[m\u001b[1m  0.0 \u001b[m\u001b[mst\u001b[m\u001b[m\u001b[m\u001b[m\u001b[K\n",
      "MiB Mem :\u001b[m\u001b[m\u001b[1m  12617.7 \u001b[m\u001b[mtotal,\u001b[m\u001b[m\u001b[1m  11104.3 \u001b[m\u001b[mfree,\u001b[m\u001b[m\u001b[1m    647.1 \u001b[m\u001b[mused,\u001b[m\u001b[m\u001b[1m    866.3 \u001b[m\u001b[mbuff/cache\u001b[m\u001b[m\u001b[m\u001b[m\u001b[K\n",
      "MiB Swap:\u001b[m\u001b[m\u001b[1m   4096.0 \u001b[m\u001b[mtotal,\u001b[m\u001b[m\u001b[1m   4096.0 \u001b[m\u001b[mfree,\u001b[m\u001b[m\u001b[1m      0.0 \u001b[m\u001b[mused.\u001b[m\u001b[m\u001b[1m  11658.0 \u001b[m\u001b[mavail Mem \u001b[m\u001b[m\u001b[m\u001b[m\u001b[K\n",
      "\u001b[K\n",
      "\n",
      "\u001b[m 2118 jingwora  20   0  676560  67360  15556 S   4.7   0.5   0:02.64 python     \u001b[m\u001b[m\u001b[K\n",
      "\u001b[m\u001b[1m 1902 jingwora  20   0 1117268 181724  43008 R   4.0   1.4   1:59.10 node       \u001b[m\u001b[m\u001b[K\n",
      "\u001b[m 2249 root      20   0    1068    200     20 S   0.3   0.0   0:00.20 init       \u001b[m\u001b[m\u001b[K\n",
      "\u001b[m    1 root      20   0    1068    580    476 S   0.0   0.0   0:02.71 init       \u001b[m\u001b[m\u001b[K\n",
      "\u001b[m 1237 root      20   0    1416    468     20 S   0.0   0.0   0:05.73 init       \u001b[m\u001b[m\u001b[K\n",
      "\u001b[m 1766 root      20   0    1416    468     20 S   0.0   0.0   0:00.00 init       \u001b[m\u001b[m\u001b[K\n",
      "\u001b[m 1767 root      20   0    1416    468     20 S   0.0   0.0   0:00.02 init       \u001b[m\u001b[m\u001b[K\n",
      "\u001b[m 1768 jingwora  20   0    6204   5160   3408 S   0.0   0.0   0:00.07 bash       \u001b[m\u001b[m\u001b[K\n",
      "\u001b[m 1827 root      20   0    1416    468     20 S   0.0   0.0   0:00.00 init       \u001b[m\u001b[m\u001b[K\n",
      "\u001b[m 1828 root      20   0    1416    468     20 S   0.0   0.0   0:00.00 init       \u001b[m\u001b[m\u001b[K\n",
      "\u001b[m 1829 jingwora  20   0    2884   1052    956 S   0.0   0.0   0:00.00 sh         \u001b[m\u001b[m\u001b[K\n",
      "\u001b[m 1830 jingwora  20   0    2884    956    864 S   0.0   0.0   0:00.00 sh         \u001b[m\u001b[m\u001b[K\n",
      "\u001b[m 1835 jingwora  20   0    2884    944    852 S   0.0   0.0   0:00.00 sh         \u001b[m\u001b[m\u001b[K\n",
      "\u001b[m 1839 jingwora  20   0  932964  85996  35360 S   0.0   0.7   0:22.94 node       \u001b[m\u001b[m\u001b[K\n",
      "\u001b[m 1859 jingwora  20   0  624752  48352  32480 S   0.0   0.4   0:02.83 node       \u001b[m\u001b[m\u001b[K\n",
      "\u001b[m 1913 jingwora  20   0 1031940  46920  32136 S   0.0   0.4   0:03.50 node       \u001b[m\u001b[m\u001b[K\n",
      "\u001b[m 1973 jingwora  20   0  186848  32284   9796 S   0.0   0.2   0:02.66 python3    \u001b[m\u001b[m\u001b[K\u001b[H\u001b[mtop - 09:03:42 up 12:38,  0 users,  load average: 0.13, 0.08, 0.03\u001b[m\u001b[m\u001b[m\u001b[m\u001b[K\n",
      "Tasks:\u001b[m\u001b[m\u001b[1m  25 \u001b[m\u001b[mtotal,\u001b[m\u001b[m\u001b[1m   1 \u001b[m\u001b[mrunning,\u001b[m\u001b[m\u001b[1m  24 \u001b[m\u001b[msleeping,\u001b[m\u001b[m\u001b[1m   0 \u001b[m\u001b[mstopped,\u001b[m\u001b[m\u001b[1m   0 \u001b[m\u001b[mzombie\u001b[m\u001b[m\u001b[m\u001b[m\u001b[K\n",
      "%Cpu(s):\u001b[m\u001b[m\u001b[1m  0.3 \u001b[m\u001b[mus,\u001b[m\u001b[m\u001b[1m  0.1 \u001b[m\u001b[msy,\u001b[m\u001b[m\u001b[1m  0.0 \u001b[m\u001b[mni,\u001b[m\u001b[m\u001b[1m 99.6 \u001b[m\u001b[mid,\u001b[m\u001b[m\u001b[1m  0.0 \u001b[m\u001b[mwa,\u001b[m\u001b[m\u001b[1m  0.0 \u001b[m\u001b[mhi,\u001b[m\u001b[m\u001b[1m  0.0 \u001b[m\u001b[msi,\u001b[m\u001b[m\u001b[1m  0.0 \u001b[m\u001b[mst\u001b[m\u001b[m\u001b[m\u001b[m\u001b[K\n",
      "MiB Mem :\u001b[m\u001b[m\u001b[1m  12617.7 \u001b[m\u001b[mtotal,\u001b[m\u001b[m\u001b[1m  11105.4 \u001b[m\u001b[mfree,\u001b[m\u001b[m\u001b[1m    646.0 \u001b[m\u001b[mused,\u001b[m\u001b[m\u001b[1m    866.3 \u001b[m\u001b[mbuff/cache\u001b[m\u001b[m\u001b[m\u001b[m\u001b[K\n",
      "MiB Swap:\u001b[m\u001b[m\u001b[1m   4096.0 \u001b[m\u001b[mtotal,\u001b[m\u001b[m\u001b[1m   4096.0 \u001b[m\u001b[mfree,\u001b[m\u001b[m\u001b[1m      0.0 \u001b[m\u001b[mused.\u001b[m\u001b[m\u001b[1m  11659.1 \u001b[m\u001b[mavail Mem \u001b[m\u001b[m\u001b[m\u001b[m\u001b[K\n",
      "\u001b[K\n",
      "\n",
      "\u001b[m 1902 jingwora  20   0 1117268 182164  43008 S   2.7   1.4   1:59.18 node       \u001b[m\u001b[m\u001b[K\n",
      "\u001b[m 2118 jingwora  20   0  676560  67360  15556 S   2.7   0.5   0:02.72 python     \u001b[m\u001b[m\u001b[K\n",
      "\u001b[m    1 root      20   0    1068    580    476 S   0.0   0.0   0:02.71 init       \u001b[m\u001b[m\u001b[K\n",
      "\u001b[m 1237 root      20   0    1416    468     20 S   0.0   0.0   0:05.73 init       \u001b[m\u001b[m\u001b[K\n",
      "\u001b[m 1766 root      20   0    1416    468     20 S   0.0   0.0   0:00.00 init       \u001b[m\u001b[m\u001b[K\n",
      "\u001b[m 1767 root      20   0    1416    468     20 S   0.0   0.0   0:00.02 init       \u001b[m\u001b[m\u001b[K\n",
      "\u001b[m 1768 jingwora  20   0    6204   5160   3408 S   0.0   0.0   0:00.07 bash       \u001b[m\u001b[m\u001b[K\n",
      "\u001b[m 1827 root      20   0    1416    468     20 S   0.0   0.0   0:00.00 init       \u001b[m\u001b[m\u001b[K\n",
      "\u001b[m 1828 root      20   0    1416    468     20 S   0.0   0.0   0:00.00 init       \u001b[m\u001b[m\u001b[K\n",
      "\u001b[m 1829 jingwora  20   0    2884   1052    956 S   0.0   0.0   0:00.00 sh         \u001b[m\u001b[m\u001b[K\n",
      "\u001b[m 1830 jingwora  20   0    2884    956    864 S   0.0   0.0   0:00.00 sh         \u001b[m\u001b[m\u001b[K\n",
      "\u001b[m 1835 jingwora  20   0    2884    944    852 S   0.0   0.0   0:00.00 sh         \u001b[m\u001b[m\u001b[K\n",
      "\u001b[m 1839 jingwora  20   0  932964  85996  35360 S   0.0   0.7   0:22.94 node       \u001b[m\u001b[m\u001b[K\n",
      "\u001b[m 1859 jingwora  20   0  624752  48352  32480 S   0.0   0.4   0:02.83 node       \u001b[m\u001b[m\u001b[K\n",
      "\u001b[m 1913 jingwora  20   0 1031940  46920  32136 S   0.0   0.4   0:03.50 node       \u001b[m\u001b[m\u001b[K\n",
      "\u001b[m 1973 jingwora  20   0  186848  32284   9796 S   0.0   0.2   0:02.66 python3    \u001b[m\u001b[m\u001b[K\n",
      "\u001b[m 2019 jingwora  20   0   11.1g 202348  36700 S   0.0   1.6   0:15.57 node       \u001b[m\u001b[m\u001b[K\u001b[H\u001b[mtop - 09:03:45 up 12:38,  0 users,  load average: 0.13, 0.08, 0.03\u001b[m\u001b[m\u001b[m\u001b[m\u001b[K\n",
      "\n",
      "%Cpu(s):\u001b[m\u001b[m\u001b[1m  0.2 \u001b[m\u001b[mus,\u001b[m\u001b[m\u001b[1m  0.1 \u001b[m\u001b[msy,\u001b[m\u001b[m\u001b[1m  0.0 \u001b[m\u001b[mni,\u001b[m\u001b[m\u001b[1m 99.6 \u001b[m\u001b[mid,\u001b[m\u001b[m\u001b[1m  0.0 \u001b[m\u001b[mwa,\u001b[m\u001b[m\u001b[1m  0.0 \u001b[m\u001b[mhi,\u001b[m\u001b[m\u001b[1m  0.0 \u001b[m\u001b[msi,\u001b[m\u001b[m\u001b[1m  0.0 \u001b[m\u001b[mst\u001b[m\u001b[m\u001b[m\u001b[m\u001b[K\n",
      "MiB Mem :\u001b[m\u001b[m\u001b[1m  12617.7 \u001b[m\u001b[mtotal,\u001b[m\u001b[m\u001b[1m  11105.3 \u001b[m\u001b[mfree,\u001b[m\u001b[m\u001b[1m    646.0 \u001b[m\u001b[mused,\u001b[m\u001b[m\u001b[1m    866.3 \u001b[m\u001b[mbuff/cache\u001b[m\u001b[m\u001b[m\u001b[m\u001b[K\n",
      "MiB Swap:\u001b[m\u001b[m\u001b[1m   4096.0 \u001b[m\u001b[mtotal,\u001b[m\u001b[m\u001b[1m   4096.0 \u001b[m\u001b[mfree,\u001b[m\u001b[m\u001b[1m      0.0 \u001b[m\u001b[mused.\u001b[m\u001b[m\u001b[1m  11659.0 \u001b[m\u001b[mavail Mem \u001b[m\u001b[m\u001b[m\u001b[m\u001b[K\n",
      "\u001b[K\n",
      "\n",
      "\u001b[m 2118 jingwora  20   0  676700  67460  15556 S   4.0   0.5   0:02.84 python     \u001b[m\u001b[m\u001b[K\n",
      "\u001b[m 1902 jingwora  20   0 1117268 182248  43008 S   2.0   1.4   1:59.24 node       \u001b[m\u001b[m\u001b[K\n",
      "\u001b[m 2250 jingwora  20   0  584232  40728  29908 S   0.3   0.3   0:00.65 node       \u001b[m\u001b[m\u001b[K\n",
      "\u001b[m\u001b[1m 2722 jingwora  20   0    7784   3724   3120 R   0.3   0.0   0:00.37 top        \u001b[m\u001b[m\u001b[K\n",
      "\u001b[m    1 root      20   0    1068    580    476 S   0.0   0.0   0:02.71 init       \u001b[m\u001b[m\u001b[K\n",
      "\u001b[m 1237 root      20   0    1416    468     20 S   0.0   0.0   0:05.73 init       \u001b[m\u001b[m\u001b[K\n",
      "\u001b[m 1766 root      20   0    1416    468     20 S   0.0   0.0   0:00.00 init       \u001b[m\u001b[m\u001b[K\n",
      "\u001b[m 1767 root      20   0    1416    468     20 S   0.0   0.0   0:00.02 init       \u001b[m\u001b[m\u001b[K\n",
      "\u001b[m 1768 jingwora  20   0    6204   5160   3408 S   0.0   0.0   0:00.07 bash       \u001b[m\u001b[m\u001b[K\n",
      "\u001b[m 1827 root      20   0    1416    468     20 S   0.0   0.0   0:00.00 init       \u001b[m\u001b[m\u001b[K\n",
      "\u001b[m 1828 root      20   0    1416    468     20 S   0.0   0.0   0:00.00 init       \u001b[m\u001b[m\u001b[K\n",
      "\u001b[m 1829 jingwora  20   0    2884   1052    956 S   0.0   0.0   0:00.00 sh         \u001b[m\u001b[m\u001b[K\n",
      "\u001b[m 1830 jingwora  20   0    2884    956    864 S   0.0   0.0   0:00.00 sh         \u001b[m\u001b[m\u001b[K\n",
      "\u001b[m 1835 jingwora  20   0    2884    944    852 S   0.0   0.0   0:00.00 sh         \u001b[m\u001b[m\u001b[K\n",
      "\u001b[m 1839 jingwora  20   0  932964  85996  35360 S   0.0   0.7   0:22.94 node       \u001b[m\u001b[m\u001b[K\n",
      "\u001b[m 1859 jingwora  20   0  624752  48352  32480 S   0.0   0.4   0:02.83 node       \u001b[m\u001b[m\u001b[K\n",
      "\u001b[m 1913 jingwora  20   0 1031940  46920  32136 S   0.0   0.4   0:03.50 node       \u001b[m\u001b[m\u001b[K\u001b[H\u001b[mtop - 09:03:48 up 12:38,  0 users,  load average: 0.12, 0.08, 0.03\u001b[m\u001b[m\u001b[m\u001b[m\u001b[K\n",
      "\n",
      "%Cpu(s):\u001b[m\u001b[m\u001b[1m  0.9 \u001b[m\u001b[mus,\u001b[m\u001b[m\u001b[1m  0.1 \u001b[m\u001b[msy,\u001b[m\u001b[m\u001b[1m  0.0 \u001b[m\u001b[mni,\u001b[m\u001b[m\u001b[1m 99.0 \u001b[m\u001b[mid,\u001b[m\u001b[m\u001b[1m  0.0 \u001b[m\u001b[mwa,\u001b[m\u001b[m\u001b[1m  0.0 \u001b[m\u001b[mhi,\u001b[m\u001b[m\u001b[1m  0.0 \u001b[m\u001b[msi,\u001b[m\u001b[m\u001b[1m  0.0 \u001b[m\u001b[mst\u001b[m\u001b[m\u001b[m\u001b[m\u001b[K\n",
      "MiB Mem :\u001b[m\u001b[m\u001b[1m  12617.7 \u001b[m\u001b[mtotal,\u001b[m\u001b[m\u001b[1m  11106.0 \u001b[m\u001b[mfree,\u001b[m\u001b[m\u001b[1m    645.4 \u001b[m\u001b[mused,\u001b[m\u001b[m\u001b[1m    866.3 \u001b[m\u001b[mbuff/cache\u001b[m\u001b[m\u001b[m\u001b[m\u001b[K\n",
      "MiB Swap:\u001b[m\u001b[m\u001b[1m   4096.0 \u001b[m\u001b[mtotal,\u001b[m\u001b[m\u001b[1m   4096.0 \u001b[m\u001b[mfree,\u001b[m\u001b[m\u001b[1m      0.0 \u001b[m\u001b[mused.\u001b[m\u001b[m\u001b[1m  11659.7 \u001b[m\u001b[mavail Mem \u001b[m\u001b[m\u001b[m\u001b[m\u001b[K\n",
      "\u001b[K\n",
      "\n",
      "\u001b[m 1902 jingwora  20   0 1117268 182188  43008 S   8.6   1.4   1:59.50 node       \u001b[m\u001b[m\u001b[K\n",
      "\u001b[m 2118 jingwora  20   0  676700  67460  15556 S   3.7   0.5   0:02.95 python     \u001b[m\u001b[m\u001b[K\n",
      "\u001b[m 2250 jingwora  20   0  584364  41256  29908 S   0.3   0.3   0:00.66 node       \u001b[m\u001b[m\u001b[K\n",
      "\u001b[m    1 root      20   0    1068    580    476 S   0.0   0.0   0:02.71 init       \u001b[m\u001b[m\u001b[K\n",
      "\u001b[m 1237 root      20   0    1416    468     20 S   0.0   0.0   0:05.73 init       \u001b[m\u001b[m\u001b[K\n",
      "\u001b[m 1766 root      20   0    1416    468     20 S   0.0   0.0   0:00.00 init       \u001b[m\u001b[m\u001b[K\n",
      "\u001b[m 1767 root      20   0    1416    468     20 S   0.0   0.0   0:00.02 init       \u001b[m\u001b[m\u001b[K\n",
      "\u001b[m 1768 jingwora  20   0    6204   5160   3408 S   0.0   0.0   0:00.07 bash       \u001b[m\u001b[m\u001b[K\n",
      "\u001b[m 1827 root      20   0    1416    468     20 S   0.0   0.0   0:00.00 init       \u001b[m\u001b[m\u001b[K\n",
      "\u001b[m 1828 root      20   0    1416    468     20 S   0.0   0.0   0:00.00 init       \u001b[m\u001b[m\u001b[K\n",
      "\u001b[m 1829 jingwora  20   0    2884   1052    956 S   0.0   0.0   0:00.00 sh         \u001b[m\u001b[m\u001b[K\n",
      "\u001b[m 1830 jingwora  20   0    2884    956    864 S   0.0   0.0   0:00.00 sh         \u001b[m\u001b[m\u001b[K\n",
      "\u001b[m 1835 jingwora  20   0    2884    944    852 S   0.0   0.0   0:00.00 sh         \u001b[m\u001b[m\u001b[K\n",
      "\u001b[m 1839 jingwora  20   0  932964  85996  35360 S   0.0   0.7   0:22.94 node       \u001b[m\u001b[m\u001b[K\n",
      "\u001b[m 1859 jingwora  20   0  624752  48352  32480 S   0.0   0.4   0:02.83 node       \u001b[m\u001b[m\u001b[K\n",
      "\u001b[m 1913 jingwora  20   0 1031940  46920  32136 S   0.0   0.4   0:03.50 node       \u001b[m\u001b[m\u001b[K\n",
      "\u001b[m 1973 jingwora  20   0  186848  32284   9796 S   0.0   0.2   0:02.66 python3    \u001b[m\u001b[m\u001b[K\u001b[H\u001b[mtop - 09:03:51 up 12:38,  0 users,  load average: 0.12, 0.08, 0.03\u001b[m\u001b[m\u001b[m\u001b[m\u001b[K\n",
      "\n",
      "%Cpu(s):\u001b[m\u001b[m\u001b[1m  0.3 \u001b[m\u001b[mus,\u001b[m\u001b[m\u001b[1m  0.1 \u001b[m\u001b[msy,\u001b[m\u001b[m\u001b[1m  0.0 \u001b[m\u001b[mni,\u001b[m\u001b[m\u001b[1m 99.6 \u001b[m\u001b[mid,\u001b[m\u001b[m\u001b[1m  0.0 \u001b[m\u001b[mwa,\u001b[m\u001b[m\u001b[1m  0.0 \u001b[m\u001b[mhi,\u001b[m\u001b[m\u001b[1m  0.0 \u001b[m\u001b[msi,\u001b[m\u001b[m\u001b[1m  0.0 \u001b[m\u001b[mst\u001b[m\u001b[m\u001b[m\u001b[m\u001b[K\n",
      "MiB Mem :\u001b[m\u001b[m\u001b[1m  12617.7 \u001b[m\u001b[mtotal,\u001b[m\u001b[m\u001b[1m  11105.3 \u001b[m\u001b[mfree,\u001b[m\u001b[m\u001b[1m    646.1 \u001b[m\u001b[mused,\u001b[m\u001b[m\u001b[1m    866.3 \u001b[m\u001b[mbuff/cache\u001b[m\u001b[m\u001b[m\u001b[m\u001b[K\n",
      "MiB Swap:\u001b[m\u001b[m\u001b[1m   4096.0 \u001b[m\u001b[mtotal,\u001b[m\u001b[m\u001b[1m   4096.0 \u001b[m\u001b[mfree,\u001b[m\u001b[m\u001b[1m      0.0 \u001b[m\u001b[mused.\u001b[m\u001b[m\u001b[1m  11659.0 \u001b[m\u001b[mavail Mem \u001b[m\u001b[m\u001b[m\u001b[m\u001b[K\n",
      "\u001b[K\n",
      "\n",
      "\u001b[m 2118 jingwora  20   0  676700  67460  15556 S   4.7   0.5   0:03.09 python     \u001b[m\u001b[m\u001b[K\n",
      "\u001b[m 1902 jingwora  20   0 1117268 182164  43008 S   1.7   1.4   1:59.55 node       \u001b[m\u001b[m\u001b[K\n",
      "\u001b[m    1 root      20   0    1068    580    476 S   0.0   0.0   0:02.71 init       \u001b[m\u001b[m\u001b[K\n",
      "\u001b[m 1237 root      20   0    1416    468     20 S   0.0   0.0   0:05.73 init       \u001b[m\u001b[m\u001b[K\n",
      "\u001b[m 1766 root      20   0    1416    468     20 S   0.0   0.0   0:00.00 init       \u001b[m\u001b[m\u001b[K\n",
      "\u001b[m 1767 root      20   0    1416    468     20 S   0.0   0.0   0:00.02 init       \u001b[m\u001b[m\u001b[K\n",
      "\u001b[m 1768 jingwora  20   0    6204   5160   3408 S   0.0   0.0   0:00.07 bash       \u001b[m\u001b[m\u001b[K\n",
      "\u001b[m 1827 root      20   0    1416    468     20 S   0.0   0.0   0:00.00 init       \u001b[m\u001b[m\u001b[K\n",
      "\u001b[m 1828 root      20   0    1416    468     20 S   0.0   0.0   0:00.00 init       \u001b[m\u001b[m\u001b[K\n",
      "\u001b[m 1829 jingwora  20   0    2884   1052    956 S   0.0   0.0   0:00.00 sh         \u001b[m\u001b[m\u001b[K\n",
      "\u001b[m 1830 jingwora  20   0    2884    956    864 S   0.0   0.0   0:00.00 sh         \u001b[m\u001b[m\u001b[K\n",
      "\u001b[m 1835 jingwora  20   0    2884    944    852 S   0.0   0.0   0:00.00 sh         \u001b[m\u001b[m\u001b[K\n",
      "\u001b[m 1839 jingwora  20   0  932964  85996  35360 S   0.0   0.7   0:22.94 node       \u001b[m\u001b[m\u001b[K\n",
      "\u001b[m 1859 jingwora  20   0  624752  48352  32480 S   0.0   0.4   0:02.83 node       \u001b[m\u001b[m\u001b[K\n",
      "\u001b[m 1913 jingwora  20   0 1031940  46920  32136 S   0.0   0.4   0:03.50 node       \u001b[m\u001b[m\u001b[K\n",
      "\u001b[m 1973 jingwora  20   0  186848  32284   9796 S   0.0   0.2   0:02.66 python3    \u001b[m\u001b[m\u001b[K\n",
      "\u001b[m 2019 jingwora  20   0   11.1g 202348  36700 S   0.0   1.6   0:15.57 node       \u001b[m\u001b[m\u001b[K\u001b[H\u001b[mtop - 09:03:54 up 12:38,  0 users,  load average: 0.11, 0.08, 0.03\u001b[m\u001b[m\u001b[m\u001b[m\u001b[K\n",
      "\n",
      "%Cpu(s):\u001b[m\u001b[m\u001b[1m  0.4 \u001b[m\u001b[mus,\u001b[m\u001b[m\u001b[1m  0.4 \u001b[m\u001b[msy,\u001b[m\u001b[m\u001b[1m  0.0 \u001b[m\u001b[mni,\u001b[m\u001b[m\u001b[1m 99.2 \u001b[m\u001b[mid,\u001b[m\u001b[m\u001b[1m  0.0 \u001b[m\u001b[mwa,\u001b[m\u001b[m\u001b[1m  0.0 \u001b[m\u001b[mhi,\u001b[m\u001b[m\u001b[1m  0.0 \u001b[m\u001b[msi,\u001b[m\u001b[m\u001b[1m  0.0 \u001b[m\u001b[mst\u001b[m\u001b[m\u001b[m\u001b[m\u001b[K\n",
      "\n",
      "\n",
      "\u001b[K\n",
      "\n",
      "\u001b[m 1902 jingwora  20   0 1117268 181776  43008 S   5.6   1.4   1:59.72 node       \u001b[m\u001b[m\u001b[K\n",
      "\u001b[m 2118 jingwora  20   0  676700  67460  15556 S   4.0   0.5   0:03.21 python     \u001b[m\u001b[m\u001b[K\n",
      "\u001b[m 2250 jingwora  20   0  584496  41516  29908 S   0.3   0.3   0:00.67 node       \u001b[m\u001b[m\u001b[K\n",
      "\u001b[m    1 root      20   0    1068    580    476 S   0.0   0.0   0:02.71 init       \u001b[m\u001b[m\u001b[K\n",
      "\u001b[m 1237 root      20   0    1416    468     20 S   0.0   0.0   0:05.73 init       \u001b[m\u001b[m\u001b[K\n",
      "\u001b[m 1766 root      20   0    1416    468     20 S   0.0   0.0   0:00.00 init       \u001b[m\u001b[m\u001b[K\n",
      "\u001b[m 1767 root      20   0    1416    468     20 S   0.0   0.0   0:00.02 init       \u001b[m\u001b[m\u001b[K\n",
      "\u001b[m 1768 jingwora  20   0    6204   5160   3408 S   0.0   0.0   0:00.07 bash       \u001b[m\u001b[m\u001b[K\n",
      "\u001b[m 1827 root      20   0    1416    468     20 S   0.0   0.0   0:00.00 init       \u001b[m\u001b[m\u001b[K\n",
      "\u001b[m 1828 root      20   0    1416    468     20 S   0.0   0.0   0:00.00 init       \u001b[m\u001b[m\u001b[K\n",
      "\u001b[m 1829 jingwora  20   0    2884   1052    956 S   0.0   0.0   0:00.00 sh         \u001b[m\u001b[m\u001b[K\n",
      "\u001b[m 1830 jingwora  20   0    2884    956    864 S   0.0   0.0   0:00.00 sh         \u001b[m\u001b[m\u001b[K\n",
      "\u001b[m 1835 jingwora  20   0    2884    944    852 S   0.0   0.0   0:00.00 sh         \u001b[m\u001b[m\u001b[K\n",
      "\u001b[m 1839 jingwora  20   0  932964  85996  35360 S   0.0   0.7   0:22.94 node       \u001b[m\u001b[m\u001b[K\n",
      "\u001b[m 1859 jingwora  20   0  624752  48352  32480 S   0.0   0.4   0:02.83 node       \u001b[m\u001b[m\u001b[K\n",
      "\u001b[m 1913 jingwora  20   0 1031940  46920  32136 S   0.0   0.4   0:03.50 node       \u001b[m\u001b[m\u001b[K\n",
      "\u001b[m 1973 jingwora  20   0  186848  32284   9796 S   0.0   0.2   0:02.66 python3    \u001b[m\u001b[m\u001b[K\u001b[H\u001b[mtop - 09:03:57 up 12:38,  0 users,  load average: 0.10, 0.08, 0.03\u001b[m\u001b[m\u001b[m\u001b[m\u001b[K\n",
      "\n",
      "%Cpu(s):\u001b[m\u001b[m\u001b[1m  0.5 \u001b[m\u001b[mus,\u001b[m\u001b[m\u001b[1m  0.2 \u001b[m\u001b[msy,\u001b[m\u001b[m\u001b[1m  0.0 \u001b[m\u001b[mni,\u001b[m\u001b[m\u001b[1m 99.1 \u001b[m\u001b[mid,\u001b[m\u001b[m\u001b[1m  0.0 \u001b[m\u001b[mwa,\u001b[m\u001b[m\u001b[1m  0.0 \u001b[m\u001b[mhi,\u001b[m\u001b[m\u001b[1m  0.1 \u001b[m\u001b[msi,\u001b[m\u001b[m\u001b[1m  0.0 \u001b[m\u001b[mst\u001b[m\u001b[m\u001b[m\u001b[m\u001b[K\n",
      "MiB Mem :\u001b[m\u001b[m\u001b[1m  12617.7 \u001b[m\u001b[mtotal,\u001b[m\u001b[m\u001b[1m  11104.9 \u001b[m\u001b[mfree,\u001b[m\u001b[m\u001b[1m    646.4 \u001b[m\u001b[mused,\u001b[m\u001b[m\u001b[1m    866.3 \u001b[m\u001b[mbuff/cache\u001b[m\u001b[m\u001b[m\u001b[m\u001b[K\n",
      "MiB Swap:\u001b[m\u001b[m\u001b[1m   4096.0 \u001b[m\u001b[mtotal,\u001b[m\u001b[m\u001b[1m   4096.0 \u001b[m\u001b[mfree,\u001b[m\u001b[m\u001b[1m      0.0 \u001b[m\u001b[mused.\u001b[m\u001b[m\u001b[1m  11658.6 \u001b[m\u001b[mavail Mem \u001b[m\u001b[m\u001b[m\u001b[m\u001b[K\n",
      "\u001b[K\n",
      "\n",
      "\u001b[m 1902 jingwora  20   0 1117268 181504  43008 S   7.0   1.4   1:59.93 node       \u001b[m\u001b[m\u001b[K\n",
      "\u001b[m 2118 jingwora  20   0  676700  67460  15556 S   3.3   0.5   0:03.31 python     \u001b[m\u001b[m\u001b[K\n",
      "\u001b[m 1839 jingwora  20   0  932964  85996  35360 S   0.3   0.7   0:22.95 node       \u001b[m\u001b[m\u001b[K\n",
      "\u001b[m 2249 root      20   0    1068    200     20 S   0.3   0.0   0:00.21 init       \u001b[m\u001b[m\u001b[K\n",
      "\u001b[m    1 root      20   0    1068    580    476 S   0.0   0.0   0:02.71 init       \u001b[m\u001b[m\u001b[K\n",
      "\u001b[m 1237 root      20   0    1416    468     20 S   0.0   0.0   0:05.73 init       \u001b[m\u001b[m\u001b[K\n",
      "\u001b[m 1766 root      20   0    1416    468     20 S   0.0   0.0   0:00.00 init       \u001b[m\u001b[m\u001b[K\n",
      "\u001b[m 1767 root      20   0    1416    468     20 S   0.0   0.0   0:00.02 init       \u001b[m\u001b[m\u001b[K\n",
      "\u001b[m 1768 jingwora  20   0    6204   5160   3408 S   0.0   0.0   0:00.07 bash       \u001b[m\u001b[m\u001b[K\n",
      "\u001b[m 1827 root      20   0    1416    468     20 S   0.0   0.0   0:00.00 init       \u001b[m\u001b[m\u001b[K\n",
      "\u001b[m 1828 root      20   0    1416    468     20 S   0.0   0.0   0:00.00 init       \u001b[m\u001b[m\u001b[K\n",
      "\u001b[m 1829 jingwora  20   0    2884   1052    956 S   0.0   0.0   0:00.00 sh         \u001b[m\u001b[m\u001b[K\n",
      "\u001b[m 1830 jingwora  20   0    2884    956    864 S   0.0   0.0   0:00.00 sh         \u001b[m\u001b[m\u001b[K\n",
      "\u001b[m 1835 jingwora  20   0    2884    944    852 S   0.0   0.0   0:00.00 sh         \u001b[m\u001b[m\u001b[K\n",
      "\n",
      "\n",
      "\u001b[H\u001b[mtop - 09:04:00 up 12:38,  0 users,  load average: 0.10, 0.08, 0.03\u001b[m\u001b[m\u001b[m\u001b[m\u001b[K\n",
      "Tasks:\u001b[m\u001b[m\u001b[1m  25 \u001b[m\u001b[mtotal,\u001b[m\u001b[m\u001b[1m   2 \u001b[m\u001b[mrunning,\u001b[m\u001b[m\u001b[1m  23 \u001b[m\u001b[msleeping,\u001b[m\u001b[m\u001b[1m   0 \u001b[m\u001b[mstopped,\u001b[m\u001b[m\u001b[1m   0 \u001b[m\u001b[mzombie\u001b[m\u001b[m\u001b[m\u001b[m\u001b[K\n",
      "%Cpu(s):\u001b[m\u001b[m\u001b[1m  0.2 \u001b[m\u001b[mus,\u001b[m\u001b[m\u001b[1m  0.3 \u001b[m\u001b[msy,\u001b[m\u001b[m\u001b[1m  0.0 \u001b[m\u001b[mni,\u001b[m\u001b[m\u001b[1m 99.4 \u001b[m\u001b[mid,\u001b[m\u001b[m\u001b[1m  0.0 \u001b[m\u001b[mwa,\u001b[m\u001b[m\u001b[1m  0.0 \u001b[m\u001b[mhi,\u001b[m\u001b[m\u001b[1m  0.0 \u001b[m\u001b[msi,\u001b[m\u001b[m\u001b[1m  0.0 \u001b[m\u001b[mst\u001b[m\u001b[m\u001b[m\u001b[m\u001b[K\n",
      "MiB Mem :\u001b[m\u001b[m\u001b[1m  12617.7 \u001b[m\u001b[mtotal,\u001b[m\u001b[m\u001b[1m  11112.2 \u001b[m\u001b[mfree,\u001b[m\u001b[m\u001b[1m    639.2 \u001b[m\u001b[mused,\u001b[m\u001b[m\u001b[1m    866.3 \u001b[m\u001b[mbuff/cache\u001b[m\u001b[m\u001b[m\u001b[m\u001b[K\n",
      "MiB Swap:\u001b[m\u001b[m\u001b[1m   4096.0 \u001b[m\u001b[mtotal,\u001b[m\u001b[m\u001b[1m   4096.0 \u001b[m\u001b[mfree,\u001b[m\u001b[m\u001b[1m      0.0 \u001b[m\u001b[mused.\u001b[m\u001b[m\u001b[1m  11665.9 \u001b[m\u001b[mavail Mem \u001b[m\u001b[m\u001b[m\u001b[m\u001b[K\n",
      "\u001b[K\n",
      "\n",
      "\u001b[m 1902 jingwora  20   0 1117268 182076  43008 S   4.0   1.4   2:00.05 node       \u001b[m\u001b[m\u001b[K\n",
      "\u001b[m\u001b[1m 2118 jingwora  20   0  676700  67460  15556 R   2.3   0.5   0:03.38 python     \u001b[m\u001b[m\u001b[K\n",
      "\u001b[m    1 root      20   0    1068    580    476 S   0.0   0.0   0:02.71 init       \u001b[m\u001b[m\u001b[K\n",
      "\u001b[m 1237 root      20   0    1416    468     20 S   0.0   0.0   0:05.73 init       \u001b[m\u001b[m\u001b[K\n",
      "\u001b[m 1766 root      20   0    1416    468     20 S   0.0   0.0   0:00.00 init       \u001b[m\u001b[m\u001b[K\n",
      "\u001b[m 1767 root      20   0    1416    468     20 S   0.0   0.0   0:00.02 init       \u001b[m\u001b[m\u001b[K\n",
      "\u001b[m 1768 jingwora  20   0    6204   5160   3408 S   0.0   0.0   0:00.07 bash       \u001b[m\u001b[m\u001b[K\n",
      "\u001b[m 1827 root      20   0    1416    468     20 S   0.0   0.0   0:00.00 init       \u001b[m\u001b[m\u001b[K\n",
      "\u001b[m 1828 root      20   0    1416    468     20 S   0.0   0.0   0:00.00 init       \u001b[m\u001b[m\u001b[K\n",
      "\u001b[m 1829 jingwora  20   0    2884   1052    956 S   0.0   0.0   0:00.00 sh         \u001b[m\u001b[m\u001b[K\n",
      "\u001b[m 1830 jingwora  20   0    2884    956    864 S   0.0   0.0   0:00.00 sh         \u001b[m\u001b[m\u001b[K\n",
      "\u001b[m 1835 jingwora  20   0    2884    944    852 S   0.0   0.0   0:00.00 sh         \u001b[m\u001b[m\u001b[K\n",
      "\u001b[m 1839 jingwora  20   0  932964  85996  35360 S   0.0   0.7   0:22.95 node       \u001b[m\u001b[m\u001b[K\n",
      "\u001b[m 1859 jingwora  20   0  624752  48352  32480 S   0.0   0.4   0:02.83 node       \u001b[m\u001b[m\u001b[K\n",
      "\u001b[m 1913 jingwora  20   0 1031940  46920  32136 S   0.0   0.4   0:03.50 node       \u001b[m\u001b[m\u001b[K\n",
      "\u001b[m 1973 jingwora  20   0  186848  32284   9796 S   0.0   0.2   0:02.66 python3    \u001b[m\u001b[m\u001b[K\n",
      "\u001b[m 2019 jingwora  20   0   11.1g 202348  36700 S   0.0   1.6   0:15.57 node       \u001b[m\u001b[m\u001b[K\u001b[H\u001b[mtop - 09:04:03 up 12:38,  0 users,  load average: 0.09, 0.08, 0.03\u001b[m\u001b[m\u001b[m\u001b[m\u001b[K\n",
      "Tasks:\u001b[m\u001b[m\u001b[1m  25 \u001b[m\u001b[mtotal,\u001b[m\u001b[m\u001b[1m   1 \u001b[m\u001b[mrunning,\u001b[m\u001b[m\u001b[1m  24 \u001b[m\u001b[msleeping,\u001b[m\u001b[m\u001b[1m   0 \u001b[m\u001b[mstopped,\u001b[m\u001b[m\u001b[1m   0 \u001b[m\u001b[mzombie\u001b[m\u001b[m\u001b[m\u001b[m\u001b[K\n",
      "%Cpu(s):\u001b[m\u001b[m\u001b[1m  0.1 \u001b[m\u001b[mus,\u001b[m\u001b[m\u001b[1m  0.1 \u001b[m\u001b[msy,\u001b[m\u001b[m\u001b[1m  0.0 \u001b[m\u001b[mni,\u001b[m\u001b[m\u001b[1m 99.7 \u001b[m\u001b[mid,\u001b[m\u001b[m\u001b[1m  0.0 \u001b[m\u001b[mwa,\u001b[m\u001b[m\u001b[1m  0.0 \u001b[m\u001b[mhi,\u001b[m\u001b[m\u001b[1m  0.0 \u001b[m\u001b[msi,\u001b[m\u001b[m\u001b[1m  0.0 \u001b[m\u001b[mst\u001b[m\u001b[m\u001b[m\u001b[m\u001b[K\n",
      "MiB Mem :\u001b[m\u001b[m\u001b[1m  12617.7 \u001b[m\u001b[mtotal,\u001b[m\u001b[m\u001b[1m  11111.7 \u001b[m\u001b[mfree,\u001b[m\u001b[m\u001b[1m    639.7 \u001b[m\u001b[mused,\u001b[m\u001b[m\u001b[1m    866.4 \u001b[m\u001b[mbuff/cache\u001b[m\u001b[m\u001b[m\u001b[m\u001b[K\n",
      "MiB Swap:\u001b[m\u001b[m\u001b[1m   4096.0 \u001b[m\u001b[mtotal,\u001b[m\u001b[m\u001b[1m   4096.0 \u001b[m\u001b[mfree,\u001b[m\u001b[m\u001b[1m      0.0 \u001b[m\u001b[mused.\u001b[m\u001b[m\u001b[1m  11665.4 \u001b[m\u001b[mavail Mem \u001b[m\u001b[m\u001b[m\u001b[m\u001b[K\n",
      "\u001b[K\n",
      "\n",
      "\u001b[m 1902 jingwora  20   0 1117524 182380  43008 S   2.7   1.4   2:00.13 node       \u001b[m\u001b[m\u001b[K\n",
      "\u001b[m 2118 jingwora  20   0  676700  67460  15556 S   2.7   0.5   0:03.46 python     \u001b[m\u001b[m\u001b[K\n",
      "\u001b[m 2241 jingwora  20   0  319844  35484  26576 S   0.3   0.3   0:01.32 node       \u001b[m\u001b[m\u001b[K\n",
      "\u001b[m 2250 jingwora  20   0  584920  41780  29908 S   0.3   0.3   0:00.68 node       \u001b[m\u001b[m\u001b[K\n",
      "\u001b[m    1 root      20   0    1068    580    476 S   0.0   0.0   0:02.71 init       \u001b[m\u001b[m\u001b[K\n",
      "\u001b[m 1237 root      20   0    1416    468     20 S   0.0   0.0   0:05.73 init       \u001b[m\u001b[m\u001b[K\n",
      "\u001b[m 1766 root      20   0    1416    468     20 S   0.0   0.0   0:00.00 init       \u001b[m\u001b[m\u001b[K\n",
      "\u001b[m 1767 root      20   0    1416    468     20 S   0.0   0.0   0:00.02 init       \u001b[m\u001b[m\u001b[K\n",
      "\u001b[m 1768 jingwora  20   0    6204   5160   3408 S   0.0   0.0   0:00.07 bash       \u001b[m\u001b[m\u001b[K\n",
      "\u001b[m 1827 root      20   0    1416    468     20 S   0.0   0.0   0:00.00 init       \u001b[m\u001b[m\u001b[K\n",
      "\u001b[m 1828 root      20   0    1416    468     20 S   0.0   0.0   0:00.00 init       \u001b[m\u001b[m\u001b[K\n",
      "\u001b[m 1829 jingwora  20   0    2884   1052    956 S   0.0   0.0   0:00.00 sh         \u001b[m\u001b[m\u001b[K\n",
      "\u001b[m 1830 jingwora  20   0    2884    956    864 S   0.0   0.0   0:00.00 sh         \u001b[m\u001b[m\u001b[K\n",
      "\u001b[m 1835 jingwora  20   0    2884    944    852 S   0.0   0.0   0:00.00 sh         \u001b[m\u001b[m\u001b[K\n",
      "\u001b[m 1839 jingwora  20   0  932964  86260  35360 S   0.0   0.7   0:22.95 node       \u001b[m\u001b[m\u001b[K\n",
      "\u001b[m 1859 jingwora  20   0  624752  48352  32480 S   0.0   0.4   0:02.83 node       \u001b[m\u001b[m\u001b[K\n",
      "\u001b[m 1913 jingwora  20   0 1031940  46920  32136 S   0.0   0.4   0:03.50 node       \u001b[m\u001b[m\u001b[K\u001b[H\u001b[mtop - 09:04:06 up 12:38,  0 users,  load average: 0.09, 0.08, 0.03\u001b[m\u001b[m\u001b[m\u001b[m\u001b[K\n",
      "\n",
      "%Cpu(s):\u001b[m\u001b[m\u001b[1m  0.6 \u001b[m\u001b[mus,\u001b[m\u001b[m\u001b[1m  0.3 \u001b[m\u001b[msy,\u001b[m\u001b[m\u001b[1m  0.0 \u001b[m\u001b[mni,\u001b[m\u001b[m\u001b[1m 99.1 \u001b[m\u001b[mid,\u001b[m\u001b[m\u001b[1m  0.0 \u001b[m\u001b[mwa,\u001b[m\u001b[m\u001b[1m  0.0 \u001b[m\u001b[mhi,\u001b[m\u001b[m\u001b[1m  0.0 \u001b[m\u001b[msi,\u001b[m\u001b[m\u001b[1m  0.0 \u001b[m\u001b[mst\u001b[m\u001b[m\u001b[m\u001b[m\u001b[K\n",
      "MiB Mem :\u001b[m\u001b[m\u001b[1m  12617.7 \u001b[m\u001b[mtotal,\u001b[m\u001b[m\u001b[1m  11109.9 \u001b[m\u001b[mfree,\u001b[m\u001b[m\u001b[1m    641.4 \u001b[m\u001b[mused,\u001b[m\u001b[m\u001b[1m    866.4 \u001b[m\u001b[mbuff/cache\u001b[m\u001b[m\u001b[m\u001b[m\u001b[K\n",
      "MiB Swap:\u001b[m\u001b[m\u001b[1m   4096.0 \u001b[m\u001b[mtotal,\u001b[m\u001b[m\u001b[1m   4096.0 \u001b[m\u001b[mfree,\u001b[m\u001b[m\u001b[1m      0.0 \u001b[m\u001b[mused.\u001b[m\u001b[m\u001b[1m  11663.7 \u001b[m\u001b[mavail Mem \u001b[m\u001b[m\u001b[m\u001b[m\u001b[K\n",
      "\u001b[K\n",
      "\n",
      "\u001b[m 1902 jingwora  20   0 1118292 184308  43008 S   8.7   1.4   2:00.39 node       \u001b[m\u001b[m\u001b[K\n",
      "\u001b[m 2118 jingwora  20   0  676700  67460  15556 S   2.7   0.5   0:03.54 python     \u001b[m\u001b[m\u001b[K\n",
      "\u001b[m    1 root      20   0    1068    580    476 S   0.0   0.0   0:02.71 init       \u001b[m\u001b[m\u001b[K\n",
      "\u001b[m 1237 root      20   0    1416    468     20 S   0.0   0.0   0:05.73 init       \u001b[m\u001b[m\u001b[K\n",
      "\u001b[m 1766 root      20   0    1416    468     20 S   0.0   0.0   0:00.00 init       \u001b[m\u001b[m\u001b[K\n",
      "\u001b[m 1767 root      20   0    1416    468     20 S   0.0   0.0   0:00.02 init       \u001b[m\u001b[m\u001b[K\n",
      "\u001b[m 1768 jingwora  20   0    6204   5160   3408 S   0.0   0.0   0:00.07 bash       \u001b[m\u001b[m\u001b[K\n",
      "\u001b[m 1827 root      20   0    1416    468     20 S   0.0   0.0   0:00.00 init       \u001b[m\u001b[m\u001b[K\n",
      "\u001b[m 1828 root      20   0    1416    468     20 S   0.0   0.0   0:00.00 init       \u001b[m\u001b[m\u001b[K\n",
      "\u001b[m 1829 jingwora  20   0    2884   1052    956 S   0.0   0.0   0:00.00 sh         \u001b[m\u001b[m\u001b[K\n",
      "\u001b[m 1830 jingwora  20   0    2884    956    864 S   0.0   0.0   0:00.00 sh         \u001b[m\u001b[m\u001b[K\n",
      "\u001b[m 1835 jingwora  20   0    2884    944    852 S   0.0   0.0   0:00.00 sh         \u001b[m\u001b[m\u001b[K\n",
      "\u001b[m 1839 jingwora  20   0  932964  86260  35360 S   0.0   0.7   0:22.95 node       \u001b[m\u001b[m\u001b[K\n",
      "\u001b[m 1859 jingwora  20   0  624752  48352  32480 S   0.0   0.4   0:02.83 node       \u001b[m\u001b[m\u001b[K\n",
      "\u001b[m 1913 jingwora  20   0 1031940  46920  32136 S   0.0   0.4   0:03.50 node       \u001b[m\u001b[m\u001b[K\n",
      "\u001b[m 1973 jingwora  20   0  186848  32284   9796 S   0.0   0.2   0:02.66 python3    \u001b[m\u001b[m\u001b[K\n",
      "\u001b[m 2019 jingwora  20   0   11.1g 202612  36700 S   0.0   1.6   0:15.57 node       \u001b[m\u001b[m\u001b[K\u001b[H\u001b[mtop - 09:04:09 up 12:38,  0 users,  load average: 0.08, 0.08, 0.03\u001b[m\u001b[m\u001b[m\u001b[m\u001b[K\n",
      "\n",
      "%Cpu(s):\u001b[m\u001b[m\u001b[1m  0.2 \u001b[m\u001b[mus,\u001b[m\u001b[m\u001b[1m  0.1 \u001b[m\u001b[msy,\u001b[m\u001b[m\u001b[1m  0.0 \u001b[m\u001b[mni,\u001b[m\u001b[m\u001b[1m 99.6 \u001b[m\u001b[mid,\u001b[m\u001b[m\u001b[1m  0.0 \u001b[m\u001b[mwa,\u001b[m\u001b[m\u001b[1m  0.0 \u001b[m\u001b[mhi,\u001b[m\u001b[m\u001b[1m  0.1 \u001b[m\u001b[msi,\u001b[m\u001b[m\u001b[1m  0.0 \u001b[m\u001b[mst\u001b[m\u001b[m\u001b[m\u001b[m\u001b[K\n",
      "MiB Mem :\u001b[m\u001b[m\u001b[1m  12617.7 \u001b[m\u001b[mtotal,\u001b[m\u001b[m\u001b[1m  11108.2 \u001b[m\u001b[mfree,\u001b[m\u001b[m\u001b[1m    643.1 \u001b[m\u001b[mused,\u001b[m\u001b[m\u001b[1m    866.4 \u001b[m\u001b[mbuff/cache\u001b[m\u001b[m\u001b[m\u001b[m\u001b[K\n",
      "MiB Swap:\u001b[m\u001b[m\u001b[1m   4096.0 \u001b[m\u001b[mtotal,\u001b[m\u001b[m\u001b[1m   4096.0 \u001b[m\u001b[mfree,\u001b[m\u001b[m\u001b[1m      0.0 \u001b[m\u001b[mused.\u001b[m\u001b[m\u001b[1m  11662.0 \u001b[m\u001b[mavail Mem \u001b[m\u001b[m\u001b[m\u001b[m\u001b[K\n",
      "\u001b[K\n",
      "\n",
      "\u001b[m 2118 jingwora  20   0  676700  67460  15556 S   3.0   0.5   0:03.63 python     \u001b[m\u001b[m\u001b[K\n",
      "\u001b[m 1902 jingwora  20   0 1118292 185972  43008 S   2.3   1.4   2:00.46 node       \u001b[m\u001b[m\u001b[K\n",
      "\n",
      "\n",
      "\n",
      "\n",
      "\n",
      "\n",
      "\n",
      "\n",
      "\n",
      "\n",
      "\n",
      "\n",
      "\n",
      "\n",
      "\u001b[?1l\u001b>\u001b[25;1H\n",
      "\u001b[K"
     ]
    }
   ],
   "source": [
    "# top (table of processes) \n",
    "# command is an extended version of the ps command. \n",
    "!top"
   ]
  },
  {
   "cell_type": "code",
   "execution_count": null,
   "metadata": {},
   "outputs": [],
   "source": [
    "# kill \n",
    "# command to terminate an unresponsive process.\n",
    "# kill <signal_option> <process_ID>\n",
    "# -15 saves all progress before closing the process.\n",
    "# -9 forces a stop immediately."
   ]
  },
  {
   "cell_type": "code",
   "execution_count": 57,
   "metadata": {},
   "outputs": [
    {
     "name": "stdout",
     "output_type": "stream",
     "text": [
      "PING google.com (216.58.220.110) 56(84) bytes of data.\n",
      "64 bytes from syd10s01-in-f110.1e100.net (216.58.220.110): icmp_seq=1 ttl=57 time=7.72 ms\n",
      "^C\n",
      "\n",
      "--- google.com ping statistics ---\n",
      "1 packets transmitted, 1 received, 0% packet loss, time 0ms\n",
      "rtt min/avg/max/mdev = 7.718/7.718/7.718/0.000 ms\n"
     ]
    }
   ],
   "source": [
    "# ping (packet internet groper) \n",
    "# command to check internet connectivity.\n",
    "!ping google.com"
   ]
  },
  {
   "cell_type": "code",
   "execution_count": null,
   "metadata": {},
   "outputs": [],
   "source": [
    "# wget (WWW get) \n",
    "# command for downloading files from the internet.\n",
    "# wget <URL>  \n",
    "!wget "
   ]
  },
  {
   "cell_type": "code",
   "execution_count": null,
   "metadata": {},
   "outputs": [],
   "source": []
  },
  {
   "cell_type": "code",
   "execution_count": null,
   "metadata": {},
   "outputs": [],
   "source": []
  }
 ],
 "metadata": {
  "kernelspec": {
   "display_name": "tsinfer",
   "language": "python",
   "name": "python3"
  },
  "language_info": {
   "codemirror_mode": {
    "name": "ipython",
    "version": 3
   },
   "file_extension": ".py",
   "mimetype": "text/x-python",
   "name": "python",
   "nbconvert_exporter": "python",
   "pygments_lexer": "ipython3",
   "version": "3.10.8"
  },
  "orig_nbformat": 4,
  "vscode": {
   "interpreter": {
    "hash": "3e7889d32685d7bd3545250573ca1b788d42bef239306b18b2f0ba00d19c6c1a"
   }
  }
 },
 "nbformat": 4,
 "nbformat_minor": 2
}
