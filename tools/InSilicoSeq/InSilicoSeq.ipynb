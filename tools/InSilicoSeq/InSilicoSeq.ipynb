{
  "nbformat": 4,
  "nbformat_minor": 0,
  "metadata": {
    "colab": {
      "provenance": []
    },
    "kernelspec": {
      "name": "python3",
      "display_name": "Python 3"
    },
    "language_info": {
      "name": "python"
    }
  },
  "cells": [
    {
      "cell_type": "markdown",
      "source": [
        "#  InSilicoSeq"
      ],
      "metadata": {
        "id": "oAEr5wDGoMpD"
      }
    },
    {
      "cell_type": "markdown",
      "source": [
        "InSilicoSeq is a sequencing simulator producing realistic Illumina reads. Primarily intended for simulating metagenomic samples, it can also be used to produce sequencing data from a single genome."
      ],
      "metadata": {
        "id": "I7uGJfvvoS59"
      }
    },
    {
      "cell_type": "markdown",
      "source": [
        "Ref:\n",
        "- Doc: https://insilicoseq.readthedocs.io/en/latest/iss/generate.html\n",
        "- Github: https://github.com/HadrienG/InSilicoSeq"
      ],
      "metadata": {
        "id": "a3kfZHc6oP4D"
      }
    },
    {
      "cell_type": "markdown",
      "source": [
        "## Environment\n",
        "- Colab"
      ],
      "metadata": {
        "id": "dRNIF3y-rkN6"
      }
    },
    {
      "cell_type": "code",
      "source": [
        "!lscpu |grep 'Model name'                   # CPU\n",
        "!cat /proc/cpuinfo | grep processor | wc -l # threads"
      ],
      "metadata": {
        "colab": {
          "base_uri": "https://localhost:8080/"
        },
        "id": "jTA4n-JcrnvA",
        "outputId": "73b67479-b665-4773-f3b2-ef5cbad73fe6"
      },
      "execution_count": 11,
      "outputs": [
        {
          "output_type": "stream",
          "name": "stdout",
          "text": [
            "Model name:                      Intel(R) Xeon(R) CPU @ 2.20GHz\n",
            "2\n"
          ]
        }
      ]
    },
    {
      "cell_type": "markdown",
      "source": [
        "## Installation"
      ],
      "metadata": {
        "id": "9gT1_6QMojXd"
      }
    },
    {
      "cell_type": "code",
      "execution_count": 1,
      "metadata": {
        "colab": {
          "base_uri": "https://localhost:8080/"
        },
        "id": "EjWm-aNbhA28",
        "outputId": "25e07867-8f61-4c96-f2c6-3c439fef1988"
      },
      "outputs": [
        {
          "output_type": "stream",
          "name": "stdout",
          "text": [
            "--2023-02-02 10:18:46--  https://repo.anaconda.com/miniconda/Miniconda3-py37_4.10.3-Linux-x86_64.sh\n",
            "Resolving repo.anaconda.com (repo.anaconda.com)... 104.16.130.3, 104.16.131.3, 2606:4700::6810:8303, ...\n",
            "Connecting to repo.anaconda.com (repo.anaconda.com)|104.16.130.3|:443... connected.\n",
            "HTTP request sent, awaiting response... 200 OK\n",
            "Length: 89026327 (85M) [application/x-sh]\n",
            "Saving to: ‘miniconda.sh’\n",
            "\n",
            "miniconda.sh        100%[===================>]  84.90M   150MB/s    in 0.6s    \n",
            "\n",
            "2023-02-02 10:18:47 (150 MB/s) - ‘miniconda.sh’ saved [89026327/89026327]\n",
            "\n",
            "PREFIX=/usr/local\n",
            "Unpacking payload ...\n",
            "Collecting package metadata (current_repodata.json): - \b\b\\ \b\bdone\n",
            "Solving environment: / \b\b- \b\b\\ \b\bdone\n",
            "\n",
            "## Package Plan ##\n",
            "\n",
            "  environment location: /usr/local\n",
            "\n",
            "  added / updated specs:\n",
            "    - _libgcc_mutex==0.1=main\n",
            "    - _openmp_mutex==4.5=1_gnu\n",
            "    - brotlipy==0.7.0=py37h27cfd23_1003\n",
            "    - ca-certificates==2021.7.5=h06a4308_1\n",
            "    - certifi==2021.5.30=py37h06a4308_0\n",
            "    - cffi==1.14.6=py37h400218f_0\n",
            "    - chardet==4.0.0=py37h06a4308_1003\n",
            "    - conda-package-handling==1.7.3=py37h27cfd23_1\n",
            "    - conda==4.10.3=py37h06a4308_0\n",
            "    - cryptography==3.4.7=py37hd23ed53_0\n",
            "    - idna==2.10=pyhd3eb1b0_0\n",
            "    - ld_impl_linux-64==2.35.1=h7274673_9\n",
            "    - libffi==3.3=he6710b0_2\n",
            "    - libgcc-ng==9.3.0=h5101ec6_17\n",
            "    - libgomp==9.3.0=h5101ec6_17\n",
            "    - libstdcxx-ng==9.3.0=hd4cf53a_17\n",
            "    - ncurses==6.2=he6710b0_1\n",
            "    - openssl==1.1.1k=h27cfd23_0\n",
            "    - pip==21.1.3=py37h06a4308_0\n",
            "    - pycosat==0.6.3=py37h27cfd23_0\n",
            "    - pycparser==2.20=py_2\n",
            "    - pyopenssl==20.0.1=pyhd3eb1b0_1\n",
            "    - pysocks==1.7.1=py37_1\n",
            "    - python==3.7.10=h12debd9_4\n",
            "    - readline==8.1=h27cfd23_0\n",
            "    - requests==2.25.1=pyhd3eb1b0_0\n",
            "    - ruamel_yaml==0.15.100=py37h27cfd23_0\n",
            "    - setuptools==52.0.0=py37h06a4308_0\n",
            "    - six==1.16.0=pyhd3eb1b0_0\n",
            "    - sqlite==3.36.0=hc218d9a_0\n",
            "    - tk==8.6.10=hbc83047_0\n",
            "    - tqdm==4.61.2=pyhd3eb1b0_1\n",
            "    - urllib3==1.26.6=pyhd3eb1b0_1\n",
            "    - wheel==0.36.2=pyhd3eb1b0_0\n",
            "    - xz==5.2.5=h7b6447c_0\n",
            "    - yaml==0.2.5=h7b6447c_0\n",
            "    - zlib==1.2.11=h7b6447c_3\n",
            "\n",
            "\n",
            "The following NEW packages will be INSTALLED:\n",
            "\n",
            "  _libgcc_mutex      pkgs/main/linux-64::_libgcc_mutex-0.1-main\n",
            "  _openmp_mutex      pkgs/main/linux-64::_openmp_mutex-4.5-1_gnu\n",
            "  brotlipy           pkgs/main/linux-64::brotlipy-0.7.0-py37h27cfd23_1003\n",
            "  ca-certificates    pkgs/main/linux-64::ca-certificates-2021.7.5-h06a4308_1\n",
            "  certifi            pkgs/main/linux-64::certifi-2021.5.30-py37h06a4308_0\n",
            "  cffi               pkgs/main/linux-64::cffi-1.14.6-py37h400218f_0\n",
            "  chardet            pkgs/main/linux-64::chardet-4.0.0-py37h06a4308_1003\n",
            "  conda              pkgs/main/linux-64::conda-4.10.3-py37h06a4308_0\n",
            "  conda-package-han~ pkgs/main/linux-64::conda-package-handling-1.7.3-py37h27cfd23_1\n",
            "  cryptography       pkgs/main/linux-64::cryptography-3.4.7-py37hd23ed53_0\n",
            "  idna               pkgs/main/noarch::idna-2.10-pyhd3eb1b0_0\n",
            "  ld_impl_linux-64   pkgs/main/linux-64::ld_impl_linux-64-2.35.1-h7274673_9\n",
            "  libffi             pkgs/main/linux-64::libffi-3.3-he6710b0_2\n",
            "  libgcc-ng          pkgs/main/linux-64::libgcc-ng-9.3.0-h5101ec6_17\n",
            "  libgomp            pkgs/main/linux-64::libgomp-9.3.0-h5101ec6_17\n",
            "  libstdcxx-ng       pkgs/main/linux-64::libstdcxx-ng-9.3.0-hd4cf53a_17\n",
            "  ncurses            pkgs/main/linux-64::ncurses-6.2-he6710b0_1\n",
            "  openssl            pkgs/main/linux-64::openssl-1.1.1k-h27cfd23_0\n",
            "  pip                pkgs/main/linux-64::pip-21.1.3-py37h06a4308_0\n",
            "  pycosat            pkgs/main/linux-64::pycosat-0.6.3-py37h27cfd23_0\n",
            "  pycparser          pkgs/main/noarch::pycparser-2.20-py_2\n",
            "  pyopenssl          pkgs/main/noarch::pyopenssl-20.0.1-pyhd3eb1b0_1\n",
            "  pysocks            pkgs/main/linux-64::pysocks-1.7.1-py37_1\n",
            "  python             pkgs/main/linux-64::python-3.7.10-h12debd9_4\n",
            "  readline           pkgs/main/linux-64::readline-8.1-h27cfd23_0\n",
            "  requests           pkgs/main/noarch::requests-2.25.1-pyhd3eb1b0_0\n",
            "  ruamel_yaml        pkgs/main/linux-64::ruamel_yaml-0.15.100-py37h27cfd23_0\n",
            "  setuptools         pkgs/main/linux-64::setuptools-52.0.0-py37h06a4308_0\n",
            "  six                pkgs/main/noarch::six-1.16.0-pyhd3eb1b0_0\n",
            "  sqlite             pkgs/main/linux-64::sqlite-3.36.0-hc218d9a_0\n",
            "  tk                 pkgs/main/linux-64::tk-8.6.10-hbc83047_0\n",
            "  tqdm               pkgs/main/noarch::tqdm-4.61.2-pyhd3eb1b0_1\n",
            "  urllib3            pkgs/main/noarch::urllib3-1.26.6-pyhd3eb1b0_1\n",
            "  wheel              pkgs/main/noarch::wheel-0.36.2-pyhd3eb1b0_0\n",
            "  xz                 pkgs/main/linux-64::xz-5.2.5-h7b6447c_0\n",
            "  yaml               pkgs/main/linux-64::yaml-0.2.5-h7b6447c_0\n",
            "  zlib               pkgs/main/linux-64::zlib-1.2.11-h7b6447c_3\n",
            "\n",
            "\n",
            "Preparing transaction: / \b\b- \b\b\\ \b\b| \b\bdone\n",
            "Executing transaction: - \b\b\\ \b\b| \b\b/ \b\b- \b\b\\ \b\b| \b\b/ \b\b- \b\b\\ \b\b| \b\b/ \b\b- \b\b\\ \b\b| \b\bdone\n",
            "installation finished.\n",
            "WARNING:\n",
            "    You currently have a PYTHONPATH environment variable set. This may cause\n",
            "    unexpected behavior when running the Python interpreter in Miniconda3.\n",
            "    For best results, please verify that your PYTHONPATH only points to\n",
            "    directories of packages that are compatible with the Python interpreter\n",
            "    in Miniconda3: /usr/local\n",
            "Collecting package metadata (current_repodata.json): - \b\b\\ \b\b| \b\b/ \b\b- \b\b\\ \b\b| \b\b/ \b\b- \b\b\\ \b\b| \b\b/ \b\b- \b\b\\ \b\b| \b\b/ \b\b- \b\b\\ \b\b| \b\b/ \b\b- \b\b\\ \b\b| \b\b/ \b\b- \b\b\\ \b\b| \b\b/ \b\b- \b\b\\ \b\b| \b\b/ \b\b- \b\b\\ \b\b| \b\b/ \b\b- \b\b\\ \b\b| \b\b/ \b\b- \b\b\\ \b\b| \b\b/ \b\b- \b\b\\ \b\b| \b\b/ \b\b- \b\b\\ \b\b| \b\b/ \b\b- \b\b\\ \b\b| \b\b/ \b\b- \b\b\\ \b\b| \b\b/ \b\b- \b\b\\ \b\b| \b\b/ \b\b- \b\b\\ \b\b| \b\b/ \b\b- \b\b\\ \b\b| \b\b/ \b\b- \b\b\\ \b\b| \b\b/ \b\b- \b\b\\ \b\b| \b\b/ \b\b- \b\b\\ \b\b| \b\b/ \b\b- \b\b\\ \b\b| \b\b/ \b\b- \b\b\\ \b\b| \b\b/ \b\b- \b\b\\ \b\b| \b\b/ \b\b- \b\b\\ \b\b| \b\b/ \b\b- \b\b\\ \b\b| \b\b/ \b\b- \b\b\\ \b\b| \b\b/ \b\b- \b\b\\ \b\b| \b\b/ \b\b- \b\b\\ \b\b| \b\b/ \b\b- \b\b\\ \b\b| \b\b/ \b\b- \b\b\\ \b\b| \b\b/ \b\b- \b\b\\ \b\b| \b\b/ \b\b- \b\b\\ \b\b| \b\b/ \b\b- \b\b\\ \b\b| \b\b/ \b\b- \b\b\\ \b\b| \b\b/ \b\b- \b\b\\ \b\b| \b\b/ \b\b- \b\b\\ \b\b| \b\b/ \b\bdone\n",
            "Solving environment: \\ \b\b| \b\b/ \b\b- \b\b\\ \b\b| \b\b/ \b\b- \b\b\\ \b\b| \b\b/ \b\b- \b\b\\ \b\b| \b\b/ \b\b- \b\b\\ \b\b| \b\b/ \b\b- \b\b\\ \b\b| \b\b/ \b\b- \b\b\\ \b\b| \b\b/ \b\b- \b\b\\ \b\b| \b\b/ \b\b- \b\b\\ \b\b| \b\b/ \b\b- \b\b\\ \b\b| \b\bdone\n",
            "\n",
            "\n",
            "==> WARNING: A newer version of conda exists. <==\n",
            "  current version: 4.10.3\n",
            "  latest version: 23.1.0\n",
            "\n",
            "Please update conda by running\n",
            "\n",
            "    $ conda update -n base -c defaults conda\n",
            "\n",
            "\n",
            "\n",
            "## Package Plan ##\n",
            "\n",
            "  environment location: /usr/local\n",
            "\n",
            "  added / updated specs:\n",
            "    - mamba\n",
            "\n",
            "\n",
            "The following packages will be downloaded:\n",
            "\n",
            "    package                    |            build\n",
            "    ---------------------------|-----------------\n",
            "    bzip2-1.0.8                |       h7f98852_4         484 KB  conda-forge\n",
            "    c-ares-1.18.1              |       h7f98852_0         113 KB  conda-forge\n",
            "    ca-certificates-2022.12.7  |       ha878542_0         143 KB  conda-forge\n",
            "    certifi-2022.12.7          |     pyhd8ed1ab_0         147 KB  conda-forge\n",
            "    icu-58.2                   |    hf484d3e_1000        22.6 MB  conda-forge\n",
            "    keyutils-1.6.1             |       h166bdaf_0         115 KB  conda-forge\n",
            "    krb5-1.19.3                |       h3790be6_0         1.4 MB  conda-forge\n",
            "    libarchive-3.5.2           |       hccf745f_1         1.6 MB  conda-forge\n",
            "    libcurl-7.87.0             |       h91b91d3_0         373 KB\n",
            "    libedit-3.1.20191231       |       he28a2e2_2         121 KB  conda-forge\n",
            "    libev-4.33                 |       h516909a_1         104 KB  conda-forge\n",
            "    libgcc-ng-11.2.0           |       h1234567_1         5.3 MB\n",
            "    libgomp-11.2.0             |       h1234567_1         474 KB\n",
            "    libiconv-1.17              |       h166bdaf_0         1.4 MB  conda-forge\n",
            "    libnghttp2-1.46.0          |       hce63b2e_0         680 KB\n",
            "    libsolv-0.7.22             |       he621ea3_0         436 KB\n",
            "    libssh2-1.10.0             |       ha56f1ee_2         233 KB  conda-forge\n",
            "    libstdcxx-ng-12.2.0        |      h46fd767_19         4.3 MB  conda-forge\n",
            "    libxml2-2.9.14             |       h74e7548_0         718 KB\n",
            "    lz4-c-1.9.3                |       h9c3ff4c_1         179 KB  conda-forge\n",
            "    lzo-2.10                   |    h516909a_1000         314 KB  conda-forge\n",
            "    mamba-0.15.3               |   py37h7f483ca_0         741 KB  conda-forge\n",
            "    openssl-1.1.1s             |       h7f8727e_0         3.6 MB\n",
            "    pcre2-10.37                |       h032f7d1_0         1.1 MB  conda-forge\n",
            "    python_abi-3.7             |          2_cp37m           4 KB  conda-forge\n",
            "    reproc-14.2.4              |       h295c915_1          30 KB\n",
            "    reproc-cpp-14.2.4          |       h295c915_1          22 KB\n",
            "    zlib-1.2.13                |       h5eee18b_0         103 KB\n",
            "    zstd-1.5.2                 |       ha4553b6_0         488 KB\n",
            "    ------------------------------------------------------------\n",
            "                                           Total:        47.2 MB\n",
            "\n",
            "The following NEW packages will be INSTALLED:\n",
            "\n",
            "  bzip2              conda-forge/linux-64::bzip2-1.0.8-h7f98852_4\n",
            "  c-ares             conda-forge/linux-64::c-ares-1.18.1-h7f98852_0\n",
            "  icu                conda-forge/linux-64::icu-58.2-hf484d3e_1000\n",
            "  keyutils           conda-forge/linux-64::keyutils-1.6.1-h166bdaf_0\n",
            "  krb5               conda-forge/linux-64::krb5-1.19.3-h3790be6_0\n",
            "  libarchive         conda-forge/linux-64::libarchive-3.5.2-hccf745f_1\n",
            "  libcurl            pkgs/main/linux-64::libcurl-7.87.0-h91b91d3_0\n",
            "  libedit            conda-forge/linux-64::libedit-3.1.20191231-he28a2e2_2\n",
            "  libev              conda-forge/linux-64::libev-4.33-h516909a_1\n",
            "  libiconv           conda-forge/linux-64::libiconv-1.17-h166bdaf_0\n",
            "  libnghttp2         pkgs/main/linux-64::libnghttp2-1.46.0-hce63b2e_0\n",
            "  libsolv            pkgs/main/linux-64::libsolv-0.7.22-he621ea3_0\n",
            "  libssh2            conda-forge/linux-64::libssh2-1.10.0-ha56f1ee_2\n",
            "  libxml2            pkgs/main/linux-64::libxml2-2.9.14-h74e7548_0\n",
            "  lz4-c              conda-forge/linux-64::lz4-c-1.9.3-h9c3ff4c_1\n",
            "  lzo                conda-forge/linux-64::lzo-2.10-h516909a_1000\n",
            "  mamba              conda-forge/linux-64::mamba-0.15.3-py37h7f483ca_0\n",
            "  pcre2              conda-forge/linux-64::pcre2-10.37-h032f7d1_0\n",
            "  python_abi         conda-forge/linux-64::python_abi-3.7-2_cp37m\n",
            "  reproc             pkgs/main/linux-64::reproc-14.2.4-h295c915_1\n",
            "  reproc-cpp         pkgs/main/linux-64::reproc-cpp-14.2.4-h295c915_1\n",
            "  zstd               pkgs/main/linux-64::zstd-1.5.2-ha4553b6_0\n",
            "\n",
            "The following packages will be UPDATED:\n",
            "\n",
            "  ca-certificates    pkgs/main::ca-certificates-2021.7.5-h~ --> conda-forge::ca-certificates-2022.12.7-ha878542_0\n",
            "  certifi            pkgs/main/linux-64::certifi-2021.5.30~ --> conda-forge/noarch::certifi-2022.12.7-pyhd8ed1ab_0\n",
            "  libgcc-ng                               9.3.0-h5101ec6_17 --> 11.2.0-h1234567_1\n",
            "  libgomp                                 9.3.0-h5101ec6_17 --> 11.2.0-h1234567_1\n",
            "  libstdcxx-ng       pkgs/main::libstdcxx-ng-9.3.0-hd4cf53~ --> conda-forge::libstdcxx-ng-12.2.0-h46fd767_19\n",
            "  openssl                                 1.1.1k-h27cfd23_0 --> 1.1.1s-h7f8727e_0\n",
            "  zlib                                    1.2.11-h7b6447c_3 --> 1.2.13-h5eee18b_0\n",
            "\n",
            "\n",
            "\n",
            "Downloading and Extracting Packages\n",
            "c-ares-1.18.1        | 113 KB    | : 100% 1.0/1 [00:00<00:00,  7.17it/s]              \n",
            "libiconv-1.17        | 1.4 MB    | : 100% 1.0/1 [00:00<00:00,  3.70it/s]\n",
            "reproc-14.2.4        | 30 KB     | : 100% 1.0/1 [00:00<00:00,  8.30it/s]\n",
            "reproc-cpp-14.2.4    | 22 KB     | : 100% 1.0/1 [00:00<00:00, 11.57it/s]\n",
            "libcurl-7.87.0       | 373 KB    | : 100% 1.0/1 [00:00<00:00,  8.07it/s]\n",
            "libssh2-1.10.0       | 233 KB    | : 100% 1.0/1 [00:00<00:00,  9.50it/s]\n",
            "lz4-c-1.9.3          | 179 KB    | : 100% 1.0/1 [00:00<00:00, 12.87it/s]\n",
            "libxml2-2.9.14       | 718 KB    | : 100% 1.0/1 [00:00<00:00,  8.57it/s]\n",
            "libgomp-11.2.0       | 474 KB    | : 100% 1.0/1 [00:00<00:00,  9.88it/s]\n",
            "mamba-0.15.3         | 741 KB    | : 100% 1.0/1 [00:00<00:00,  5.62it/s]\n",
            "zstd-1.5.2           | 488 KB    | : 100% 1.0/1 [00:00<00:00,  9.57it/s]\n",
            "libedit-3.1.20191231 | 121 KB    | : 100% 1.0/1 [00:00<00:00, 15.16it/s]\n",
            "certifi-2022.12.7    | 147 KB    | : 100% 1.0/1 [00:00<00:00,  9.91it/s]\n",
            "keyutils-1.6.1       | 115 KB    | : 100% 1.0/1 [00:00<00:00, 15.59it/s]\n",
            "libev-4.33           | 104 KB    | : 100% 1.0/1 [00:00<00:00, 16.03it/s]\n",
            "libnghttp2-1.46.0    | 680 KB    | : 100% 1.0/1 [00:00<00:00,  8.97it/s]\n",
            "libsolv-0.7.22       | 436 KB    | : 100% 1.0/1 [00:00<00:00,  9.73it/s]\n",
            "python_abi-3.7       | 4 KB      | : 100% 1.0/1 [00:00<00:00, 26.04it/s]\n",
            "lzo-2.10             | 314 KB    | : 100% 1.0/1 [00:00<00:00,  9.26it/s]\n",
            "pcre2-10.37          | 1.1 MB    | : 100% 1.0/1 [00:00<00:00,  3.19it/s]\n",
            "ca-certificates-2022 | 143 KB    | : 100% 1.0/1 [00:00<00:00, 10.76it/s]\n",
            "libstdcxx-ng-12.2.0  | 4.3 MB    | : 100% 1.0/1 [00:00<00:00,  1.27it/s]\n",
            "bzip2-1.0.8          | 484 KB    | : 100% 1.0/1 [00:00<00:00,  6.80it/s]\n",
            "zlib-1.2.13          | 103 KB    | : 100% 1.0/1 [00:00<00:00, 11.45it/s]\n",
            "icu-58.2             | 22.6 MB   | : 100% 1.0/1 [00:04<00:00,  4.16s/it]               \n",
            "krb5-1.19.3          | 1.4 MB    | : 100% 1.0/1 [00:00<00:00,  2.95it/s]\n",
            "openssl-1.1.1s       | 3.6 MB    | : 100% 1.0/1 [00:00<00:00,  5.59it/s]\n",
            "libarchive-3.5.2     | 1.6 MB    | : 100% 1.0/1 [00:00<00:00,  2.94it/s]\n",
            "libgcc-ng-11.2.0     | 5.3 MB    | : 100% 1.0/1 [00:00<00:00,  3.74it/s]\n",
            "Preparing transaction: - \b\bdone\n",
            "Verifying transaction: | \b\b/ \b\b- \b\bdone\n",
            "Executing transaction: | \b\b/ \b\b- \b\b\\ \b\b| \b\b/ \b\bdone\n",
            "  Package                    Version  Build                 Channel                     Size\n",
            "──────────────────────────────────────────────────────────────────────────────────────────────\n",
            "  Install:\n",
            "──────────────────────────────────────────────────────────────────────────────────────────────\n",
            "\n",
            "\u001b[32m  + charset-normalizer     \u001b[00m    2.1.1  pyhd8ed1ab_0          conda-forge/noarch         36 KB\n",
            "\u001b[32m  + colorama               \u001b[00m    0.4.6  pyhd8ed1ab_0          conda-forge/noarch         25 KB\n",
            "\u001b[32m  + conda-package-streaming\u001b[00m    0.7.0  pyhd8ed1ab_1          conda-forge/noarch         17 KB\n",
            "\u001b[32m  + libmamba               \u001b[00m   0.27.0  h0dd8ff0_0            conda-forge/linux-64        1 MB\n",
            "\u001b[32m  + libmambapy             \u001b[00m   0.27.0  py37h1ee4b26_0        conda-forge/linux-64      333 KB\n",
            "\u001b[32m  + libnsl                 \u001b[00m    2.0.0  h7f98852_0            conda-forge/linux-64       31 KB\n",
            "\u001b[32m  + libsqlite              \u001b[00m   3.40.0  h753d276_0            conda-forge/linux-64      791 KB\n",
            "\u001b[32m  + libzlib                \u001b[00m   1.2.13  h166bdaf_4            conda-forge/linux-64       64 KB\n",
            "\u001b[32m  + pybind11-abi           \u001b[00m        4  hd8ed1ab_3            conda-forge/noarch         10 KB\n",
            "\u001b[32m  + toolz                  \u001b[00m   0.12.0  pyhd8ed1ab_0          conda-forge/noarch         48 KB\n",
            "\u001b[32m  + yaml-cpp               \u001b[00m    0.7.0  h27087fc_2            conda-forge/linux-64      215 KB\n",
            "\u001b[32m  + zstandard              \u001b[00m   0.18.0  py37h540881e_0        conda-forge/linux-64      650 KB\n",
            "\n",
            "  Change:\n",
            "──────────────────────────────────────────────────────────────────────────────────────────────\n",
            "\n",
            "\u001b[31m  - _libgcc_mutex          \u001b[00m      0.1  main                  installed                       \n",
            "\u001b[32m  + _libgcc_mutex          \u001b[00m      0.1  conda_forge           conda-forge/linux-64        3 KB\n",
            "\u001b[31m  - _openmp_mutex          \u001b[00m      4.5  1_gnu                 installed                       \n",
            "\u001b[32m  + _openmp_mutex          \u001b[00m      4.5  2_gnu                 conda-forge/linux-64       23 KB\n",
            "\u001b[31m  - brotlipy               \u001b[00m    0.7.0  py37h27cfd23_1003     installed                       \n",
            "\u001b[32m  + brotlipy               \u001b[00m    0.7.0  py37h540881e_1004     conda-forge/linux-64      342 KB\n",
            "\u001b[31m  - libarchive             \u001b[00m    3.5.2  hccf745f_1            installed                       \n",
            "\u001b[32m  + libarchive             \u001b[00m    3.5.2  hb890918_3            conda-forge/linux-64        2 MB\n",
            "\u001b[31m  - libcurl                \u001b[00m   7.87.0  h91b91d3_0            installed                       \n",
            "\u001b[32m  + libcurl                \u001b[00m   7.87.0  h6312ad2_0            conda-forge/linux-64      339 KB\n",
            "\u001b[31m  - libssh2                \u001b[00m   1.10.0  ha56f1ee_2            installed                       \n",
            "\u001b[32m  + libssh2                \u001b[00m   1.10.0  haa6b8db_3            conda-forge/linux-64      234 KB\n",
            "\u001b[31m  - openssl                \u001b[00m   1.1.1s  h7f8727e_0            installed                       \n",
            "\u001b[32m  + openssl                \u001b[00m   1.1.1s  h0b41bf4_1            conda-forge/linux-64        2 MB\n",
            "\u001b[31m  - pysocks                \u001b[00m    1.7.1  py37_1                installed                       \n",
            "\u001b[32m  + pysocks                \u001b[00m    1.7.1  py37h89c1867_5        conda-forge/linux-64       28 KB\n",
            "\u001b[31m  - python_abi             \u001b[00m      3.7  2_cp37m               installed                       \n",
            "\u001b[32m  + python_abi             \u001b[00m      3.7  3_cp37m               conda-forge/linux-64        6 KB\n",
            "\u001b[31m  - reproc                 \u001b[00m   14.2.4  h295c915_1            installed                       \n",
            "\u001b[32m  + reproc                 \u001b[00m   14.2.4  h0b41bf4_0            conda-forge/linux-64       30 KB\n",
            "\u001b[31m  - reproc-cpp             \u001b[00m   14.2.4  h295c915_1            installed                       \n",
            "\u001b[32m  + reproc-cpp             \u001b[00m   14.2.4  hcb278e6_0            conda-forge/linux-64       21 KB\n",
            "\u001b[31m  - yaml                   \u001b[00m    0.2.5  h7b6447c_0            installed                       \n",
            "\u001b[32m  + yaml                   \u001b[00m    0.2.5  h7f98852_2            conda-forge/linux-64       87 KB\n",
            "\u001b[31m  - zlib                   \u001b[00m   1.2.13  h5eee18b_0            installed                       \n",
            "\u001b[32m  + zlib                   \u001b[00m   1.2.13  h166bdaf_4            conda-forge/linux-64       92 KB\n",
            "\u001b[31m  - zstd                   \u001b[00m    1.5.2  ha4553b6_0            installed                       \n",
            "\u001b[32m  + zstd                   \u001b[00m    1.5.2  h3eb15da_6            conda-forge/linux-64      410 KB\n",
            "\n",
            "  Upgrade:\n",
            "──────────────────────────────────────────────────────────────────────────────────────────────\n",
            "\n",
            "\u001b[31m  - cffi                   \u001b[00m   1.14.6  py37h400218f_0        installed                       \n",
            "\u001b[32m  + cffi                   \u001b[00m   1.15.1  py37h43b0acd_1        conda-forge/linux-64      227 KB\n",
            "\u001b[31m  - chardet                \u001b[00m    4.0.0  py37h06a4308_1003     installed                       \n",
            "\u001b[32m  + chardet                \u001b[00m    5.0.0  py37h89c1867_0        conda-forge/linux-64      230 KB\n",
            "\u001b[31m  - conda                  \u001b[00m   4.10.3  py37h06a4308_0        installed                       \n",
            "\u001b[32m  + conda                  \u001b[00m   22.9.0  py37h89c1867_1        conda-forge/linux-64      960 KB\n",
            "\u001b[31m  - conda-package-handling \u001b[00m    1.7.3  py37h27cfd23_1        installed                       \n",
            "\u001b[32m  + conda-package-handling \u001b[00m    2.0.2  pyh38be061_0          conda-forge/noarch        247 KB\n",
            "\u001b[31m  - cryptography           \u001b[00m    3.4.7  py37hd23ed53_0        installed                       \n",
            "\u001b[32m  + cryptography           \u001b[00m   38.0.2  py37h38fbfac_1        conda-forge/linux-64        2 MB\n",
            "\u001b[31m  - icu                    \u001b[00m     58.2  hf484d3e_1000         installed                       \n",
            "\u001b[32m  + icu                    \u001b[00m     70.1  h27087fc_0            conda-forge/linux-64       14 MB\n",
            "\u001b[31m  - idna                   \u001b[00m     2.10  pyhd3eb1b0_0          installed                       \n",
            "\u001b[32m  + idna                   \u001b[00m      3.4  pyhd8ed1ab_0          conda-forge/noarch         55 KB\n",
            "\u001b[31m  - krb5                   \u001b[00m   1.19.3  h3790be6_0            installed                       \n",
            "\u001b[32m  + krb5                   \u001b[00m   1.20.1  hf9c8cef_0            conda-forge/linux-64        1 MB\n",
            "\u001b[31m  - ld_impl_linux-64       \u001b[00m   2.35.1  h7274673_9            installed                       \n",
            "\u001b[32m  + ld_impl_linux-64       \u001b[00m     2.40  h41732ed_0            conda-forge/linux-64      688 KB\n",
            "\u001b[31m  - libffi                 \u001b[00m      3.3  he6710b0_2            installed                       \n",
            "\u001b[32m  + libffi                 \u001b[00m    3.4.2  h7f98852_5            conda-forge/linux-64       57 KB\n",
            "\u001b[31m  - libgcc-ng              \u001b[00m   11.2.0  h1234567_1            installed                       \n",
            "\u001b[32m  + libgcc-ng              \u001b[00m   12.2.0  h65d4601_19           conda-forge/linux-64      931 KB\n",
            "\u001b[31m  - libgomp                \u001b[00m   11.2.0  h1234567_1            installed                       \n",
            "\u001b[32m  + libgomp                \u001b[00m   12.2.0  h65d4601_19           conda-forge/linux-64      455 KB\n",
            "\u001b[31m  - libnghttp2             \u001b[00m   1.46.0  hce63b2e_0            installed                       \n",
            "\u001b[32m  + libnghttp2             \u001b[00m   1.51.0  hdcd2b5c_0            conda-forge/linux-64      608 KB\n",
            "\u001b[31m  - libsolv                \u001b[00m   0.7.22  he621ea3_0            installed                       \n",
            "\u001b[32m  + libsolv                \u001b[00m   0.7.23  h3eb15da_0            conda-forge/linux-64      451 KB\n",
            "\u001b[31m  - libxml2                \u001b[00m   2.9.14  h74e7548_0            installed                       \n",
            "\u001b[32m  + libxml2                \u001b[00m   2.10.3  h7463322_0            conda-forge/linux-64      754 KB\n",
            "\u001b[31m  - lz4-c                  \u001b[00m    1.9.3  h9c3ff4c_1            installed                       \n",
            "\u001b[32m  + lz4-c                  \u001b[00m    1.9.4  hcb278e6_0            conda-forge/linux-64      140 KB\n",
            "\u001b[31m  - mamba                  \u001b[00m   0.15.3  py37h7f483ca_0        installed                       \n",
            "\u001b[32m  + mamba                  \u001b[00m   0.27.0  py37h6dacc13_0        conda-forge/linux-64       44 KB\n",
            "\u001b[31m  - ncurses                \u001b[00m      6.2  he6710b0_1            installed                       \n",
            "\u001b[32m  + ncurses                \u001b[00m      6.3  h27087fc_1            conda-forge/linux-64     1002 KB\n",
            "\u001b[31m  - pcre2                  \u001b[00m    10.37  h032f7d1_0            installed                       \n",
            "\u001b[32m  + pcre2                  \u001b[00m    10.40  hc3806b6_0            conda-forge/linux-64        2 MB\n",
            "\u001b[31m  - pip                    \u001b[00m   21.1.3  py37h06a4308_0        installed                       \n",
            "\u001b[32m  + pip                    \u001b[00m     23.0  pyhd8ed1ab_0          conda-forge/noarch          1 MB\n",
            "\u001b[31m  - pycosat                \u001b[00m    0.6.3  py37h27cfd23_0        installed                       \n",
            "\u001b[32m  + pycosat                \u001b[00m    0.6.4  py37h540881e_0        conda-forge/linux-64      107 KB\n",
            "\u001b[31m  - pycparser              \u001b[00m     2.20  py_2                  installed                       \n",
            "\u001b[32m  + pycparser              \u001b[00m     2.21  pyhd8ed1ab_0          conda-forge/noarch        100 KB\n",
            "\u001b[31m  - pyopenssl              \u001b[00m   20.0.1  pyhd3eb1b0_1          installed                       \n",
            "\u001b[32m  + pyopenssl              \u001b[00m   23.0.0  pyhd8ed1ab_0          conda-forge/noarch        124 KB\n",
            "\u001b[31m  - python                 \u001b[00m   3.7.10  h12debd9_4            installed                       \n",
            "\u001b[32m  + python                 \u001b[00m   3.7.12  hb7a2778_100_cpython  conda-forge/linux-64       57 MB\n",
            "\u001b[31m  - readline               \u001b[00m      8.1  h27cfd23_0            installed                       \n",
            "\u001b[32m  + readline               \u001b[00m    8.1.2  h0f457ee_0            conda-forge/linux-64      291 KB\n",
            "\u001b[31m  - requests               \u001b[00m   2.25.1  pyhd3eb1b0_0          installed                       \n",
            "\u001b[32m  + requests               \u001b[00m   2.28.2  pyhd8ed1ab_0          conda-forge/noarch         55 KB\n",
            "\u001b[31m  - setuptools             \u001b[00m   52.0.0  py37h06a4308_0        installed                       \n",
            "\u001b[32m  + setuptools             \u001b[00m   66.1.1  pyhd8ed1ab_0          conda-forge/noarch        630 KB\n",
            "\u001b[31m  - sqlite                 \u001b[00m   3.36.0  hc218d9a_0            installed                       \n",
            "\u001b[32m  + sqlite                 \u001b[00m   3.40.0  h4ff8645_0            conda-forge/linux-64      801 KB\n",
            "\u001b[31m  - tk                     \u001b[00m   8.6.10  hbc83047_0            installed                       \n",
            "\u001b[32m  + tk                     \u001b[00m   8.6.12  h27826a3_0            conda-forge/linux-64        3 MB\n",
            "\u001b[31m  - tqdm                   \u001b[00m   4.61.2  pyhd3eb1b0_1          installed                       \n",
            "\u001b[32m  + tqdm                   \u001b[00m   4.64.1  pyhd8ed1ab_0          conda-forge/noarch         82 KB\n",
            "\u001b[31m  - urllib3                \u001b[00m   1.26.6  pyhd3eb1b0_1          installed                       \n",
            "\u001b[32m  + urllib3                \u001b[00m  1.26.14  pyhd8ed1ab_0          conda-forge/noarch        110 KB\n",
            "\u001b[31m  - wheel                  \u001b[00m   0.36.2  pyhd3eb1b0_0          installed                       \n",
            "\u001b[32m  + wheel                  \u001b[00m   0.38.4  pyhd8ed1ab_0          conda-forge/noarch         32 KB\n",
            "\u001b[31m  - xz                     \u001b[00m    5.2.5  h7b6447c_0            installed                       \n",
            "\u001b[32m  + xz                     \u001b[00m    5.2.6  h166bdaf_0            conda-forge/linux-64      409 KB\n",
            "\n",
            "  Summary:\n",
            "\n",
            "  Install: 12 packages\n",
            "  Change: 14 packages\n",
            "  Upgrade: 33 packages\n",
            "\n",
            "  Total download: 99 MB\n",
            "\n",
            "──────────────────────────────────────────────────────────────────────────────────────────────\n",
            "\n",
            "Preparing transaction: ...working... done\n",
            "Verifying transaction: ...working... done\n",
            "Executing transaction: ...working... done\n",
            "\n",
            "                  __    __    __    __\n",
            "                 /  \\  /  \\  /  \\  /  \\\n",
            "                /    \\/    \\/    \\/    \\\n",
            "███████████████/  /██/  /██/  /██/  /████████████████████████\n",
            "              /  / \\   / \\   / \\   / \\  \\____\n",
            "             /  /   \\_/   \\_/   \\_/   \\    o \\__,\n",
            "            / _/                       \\_____/  `\n",
            "            |/\n",
            "        ███╗   ███╗ █████╗ ███╗   ███╗██████╗  █████╗\n",
            "        ████╗ ████║██╔══██╗████╗ ████║██╔══██╗██╔══██╗\n",
            "        ██╔████╔██║███████║██╔████╔██║██████╔╝███████║\n",
            "        ██║╚██╔╝██║██╔══██║██║╚██╔╝██║██╔══██╗██╔══██║\n",
            "        ██║ ╚═╝ ██║██║  ██║██║ ╚═╝ ██║██████╔╝██║  ██║\n",
            "        ╚═╝     ╚═╝╚═╝  ╚═╝╚═╝     ╚═╝╚═════╝ ╚═╝  ╚═╝\n",
            "\n",
            "        mamba (0.27.0) supported by @QuantStack\n",
            "\n",
            "        GitHub:  https://github.com/mamba-org/mamba\n",
            "        Twitter: https://twitter.com/QuantStack\n",
            "\n",
            "█████████████████████████████████████████████████████████████\n",
            "\n"
          ]
        }
      ],
      "source": [
        "# Install Bioconda\n",
        "\n",
        "! wget -O miniconda.sh https://repo.anaconda.com/miniconda/Miniconda3-py37_4.10.3-Linux-x86_64.sh\n",
        "! chmod +x miniconda.sh\n",
        "! bash ./miniconda.sh -b -f -p /usr/local\n",
        "! rm miniconda.sh\n",
        "! conda config --add channels conda-forge\n",
        "! conda config --add channels bioconda\n",
        "! conda install -y mamba\n",
        "! mamba update -qy --all\n",
        "! mamba clean -qafy\n",
        "import sys\n",
        "sys.path.append('/usr/local/lib/python3.7/site-packages/')"
      ]
    },
    {
      "cell_type": "code",
      "source": [
        "!conda --version\n",
        "!conda config --show channels"
      ],
      "metadata": {
        "colab": {
          "base_uri": "https://localhost:8080/"
        },
        "id": "P0bXKNZ8oqSy",
        "outputId": "895a7434-356b-40f6-d505-d822c4642e8e"
      },
      "execution_count": 2,
      "outputs": [
        {
          "output_type": "stream",
          "name": "stdout",
          "text": [
            "conda 22.9.0\n",
            "channels:\n",
            "  - bioconda\n",
            "  - conda-forge\n",
            "  - defaults\n"
          ]
        }
      ]
    },
    {
      "cell_type": "code",
      "source": [
        "!conda install -y -c bioconda insilicoseq\n",
        "!conda install -y -c bioconda simlord"
      ],
      "metadata": {
        "colab": {
          "base_uri": "https://localhost:8080/"
        },
        "id": "NDjem5nwovPl",
        "outputId": "77e974b4-8d1a-4a2c-d5e6-9b60dace847f"
      },
      "execution_count": 43,
      "outputs": [
        {
          "output_type": "stream",
          "name": "stdout",
          "text": [
            "Collecting package metadata (current_repodata.json): - \b\b\\ \b\b| \b\b/ \b\b- \b\b\\ \b\b| \b\b/ \b\b- \b\b\\ \b\b| \b\b/ \b\b- \b\b\\ \b\b| \b\b/ \b\b- \b\b\\ \b\b| \b\b/ \b\b- \b\b\\ \b\b| \b\b/ \b\b- \b\b\\ \b\b| \b\b/ \b\b- \b\b\\ \b\b| \b\b/ \b\b- \b\b\\ \b\b| \b\b/ \b\b- \b\b\\ \b\b| \b\b/ \b\b- \b\b\\ \b\b| \b\b/ \b\b- \b\b\\ \b\b| \b\b/ \b\b- \b\b\\ \b\b| \b\b/ \b\b- \b\b\\ \b\b| \b\b/ \b\b- \b\b\\ \b\b| \b\b/ \b\b- \b\b\\ \b\b| \b\b/ \b\b- \b\b\\ \b\b| \b\b/ \b\b- \b\b\\ \b\b| \b\b/ \b\b- \b\b\\ \b\b| \b\b/ \b\b- \b\b\\ \b\b| \b\b/ \b\b- \b\b\\ \b\b| \b\b/ \b\b- \b\b\\ \b\b| \b\b/ \b\b- \b\b\\ \b\b| \b\b/ \b\b- \b\b\\ \b\b| \b\b/ \b\b- \b\b\\ \b\b| \b\b/ \b\b- \b\b\\ \b\b| \b\b/ \b\b- \b\b\\ \b\b| \b\b/ \b\b- \b\b\\ \b\b| \b\b/ \b\b- \b\b\\ \b\b| \b\b/ \b\b- \b\b\\ \b\b| \b\b/ \b\b- \b\b\\ \b\b| \b\b/ \b\b- \b\b\\ \b\b| \b\b/ \b\b- \b\b\\ \b\b| \b\b/ \b\b- \b\b\\ \b\b| \b\b/ \b\b- \b\b\\ \b\b| \b\b/ \b\b- \b\b\\ \b\b| \b\b/ \b\b- \b\b\\ \b\b| \b\b/ \b\b- \b\b\\ \b\b| \b\b/ \b\b- \b\b\\ \b\b| \b\b/ \b\b- \b\b\\ \b\b| \b\b/ \b\b- \b\b\\ \b\b| \b\b/ \b\b- \b\b\\ \b\b| \b\b/ \b\b- \b\b\\ \b\b| \b\b/ \b\b- \b\b\\ \b\b| \b\b/ \b\b- \b\b\\ \b\bdone\n",
            "Solving environment: / \b\b- \b\b\\ \b\b| \b\b/ \b\b- \b\b\\ \b\b| \b\b/ \b\b- \b\b\\ \b\b| \b\b/ \b\b- \b\b\\ \b\b| \b\b/ \b\b- \b\b\\ \b\b| \b\b/ \b\b- \b\b\\ \b\b| \b\b/ \b\b- \b\b\\ \b\b| \b\b/ \b\b- \b\b\\ \b\b| \b\b/ \b\b- \b\bdone\n",
            "\n",
            "\n",
            "==> WARNING: A newer version of conda exists. <==\n",
            "  current version: 22.9.0\n",
            "  latest version: 22.11.1\n",
            "\n",
            "Please update conda by running\n",
            "\n",
            "    $ conda update -n base -c conda-forge conda\n",
            "\n",
            "\n",
            "\n",
            "# All requested packages already installed.\n",
            "\n",
            "Retrieving notices: ...working... done\n",
            "Collecting package metadata (current_repodata.json): - \b\b\\ \b\b| \b\b/ \b\b- \b\b\\ \b\b| \b\b/ \b\b- \b\b\\ \b\b| \b\b/ \b\b- \b\b\\ \b\b| \b\b/ \b\b- \b\b\\ \b\b| \b\b/ \b\b- \b\b\\ \b\b| \b\b/ \b\b- \b\b\\ \b\b| \b\b/ \b\b- \b\b\\ \b\b| \b\b/ \b\b- \b\b\\ \b\b| \b\b/ \b\b- \b\b\\ \b\b| \b\b/ \b\b- \b\bdone\n",
            "Solving environment: | \b\b/ \b\b- \b\b\\ \b\b| \b\b/ \b\b- \b\b\\ \b\b| \b\b/ \b\b- \b\b\\ \b\b| \b\b/ \b\b- \b\b\\ \b\b| \b\b/ \b\b- \b\b\\ \b\b| \b\b/ \b\b- \b\b\\ \b\b| \b\b/ \b\b- \b\b\\ \b\b| \b\b/ \b\b- \b\b\\ \b\b| \b\b/ \b\b- \b\b\\ \b\b| \b\b/ \b\b- \b\bdone\n",
            "\n",
            "\n",
            "==> WARNING: A newer version of conda exists. <==\n",
            "  current version: 22.9.0\n",
            "  latest version: 22.11.1\n",
            "\n",
            "Please update conda by running\n",
            "\n",
            "    $ conda update -n base -c conda-forge conda\n",
            "\n",
            "\n",
            "\n",
            "## Package Plan ##\n",
            "\n",
            "  environment location: /usr/local\n",
            "\n",
            "  added / updated specs:\n",
            "    - simlord\n",
            "\n",
            "\n",
            "The following packages will be downloaded:\n",
            "\n",
            "    package                    |            build\n",
            "    ---------------------------|-----------------\n",
            "    dinopy-2.2.1               |   py37h96cfd12_2         1.1 MB  bioconda\n",
            "    simlord-1.0.4              |   py37h8902056_2          32 KB  bioconda\n",
            "    ------------------------------------------------------------\n",
            "                                           Total:         1.1 MB\n",
            "\n",
            "The following NEW packages will be INSTALLED:\n",
            "\n",
            "  dinopy             bioconda/linux-64::dinopy-2.2.1-py37h96cfd12_2 None\n",
            "  simlord            bioconda/linux-64::simlord-1.0.4-py37h8902056_2 None\n",
            "\n",
            "\n",
            "\n",
            "Downloading and Extracting Packages\n",
            "dinopy-2.2.1         | 1.1 MB    | : 100% 1.0/1 [00:00<00:00,  1.68it/s]\n",
            "simlord-1.0.4        | 32 KB     | : 100% 1.0/1 [00:00<00:00,  6.72it/s]               \n",
            "Preparing transaction: | \b\bdone\n",
            "Verifying transaction: - \b\bdone\n",
            "Executing transaction: | \b\bdone\n",
            "Retrieving notices: ...working... done\n"
          ]
        }
      ]
    },
    {
      "cell_type": "code",
      "source": [
        "!iss --version\n",
        "!simlord --version"
      ],
      "metadata": {
        "colab": {
          "base_uri": "https://localhost:8080/"
        },
        "id": "T32kwNIOr10u",
        "outputId": "f8817607-a61e-4b5a-d1b0-bff332df3fe9"
      },
      "execution_count": 44,
      "outputs": [
        {
          "output_type": "stream",
          "name": "stdout",
          "text": [
            "iss version 1.5.4\n",
            "SimLoRD v1.0.4\n"
          ]
        }
      ]
    },
    {
      "cell_type": "code",
      "source": [
        "# download the example data\n",
        "# Mock bacteria genome\n",
        "\n",
        "!curl -O -J -L https://osf.io/thser/download # SRS121011.fasta\n",
        "!curl -O -J -L https://osf.io/37kg8/download # minigut.fasta"
      ],
      "metadata": {
        "colab": {
          "base_uri": "https://localhost:8080/"
        },
        "id": "zJ3CQiWy31Rn",
        "outputId": "2bafe465-cad4-4fe3-fe30-c4973e9f24da"
      },
      "execution_count": 49,
      "outputs": [
        {
          "output_type": "stream",
          "name": "stdout",
          "text": [
            "  % Total    % Received % Xferd  Average Speed   Time    Time     Time  Current\n",
            "                                 Dload  Upload   Total   Spent    Left  Speed\n",
            "100   459  100   459    0     0   1699      0 --:--:-- --:--:-- --:--:--  1706\n",
            "  0     0    0     0    0     0      0      0 --:--:--  0:00:01 --:--:--     0Warning: Failed to open the file SRS121011.fasta: File exists\n",
            "  0     0    0     0    0     0      0      0 --:--:--  0:00:01 --:--:--     0\n",
            "curl: (23) Failed writing header\n",
            "  % Total    % Received % Xferd  Average Speed   Time    Time     Time  Current\n",
            "                                 Dload  Upload   Total   Spent    Left  Speed\n",
            "100   459  100   459    0     0   1171      0 --:--:-- --:--:-- --:--:--  1173\n",
            "100 1733k  100 1733k    0     0  1320k      0  0:00:01  0:00:01 --:--:-- 2414k\n"
          ]
        }
      ]
    },
    {
      "cell_type": "markdown",
      "source": [
        "## Experiment"
      ],
      "metadata": {
        "id": "yRGnAYySpIzw"
      }
    },
    {
      "cell_type": "code",
      "source": [
        "!iss --help"
      ],
      "metadata": {
        "colab": {
          "base_uri": "https://localhost:8080/"
        },
        "id": "-w5G8ZKZsBZO",
        "outputId": "fcf19313-a87c-4b73-fb7e-17251682005e"
      },
      "execution_count": 16,
      "outputs": [
        {
          "output_type": "stream",
          "name": "stdout",
          "text": [
            "usage: iss [subcommand] [options]\n",
            "\n",
            "InSilicoSeq: A sequencing simulator\n",
            "\n",
            "optional arguments:\n",
            "  -h, --help     show this help message and exit\n",
            "  -v, --version  print software version and exit\n",
            "\n",
            "available subcommands:\n",
            "  \n",
            "    model        generate an error model from a bam file\n",
            "    generate     simulate reads from an error model\n"
          ]
        }
      ]
    },
    {
      "cell_type": "markdown",
      "source": [
        "### Simulating NovaSeq, HiSeq or MiSeq reads"
      ],
      "metadata": {
        "id": "EQ17ClF1plhv"
      }
    },
    {
      "cell_type": "markdown",
      "source": [
        "- MiSeq: small benchtop sequencer, lower throughput, and lower cost, suitable for small scale sequencing applications such as targeted sequencing and gene expression analysis.\n",
        "\n",
        "- HiSeq: high-throughput sequencer, capable of sequencing large genomes, transcriptomes, and epigenomes. The HiSeq platform offers multiple sequencing options, including single-end and paired-end reads, and is suited for large-scale genomic projects.\n",
        "\n",
        "- NovaSeq: high-throughput sequencer with a flexible design that allows for a wide range of sequencing applications, including whole-genome sequencing, transcriptome sequencing, and targeted sequencing. The NovaSeq platform offers a higher output and lower cost per genome compared to the HiSeq platform. Currently, the NovaSeq platform is the most popular among researchers due to its high throughput and relatively low cost per genome.\n",
        "\n",
        "- Model name\tRead length\n",
        "  - MiSeq\t300 bp\n",
        "  - HiSeq\t125 bp\n",
        "  - NovaSeq\t150 bp"
      ],
      "metadata": {
        "id": "pHH2kVaf-5kN"
      }
    },
    {
      "cell_type": "code",
      "source": [
        "!iss generate --help"
      ],
      "metadata": {
        "colab": {
          "base_uri": "https://localhost:8080/"
        },
        "id": "-YRU19ZosF71",
        "outputId": "a244fa82-566d-4b59-9e45-b7b7cc4737d5"
      },
      "execution_count": 17,
      "outputs": [
        {
          "output_type": "stream",
          "name": "stdout",
          "text": [
            "usage: iss generate [-h] [--quiet | --debug] [--seed <int>] [--cpus <int>]\n",
            "                    [--genomes <genomes.fasta> [<genomes.fasta> ...]]\n",
            "                    [--draft <draft.fasta> [<draft.fasta> ...]]\n",
            "                    [--n_genomes <int>] [--ncbi [<str> [<str> ...]]]\n",
            "                    [--n_genomes_ncbi [<int> [<int> ...]]]\n",
            "                    [--abundance <str> | --abundance_file <abundance.txt> | --coverage <str> | --coverage_file <coverage.txt>]\n",
            "                    [--n_reads <int>] [--mode <str>] [--model <npz>]\n",
            "                    [--gc_bias] [--compress] --output <fastq>\n",
            "\n",
            "simulate reads from an error model\n",
            "\n",
            "arguments:\n",
            "  -h, --help            show this help message and exit\n",
            "  --quiet, -q           Disable info logging. (default: False).\n",
            "  --debug, -d           Enable debug logging. (default: False).\n",
            "  --seed <int>          Seed all the random number generators\n",
            "  --cpus <int>, -p <int>\n",
            "                        number of cpus to use. (default: 2).\n",
            "  --genomes <genomes.fasta> [<genomes.fasta> ...], -g <genomes.fasta> [<genomes.fasta> ...]\n",
            "                        Input genome(s) from where the reads will originate\n",
            "  --draft <draft.fasta> [<draft.fasta> ...]\n",
            "                        Input draft genome(s) from where the reads will\n",
            "                        originate\n",
            "  --n_genomes <int>, -u <int>\n",
            "                        How many genomes will be used for the simulation. is\n",
            "                        set with --genomes/-g or/and --draft to take random\n",
            "                        genomes from the input multifasta\n",
            "  --ncbi [<str> [<str> ...]], -k [<str> [<str> ...]]\n",
            "                        Download input genomes from NCBI. Requires\n",
            "                        --n_genomes/-u option. Can be bacteria, viruses,\n",
            "                        archaea or a combination of the three (space-\n",
            "                        separated)\n",
            "  --n_genomes_ncbi [<int> [<int> ...]], -U [<int> [<int> ...]]\n",
            "                        How many genomes will be downloaded from NCBI.\n",
            "                        Required if --ncbi/-k is set. If more than one kingdom\n",
            "                        is set with --ncbi, multiple values are necessary\n",
            "                        (space-separated).\n",
            "  --abundance <str>, -a <str>\n",
            "                        abundance distribution (default: lognormal). Can be\n",
            "                        uniform, halfnormal, exponential, lognormal or zero-\n",
            "                        inflated-lognormal.\n",
            "  --abundance_file <abundance.txt>, -b <abundance.txt>\n",
            "                        abundance file for coverage calculations (default:\n",
            "                        None).\n",
            "  --coverage <str>, -C <str>\n",
            "                        coverage distribution. Can be uniform, halfnormal,\n",
            "                        exponential, lognormal or zero-inflated-lognormal.\n",
            "  --coverage_file <coverage.txt>, -D <coverage.txt>\n",
            "                        file containing coverage information (default: None).\n",
            "  --n_reads <int>, -n <int>\n",
            "                        Number of reads to generate (default: 1000000). Allows\n",
            "                        suffixes k, K, m, M, g and G (ex 0.5M for 500000).\n",
            "  --mode <str>, -e <str>\n",
            "                        Error model. If not specified, using kernel density\n",
            "                        estimation (default: kde). Can be kde, basic or\n",
            "                        perfect\n",
            "  --model <npz>, -m <npz>\n",
            "                        Error model file. (default: None). Use HiSeq, NovaSeq\n",
            "                        or MiSeq for a pre-computed error model provided with\n",
            "                        the software, or a file generated with iss model. If\n",
            "                        you do not wish to use a model, use --mode basic or\n",
            "                        --mode perfect. The name of the built-in models are\n",
            "                        case insensitive.\n",
            "  --gc_bias, -c         If set, may fail to sequence reads with abnormal GC\n",
            "                        content. (default: False)\n",
            "  --compress, -z        Compress the output in gzip format (default: False).\n",
            "  --output <fastq>, -o <fastq>\n",
            "                        Output file path and prefix (Required)\n"
          ]
        }
      ]
    },
    {
      "cell_type": "code",
      "source": [
        "!wget https://github.com/jingwora/bioinformatics-tools/raw/main/tools/InSilicoSeq/Escherichia_coli_042.fasta"
      ],
      "metadata": {
        "colab": {
          "base_uri": "https://localhost:8080/"
        },
        "id": "rNaGMW9IsTz-",
        "outputId": "2158a7aa-ab09-48a5-ab0d-948640dfd18a"
      },
      "execution_count": 27,
      "outputs": [
        {
          "output_type": "stream",
          "name": "stdout",
          "text": [
            "--2023-02-02 11:02:14--  https://github.com/jingwora/bioinformatics-tools/raw/main/tools/InSilicoSeq/Escherichia_coli_042.fasta\n",
            "Resolving github.com (github.com)... 140.82.113.4\n",
            "Connecting to github.com (github.com)|140.82.113.4|:443... connected.\n",
            "HTTP request sent, awaiting response... 302 Found\n",
            "Location: https://raw.githubusercontent.com/jingwora/bioinformatics-tools/main/tools/InSilicoSeq/Escherichia_coli_042.fasta [following]\n",
            "--2023-02-02 11:02:14--  https://raw.githubusercontent.com/jingwora/bioinformatics-tools/main/tools/InSilicoSeq/Escherichia_coli_042.fasta\n",
            "Resolving raw.githubusercontent.com (raw.githubusercontent.com)... 185.199.109.133, 185.199.108.133, 185.199.110.133, ...\n",
            "Connecting to raw.githubusercontent.com (raw.githubusercontent.com)|185.199.109.133|:443... connected.\n",
            "HTTP request sent, awaiting response... 200 OK\n",
            "Length: 5316913 (5.1M) [text/plain]\n",
            "Saving to: ‘Escherichia_coli_042.fasta’\n",
            "\n",
            "Escherichia_coli_04 100%[===================>]   5.07M  --.-KB/s    in 0.08s   \n",
            "\n",
            "2023-02-02 11:02:15 (64.5 MB/s) - ‘Escherichia_coli_042.fasta’ saved [5316913/5316913]\n",
            "\n"
          ]
        }
      ]
    },
    {
      "cell_type": "code",
      "source": [
        "# --n_reads  10,000 pairs of reads  \n",
        "# --genomes  refer from Escherichia_coli_042.fasta \n",
        "# --model    Use novaseq model \n",
        "# --output   output file name as novaseq_reads_ecoli \n",
        "# --cpus 16\n",
        "\n",
        "!iss generate --n_reads 10000 --genomes Escherichia_coli_042.fasta --model novaseq --output novaseq_reads_ecoli --cpus 16"
      ],
      "metadata": {
        "colab": {
          "base_uri": "https://localhost:8080/"
        },
        "id": "bYqchqimrrlD",
        "outputId": "7dcecc1e-c6d8-4943-eb3d-895634d12dec"
      },
      "execution_count": 35,
      "outputs": [
        {
          "output_type": "stream",
          "name": "stdout",
          "text": [
            "INFO:iss.app:Starting iss generate\n",
            "INFO:iss.app:Using kde ErrorModel\n",
            "INFO:iss.util:Stitching input files together\n",
            "INFO:iss.app:Using lognormal abundance distribution\n",
            "INFO:iss.app:Using 16 cpus for read generation\n",
            "INFO:iss.app:Generating 10000 reads\n",
            "INFO:iss.app:Generating reads for record: FN554766.1\n",
            "INFO:iss.util:Stitching input files together\n",
            "INFO:iss.util:Stitching input files together\n",
            "INFO:iss.util:Cleaning up\n",
            "INFO:iss.app:Read generation complete\n"
          ]
        }
      ]
    },
    {
      "cell_type": "code",
      "source": [
        "!du -sh novaseq_reads_ecoli_R1.fastq novaseq_reads_ecoli_R2.fastq"
      ],
      "metadata": {
        "colab": {
          "base_uri": "https://localhost:8080/"
        },
        "id": "gfqr-V3tzDNS",
        "outputId": "9c156654-8ad6-48f8-9388-38c9e92d79ab"
      },
      "execution_count": 36,
      "outputs": [
        {
          "output_type": "stream",
          "name": "stdout",
          "text": [
            "1.6M\tnovaseq_reads_ecoli_R1.fastq\n",
            "1.6M\tnovaseq_reads_ecoli_R2.fastq\n"
          ]
        }
      ]
    },
    {
      "cell_type": "code",
      "source": [
        "# Create hiseq\n",
        "\n",
        "# --n_reads 10,000 \n",
        "# --genomes \n",
        "# --model hiseq \n",
        "# --output  \n",
        "# --cpus 16\n",
        "\n",
        "!iss generate --n_reads 10000 --genomes Escherichia_coli_042.fasta --model hiseq --output hiseq_reads_ecoli --cpus 16"
      ],
      "metadata": {
        "colab": {
          "base_uri": "https://localhost:8080/"
        },
        "id": "8VbTcG1d0LPe",
        "outputId": "f4257262-3bf2-4b70-aa0a-117bcda07e7c"
      },
      "execution_count": 38,
      "outputs": [
        {
          "output_type": "stream",
          "name": "stdout",
          "text": [
            "INFO:iss.app:Starting iss generate\n",
            "INFO:iss.app:Using kde ErrorModel\n",
            "INFO:iss.util:Stitching input files together\n",
            "INFO:iss.app:Using lognormal abundance distribution\n",
            "INFO:iss.app:Using 16 cpus for read generation\n",
            "INFO:iss.app:Generating 10000 reads\n",
            "INFO:iss.app:Generating reads for record: FN554766.1\n",
            "INFO:iss.util:Stitching input files together\n",
            "INFO:iss.util:Stitching input files together\n",
            "INFO:iss.util:Cleaning up\n",
            "INFO:iss.app:Read generation complete\n"
          ]
        }
      ]
    },
    {
      "cell_type": "code",
      "source": [
        "!du -sh hiseq_reads_ecoli_R1.fastq hiseq_reads_ecoli_R2.fastq"
      ],
      "metadata": {
        "colab": {
          "base_uri": "https://localhost:8080/"
        },
        "id": "U1KGTdfe1Hd5",
        "outputId": "88741062-45a2-4d86-da09-d9ec71460f46"
      },
      "execution_count": 39,
      "outputs": [
        {
          "output_type": "stream",
          "name": "stdout",
          "text": [
            "1.4M\thiseq_reads_ecoli_R1.fastq\n",
            "1.4M\thiseq_reads_ecoli_R2.fastq\n"
          ]
        }
      ]
    },
    {
      "cell_type": "code",
      "source": [
        "# Miseq Model.\n",
        "\n",
        "!iss generate --n_reads 10000 --genomes Escherichia_coli_042.fasta --model miseq --output miseq_reads_ecoli --cpus 16"
      ],
      "metadata": {
        "colab": {
          "base_uri": "https://localhost:8080/"
        },
        "id": "x43jGn691btM",
        "outputId": "e2869eaf-1791-4c3f-c8b8-1e49d7a102dc"
      },
      "execution_count": 40,
      "outputs": [
        {
          "output_type": "stream",
          "name": "stdout",
          "text": [
            "INFO:iss.app:Starting iss generate\n",
            "INFO:iss.app:Using kde ErrorModel\n",
            "INFO:iss.util:Stitching input files together\n",
            "INFO:iss.app:Using lognormal abundance distribution\n",
            "INFO:iss.app:Using 16 cpus for read generation\n",
            "INFO:iss.app:Generating 10000 reads\n",
            "INFO:iss.app:Generating reads for record: FN554766.1\n",
            "INFO:iss.util:Stitching input files together\n",
            "INFO:iss.util:Stitching input files together\n",
            "INFO:iss.util:Cleaning up\n",
            "INFO:iss.app:Read generation complete\n"
          ]
        }
      ]
    },
    {
      "cell_type": "code",
      "source": [
        "!du -sh miseq_reads_ecoli_R1.fastq miseq_reads_ecoli_R2.fastq"
      ],
      "metadata": {
        "colab": {
          "base_uri": "https://localhost:8080/"
        },
        "id": "-p8Pxe_z1smH",
        "outputId": "f478a3b4-05e1-4ae4-e922-dbbd4146ee47"
      },
      "execution_count": 41,
      "outputs": [
        {
          "output_type": "stream",
          "name": "stdout",
          "text": [
            "3.0M\tmiseq_reads_ecoli_R1.fastq\n",
            "3.0M\tmiseq_reads_ecoli_R2.fastq\n"
          ]
        }
      ]
    },
    {
      "cell_type": "markdown",
      "source": [
        "## Simulating Pacbio and Nanopore Reads"
      ],
      "metadata": {
        "id": "Pmp-01gO2EWN"
      }
    },
    {
      "cell_type": "code",
      "source": [
        "# use SimLoRD for Pacbio reads simulation\n",
        "# -n 100 \n",
        "# --read-reference Escherichia_coli_042.fasta \n",
        "\n",
        "!simlord -n 100 --read-reference Escherichia_coli_042.fasta ecoli_pacbio_reads"
      ],
      "metadata": {
        "colab": {
          "base_uri": "https://localhost:8080/"
        },
        "id": "DY2cSLRJ1zcV",
        "outputId": "14006009-1d1a-4c38-aed7-cc0db734d086"
      },
      "execution_count": 45,
      "outputs": [
        {
          "output_type": "stream",
          "name": "stdout",
          "text": [
            "Time for reading/generating the reference: 0:00:00.039389 h\n",
            "Time for simulation of 100 reads: 0:00:01.209782 h.\n"
          ]
        }
      ]
    },
    {
      "cell_type": "code",
      "source": [
        "!du -sh ecoli_pacbio_reads.fastq ecoli_pacbio_reads.sam"
      ],
      "metadata": {
        "colab": {
          "base_uri": "https://localhost:8080/"
        },
        "id": "0W_eVtZg2JjH",
        "outputId": "d1196f51-dcfb-4009-bc6e-81902ecab8e9"
      },
      "execution_count": 46,
      "outputs": [
        {
          "output_type": "stream",
          "name": "stdout",
          "text": [
            "1.7M\tecoli_pacbio_reads.fastq\n",
            "1.9M\tecoli_pacbio_reads.sam\n"
          ]
        }
      ]
    },
    {
      "cell_type": "markdown",
      "source": [
        "## Simulating from multiple files"
      ],
      "metadata": {
        "id": "-F80jcY53bSv"
      }
    },
    {
      "cell_type": "code",
      "source": [
        "!iss generate -n 10000 --genomes SRS121011.fasta minigut.fasta --n_genomes 5 --model novaseq --output novaseq_reads"
      ],
      "metadata": {
        "colab": {
          "base_uri": "https://localhost:8080/"
        },
        "id": "trZK5hSm2xSW",
        "outputId": "f8869775-14c8-4116-b461-a5fa07b9ba46"
      },
      "execution_count": 52,
      "outputs": [
        {
          "output_type": "stream",
          "name": "stdout",
          "text": [
            "INFO:iss.app:Starting iss generate\n",
            "INFO:iss.app:Using kde ErrorModel\n",
            "INFO:iss.util:Stitching input files together\n",
            "INFO:iss.app:Using lognormal abundance distribution\n",
            "INFO:iss.app:Using 2 cpus for read generation\n",
            "INFO:iss.app:Generating 10000 reads\n",
            "INFO:iss.app:Generating reads for record: AE016877.1\n",
            "INFO:iss.app:Generating reads for record: NC_004668.1\n",
            "INFO:iss.app:Generating reads for record: NC_007795.1\n",
            "INFO:iss.app:Generating reads for record: NC_004461.1\n",
            "INFO:iss.app:Generating reads for record: NC_000913.3\n",
            "INFO:iss.util:Stitching input files together\n",
            "INFO:iss.util:Stitching input files together\n",
            "INFO:iss.util:Cleaning up\n",
            "INFO:iss.app:Read generation complete\n"
          ]
        }
      ]
    },
    {
      "cell_type": "code",
      "source": [
        "!du -sh novaseq_reads_R1.fastq novaseq_reads_R2.fastq"
      ],
      "metadata": {
        "colab": {
          "base_uri": "https://localhost:8080/"
        },
        "id": "QNKFHJ3D5Cdw",
        "outputId": "19e33771-77ac-4e4f-c3d6-d83ad7209894"
      },
      "execution_count": 55,
      "outputs": [
        {
          "output_type": "stream",
          "name": "stdout",
          "text": [
            "1.6M\tnovaseq_reads_R1.fastq\n",
            "1.6M\tnovaseq_reads_R2.fastq\n"
          ]
        }
      ]
    },
    {
      "cell_type": "markdown",
      "source": [
        "## Use random ncbi file\n",
        "- Require internet"
      ],
      "metadata": {
        "id": "AhjFZctm6So8"
      }
    },
    {
      "cell_type": "code",
      "source": [
        "# !iss generate --ncbi bacteria -u 10 --model miseq  --output miseq_ncbi"
      ],
      "metadata": {
        "id": "OwMy2Js95IHe"
      },
      "execution_count": 62,
      "outputs": []
    },
    {
      "cell_type": "code",
      "source": [
        "# !iss generate -k bacteria viruses -u 10 4 --model miseq --output miseq_ncbi"
      ],
      "metadata": {
        "id": "jth38q_Q5_RP"
      },
      "execution_count": 63,
      "outputs": []
    },
    {
      "cell_type": "markdown",
      "source": [
        "## Use Abundance distribution"
      ],
      "metadata": {
        "id": "EmlrmAyG7kTA"
      }
    },
    {
      "cell_type": "code",
      "source": [
        "# --abundance parameter: uniform, halfnormal, exponential or zero-inflated-lognormal\n",
        "\n",
        "!iss generate -n 10000 -g SRS121011.fasta --abundance exponential -m HiSeq -o HiSeq_reads"
      ],
      "metadata": {
        "colab": {
          "base_uri": "https://localhost:8080/"
        },
        "id": "8_pRqL1S8CRs",
        "outputId": "256c027e-f7c7-4b60-acd6-285dd6852b74"
      },
      "execution_count": 66,
      "outputs": [
        {
          "output_type": "stream",
          "name": "stdout",
          "text": [
            "INFO:iss.app:Starting iss generate\n",
            "INFO:iss.app:Using kde ErrorModel\n",
            "INFO:iss.util:Stitching input files together\n",
            "INFO:iss.app:Using exponential abundance distribution\n",
            "INFO:iss.app:Using 2 cpus for read generation\n",
            "INFO:iss.app:Generating 10000 reads\n",
            "INFO:iss.app:Generating reads for record: CP009257.1\n",
            "INFO:iss.app:Generating reads for record: AE016877.1\n",
            "INFO:iss.app:Generating reads for record: CP000139.1\n",
            "INFO:iss.app:Generating reads for record: CP017623.1\n",
            "INFO:iss.app:Generating reads for record: CP010086.2\n",
            "INFO:iss.app:Generating reads for record: NC_001263.1\n",
            "INFO:iss.app:Generating reads for record: NC_004668.1\n",
            "INFO:iss.app:Generating reads for record: NC_000913.3\n",
            "INFO:iss.app:Generating reads for record: NC_000915.1\n",
            "INFO:iss.app:Generating reads for record: NC_008530.1\n",
            "INFO:iss.app:Generating reads for record: NC_003210.1\n",
            "INFO:iss.app:Generating reads for record: NC_009515.1\n",
            "INFO:iss.app:Generating reads for record: NC_003112.2\n",
            "INFO:iss.app:Generating reads for record: NC_006085.1\n",
            "INFO:iss.app:Generating reads for record: NC_002516.2\n",
            "INFO:iss.app:Generating reads for record: NC_007493.2\n",
            "INFO:iss.app:Generating reads for record: NC_007795.1\n",
            "INFO:iss.app:Generating reads for record: NC_004461.1\n",
            "INFO:iss.app:Generating reads for record: NC_004116.1\n",
            "INFO:iss.app:Generating reads for record: NC_004350.2\n",
            "INFO:iss.app:Generating reads for record: NC_003098.1\n",
            "INFO:iss.util:Stitching input files together\n",
            "INFO:iss.util:Stitching input files together\n",
            "INFO:iss.util:Cleaning up\n",
            "INFO:iss.app:Read generation complete\n"
          ]
        }
      ]
    },
    {
      "cell_type": "code",
      "source": [
        "!du -sh HiSeq_reads_R1.fastq HiSeq_reads_R2.fastq"
      ],
      "metadata": {
        "colab": {
          "base_uri": "https://localhost:8080/"
        },
        "id": "yUY7Dk_A8EhP",
        "outputId": "31e9e838-9863-49ac-fd7a-5ad64aa21d4e"
      },
      "execution_count": 67,
      "outputs": [
        {
          "output_type": "stream",
          "name": "stdout",
          "text": [
            "1.4M\tHiSeq_reads_R1.fastq\n",
            "1.4M\tHiSeq_reads_R2.fastq\n"
          ]
        }
      ]
    },
    {
      "cell_type": "markdown",
      "source": [
        "## Husam sample data"
      ],
      "metadata": {
        "id": "rZQJD6Ic99LM"
      }
    },
    {
      "cell_type": "code",
      "source": [
        "# Load data Sequence reads\n",
        "\n",
        "!wget https://s3-us-west-2.amazonaws.com/human-pangenomics/NHGRI_UCSC_panel/HG002/hpp_HG002_NA24385_son_v1/ILMN/downsampled/HG002_HiSeq30x_subsampled_R1.fastq.gz\n",
        "!wget https://s3-us-west-2.amazonaws.com/human-pangenomics/NHGRI_UCSC_panel/HG002/hpp_HG002_NA24385_son_v1/ILMN/downsampled/HG002_HiSeq30x_subsampled_R2.fastq.gz"
      ],
      "metadata": {
        "colab": {
          "base_uri": "https://localhost:8080/"
        },
        "id": "v5p4BO3S9uxM",
        "outputId": "3a38c4ed-c317-4dfe-b792-55aab5b91c87"
      },
      "execution_count": 68,
      "outputs": [
        {
          "output_type": "stream",
          "name": "stdout",
          "text": [
            "--2023-02-02 11:52:26--  https://s3-us-west-2.amazonaws.com/human-pangenomics/NHGRI_UCSC_panel/HG002/hpp_HG002_NA24385_son_v1/ILMN/downsampled/HG002_HiSeq30x_subsampled_R1.fastq.gz\n",
            "Resolving s3-us-west-2.amazonaws.com (s3-us-west-2.amazonaws.com)... 52.92.209.240, 52.218.177.192, 52.218.232.64, ...\n",
            "Connecting to s3-us-west-2.amazonaws.com (s3-us-west-2.amazonaws.com)|52.92.209.240|:443... connected.\n",
            "HTTP request sent, awaiting response... 200 OK\n",
            "Length: 42868243557 (40G) [binary/octet-stream]\n",
            "Saving to: ‘HG002_HiSeq30x_subsampled_R1.fastq.gz’\n",
            "\n",
            "HG002_HiSeq30x_subs 100%[===================>]  39.92G  39.4MB/s    in 16m 42s \n",
            "\n",
            "2023-02-02 12:09:09 (40.8 MB/s) - ‘HG002_HiSeq30x_subsampled_R1.fastq.gz’ saved [42868243557/42868243557]\n",
            "\n",
            "--2023-02-02 12:09:09--  https://s3-us-west-2.amazonaws.com/human-pangenomics/NHGRI_UCSC_panel/HG002/hpp_HG002_NA24385_son_v1/ILMN/downsampled/HG002_HiSeq30x_subsampled_R2.fastq.gz\n",
            "Resolving s3-us-west-2.amazonaws.com (s3-us-west-2.amazonaws.com)... 52.218.252.152, 52.92.147.176, 52.92.213.32, ...\n",
            "Connecting to s3-us-west-2.amazonaws.com (s3-us-west-2.amazonaws.com)|52.218.252.152|:443... connected.\n",
            "HTTP request sent, awaiting response... 200 OK\n",
            "Length: 45882070975 (43G) [binary/octet-stream]\n",
            "Saving to: ‘HG002_HiSeq30x_subsampled_R2.fastq.gz’\n",
            "\n",
            "HG002_HiSeq30x_subs 100%[===================>]  42.73G  37.3MB/s    in 18m 32s \n",
            "\n",
            "2023-02-02 12:27:42 (39.3 MB/s) - ‘HG002_HiSeq30x_subsampled_R2.fastq.gz’ saved [45882070975/45882070975]\n",
            "\n"
          ]
        }
      ]
    },
    {
      "cell_type": "code",
      "source": [
        "# # 2500\n",
        "\n",
        "# !iss generate --n_reads 2500 --genomes HG002_HiSeq30x_subsampled_R1.fastq.gz HG002_HiSeq30x_subsampled_R2.fastq.gz --model novaseq --output HG002_HiSeq30x_subsampled_2500 --cpus 4"
      ],
      "metadata": {
        "id": "0iJcFGpb-Ihs"
      },
      "execution_count": 1,
      "outputs": []
    },
    {
      "cell_type": "code",
      "source": [
        "# # 10000\n",
        "\n",
        "# !iss generate --n_reads 10000 --genomes HG002_HiSeq30x_subsampled_R1.fastq.gz HG002_HiSeq30x_subsampled_R2.fastq.gz --model novaseq --output HG002_HiSeq30x_subsampled_10000 --cpus 4"
      ],
      "metadata": {
        "id": "ywESBXGUGDIl"
      },
      "execution_count": 2,
      "outputs": []
    },
    {
      "cell_type": "code",
      "source": [
        "# !du -sh HG002_HiSeq30x_subsampled_2500_R1.fastq HG002_HiSeq30x_subsampled_2500_R2.fastq\n",
        "# !du -sh HG002_HiSeq30x_subsampled_10000_R1.fastq HG002_HiSeq30x_subsampled_10000_R2.fastq"
      ],
      "metadata": {
        "id": "_mtPKnrDHDxH"
      },
      "execution_count": 3,
      "outputs": []
    },
    {
      "cell_type": "code",
      "source": [],
      "metadata": {
        "id": "spg2S0JMHz_R"
      },
      "execution_count": null,
      "outputs": []
    },
    {
      "cell_type": "code",
      "source": [],
      "metadata": {
        "id": "4VD_n6bNKG7T"
      },
      "execution_count": null,
      "outputs": []
    }
  ]
}