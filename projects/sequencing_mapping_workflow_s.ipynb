{
  "nbformat": 4,
  "nbformat_minor": 0,
  "metadata": {
    "colab": {
      "provenance": [],
      "machine_shape": "hm"
    },
    "kernelspec": {
      "name": "python3",
      "display_name": "Python 3"
    },
    "language_info": {
      "name": "python"
    },
    "gpuClass": "standard"
  },
  "cells": [
    {
      "cell_type": "markdown",
      "source": [
        "# Sequencing-mapping-workflow-s"
      ],
      "metadata": {
        "id": "qMNreF3tuFSY"
      }
    },
    {
      "cell_type": "markdown",
      "source": [
        "Experiment:\n",
        "- Data: SRR2960981_1.100K.fastq.gz  SRR2960981_2.100K.fastq.gz\n",
        "\n",
        "Pipeline:\n",
        "\n",
        "1. Environment setting\n",
        "2. Download squence reads\n",
        "3. Trim reads (trimmomatic)\n",
        "4. Mapping (bwa)\n",
        "5. SAM to BAM (samtool)\n",
        "6. Sorted BAM (samtool)\n",
        "7. Mappingstats (samtool)\n",
        "\n",
        "Date: 2023-02-02\n",
        "\n",
        "Developer: Jing"
      ],
      "metadata": {
        "id": "R_3C5Yf_yTIo"
      }
    },
    {
      "cell_type": "markdown",
      "source": [
        "## Environment"
      ],
      "metadata": {
        "id": "FZ9x5pkX8PcO"
      }
    },
    {
      "cell_type": "code",
      "source": [
        "# To check available memory\n",
        "!cat /proc/meminfo | grep MemTotal\n",
        "\n",
        "# To check available number of threads\n",
        "!cat /proc/cpuinfo | grep processor | wc -l\n",
        "\n",
        "!!lscpu |grep 'Model name' # CPU\n",
        "\n",
        "# !!nvidia-smi # GPU"
      ],
      "metadata": {
        "colab": {
          "base_uri": "https://localhost:8080/"
        },
        "id": "O7iP23TT8Tmi",
        "outputId": "80143be4-c37d-4b8e-fb26-9a326d3eb981"
      },
      "execution_count": 2,
      "outputs": [
        {
          "output_type": "stream",
          "name": "stdout",
          "text": [
            "MemTotal:       26690612 kB\n",
            "4\n"
          ]
        },
        {
          "output_type": "execute_result",
          "data": {
            "text/plain": [
              "['Model name:                      AMD EPYC 7B12']"
            ]
          },
          "metadata": {},
          "execution_count": 2
        }
      ]
    },
    {
      "cell_type": "markdown",
      "source": [
        "## 01. Environment setting"
      ],
      "metadata": {
        "id": "bBOjH2D38fLL"
      }
    },
    {
      "cell_type": "code",
      "source": [
        "%%bash\n",
        "echo $(date \"+%Y-%m-%d %H:%M:%S\") \",START\" >> log.txt"
      ],
      "metadata": {
        "id": "2kV1lu6yi9_3"
      },
      "execution_count": 3,
      "outputs": []
    },
    {
      "cell_type": "code",
      "execution_count": 4,
      "metadata": {
        "colab": {
          "base_uri": "https://localhost:8080/"
        },
        "id": "HgdjhCSxuDQP",
        "outputId": "4d3f69d1-6d3e-472d-ea14-c74cc75da9cb"
      },
      "outputs": [
        {
          "output_type": "stream",
          "name": "stdout",
          "text": [
            "\r0% [Working]\r            \rHit:1 http://ppa.launchpad.net/c2d4u.team/c2d4u4.0+/ubuntu focal InRelease\n",
            "\r0% [Waiting for headers] [Waiting for headers] [Connected to cloud.r-project.or\r                                                                               \rHit:2 http://archive.ubuntu.com/ubuntu focal InRelease\n",
            "\r                                                                               \rGet:3 http://archive.ubuntu.com/ubuntu focal-updates InRelease [114 kB]\n",
            "\r                                                                               \rGet:4 http://security.ubuntu.com/ubuntu focal-security InRelease [114 kB]\n",
            "\r                                                                               \rGet:5 https://cloud.r-project.org/bin/linux/ubuntu focal-cran40/ InRelease [3,622 B]\n",
            "\r0% [3 InRelease 15.6 kB/114 kB 14%] [4 InRelease 70.6 kB/114 kB 62%] [Waiting f\r                                                                               \rHit:6 http://ppa.launchpad.net/cran/libgit2/ubuntu focal InRelease\n",
            "\r0% [3 InRelease 15.6 kB/114 kB 14%] [4 InRelease 75.0 kB/114 kB 66%] [Waiting f\r0% [3 InRelease 41.7 kB/114 kB 37%] [Waiting for headers] [Connecting to ppa.la\r                                                                               \rHit:7 http://ppa.launchpad.net/deadsnakes/ppa/ubuntu focal InRelease\n",
            "\r0% [3 InRelease 89.5 kB/114 kB 79%] [Waiting for headers] [Connecting to ppa.la\r                                                                               \r0% [Waiting for headers] [Connecting to ppa.launchpad.net (185.125.190.52)]\r                                                                           \rGet:8 http://archive.ubuntu.com/ubuntu focal-backports InRelease [108 kB]\n",
            "Hit:9 http://ppa.launchpad.net/graphics-drivers/ppa/ubuntu focal InRelease\n",
            "Ign:10 https://developer.download.nvidia.com/compute/machine-learning/repos/ubuntu2004/x86_64  InRelease\n",
            "Get:11 https://developer.download.nvidia.com/compute/cuda/repos/ubuntu2004/x86_64  InRelease [1,581 B]\n",
            "Hit:12 https://developer.download.nvidia.com/compute/machine-learning/repos/ubuntu2004/x86_64  Release\n",
            "Get:13 http://security.ubuntu.com/ubuntu focal-security/universe amd64 Packages [991 kB]\n",
            "Get:14 http://archive.ubuntu.com/ubuntu focal-updates/main amd64 Packages [2,921 kB]\n",
            "Get:15 http://archive.ubuntu.com/ubuntu focal-updates/universe amd64 Packages [1,291 kB]\n",
            "Get:16 http://archive.ubuntu.com/ubuntu focal-backports/universe amd64 Packages [28.6 kB]\n",
            "Get:17 https://developer.download.nvidia.com/compute/cuda/repos/ubuntu2004/x86_64  Packages [870 kB]\n",
            "Fetched 6,443 kB in 1s (6,215 kB/s)\n",
            "Reading package lists... Done\n",
            "Reading package lists... Done\n",
            "Building dependency tree       \n",
            "Reading state information... Done\n",
            "The following package was automatically installed and is no longer required:\n",
            "  libnvidia-common-510\n",
            "Use 'sudo apt autoremove' to remove it.\n",
            "The following additional packages will be installed:\n",
            "  default-jdk-headless openjdk-11-jdk\n",
            "Suggested packages:\n",
            "  openjdk-11-demo openjdk-11-source visualvm\n",
            "The following NEW packages will be installed:\n",
            "  default-jdk default-jdk-headless openjdk-11-jdk\n",
            "0 upgraded, 3 newly installed, 0 to remove and 27 not upgraded.\n",
            "Need to get 1,552 kB of archives.\n",
            "After this operation, 1,628 kB of additional disk space will be used.\n",
            "Get:1 http://archive.ubuntu.com/ubuntu focal/main amd64 default-jdk-headless amd64 2:1.11-72 [1,140 B]\n",
            "Get:2 http://archive.ubuntu.com/ubuntu focal-updates/main amd64 openjdk-11-jdk amd64 11.0.17+8-1ubuntu2~20.04 [1,550 kB]\n",
            "Get:3 http://archive.ubuntu.com/ubuntu focal/main amd64 default-jdk amd64 2:1.11-72 [1,096 B]\n",
            "Fetched 1,552 kB in 0s (12.9 MB/s)\n",
            "debconf: unable to initialize frontend: Dialog\n",
            "debconf: (No usable dialog-like program is installed, so the dialog based frontend cannot be used. at /usr/share/perl5/Debconf/FrontEnd/Dialog.pm line 76, <> line 3.)\n",
            "debconf: falling back to frontend: Readline\n",
            "debconf: unable to initialize frontend: Readline\n",
            "debconf: (This frontend requires a controlling tty.)\n",
            "debconf: falling back to frontend: Teletype\n",
            "dpkg-preconfigure: unable to re-open stdin: \n",
            "Selecting previously unselected package default-jdk-headless.\n",
            "(Reading database ... 129496 files and directories currently installed.)\n",
            "Preparing to unpack .../default-jdk-headless_2%3a1.11-72_amd64.deb ...\n",
            "Unpacking default-jdk-headless (2:1.11-72) ...\n",
            "Selecting previously unselected package openjdk-11-jdk:amd64.\n",
            "Preparing to unpack .../openjdk-11-jdk_11.0.17+8-1ubuntu2~20.04_amd64.deb ...\n",
            "Unpacking openjdk-11-jdk:amd64 (11.0.17+8-1ubuntu2~20.04) ...\n",
            "Selecting previously unselected package default-jdk.\n",
            "Preparing to unpack .../default-jdk_2%3a1.11-72_amd64.deb ...\n",
            "Unpacking default-jdk (2:1.11-72) ...\n",
            "Setting up default-jdk-headless (2:1.11-72) ...\n",
            "Setting up openjdk-11-jdk:amd64 (11.0.17+8-1ubuntu2~20.04) ...\n",
            "update-alternatives: using /usr/lib/jvm/java-11-openjdk-amd64/bin/jconsole to provide /usr/bin/jconsole (jconsole) in auto mode\n",
            "Setting up default-jdk (2:1.11-72) ...\n",
            "Reading package lists... Done\n",
            "Building dependency tree       \n",
            "Reading state information... Done\n",
            "default-jre is already the newest version (2:1.11-72).\n",
            "default-jre set to manually installed.\n",
            "The following package was automatically installed and is no longer required:\n",
            "  libnvidia-common-510\n",
            "Use 'sudo apt autoremove' to remove it.\n",
            "0 upgraded, 0 newly installed, 0 to remove and 27 not upgraded.\n"
          ]
        }
      ],
      "source": [
        "# Install Java\n",
        "\n",
        "!sudo apt-get update\n",
        "!sudo apt install default-jdk\n",
        "!sudo apt install default-jre"
      ]
    },
    {
      "cell_type": "code",
      "source": [
        "!java -version"
      ],
      "metadata": {
        "colab": {
          "base_uri": "https://localhost:8080/"
        },
        "id": "J4eFB_nuzI88",
        "outputId": "3dcb7eae-2141-4636-c0ab-725fef6fff3f"
      },
      "execution_count": 5,
      "outputs": [
        {
          "output_type": "stream",
          "name": "stdout",
          "text": [
            "openjdk version \"11.0.17\" 2022-10-18\n",
            "OpenJDK Runtime Environment (build 11.0.17+8-post-Ubuntu-1ubuntu220.04)\n",
            "OpenJDK 64-Bit Server VM (build 11.0.17+8-post-Ubuntu-1ubuntu220.04, mixed mode, sharing)\n"
          ]
        }
      ]
    },
    {
      "cell_type": "code",
      "source": [
        "# Install Bioconda + mamba\n",
        "\n",
        "! wget -O miniconda.sh https://repo.anaconda.com/miniconda/Miniconda3-py37_4.10.3-Linux-x86_64.sh\n",
        "! chmod +x miniconda.sh\n",
        "! bash ./miniconda.sh -b -f -p /usr/local\n",
        "! rm miniconda.sh\n",
        "! conda config --add channels conda-forge\n",
        "! conda config --add channels bioconda\n",
        "! conda install -y mamba\n",
        "! mamba update -qy --all\n",
        "! mamba clean -qafy\n",
        "import sys\n",
        "sys.path.append('/usr/local/lib/python3.7/site-packages/')"
      ],
      "metadata": {
        "colab": {
          "base_uri": "https://localhost:8080/"
        },
        "id": "PrQWJRlozK78",
        "outputId": "be73d394-9031-42f2-a0ff-8d153ca3d21e"
      },
      "execution_count": 6,
      "outputs": [
        {
          "output_type": "stream",
          "name": "stdout",
          "text": [
            "--2023-02-02 21:05:12--  https://repo.anaconda.com/miniconda/Miniconda3-py37_4.10.3-Linux-x86_64.sh\n",
            "Resolving repo.anaconda.com (repo.anaconda.com)... 104.16.130.3, 104.16.131.3, 2606:4700::6810:8203, ...\n",
            "Connecting to repo.anaconda.com (repo.anaconda.com)|104.16.130.3|:443... connected.\n",
            "HTTP request sent, awaiting response... 200 OK\n",
            "Length: 89026327 (85M) [application/x-sh]\n",
            "Saving to: ‘miniconda.sh’\n",
            "\n",
            "miniconda.sh        100%[===================>]  84.90M  82.7MB/s    in 1.0s    \n",
            "\n",
            "2023-02-02 21:05:13 (82.7 MB/s) - ‘miniconda.sh’ saved [89026327/89026327]\n",
            "\n",
            "PREFIX=/usr/local\n",
            "Unpacking payload ...\n",
            "Collecting package metadata (current_repodata.json): - \b\b\\ \b\bdone\n",
            "Solving environment: / \b\b- \b\bdone\n",
            "\n",
            "## Package Plan ##\n",
            "\n",
            "  environment location: /usr/local\n",
            "\n",
            "  added / updated specs:\n",
            "    - _libgcc_mutex==0.1=main\n",
            "    - _openmp_mutex==4.5=1_gnu\n",
            "    - brotlipy==0.7.0=py37h27cfd23_1003\n",
            "    - ca-certificates==2021.7.5=h06a4308_1\n",
            "    - certifi==2021.5.30=py37h06a4308_0\n",
            "    - cffi==1.14.6=py37h400218f_0\n",
            "    - chardet==4.0.0=py37h06a4308_1003\n",
            "    - conda-package-handling==1.7.3=py37h27cfd23_1\n",
            "    - conda==4.10.3=py37h06a4308_0\n",
            "    - cryptography==3.4.7=py37hd23ed53_0\n",
            "    - idna==2.10=pyhd3eb1b0_0\n",
            "    - ld_impl_linux-64==2.35.1=h7274673_9\n",
            "    - libffi==3.3=he6710b0_2\n",
            "    - libgcc-ng==9.3.0=h5101ec6_17\n",
            "    - libgomp==9.3.0=h5101ec6_17\n",
            "    - libstdcxx-ng==9.3.0=hd4cf53a_17\n",
            "    - ncurses==6.2=he6710b0_1\n",
            "    - openssl==1.1.1k=h27cfd23_0\n",
            "    - pip==21.1.3=py37h06a4308_0\n",
            "    - pycosat==0.6.3=py37h27cfd23_0\n",
            "    - pycparser==2.20=py_2\n",
            "    - pyopenssl==20.0.1=pyhd3eb1b0_1\n",
            "    - pysocks==1.7.1=py37_1\n",
            "    - python==3.7.10=h12debd9_4\n",
            "    - readline==8.1=h27cfd23_0\n",
            "    - requests==2.25.1=pyhd3eb1b0_0\n",
            "    - ruamel_yaml==0.15.100=py37h27cfd23_0\n",
            "    - setuptools==52.0.0=py37h06a4308_0\n",
            "    - six==1.16.0=pyhd3eb1b0_0\n",
            "    - sqlite==3.36.0=hc218d9a_0\n",
            "    - tk==8.6.10=hbc83047_0\n",
            "    - tqdm==4.61.2=pyhd3eb1b0_1\n",
            "    - urllib3==1.26.6=pyhd3eb1b0_1\n",
            "    - wheel==0.36.2=pyhd3eb1b0_0\n",
            "    - xz==5.2.5=h7b6447c_0\n",
            "    - yaml==0.2.5=h7b6447c_0\n",
            "    - zlib==1.2.11=h7b6447c_3\n",
            "\n",
            "\n",
            "The following NEW packages will be INSTALLED:\n",
            "\n",
            "  _libgcc_mutex      pkgs/main/linux-64::_libgcc_mutex-0.1-main\n",
            "  _openmp_mutex      pkgs/main/linux-64::_openmp_mutex-4.5-1_gnu\n",
            "  brotlipy           pkgs/main/linux-64::brotlipy-0.7.0-py37h27cfd23_1003\n",
            "  ca-certificates    pkgs/main/linux-64::ca-certificates-2021.7.5-h06a4308_1\n",
            "  certifi            pkgs/main/linux-64::certifi-2021.5.30-py37h06a4308_0\n",
            "  cffi               pkgs/main/linux-64::cffi-1.14.6-py37h400218f_0\n",
            "  chardet            pkgs/main/linux-64::chardet-4.0.0-py37h06a4308_1003\n",
            "  conda              pkgs/main/linux-64::conda-4.10.3-py37h06a4308_0\n",
            "  conda-package-han~ pkgs/main/linux-64::conda-package-handling-1.7.3-py37h27cfd23_1\n",
            "  cryptography       pkgs/main/linux-64::cryptography-3.4.7-py37hd23ed53_0\n",
            "  idna               pkgs/main/noarch::idna-2.10-pyhd3eb1b0_0\n",
            "  ld_impl_linux-64   pkgs/main/linux-64::ld_impl_linux-64-2.35.1-h7274673_9\n",
            "  libffi             pkgs/main/linux-64::libffi-3.3-he6710b0_2\n",
            "  libgcc-ng          pkgs/main/linux-64::libgcc-ng-9.3.0-h5101ec6_17\n",
            "  libgomp            pkgs/main/linux-64::libgomp-9.3.0-h5101ec6_17\n",
            "  libstdcxx-ng       pkgs/main/linux-64::libstdcxx-ng-9.3.0-hd4cf53a_17\n",
            "  ncurses            pkgs/main/linux-64::ncurses-6.2-he6710b0_1\n",
            "  openssl            pkgs/main/linux-64::openssl-1.1.1k-h27cfd23_0\n",
            "  pip                pkgs/main/linux-64::pip-21.1.3-py37h06a4308_0\n",
            "  pycosat            pkgs/main/linux-64::pycosat-0.6.3-py37h27cfd23_0\n",
            "  pycparser          pkgs/main/noarch::pycparser-2.20-py_2\n",
            "  pyopenssl          pkgs/main/noarch::pyopenssl-20.0.1-pyhd3eb1b0_1\n",
            "  pysocks            pkgs/main/linux-64::pysocks-1.7.1-py37_1\n",
            "  python             pkgs/main/linux-64::python-3.7.10-h12debd9_4\n",
            "  readline           pkgs/main/linux-64::readline-8.1-h27cfd23_0\n",
            "  requests           pkgs/main/noarch::requests-2.25.1-pyhd3eb1b0_0\n",
            "  ruamel_yaml        pkgs/main/linux-64::ruamel_yaml-0.15.100-py37h27cfd23_0\n",
            "  setuptools         pkgs/main/linux-64::setuptools-52.0.0-py37h06a4308_0\n",
            "  six                pkgs/main/noarch::six-1.16.0-pyhd3eb1b0_0\n",
            "  sqlite             pkgs/main/linux-64::sqlite-3.36.0-hc218d9a_0\n",
            "  tk                 pkgs/main/linux-64::tk-8.6.10-hbc83047_0\n",
            "  tqdm               pkgs/main/noarch::tqdm-4.61.2-pyhd3eb1b0_1\n",
            "  urllib3            pkgs/main/noarch::urllib3-1.26.6-pyhd3eb1b0_1\n",
            "  wheel              pkgs/main/noarch::wheel-0.36.2-pyhd3eb1b0_0\n",
            "  xz                 pkgs/main/linux-64::xz-5.2.5-h7b6447c_0\n",
            "  yaml               pkgs/main/linux-64::yaml-0.2.5-h7b6447c_0\n",
            "  zlib               pkgs/main/linux-64::zlib-1.2.11-h7b6447c_3\n",
            "\n",
            "\n",
            "Preparing transaction: | \b\b/ \b\b- \b\bdone\n",
            "Executing transaction: | \b\b/ \b\b- \b\b\\ \b\b| \b\b/ \b\b- \b\b\\ \b\b| \b\b/ \b\bdone\n",
            "installation finished.\n",
            "WARNING:\n",
            "    You currently have a PYTHONPATH environment variable set. This may cause\n",
            "    unexpected behavior when running the Python interpreter in Miniconda3.\n",
            "    For best results, please verify that your PYTHONPATH only points to\n",
            "    directories of packages that are compatible with the Python interpreter\n",
            "    in Miniconda3: /usr/local\n",
            "Collecting package metadata (current_repodata.json): - \b\b\\ \b\b| \b\b/ \b\b- \b\b\\ \b\b| \b\b/ \b\b- \b\b\\ \b\b| \b\b/ \b\b- \b\b\\ \b\b| \b\b/ \b\b- \b\b\\ \b\b| \b\b/ \b\b- \b\b\\ \b\b| \b\b/ \b\b- \b\b\\ \b\b| \b\b/ \b\b- \b\b\\ \b\b| \b\b/ \b\b- \b\b\\ \b\b| \b\b/ \b\b- \b\b\\ \b\b| \b\b/ \b\b- \b\b\\ \b\b| \b\b/ \b\b- \b\b\\ \b\b| \b\b/ \b\b- \b\b\\ \b\b| \b\b/ \b\b- \b\b\\ \b\b| \b\b/ \b\b- \b\b\\ \b\b| \b\b/ \b\b- \b\b\\ \b\b| \b\b/ \b\b- \b\b\\ \b\b| \b\b/ \b\b- \b\b\\ \b\b| \b\b/ \b\b- \b\b\\ \b\b| \b\b/ \b\b- \b\b\\ \b\b| \b\b/ \b\b- \b\b\\ \b\b| \b\b/ \b\b- \b\b\\ \b\b| \b\b/ \b\b- \b\b\\ \b\b| \b\b/ \b\b- \b\b\\ \b\b| \b\b/ \b\b- \b\b\\ \b\b| \b\b/ \b\b- \b\b\\ \b\b| \b\b/ \b\b- \b\b\\ \b\b| \b\b/ \b\b- \b\b\\ \b\b| \b\b/ \b\b- \b\b\\ \b\b| \b\b/ \b\b- \b\b\\ \b\b| \b\b/ \b\bdone\n",
            "Solving environment: \\ \b\b| \b\b/ \b\b- \b\b\\ \b\b| \b\b/ \b\b- \b\b\\ \b\b| \b\b/ \b\b- \b\b\\ \b\b| \b\b/ \b\b- \b\b\\ \b\b| \b\b/ \b\b- \b\b\\ \b\b| \b\b/ \b\b- \b\b\\ \b\b| \b\b/ \b\b- \b\bdone\n",
            "\n",
            "\n",
            "==> WARNING: A newer version of conda exists. <==\n",
            "  current version: 4.10.3\n",
            "  latest version: 23.1.0\n",
            "\n",
            "Please update conda by running\n",
            "\n",
            "    $ conda update -n base -c defaults conda\n",
            "\n",
            "\n",
            "\n",
            "## Package Plan ##\n",
            "\n",
            "  environment location: /usr/local\n",
            "\n",
            "  added / updated specs:\n",
            "    - mamba\n",
            "\n",
            "\n",
            "The following packages will be downloaded:\n",
            "\n",
            "    package                    |            build\n",
            "    ---------------------------|-----------------\n",
            "    bzip2-1.0.8                |       h7f98852_4         484 KB  conda-forge\n",
            "    c-ares-1.18.1              |       h7f98852_0         113 KB  conda-forge\n",
            "    ca-certificates-2022.12.7  |       ha878542_0         143 KB  conda-forge\n",
            "    certifi-2022.12.7          |     pyhd8ed1ab_0         147 KB  conda-forge\n",
            "    icu-58.2                   |    hf484d3e_1000        22.6 MB  conda-forge\n",
            "    keyutils-1.6.1             |       h166bdaf_0         115 KB  conda-forge\n",
            "    krb5-1.19.3                |       h3790be6_0         1.4 MB  conda-forge\n",
            "    libarchive-3.5.2           |       hccf745f_1         1.6 MB  conda-forge\n",
            "    libcurl-7.87.0             |       h91b91d3_0         373 KB\n",
            "    libedit-3.1.20191231       |       he28a2e2_2         121 KB  conda-forge\n",
            "    libev-4.33                 |       h516909a_1         104 KB  conda-forge\n",
            "    libgcc-ng-11.2.0           |       h1234567_1         5.3 MB\n",
            "    libgomp-11.2.0             |       h1234567_1         474 KB\n",
            "    libiconv-1.17              |       h166bdaf_0         1.4 MB  conda-forge\n",
            "    libnghttp2-1.46.0          |       hce63b2e_0         680 KB\n",
            "    libsolv-0.7.22             |       he621ea3_0         436 KB\n",
            "    libssh2-1.10.0             |       ha56f1ee_2         233 KB  conda-forge\n",
            "    libstdcxx-ng-12.2.0        |      h46fd767_19         4.3 MB  conda-forge\n",
            "    libxml2-2.9.14             |       h74e7548_0         718 KB\n",
            "    lz4-c-1.9.3                |       h9c3ff4c_1         179 KB  conda-forge\n",
            "    lzo-2.10                   |    h516909a_1000         314 KB  conda-forge\n",
            "    mamba-0.15.3               |   py37h7f483ca_0         741 KB  conda-forge\n",
            "    openssl-1.1.1s             |       h7f8727e_0         3.6 MB\n",
            "    pcre2-10.37                |       h032f7d1_0         1.1 MB  conda-forge\n",
            "    python_abi-3.7             |          2_cp37m           4 KB  conda-forge\n",
            "    reproc-14.2.4              |       h295c915_1          30 KB\n",
            "    reproc-cpp-14.2.4          |       h295c915_1          22 KB\n",
            "    zlib-1.2.13                |       h5eee18b_0         103 KB\n",
            "    zstd-1.5.2                 |       ha4553b6_0         488 KB\n",
            "    ------------------------------------------------------------\n",
            "                                           Total:        47.2 MB\n",
            "\n",
            "The following NEW packages will be INSTALLED:\n",
            "\n",
            "  bzip2              conda-forge/linux-64::bzip2-1.0.8-h7f98852_4\n",
            "  c-ares             conda-forge/linux-64::c-ares-1.18.1-h7f98852_0\n",
            "  icu                conda-forge/linux-64::icu-58.2-hf484d3e_1000\n",
            "  keyutils           conda-forge/linux-64::keyutils-1.6.1-h166bdaf_0\n",
            "  krb5               conda-forge/linux-64::krb5-1.19.3-h3790be6_0\n",
            "  libarchive         conda-forge/linux-64::libarchive-3.5.2-hccf745f_1\n",
            "  libcurl            pkgs/main/linux-64::libcurl-7.87.0-h91b91d3_0\n",
            "  libedit            conda-forge/linux-64::libedit-3.1.20191231-he28a2e2_2\n",
            "  libev              conda-forge/linux-64::libev-4.33-h516909a_1\n",
            "  libiconv           conda-forge/linux-64::libiconv-1.17-h166bdaf_0\n",
            "  libnghttp2         pkgs/main/linux-64::libnghttp2-1.46.0-hce63b2e_0\n",
            "  libsolv            pkgs/main/linux-64::libsolv-0.7.22-he621ea3_0\n",
            "  libssh2            conda-forge/linux-64::libssh2-1.10.0-ha56f1ee_2\n",
            "  libxml2            pkgs/main/linux-64::libxml2-2.9.14-h74e7548_0\n",
            "  lz4-c              conda-forge/linux-64::lz4-c-1.9.3-h9c3ff4c_1\n",
            "  lzo                conda-forge/linux-64::lzo-2.10-h516909a_1000\n",
            "  mamba              conda-forge/linux-64::mamba-0.15.3-py37h7f483ca_0\n",
            "  pcre2              conda-forge/linux-64::pcre2-10.37-h032f7d1_0\n",
            "  python_abi         conda-forge/linux-64::python_abi-3.7-2_cp37m\n",
            "  reproc             pkgs/main/linux-64::reproc-14.2.4-h295c915_1\n",
            "  reproc-cpp         pkgs/main/linux-64::reproc-cpp-14.2.4-h295c915_1\n",
            "  zstd               pkgs/main/linux-64::zstd-1.5.2-ha4553b6_0\n",
            "\n",
            "The following packages will be UPDATED:\n",
            "\n",
            "  ca-certificates    pkgs/main::ca-certificates-2021.7.5-h~ --> conda-forge::ca-certificates-2022.12.7-ha878542_0\n",
            "  certifi            pkgs/main/linux-64::certifi-2021.5.30~ --> conda-forge/noarch::certifi-2022.12.7-pyhd8ed1ab_0\n",
            "  libgcc-ng                               9.3.0-h5101ec6_17 --> 11.2.0-h1234567_1\n",
            "  libgomp                                 9.3.0-h5101ec6_17 --> 11.2.0-h1234567_1\n",
            "  libstdcxx-ng       pkgs/main::libstdcxx-ng-9.3.0-hd4cf53~ --> conda-forge::libstdcxx-ng-12.2.0-h46fd767_19\n",
            "  openssl                                 1.1.1k-h27cfd23_0 --> 1.1.1s-h7f8727e_0\n",
            "  zlib                                    1.2.11-h7b6447c_3 --> 1.2.13-h5eee18b_0\n",
            "\n",
            "\n",
            "\n",
            "Downloading and Extracting Packages\n",
            "python_abi-3.7       | 4 KB      | : 100% 1.0/1 [00:00<00:00, 14.30it/s]\n",
            "certifi-2022.12.7    | 147 KB    | : 100% 1.0/1 [00:00<00:00, 11.50it/s]\n",
            "keyutils-1.6.1       | 115 KB    | : 100% 1.0/1 [00:00<00:00, 19.62it/s]\n",
            "icu-58.2             | 22.6 MB   | : 100% 1.0/1 [00:02<00:00,  2.56s/it]               \n",
            "libnghttp2-1.46.0    | 680 KB    | : 100% 1.0/1 [00:00<00:00,  7.53it/s]\n",
            "openssl-1.1.1s       | 3.6 MB    | : 100% 1.0/1 [00:00<00:00,  8.44it/s]\n",
            "libgcc-ng-11.2.0     | 5.3 MB    | : 100% 1.0/1 [00:00<00:00,  5.91it/s]\n",
            "libstdcxx-ng-12.2.0  | 4.3 MB    | : 100% 1.0/1 [00:00<00:00,  1.84it/s]\n",
            "reproc-14.2.4        | 30 KB     | : 100% 1.0/1 [00:00<00:00, 17.43it/s]\n",
            "c-ares-1.18.1        | 113 KB    | : 100% 1.0/1 [00:00<00:00, 15.62it/s]\n",
            "libev-4.33           | 104 KB    | : 100% 1.0/1 [00:00<00:00, 21.85it/s]\n",
            "krb5-1.19.3          | 1.4 MB    | : 100% 1.0/1 [00:00<00:00,  4.43it/s]\n",
            "zstd-1.5.2           | 488 KB    | : 100% 1.0/1 [00:00<00:00, 14.61it/s]\n",
            "ca-certificates-2022 | 143 KB    | : 100% 1.0/1 [00:00<00:00, 15.51it/s]\n",
            "libssh2-1.10.0       | 233 KB    | : 100% 1.0/1 [00:00<00:00, 13.33it/s]\n",
            "libarchive-3.5.2     | 1.6 MB    | : 100% 1.0/1 [00:00<00:00,  4.42it/s]\n",
            "zlib-1.2.13          | 103 KB    | : 100% 1.0/1 [00:00<00:00, 16.97it/s]\n",
            "mamba-0.15.3         | 741 KB    | : 100% 1.0/1 [00:00<00:00,  6.96it/s]\n",
            "pcre2-10.37          | 1.1 MB    | : 100% 1.0/1 [00:00<00:00,  4.81it/s]\n",
            "reproc-cpp-14.2.4    | 22 KB     | : 100% 1.0/1 [00:00<00:00, 15.12it/s]\n",
            "bzip2-1.0.8          | 484 KB    | : 100% 1.0/1 [00:00<00:00,  9.72it/s]\n",
            "libedit-3.1.20191231 | 121 KB    | : 100% 1.0/1 [00:00<00:00, 20.78it/s]\n",
            "libgomp-11.2.0       | 474 KB    | : 100% 1.0/1 [00:00<00:00, 14.29it/s]\n",
            "libiconv-1.17        | 1.4 MB    | : 100% 1.0/1 [00:00<00:00,  6.25it/s]\n",
            "libxml2-2.9.14       | 718 KB    | : 100% 1.0/1 [00:00<00:00, 14.57it/s]\n",
            "libsolv-0.7.22       | 436 KB    | : 100% 1.0/1 [00:00<00:00, 12.76it/s]\n",
            "lzo-2.10             | 314 KB    | : 100% 1.0/1 [00:00<00:00, 10.89it/s]\n",
            "libcurl-7.87.0       | 373 KB    | : 100% 1.0/1 [00:00<00:00, 14.70it/s]\n",
            "lz4-c-1.9.3          | 179 KB    | : 100% 1.0/1 [00:00<00:00, 19.38it/s]\n",
            "Preparing transaction: | \b\bdone\n",
            "Verifying transaction: - \b\b\\ \b\bdone\n",
            "Executing transaction: / \b\b- \b\b\\ \b\b| \b\b/ \b\bdone\n",
            "  Package                    Version  Build                 Channel                     Size\n",
            "──────────────────────────────────────────────────────────────────────────────────────────────\n",
            "  Install:\n",
            "──────────────────────────────────────────────────────────────────────────────────────────────\n",
            "\n",
            "\u001b[32m  + charset-normalizer     \u001b[00m    2.1.1  pyhd8ed1ab_0          conda-forge/noarch         36 KB\n",
            "\u001b[32m  + colorama               \u001b[00m    0.4.6  pyhd8ed1ab_0          conda-forge/noarch         25 KB\n",
            "\u001b[32m  + conda-package-streaming\u001b[00m    0.7.0  pyhd8ed1ab_1          conda-forge/noarch         17 KB\n",
            "\u001b[32m  + libmamba               \u001b[00m   0.27.0  h0dd8ff0_0            conda-forge/linux-64        1 MB\n",
            "\u001b[32m  + libmambapy             \u001b[00m   0.27.0  py37h1ee4b26_0        conda-forge/linux-64      333 KB\n",
            "\u001b[32m  + libnsl                 \u001b[00m    2.0.0  h7f98852_0            conda-forge/linux-64       31 KB\n",
            "\u001b[32m  + libsqlite              \u001b[00m   3.40.0  h753d276_0            conda-forge/linux-64      791 KB\n",
            "\u001b[32m  + libzlib                \u001b[00m   1.2.13  h166bdaf_4            conda-forge/linux-64       64 KB\n",
            "\u001b[32m  + pybind11-abi           \u001b[00m        4  hd8ed1ab_3            conda-forge/noarch         10 KB\n",
            "\u001b[32m  + toolz                  \u001b[00m   0.12.0  pyhd8ed1ab_0          conda-forge/noarch         48 KB\n",
            "\u001b[32m  + yaml-cpp               \u001b[00m    0.7.0  h27087fc_2            conda-forge/linux-64      215 KB\n",
            "\u001b[32m  + zstandard              \u001b[00m   0.18.0  py37h540881e_0        conda-forge/linux-64      650 KB\n",
            "\n",
            "  Change:\n",
            "──────────────────────────────────────────────────────────────────────────────────────────────\n",
            "\n",
            "\u001b[31m  - _libgcc_mutex          \u001b[00m      0.1  main                  installed                       \n",
            "\u001b[32m  + _libgcc_mutex          \u001b[00m      0.1  conda_forge           conda-forge/linux-64        3 KB\n",
            "\u001b[31m  - _openmp_mutex          \u001b[00m      4.5  1_gnu                 installed                       \n",
            "\u001b[32m  + _openmp_mutex          \u001b[00m      4.5  2_gnu                 conda-forge/linux-64       23 KB\n",
            "\u001b[31m  - brotlipy               \u001b[00m    0.7.0  py37h27cfd23_1003     installed                       \n",
            "\u001b[32m  + brotlipy               \u001b[00m    0.7.0  py37h540881e_1004     conda-forge/linux-64      342 KB\n",
            "\u001b[31m  - libarchive             \u001b[00m    3.5.2  hccf745f_1            installed                       \n",
            "\u001b[32m  + libarchive             \u001b[00m    3.5.2  hb890918_3            conda-forge/linux-64        2 MB\n",
            "\u001b[31m  - libcurl                \u001b[00m   7.87.0  h91b91d3_0            installed                       \n",
            "\u001b[32m  + libcurl                \u001b[00m   7.87.0  h6312ad2_0            conda-forge/linux-64      339 KB\n",
            "\u001b[31m  - libssh2                \u001b[00m   1.10.0  ha56f1ee_2            installed                       \n",
            "\u001b[32m  + libssh2                \u001b[00m   1.10.0  haa6b8db_3            conda-forge/linux-64      234 KB\n",
            "\u001b[31m  - openssl                \u001b[00m   1.1.1s  h7f8727e_0            installed                       \n",
            "\u001b[32m  + openssl                \u001b[00m   1.1.1s  h0b41bf4_1            conda-forge/linux-64        2 MB\n",
            "\u001b[31m  - pysocks                \u001b[00m    1.7.1  py37_1                installed                       \n",
            "\u001b[32m  + pysocks                \u001b[00m    1.7.1  py37h89c1867_5        conda-forge/linux-64       28 KB\n",
            "\u001b[31m  - python_abi             \u001b[00m      3.7  2_cp37m               installed                       \n",
            "\u001b[32m  + python_abi             \u001b[00m      3.7  3_cp37m               conda-forge/linux-64        6 KB\n",
            "\u001b[31m  - reproc                 \u001b[00m   14.2.4  h295c915_1            installed                       \n",
            "\u001b[32m  + reproc                 \u001b[00m   14.2.4  h0b41bf4_0            conda-forge/linux-64       30 KB\n",
            "\u001b[31m  - reproc-cpp             \u001b[00m   14.2.4  h295c915_1            installed                       \n",
            "\u001b[32m  + reproc-cpp             \u001b[00m   14.2.4  hcb278e6_0            conda-forge/linux-64       21 KB\n",
            "\u001b[31m  - yaml                   \u001b[00m    0.2.5  h7b6447c_0            installed                       \n",
            "\u001b[32m  + yaml                   \u001b[00m    0.2.5  h7f98852_2            conda-forge/linux-64       87 KB\n",
            "\u001b[31m  - zlib                   \u001b[00m   1.2.13  h5eee18b_0            installed                       \n",
            "\u001b[32m  + zlib                   \u001b[00m   1.2.13  h166bdaf_4            conda-forge/linux-64       92 KB\n",
            "\u001b[31m  - zstd                   \u001b[00m    1.5.2  ha4553b6_0            installed                       \n",
            "\u001b[32m  + zstd                   \u001b[00m    1.5.2  h3eb15da_6            conda-forge/linux-64      410 KB\n",
            "\n",
            "  Upgrade:\n",
            "──────────────────────────────────────────────────────────────────────────────────────────────\n",
            "\n",
            "\u001b[31m  - cffi                   \u001b[00m   1.14.6  py37h400218f_0        installed                       \n",
            "\u001b[32m  + cffi                   \u001b[00m   1.15.1  py37h43b0acd_1        conda-forge/linux-64      227 KB\n",
            "\u001b[31m  - chardet                \u001b[00m    4.0.0  py37h06a4308_1003     installed                       \n",
            "\u001b[32m  + chardet                \u001b[00m    5.0.0  py37h89c1867_0        conda-forge/linux-64      230 KB\n",
            "\u001b[31m  - conda                  \u001b[00m   4.10.3  py37h06a4308_0        installed                       \n",
            "\u001b[32m  + conda                  \u001b[00m   22.9.0  py37h89c1867_1        conda-forge/linux-64      960 KB\n",
            "\u001b[31m  - conda-package-handling \u001b[00m    1.7.3  py37h27cfd23_1        installed                       \n",
            "\u001b[32m  + conda-package-handling \u001b[00m    2.0.2  pyh38be061_0          conda-forge/noarch        247 KB\n",
            "\u001b[31m  - cryptography           \u001b[00m    3.4.7  py37hd23ed53_0        installed                       \n",
            "\u001b[32m  + cryptography           \u001b[00m   38.0.2  py37h38fbfac_1        conda-forge/linux-64        2 MB\n",
            "\u001b[31m  - icu                    \u001b[00m     58.2  hf484d3e_1000         installed                       \n",
            "\u001b[32m  + icu                    \u001b[00m     70.1  h27087fc_0            conda-forge/linux-64       14 MB\n",
            "\u001b[31m  - idna                   \u001b[00m     2.10  pyhd3eb1b0_0          installed                       \n",
            "\u001b[32m  + idna                   \u001b[00m      3.4  pyhd8ed1ab_0          conda-forge/noarch         55 KB\n",
            "\u001b[31m  - krb5                   \u001b[00m   1.19.3  h3790be6_0            installed                       \n",
            "\u001b[32m  + krb5                   \u001b[00m   1.20.1  hf9c8cef_0            conda-forge/linux-64        1 MB\n",
            "\u001b[31m  - ld_impl_linux-64       \u001b[00m   2.35.1  h7274673_9            installed                       \n",
            "\u001b[32m  + ld_impl_linux-64       \u001b[00m     2.40  h41732ed_0            conda-forge/linux-64      688 KB\n",
            "\u001b[31m  - libffi                 \u001b[00m      3.3  he6710b0_2            installed                       \n",
            "\u001b[32m  + libffi                 \u001b[00m    3.4.2  h7f98852_5            conda-forge/linux-64       57 KB\n",
            "\u001b[31m  - libgcc-ng              \u001b[00m   11.2.0  h1234567_1            installed                       \n",
            "\u001b[32m  + libgcc-ng              \u001b[00m   12.2.0  h65d4601_19           conda-forge/linux-64      931 KB\n",
            "\u001b[31m  - libgomp                \u001b[00m   11.2.0  h1234567_1            installed                       \n",
            "\u001b[32m  + libgomp                \u001b[00m   12.2.0  h65d4601_19           conda-forge/linux-64      455 KB\n",
            "\u001b[31m  - libnghttp2             \u001b[00m   1.46.0  hce63b2e_0            installed                       \n",
            "\u001b[32m  + libnghttp2             \u001b[00m   1.51.0  hdcd2b5c_0            conda-forge/linux-64      608 KB\n",
            "\u001b[31m  - libsolv                \u001b[00m   0.7.22  he621ea3_0            installed                       \n",
            "\u001b[32m  + libsolv                \u001b[00m   0.7.23  h3eb15da_0            conda-forge/linux-64      451 KB\n",
            "\u001b[31m  - libxml2                \u001b[00m   2.9.14  h74e7548_0            installed                       \n",
            "\u001b[32m  + libxml2                \u001b[00m   2.10.3  h7463322_0            conda-forge/linux-64      754 KB\n",
            "\u001b[31m  - lz4-c                  \u001b[00m    1.9.3  h9c3ff4c_1            installed                       \n",
            "\u001b[32m  + lz4-c                  \u001b[00m    1.9.4  hcb278e6_0            conda-forge/linux-64      140 KB\n",
            "\u001b[31m  - mamba                  \u001b[00m   0.15.3  py37h7f483ca_0        installed                       \n",
            "\u001b[32m  + mamba                  \u001b[00m   0.27.0  py37h6dacc13_0        conda-forge/linux-64       44 KB\n",
            "\u001b[31m  - ncurses                \u001b[00m      6.2  he6710b0_1            installed                       \n",
            "\u001b[32m  + ncurses                \u001b[00m      6.3  h27087fc_1            conda-forge/linux-64     1002 KB\n",
            "\u001b[31m  - pcre2                  \u001b[00m    10.37  h032f7d1_0            installed                       \n",
            "\u001b[32m  + pcre2                  \u001b[00m    10.40  hc3806b6_0            conda-forge/linux-64        2 MB\n",
            "\u001b[31m  - pip                    \u001b[00m   21.1.3  py37h06a4308_0        installed                       \n",
            "\u001b[32m  + pip                    \u001b[00m     23.0  pyhd8ed1ab_0          conda-forge/noarch          1 MB\n",
            "\u001b[31m  - pycosat                \u001b[00m    0.6.3  py37h27cfd23_0        installed                       \n",
            "\u001b[32m  + pycosat                \u001b[00m    0.6.4  py37h540881e_0        conda-forge/linux-64      107 KB\n",
            "\u001b[31m  - pycparser              \u001b[00m     2.20  py_2                  installed                       \n",
            "\u001b[32m  + pycparser              \u001b[00m     2.21  pyhd8ed1ab_0          conda-forge/noarch        100 KB\n",
            "\u001b[31m  - pyopenssl              \u001b[00m   20.0.1  pyhd3eb1b0_1          installed                       \n",
            "\u001b[32m  + pyopenssl              \u001b[00m   23.0.0  pyhd8ed1ab_0          conda-forge/noarch        124 KB\n",
            "\u001b[31m  - python                 \u001b[00m   3.7.10  h12debd9_4            installed                       \n",
            "\u001b[32m  + python                 \u001b[00m   3.7.12  hb7a2778_100_cpython  conda-forge/linux-64       57 MB\n",
            "\u001b[31m  - readline               \u001b[00m      8.1  h27cfd23_0            installed                       \n",
            "\u001b[32m  + readline               \u001b[00m    8.1.2  h0f457ee_0            conda-forge/linux-64      291 KB\n",
            "\u001b[31m  - requests               \u001b[00m   2.25.1  pyhd3eb1b0_0          installed                       \n",
            "\u001b[32m  + requests               \u001b[00m   2.28.2  pyhd8ed1ab_0          conda-forge/noarch         55 KB\n",
            "\u001b[31m  - setuptools             \u001b[00m   52.0.0  py37h06a4308_0        installed                       \n",
            "\u001b[32m  + setuptools             \u001b[00m   67.1.0  pyhd8ed1ab_0          conda-forge/noarch        562 KB\n",
            "\u001b[31m  - sqlite                 \u001b[00m   3.36.0  hc218d9a_0            installed                       \n",
            "\u001b[32m  + sqlite                 \u001b[00m   3.40.0  h4ff8645_0            conda-forge/linux-64      801 KB\n",
            "\u001b[31m  - tk                     \u001b[00m   8.6.10  hbc83047_0            installed                       \n",
            "\u001b[32m  + tk                     \u001b[00m   8.6.12  h27826a3_0            conda-forge/linux-64        3 MB\n",
            "\u001b[31m  - tqdm                   \u001b[00m   4.61.2  pyhd3eb1b0_1          installed                       \n",
            "\u001b[32m  + tqdm                   \u001b[00m   4.64.1  pyhd8ed1ab_0          conda-forge/noarch         82 KB\n",
            "\u001b[31m  - urllib3                \u001b[00m   1.26.6  pyhd3eb1b0_1          installed                       \n",
            "\u001b[32m  + urllib3                \u001b[00m  1.26.14  pyhd8ed1ab_0          conda-forge/noarch        110 KB\n",
            "\u001b[31m  - wheel                  \u001b[00m   0.36.2  pyhd3eb1b0_0          installed                       \n",
            "\u001b[32m  + wheel                  \u001b[00m   0.38.4  pyhd8ed1ab_0          conda-forge/noarch         32 KB\n",
            "\u001b[31m  - xz                     \u001b[00m    5.2.5  h7b6447c_0            installed                       \n",
            "\u001b[32m  + xz                     \u001b[00m    5.2.6  h166bdaf_0            conda-forge/linux-64      409 KB\n",
            "\n",
            "  Summary:\n",
            "\n",
            "  Install: 12 packages\n",
            "  Change: 14 packages\n",
            "  Upgrade: 33 packages\n",
            "\n",
            "  Total download: 99 MB\n",
            "\n",
            "──────────────────────────────────────────────────────────────────────────────────────────────\n",
            "\n",
            "Preparing transaction: ...working... done\n",
            "Verifying transaction: ...working... done\n",
            "Executing transaction: ...working... done\n",
            "\n",
            "                  __    __    __    __\n",
            "                 /  \\  /  \\  /  \\  /  \\\n",
            "                /    \\/    \\/    \\/    \\\n",
            "███████████████/  /██/  /██/  /██/  /████████████████████████\n",
            "              /  / \\   / \\   / \\   / \\  \\____\n",
            "             /  /   \\_/   \\_/   \\_/   \\    o \\__,\n",
            "            / _/                       \\_____/  `\n",
            "            |/\n",
            "        ███╗   ███╗ █████╗ ███╗   ███╗██████╗  █████╗\n",
            "        ████╗ ████║██╔══██╗████╗ ████║██╔══██╗██╔══██╗\n",
            "        ██╔████╔██║███████║██╔████╔██║██████╔╝███████║\n",
            "        ██║╚██╔╝██║██╔══██║██║╚██╔╝██║██╔══██╗██╔══██║\n",
            "        ██║ ╚═╝ ██║██║  ██║██║ ╚═╝ ██║██████╔╝██║  ██║\n",
            "        ╚═╝     ╚═╝╚═╝  ╚═╝╚═╝     ╚═╝╚═════╝ ╚═╝  ╚═╝\n",
            "\n",
            "        mamba (0.27.0) supported by @QuantStack\n",
            "\n",
            "        GitHub:  https://github.com/mamba-org/mamba\n",
            "        Twitter: https://twitter.com/QuantStack\n",
            "\n",
            "█████████████████████████████████████████████████████████████\n",
            "\n"
          ]
        }
      ]
    },
    {
      "cell_type": "code",
      "source": [
        "# Install packages\n",
        "\n",
        "!conda install -y -c bioconda bwa \n",
        "!conda install -y -c bioconda samtools \n",
        "!conda install -y -c bioconda trimmomatic"
      ],
      "metadata": {
        "colab": {
          "base_uri": "https://localhost:8080/"
        },
        "id": "9sjRXCYTzRWe",
        "outputId": "f7a02b4b-b71c-4acc-c027-fbc93a6fac0d"
      },
      "execution_count": 7,
      "outputs": [
        {
          "output_type": "stream",
          "name": "stdout",
          "text": [
            "Collecting package metadata (current_repodata.json): - \b\b\\ \b\b| \b\b/ \b\b- \b\b\\ \b\b| \b\b/ \b\b- \b\b\\ \b\b| \b\b/ \b\b- \b\b\\ \b\b| \b\b/ \b\b- \b\b\\ \b\b| \b\b/ \b\b- \b\b\\ \b\b| \b\b/ \b\b- \b\b\\ \b\b| \b\b/ \b\b- \b\b\\ \b\b| \b\b/ \b\b- \b\b\\ \b\b| \b\b/ \b\b- \b\b\\ \b\b| \b\b/ \b\b- \b\b\\ \b\b| \b\b/ \b\b- \b\b\\ \b\b| \b\b/ \b\b- \b\b\\ \b\b| \b\b/ \b\b- \b\b\\ \b\b| \b\b/ \b\b- \b\b\\ \b\b| \b\b/ \b\b- \b\b\\ \b\b| \b\b/ \b\b- \b\b\\ \b\b| \b\b/ \b\b- \b\b\\ \b\b| \b\b/ \b\b- \b\b\\ \b\b| \b\b/ \b\b- \b\b\\ \b\b| \b\b/ \b\b- \b\b\\ \b\b| \b\b/ \b\b- \b\b\\ \b\b| \b\b/ \b\b- \b\b\\ \b\b| \b\b/ \b\b- \b\b\\ \b\b| \b\b/ \b\b- \b\b\\ \b\b| \b\b/ \b\b- \b\b\\ \b\b| \b\b/ \b\b- \b\b\\ \b\b| \b\b/ \b\b- \b\b\\ \b\b| \b\b/ \b\b- \b\b\\ \b\b| \b\b/ \b\b- \b\b\\ \b\b| \b\b/ \b\b- \b\b\\ \b\b| \b\b/ \b\b- \b\b\\ \b\b| \b\b/ \b\b- \b\b\\ \b\b| \b\b/ \b\b- \b\b\\ \b\b| \b\b/ \b\b- \b\b\\ \b\b| \b\b/ \b\b- \b\b\\ \b\b| \b\b/ \b\b- \b\b\\ \b\b| \b\b/ \b\b- \b\b\\ \b\b| \b\b/ \b\b- \b\b\\ \b\b| \b\b/ \b\b- \b\b\\ \b\b| \b\b/ \b\b- \b\b\\ \b\b| \b\b/ \b\b- \b\b\\ \b\b| \b\b/ \b\b- \b\b\\ \b\b| \b\b/ \b\b- \b\b\\ \b\b| \b\b/ \b\b- \b\b\\ \b\b| \b\b/ \b\b- \b\bdone\n",
            "Solving environment: | \b\b/ \b\b- \b\b\\ \b\b| \b\b/ \b\b- \b\b\\ \b\b| \b\b/ \b\b- \b\b\\ \b\b| \b\b/ \b\b- \b\b\\ \b\b| \b\bdone\n",
            "\n",
            "\n",
            "==> WARNING: A newer version of conda exists. <==\n",
            "  current version: 22.9.0\n",
            "  latest version: 22.11.1\n",
            "\n",
            "Please update conda by running\n",
            "\n",
            "    $ conda update -n base -c conda-forge conda\n",
            "\n",
            "\n",
            "\n",
            "## Package Plan ##\n",
            "\n",
            "  environment location: /usr/local\n",
            "\n",
            "  added / updated specs:\n",
            "    - bwa\n",
            "\n",
            "\n",
            "The following packages will be downloaded:\n",
            "\n",
            "    package                    |            build\n",
            "    ---------------------------|-----------------\n",
            "    bwa-0.7.17                 |       h7132678_9         187 KB  bioconda\n",
            "    perl-5.32.1                | 2_h7f98852_perl5        14.4 MB  conda-forge\n",
            "    ------------------------------------------------------------\n",
            "                                           Total:        14.6 MB\n",
            "\n",
            "The following NEW packages will be INSTALLED:\n",
            "\n",
            "  bwa                bioconda/linux-64::bwa-0.7.17-h7132678_9 None\n",
            "  perl               conda-forge/linux-64::perl-5.32.1-2_h7f98852_perl5 None\n",
            "\n",
            "\n",
            "\n",
            "Downloading and Extracting Packages\n",
            "bwa-0.7.17           | 187 KB    | : 100% 1.0/1 [00:00<00:00,  3.99it/s]                \n",
            "perl-5.32.1          | 14.4 MB   | : 100% 1.0/1 [00:03<00:00,  3.65s/it]              \n",
            "Preparing transaction: - \b\bdone\n",
            "Verifying transaction: | \b\b/ \b\b- \b\b\\ \b\b| \b\bdone\n",
            "Executing transaction: - \b\b\\ \b\b| \b\bdone\n",
            "Retrieving notices: ...working... done\n",
            "Collecting package metadata (current_repodata.json): - \b\b\\ \b\b| \b\b/ \b\b- \b\b\\ \b\b| \b\b/ \b\b- \b\b\\ \b\b| \b\b/ \b\b- \b\b\\ \b\b| \b\b/ \b\b- \b\b\\ \b\b| \b\b/ \b\b- \b\b\\ \b\bdone\n",
            "Solving environment: / \b\b- \b\b\\ \b\b| \b\b/ \b\b- \b\b\\ \b\b| \b\b/ \b\b- \b\b\\ \b\b| \b\b/ \b\b- \b\b\\ \b\b| \b\b/ \b\b- \b\b\\ \b\b| \b\b/ \b\b- \b\b\\ \b\bdone\n",
            "\n",
            "\n",
            "==> WARNING: A newer version of conda exists. <==\n",
            "  current version: 22.9.0\n",
            "  latest version: 22.11.1\n",
            "\n",
            "Please update conda by running\n",
            "\n",
            "    $ conda update -n base -c conda-forge conda\n",
            "\n",
            "\n",
            "\n",
            "## Package Plan ##\n",
            "\n",
            "  environment location: /usr/local\n",
            "\n",
            "  added / updated specs:\n",
            "    - samtools\n",
            "\n",
            "\n",
            "The following packages will be downloaded:\n",
            "\n",
            "    package                    |            build\n",
            "    ---------------------------|-----------------\n",
            "    curl-7.87.0                |       h6312ad2_0          86 KB  conda-forge\n",
            "    samtools-1.6               |       hcd7b337_9         495 KB  bioconda\n",
            "    ------------------------------------------------------------\n",
            "                                           Total:         581 KB\n",
            "\n",
            "The following NEW packages will be INSTALLED:\n",
            "\n",
            "  curl               conda-forge/linux-64::curl-7.87.0-h6312ad2_0 None\n",
            "  samtools           bioconda/linux-64::samtools-1.6-hcd7b337_9 None\n",
            "\n",
            "\n",
            "\n",
            "Downloading and Extracting Packages\n",
            "samtools-1.6         | 495 KB    | : 100% 1.0/1 [00:00<00:00,  4.03it/s]                \n",
            "curl-7.87.0          | 86 KB     | : 100% 1.0/1 [00:00<00:00, 23.64it/s]\n",
            "Preparing transaction: / \b\bdone\n",
            "Verifying transaction: \\ \b\bdone\n",
            "Executing transaction: / \b\bdone\n",
            "Retrieving notices: ...working... done\n",
            "Collecting package metadata (current_repodata.json): - \b\b\\ \b\b| \b\b/ \b\b- \b\b\\ \b\b| \b\b/ \b\b- \b\b\\ \b\b| \b\b/ \b\b- \b\b\\ \b\b| \b\b/ \b\b- \b\b\\ \b\b| \b\b/ \b\b- \b\b\\ \b\b| \b\b/ \b\bdone\n",
            "Solving environment: \\ \b\b| \b\b/ \b\b- \b\b\\ \b\b| \b\b/ \b\b- \b\b\\ \b\b| \b\b/ \b\b- \b\b\\ \b\b| \b\b/ \b\b- \b\b\\ \b\b| \b\b/ \b\b- \b\b\\ \b\bdone\n",
            "\n",
            "\n",
            "==> WARNING: A newer version of conda exists. <==\n",
            "  current version: 22.9.0\n",
            "  latest version: 22.11.1\n",
            "\n",
            "Please update conda by running\n",
            "\n",
            "    $ conda update -n base -c conda-forge conda\n",
            "\n",
            "\n",
            "\n",
            "## Package Plan ##\n",
            "\n",
            "  environment location: /usr/local\n",
            "\n",
            "  added / updated specs:\n",
            "    - trimmomatic\n",
            "\n",
            "\n",
            "The following packages will be downloaded:\n",
            "\n",
            "    package                    |            build\n",
            "    ---------------------------|-----------------\n",
            "    alsa-lib-1.2.8             |       h166bdaf_0         578 KB  conda-forge\n",
            "    cairo-1.16.0               |    ha61ee94_1014         1.5 MB  conda-forge\n",
            "    expat-2.5.0                |       h27087fc_0         189 KB  conda-forge\n",
            "    font-ttf-dejavu-sans-mono-2.37|       hab24e00_0         388 KB  conda-forge\n",
            "    font-ttf-inconsolata-3.000 |       h77eed37_0          94 KB  conda-forge\n",
            "    font-ttf-source-code-pro-2.038|       h77eed37_0         684 KB  conda-forge\n",
            "    font-ttf-ubuntu-0.83       |       hab24e00_0         1.9 MB  conda-forge\n",
            "    fontconfig-2.14.2          |       h14ed4e7_0         266 KB  conda-forge\n",
            "    fonts-conda-ecosystem-1    |                0           4 KB  conda-forge\n",
            "    fonts-conda-forge-1        |                0           4 KB  conda-forge\n",
            "    freetype-2.12.1            |       hca18f0e_1         611 KB  conda-forge\n",
            "    gettext-0.21.1             |       h27087fc_0         4.1 MB  conda-forge\n",
            "    giflib-5.2.1               |       h36c2ea0_2          77 KB  conda-forge\n",
            "    graphite2-1.3.13           |    h58526e2_1001         102 KB  conda-forge\n",
            "    harfbuzz-6.0.0             |       h8e241bc_0         1.2 MB  conda-forge\n",
            "    jpeg-9e                    |       h166bdaf_2         269 KB  conda-forge\n",
            "    lcms2-2.14                 |       hfd0df8a_1         235 KB  conda-forge\n",
            "    lerc-4.0.0                 |       h27087fc_0         275 KB  conda-forge\n",
            "    libcups-2.3.3              |       h36d4200_3         4.3 MB  conda-forge\n",
            "    libdeflate-1.17            |       h0b41bf4_0          63 KB  conda-forge\n",
            "    libglib-2.74.1             |       h606061b_1         3.1 MB  conda-forge\n",
            "    libpng-1.6.39              |       h753d276_0         276 KB  conda-forge\n",
            "    libtiff-4.5.0              |       h6adf6a1_2         397 KB  conda-forge\n",
            "    libuuid-2.32.1             |    h7f98852_1000          28 KB  conda-forge\n",
            "    libwebp-base-1.2.4         |       h166bdaf_0         404 KB  conda-forge\n",
            "    libxcb-1.13                |    h7f98852_1004         391 KB  conda-forge\n",
            "    openjdk-17.0.3             |       h58dac75_5       161.0 MB  conda-forge\n",
            "    pixman-0.40.0              |       h36c2ea0_0         627 KB  conda-forge\n",
            "    pthread-stubs-0.4          |    h36c2ea0_1001           5 KB  conda-forge\n",
            "    trimmomatic-0.39           |       hdfd78af_2         144 KB  bioconda\n",
            "    xorg-fixesproto-5.0        |    h7f98852_1002           9 KB  conda-forge\n",
            "    xorg-inputproto-2.3.2      |    h7f98852_1002          19 KB  conda-forge\n",
            "    xorg-kbproto-1.0.7         |    h7f98852_1002          27 KB  conda-forge\n",
            "    xorg-libice-1.0.10         |       h7f98852_0          58 KB  conda-forge\n",
            "    xorg-libsm-1.2.3           |    hd9c2040_1000          26 KB  conda-forge\n",
            "    xorg-libx11-1.7.2          |       h7f98852_0         941 KB  conda-forge\n",
            "    xorg-libxau-1.0.9          |       h7f98852_0          13 KB  conda-forge\n",
            "    xorg-libxdmcp-1.1.3        |       h7f98852_0          19 KB  conda-forge\n",
            "    xorg-libxext-1.3.4         |       h7f98852_1          54 KB  conda-forge\n",
            "    xorg-libxfixes-5.0.3       |    h7f98852_1004          18 KB  conda-forge\n",
            "    xorg-libxi-1.7.10          |       h7f98852_0          46 KB  conda-forge\n",
            "    xorg-libxrender-0.9.10     |    h7f98852_1003          32 KB  conda-forge\n",
            "    xorg-libxtst-1.2.3         |    h7f98852_1002          31 KB  conda-forge\n",
            "    xorg-recordproto-1.14.2    |    h7f98852_1002           8 KB  conda-forge\n",
            "    xorg-renderproto-0.11.1    |    h7f98852_1002           9 KB  conda-forge\n",
            "    xorg-xextproto-7.3.0       |    h7f98852_1002          28 KB  conda-forge\n",
            "    xorg-xproto-7.0.31         |    h7f98852_1007          73 KB  conda-forge\n",
            "    ------------------------------------------------------------\n",
            "                                           Total:       184.5 MB\n",
            "\n",
            "The following NEW packages will be INSTALLED:\n",
            "\n",
            "  alsa-lib           conda-forge/linux-64::alsa-lib-1.2.8-h166bdaf_0 None\n",
            "  cairo              conda-forge/linux-64::cairo-1.16.0-ha61ee94_1014 None\n",
            "  expat              conda-forge/linux-64::expat-2.5.0-h27087fc_0 None\n",
            "  font-ttf-dejavu-s~ conda-forge/noarch::font-ttf-dejavu-sans-mono-2.37-hab24e00_0 None\n",
            "  font-ttf-inconsol~ conda-forge/noarch::font-ttf-inconsolata-3.000-h77eed37_0 None\n",
            "  font-ttf-source-c~ conda-forge/noarch::font-ttf-source-code-pro-2.038-h77eed37_0 None\n",
            "  font-ttf-ubuntu    conda-forge/noarch::font-ttf-ubuntu-0.83-hab24e00_0 None\n",
            "  fontconfig         conda-forge/linux-64::fontconfig-2.14.2-h14ed4e7_0 None\n",
            "  fonts-conda-ecosy~ conda-forge/noarch::fonts-conda-ecosystem-1-0 None\n",
            "  fonts-conda-forge  conda-forge/noarch::fonts-conda-forge-1-0 None\n",
            "  freetype           conda-forge/linux-64::freetype-2.12.1-hca18f0e_1 None\n",
            "  gettext            conda-forge/linux-64::gettext-0.21.1-h27087fc_0 None\n",
            "  giflib             conda-forge/linux-64::giflib-5.2.1-h36c2ea0_2 None\n",
            "  graphite2          conda-forge/linux-64::graphite2-1.3.13-h58526e2_1001 None\n",
            "  harfbuzz           conda-forge/linux-64::harfbuzz-6.0.0-h8e241bc_0 None\n",
            "  jpeg               conda-forge/linux-64::jpeg-9e-h166bdaf_2 None\n",
            "  lcms2              conda-forge/linux-64::lcms2-2.14-hfd0df8a_1 None\n",
            "  lerc               conda-forge/linux-64::lerc-4.0.0-h27087fc_0 None\n",
            "  libcups            conda-forge/linux-64::libcups-2.3.3-h36d4200_3 None\n",
            "  libdeflate         conda-forge/linux-64::libdeflate-1.17-h0b41bf4_0 None\n",
            "  libglib            conda-forge/linux-64::libglib-2.74.1-h606061b_1 None\n",
            "  libpng             conda-forge/linux-64::libpng-1.6.39-h753d276_0 None\n",
            "  libtiff            conda-forge/linux-64::libtiff-4.5.0-h6adf6a1_2 None\n",
            "  libuuid            conda-forge/linux-64::libuuid-2.32.1-h7f98852_1000 None\n",
            "  libwebp-base       conda-forge/linux-64::libwebp-base-1.2.4-h166bdaf_0 None\n",
            "  libxcb             conda-forge/linux-64::libxcb-1.13-h7f98852_1004 None\n",
            "  openjdk            conda-forge/linux-64::openjdk-17.0.3-h58dac75_5 None\n",
            "  pixman             conda-forge/linux-64::pixman-0.40.0-h36c2ea0_0 None\n",
            "  pthread-stubs      conda-forge/linux-64::pthread-stubs-0.4-h36c2ea0_1001 None\n",
            "  trimmomatic        bioconda/noarch::trimmomatic-0.39-hdfd78af_2 None\n",
            "  xorg-fixesproto    conda-forge/linux-64::xorg-fixesproto-5.0-h7f98852_1002 None\n",
            "  xorg-inputproto    conda-forge/linux-64::xorg-inputproto-2.3.2-h7f98852_1002 None\n",
            "  xorg-kbproto       conda-forge/linux-64::xorg-kbproto-1.0.7-h7f98852_1002 None\n",
            "  xorg-libice        conda-forge/linux-64::xorg-libice-1.0.10-h7f98852_0 None\n",
            "  xorg-libsm         conda-forge/linux-64::xorg-libsm-1.2.3-hd9c2040_1000 None\n",
            "  xorg-libx11        conda-forge/linux-64::xorg-libx11-1.7.2-h7f98852_0 None\n",
            "  xorg-libxau        conda-forge/linux-64::xorg-libxau-1.0.9-h7f98852_0 None\n",
            "  xorg-libxdmcp      conda-forge/linux-64::xorg-libxdmcp-1.1.3-h7f98852_0 None\n",
            "  xorg-libxext       conda-forge/linux-64::xorg-libxext-1.3.4-h7f98852_1 None\n",
            "  xorg-libxfixes     conda-forge/linux-64::xorg-libxfixes-5.0.3-h7f98852_1004 None\n",
            "  xorg-libxi         conda-forge/linux-64::xorg-libxi-1.7.10-h7f98852_0 None\n",
            "  xorg-libxrender    conda-forge/linux-64::xorg-libxrender-0.9.10-h7f98852_1003 None\n",
            "  xorg-libxtst       conda-forge/linux-64::xorg-libxtst-1.2.3-h7f98852_1002 None\n",
            "  xorg-recordproto   conda-forge/linux-64::xorg-recordproto-1.14.2-h7f98852_1002 None\n",
            "  xorg-renderproto   conda-forge/linux-64::xorg-renderproto-0.11.1-h7f98852_1002 None\n",
            "  xorg-xextproto     conda-forge/linux-64::xorg-xextproto-7.3.0-h7f98852_1002 None\n",
            "  xorg-xproto        conda-forge/linux-64::xorg-xproto-7.0.31-h7f98852_1007 None\n",
            "\n",
            "\n",
            "\n",
            "Downloading and Extracting Packages\n",
            "xorg-libxfixes-5.0.3 | 18 KB     | : 100% 1.0/1 [00:00<00:00, 13.98it/s]\n",
            "font-ttf-inconsolata | 94 KB     | : 100% 1.0/1 [00:00<00:00, 18.61it/s]\n",
            "xorg-libx11-1.7.2    | 941 KB    | : 100% 1.0/1 [00:00<00:00,  4.38it/s]\n",
            "xorg-libxrender-0.9. | 32 KB     | : 100% 1.0/1 [00:00<00:00, 22.74it/s]\n",
            "font-ttf-ubuntu-0.83 | 1.9 MB    | : 100% 1.0/1 [00:00<00:00,  3.52it/s]\n",
            "openjdk-17.0.3       | 161.0 MB  | : 100% 1.0/1 [00:02<00:00,  2.41s/it]               \n",
            "xorg-inputproto-2.3. | 19 KB     | : 100% 1.0/1 [00:00<00:00, 25.49it/s]\n",
            "font-ttf-source-code | 684 KB    | : 100% 1.0/1 [00:00<00:00,  7.92it/s]\n",
            "gettext-0.21.1       | 4.1 MB    | : 100% 1.0/1 [00:01<00:00,  1.34s/it]\n",
            "pixman-0.40.0        | 627 KB    | : 100% 1.0/1 [00:00<00:00,  8.35it/s]\n",
            "pthread-stubs-0.4    | 5 KB      | : 100% 1.0/1 [00:00<00:00, 25.43it/s]\n",
            "xorg-kbproto-1.0.7   | 27 KB     | : 100% 1.0/1 [00:00<00:00, 18.83it/s]\n",
            "xorg-fixesproto-5.0  | 9 KB      | : 100% 1.0/1 [00:00<00:00, 30.44it/s]\n",
            "xorg-libxi-1.7.10    | 46 KB     | : 100% 1.0/1 [00:00<00:00, 26.11it/s]\n",
            "freetype-2.12.1      | 611 KB    | : 100% 1.0/1 [00:00<00:00, 15.16it/s]\n",
            "harfbuzz-6.0.0       | 1.2 MB    | : 100% 1.0/1 [00:00<00:00, 11.28it/s]\n",
            "expat-2.5.0          | 189 KB    | : 100% 1.0/1 [00:00<00:00, 14.10it/s]\n",
            "libuuid-2.32.1       | 28 KB     | : 100% 1.0/1 [00:00<00:00, 21.12it/s]\n",
            "libglib-2.74.1       | 3.1 MB    | : 100% 1.0/1 [00:00<00:00,  1.61it/s]\n",
            "lerc-4.0.0           | 275 KB    | : 100% 1.0/1 [00:00<00:00, 12.85it/s]\n",
            "graphite2-1.3.13     | 102 KB    | : 100% 1.0/1 [00:00<00:00, 24.62it/s]\n",
            "xorg-xextproto-7.3.0 | 28 KB     | : 100% 1.0/1 [00:00<00:00, 19.56it/s]\n",
            "fonts-conda-forge-1  | 4 KB      | : 100% 1.0/1 [00:00<00:00, 26.52it/s]\n",
            "libwebp-base-1.2.4   | 404 KB    | : 100% 1.0/1 [00:00<00:00, 11.33it/s]\n",
            "xorg-libxau-1.0.9    | 13 KB     | : 100% 1.0/1 [00:00<00:00, 30.75it/s]\n",
            "xorg-libxdmcp-1.1.3  | 19 KB     | : 100% 1.0/1 [00:00<00:00, 27.44it/s]\n",
            "font-ttf-dejavu-sans | 388 KB    | : 100% 1.0/1 [00:00<00:00, 12.56it/s]\n",
            "xorg-xproto-7.0.31   | 73 KB     | : 100% 1.0/1 [00:00<00:00, 19.54it/s]\n",
            "libtiff-4.5.0        | 397 KB    | : 100% 1.0/1 [00:00<00:00, 14.41it/s]\n",
            "fontconfig-2.14.2    | 266 KB    | : 100% 1.0/1 [00:00<00:00, 16.23it/s]\n",
            "libdeflate-1.17      | 63 KB     | : 100% 1.0/1 [00:00<00:00, 21.28it/s]\n",
            "giflib-5.2.1         | 77 KB     | : 100% 1.0/1 [00:00<00:00, 22.26it/s]\n",
            "xorg-libxtst-1.2.3   | 31 KB     | : 100% 1.0/1 [00:00<00:00, 27.97it/s]\n",
            "lcms2-2.14           | 235 KB    | : 100% 1.0/1 [00:00<00:00, 24.09it/s]\n",
            "xorg-libice-1.0.10   | 58 KB     | : 100% 1.0/1 [00:00<00:00, 25.82it/s]\n",
            "libcups-2.3.3        | 4.3 MB    | : 100% 1.0/1 [00:00<00:00,  7.90it/s]\n",
            "libxcb-1.13          | 391 KB    | : 100% 1.0/1 [00:00<00:00,  7.07it/s]\n",
            "xorg-libxext-1.3.4   | 54 KB     | : 100% 1.0/1 [00:00<00:00, 21.05it/s]\n",
            "xorg-recordproto-1.1 | 8 KB      | : 100% 1.0/1 [00:00<00:00, 28.89it/s]\n",
            "xorg-libsm-1.2.3     | 26 KB     | : 100% 1.0/1 [00:00<00:00, 29.06it/s]\n",
            "xorg-renderproto-0.1 | 9 KB      | : 100% 1.0/1 [00:00<00:00, 17.65it/s]\n",
            "cairo-1.16.0         | 1.5 MB    | : 100% 1.0/1 [00:00<00:00,  2.90it/s]\n",
            "alsa-lib-1.2.8       | 578 KB    | : 100% 1.0/1 [00:00<00:00,  5.89it/s]\n",
            "trimmomatic-0.39     | 144 KB    | : 100% 1.0/1 [00:00<00:00,  6.94it/s]                \n",
            "libpng-1.6.39        | 276 KB    | : 100% 1.0/1 [00:00<00:00, 21.33it/s]\n",
            "jpeg-9e              | 269 KB    | : 100% 1.0/1 [00:00<00:00, 11.60it/s]\n",
            "fonts-conda-ecosyste | 4 KB      | : 100% 1.0/1 [00:00<00:00, 33.20it/s]\n",
            "Preparing transaction: / \b\b- \b\bdone\n",
            "Verifying transaction: | \b\b/ \b\b- \b\b\\ \b\b| \b\b/ \b\b- \b\b\\ \b\b| \b\b/ \b\b- \b\b\\ \b\b| \b\b/ \b\bdone\n",
            "Executing transaction: \\ \b\b| \b\b/ \b\b- \b\b\\ \b\bdone\n",
            "Retrieving notices: ...working... done\n"
          ]
        }
      ]
    },
    {
      "cell_type": "code",
      "source": [
        "%%bash\n",
        "python --version\n",
        "conda --version\n",
        "conda config --show channels"
      ],
      "metadata": {
        "colab": {
          "base_uri": "https://localhost:8080/"
        },
        "id": "HiP3BxKrhND3",
        "outputId": "0cb26a99-72e8-456c-f2cc-bb890fbf4630"
      },
      "execution_count": 8,
      "outputs": [
        {
          "output_type": "stream",
          "name": "stdout",
          "text": [
            "Python 3.7.12\n",
            "conda 22.9.0\n",
            "channels:\n",
            "  - bioconda\n",
            "  - conda-forge\n",
            "  - defaults\n"
          ]
        }
      ]
    },
    {
      "cell_type": "code",
      "source": [
        "!bwa"
      ],
      "metadata": {
        "colab": {
          "base_uri": "https://localhost:8080/"
        },
        "id": "1GQz8d_teuf0",
        "outputId": "9ffc5c99-de6c-4873-92be-3a68fe7dc7ef"
      },
      "execution_count": 9,
      "outputs": [
        {
          "output_type": "stream",
          "name": "stdout",
          "text": [
            "\n",
            "Program: bwa (alignment via Burrows-Wheeler transformation)\n",
            "Version: 0.7.17-r1188\n",
            "Contact: Heng Li <lh3@sanger.ac.uk>\n",
            "\n",
            "Usage:   bwa <command> [options]\n",
            "\n",
            "Command: index         index sequences in the FASTA format\n",
            "         mem           BWA-MEM algorithm\n",
            "         fastmap       identify super-maximal exact matches\n",
            "         pemerge       merge overlapping paired ends (EXPERIMENTAL)\n",
            "         aln           gapped/ungapped alignment\n",
            "         samse         generate alignment (single ended)\n",
            "         sampe         generate alignment (paired ended)\n",
            "         bwasw         BWA-SW for long queries\n",
            "\n",
            "         shm           manage indices in shared memory\n",
            "         fa2pac        convert FASTA to PAC format\n",
            "         pac2bwt       generate BWT from PAC\n",
            "         pac2bwtgen    alternative algorithm for generating BWT\n",
            "         bwtupdate     update .bwt to the new format\n",
            "         bwt2sa        generate SA from BWT and Occ\n",
            "\n",
            "Note: To use BWA, you need to first index the genome with `bwa index'.\n",
            "      There are three alignment algorithms in BWA: `mem', `bwasw', and\n",
            "      `aln/samse/sampe'. If you are not sure which to use, try `bwa mem'\n",
            "      first. Please `man ./bwa.1' for the manual.\n",
            "\n"
          ]
        }
      ]
    },
    {
      "cell_type": "code",
      "source": [
        "!samtools"
      ],
      "metadata": {
        "colab": {
          "base_uri": "https://localhost:8080/"
        },
        "id": "Ng_JtvJieucS",
        "outputId": "cd576812-87a1-4452-885e-7afef5a894a7"
      },
      "execution_count": 10,
      "outputs": [
        {
          "output_type": "stream",
          "name": "stdout",
          "text": [
            "\n",
            "Program: samtools (Tools for alignments in the SAM format)\n",
            "Version: 1.6 (using htslib 1.6)\n",
            "\n",
            "Usage:   samtools <command> [options]\n",
            "\n",
            "Commands:\n",
            "  -- Indexing\n",
            "     dict           create a sequence dictionary file\n",
            "     faidx          index/extract FASTA\n",
            "     index          index alignment\n",
            "\n",
            "  -- Editing\n",
            "     calmd          recalculate MD/NM tags and '=' bases\n",
            "     fixmate        fix mate information\n",
            "     reheader       replace BAM header\n",
            "     rmdup          remove PCR duplicates\n",
            "     targetcut      cut fosmid regions (for fosmid pool only)\n",
            "     addreplacerg   adds or replaces RG tags\n",
            "     markdup        mark duplicates\n",
            "\n",
            "  -- File operations\n",
            "     collate        shuffle and group alignments by name\n",
            "     cat            concatenate BAMs\n",
            "     merge          merge sorted alignments\n",
            "     mpileup        multi-way pileup\n",
            "     sort           sort alignment file\n",
            "     split          splits a file by read group\n",
            "     quickcheck     quickly check if SAM/BAM/CRAM file appears intact\n",
            "     fastq          converts a BAM to a FASTQ\n",
            "     fasta          converts a BAM to a FASTA\n",
            "\n",
            "  -- Statistics\n",
            "     bedcov         read depth per BED region\n",
            "     depth          compute the depth\n",
            "     flagstat       simple stats\n",
            "     idxstats       BAM index stats\n",
            "     phase          phase heterozygotes\n",
            "     stats          generate stats (former bamcheck)\n",
            "\n",
            "  -- Viewing\n",
            "     flags          explain BAM flags\n",
            "     tview          text alignment viewer\n",
            "     view           SAM<->BAM<->CRAM conversion\n",
            "     depad          convert padded BAM to unpadded BAM\n",
            "\n"
          ]
        }
      ]
    },
    {
      "cell_type": "code",
      "source": [
        "!trimmomatic -version"
      ],
      "metadata": {
        "colab": {
          "base_uri": "https://localhost:8080/"
        },
        "id": "tcZ3xWYyzVxe",
        "outputId": "d817380a-6210-4ad9-c5c4-debf5853e213"
      },
      "execution_count": 11,
      "outputs": [
        {
          "output_type": "stream",
          "name": "stdout",
          "text": [
            "0.39\n"
          ]
        }
      ]
    },
    {
      "cell_type": "code",
      "source": [
        "%%bash\n",
        "echo $(date \"+%Y-%m-%d %H:%M:%S\") \",01. Environment setting\" >> log.txt"
      ],
      "metadata": {
        "id": "0QRWJUCseuWw"
      },
      "execution_count": 12,
      "outputs": []
    },
    {
      "cell_type": "markdown",
      "source": [
        "## 02. Download Reads"
      ],
      "metadata": {
        "id": "KUm8q82P2J_D"
      }
    },
    {
      "cell_type": "markdown",
      "source": [
        "- Illumina MiSeq paired end sequencing (100K Read Pairs)\n",
        "- https://www.ebi.ac.uk/ena/browser/view/SRR957824"
      ],
      "metadata": {
        "id": "36Wvl5dZ2bQw"
      }
    },
    {
      "cell_type": "code",
      "source": [
        "# download SRR2960981_1.100K.fastq.gz  SRR2960981_2.100K.fastq.gz \n",
        "\n",
        "!wget https://github.com/jingwora/bioinformatics-tools/raw/main/projects/Clara-Parabrick_singularity/data_small/SRR2960981_1.100K.fastq.gz\n",
        "!wget https://github.com/jingwora/bioinformatics-tools/raw/main/projects/Clara-Parabrick_singularity/data_small/SRR2960981_2.100K.fastq.gz"
      ],
      "metadata": {
        "colab": {
          "base_uri": "https://localhost:8080/"
        },
        "id": "N54pry6g3_eR",
        "outputId": "b619b822-c02f-4541-8d89-5f616b74ba31"
      },
      "execution_count": 13,
      "outputs": [
        {
          "output_type": "stream",
          "name": "stdout",
          "text": [
            "--2023-02-02 21:07:31--  https://github.com/jingwora/bioinformatics-tools/raw/main/projects/Clara-Parabrick_singularity/data_small/SRR2960981_1.100K.fastq.gz\n",
            "Resolving github.com (github.com)... 140.82.121.4\n",
            "Connecting to github.com (github.com)|140.82.121.4|:443... connected.\n",
            "HTTP request sent, awaiting response... 302 Found\n",
            "Location: https://raw.githubusercontent.com/jingwora/bioinformatics-tools/main/projects/Clara-Parabrick_singularity/data_small/SRR2960981_1.100K.fastq.gz [following]\n",
            "--2023-02-02 21:07:32--  https://raw.githubusercontent.com/jingwora/bioinformatics-tools/main/projects/Clara-Parabrick_singularity/data_small/SRR2960981_1.100K.fastq.gz\n",
            "Resolving raw.githubusercontent.com (raw.githubusercontent.com)... 185.199.108.133, 185.199.109.133, 185.199.110.133, ...\n",
            "Connecting to raw.githubusercontent.com (raw.githubusercontent.com)|185.199.108.133|:443... connected.\n",
            "HTTP request sent, awaiting response... 200 OK\n",
            "Length: 18713083 (18M) [application/octet-stream]\n",
            "Saving to: ‘SRR2960981_1.100K.fastq.gz’\n",
            "\n",
            "SRR2960981_1.100K.f 100%[===================>]  17.85M  --.-KB/s    in 0.05s   \n",
            "\n",
            "2023-02-02 21:07:33 (327 MB/s) - ‘SRR2960981_1.100K.fastq.gz’ saved [18713083/18713083]\n",
            "\n",
            "--2023-02-02 21:07:33--  https://github.com/jingwora/bioinformatics-tools/raw/main/projects/Clara-Parabrick_singularity/data_small/SRR2960981_2.100K.fastq.gz\n",
            "Resolving github.com (github.com)... 140.82.121.4\n",
            "Connecting to github.com (github.com)|140.82.121.4|:443... connected.\n",
            "HTTP request sent, awaiting response... 302 Found\n",
            "Location: https://raw.githubusercontent.com/jingwora/bioinformatics-tools/main/projects/Clara-Parabrick_singularity/data_small/SRR2960981_2.100K.fastq.gz [following]\n",
            "--2023-02-02 21:07:33--  https://raw.githubusercontent.com/jingwora/bioinformatics-tools/main/projects/Clara-Parabrick_singularity/data_small/SRR2960981_2.100K.fastq.gz\n",
            "Resolving raw.githubusercontent.com (raw.githubusercontent.com)... 185.199.108.133, 185.199.109.133, 185.199.110.133, ...\n",
            "Connecting to raw.githubusercontent.com (raw.githubusercontent.com)|185.199.108.133|:443... connected.\n",
            "HTTP request sent, awaiting response... 200 OK\n",
            "Length: 19956760 (19M) [application/octet-stream]\n",
            "Saving to: ‘SRR2960981_2.100K.fastq.gz’\n",
            "\n",
            "SRR2960981_2.100K.f 100%[===================>]  19.03M  --.-KB/s    in 0.06s   \n",
            "\n",
            "2023-02-02 21:07:35 (315 MB/s) - ‘SRR2960981_2.100K.fastq.gz’ saved [19956760/19956760]\n",
            "\n"
          ]
        }
      ]
    },
    {
      "cell_type": "code",
      "source": [
        "# # full data load\n",
        "# !wget ftp://ftp.sra.ebi.ac.uk/vol1/fastq/SRR296/001/SRR2960981/SRR2960981_1.fastq.gz\n",
        "# !wget ftp://ftp.sra.ebi.ac.uk/vol1/fastq/SRR296/001/SRR2960981/SRR2960981_2.fastq.gz"
      ],
      "metadata": {
        "id": "UCm6Q8Kx2JFP"
      },
      "execution_count": 14,
      "outputs": []
    },
    {
      "cell_type": "code",
      "source": [
        "# # trim to 100K pairs reads\n",
        "# !gzip -dc SRR2960981_1.fastq.gz | head -n 400000 > SRR2960981_1.100K.fastq\n",
        "# !gzip -dc SRR2960981_2.fastq.gz | head -n 400000 > SRR2960981_2.100K.fastq"
      ],
      "metadata": {
        "id": "usyDhhIhSaJF"
      },
      "execution_count": 15,
      "outputs": []
    },
    {
      "cell_type": "code",
      "source": [
        "# !gzip  SRR2960981_1.100K.fastq\n",
        "# !gzip  SRR2960981_2.100K.fastq"
      ],
      "metadata": {
        "id": "rAn8A8gSxOqi"
      },
      "execution_count": 16,
      "outputs": []
    },
    {
      "cell_type": "code",
      "source": [
        "!ls"
      ],
      "metadata": {
        "colab": {
          "base_uri": "https://localhost:8080/"
        },
        "id": "UFtWSGhSzZxL",
        "outputId": "4407f4fa-01c3-426d-bfe4-c7dc065b78f0"
      },
      "execution_count": 17,
      "outputs": [
        {
          "output_type": "stream",
          "name": "stdout",
          "text": [
            "log.txt  sample_data  SRR2960981_1.100K.fastq.gz  SRR2960981_2.100K.fastq.gz\n"
          ]
        }
      ]
    },
    {
      "cell_type": "code",
      "source": [
        "%%bash\n",
        "echo $(date \"+%Y-%m-%d %H:%M:%S\") \",02. Download Reads\" >> log.txt"
      ],
      "metadata": {
        "id": "WJI5K_Ta99PY"
      },
      "execution_count": 18,
      "outputs": []
    },
    {
      "cell_type": "markdown",
      "source": [
        "## 03. Trim reads"
      ],
      "metadata": {
        "id": "qorMJ93f2sbO"
      }
    },
    {
      "cell_type": "code",
      "source": [
        "!trimmomatic -h"
      ],
      "metadata": {
        "colab": {
          "base_uri": "https://localhost:8080/"
        },
        "id": "_fw4egeW877o",
        "outputId": "4d5a7529-cbff-45e3-f814-c423c7a233a3"
      },
      "execution_count": 19,
      "outputs": [
        {
          "output_type": "stream",
          "name": "stdout",
          "text": [
            "Usage: \n",
            "       PE [-version] [-threads <threads>] [-phred33|-phred64] [-trimlog <trimLogFile>] [-summary <statsSummaryFile>] [-quiet] [-validatePairs] [-basein <inputBase> | <inputFile1> <inputFile2>] [-baseout <outputBase> | <outputFile1P> <outputFile1U> <outputFile2P> <outputFile2U>] <trimmer1>...\n",
            "   or: \n",
            "       SE [-version] [-threads <threads>] [-phred33|-phred64] [-trimlog <trimLogFile>] [-summary <statsSummaryFile>] [-quiet] <inputFile> <outputFile> <trimmer1>...\n",
            "   or: \n",
            "       -version\n"
          ]
        }
      ]
    },
    {
      "cell_type": "code",
      "source": [
        "# Downlod adapter\n",
        "# https://github.com/timflutre/trimmomatic/tree/master/adapters\n",
        "\n",
        "!wget https://github.com/timflutre/trimmomatic/raw/master/adapters/TruSeq2-PE.fa"
      ],
      "metadata": {
        "colab": {
          "base_uri": "https://localhost:8080/"
        },
        "id": "3I5W32wbRSSF",
        "outputId": "c2ae56a6-923b-4644-d072-493800ca4b67"
      },
      "execution_count": 20,
      "outputs": [
        {
          "output_type": "stream",
          "name": "stdout",
          "text": [
            "--2023-02-02 21:07:35--  https://github.com/timflutre/trimmomatic/raw/master/adapters/TruSeq2-PE.fa\n",
            "Resolving github.com (github.com)... 140.82.121.4\n",
            "Connecting to github.com (github.com)|140.82.121.4|:443... connected.\n",
            "HTTP request sent, awaiting response... 302 Found\n",
            "Location: https://raw.githubusercontent.com/timflutre/trimmomatic/master/adapters/TruSeq2-PE.fa [following]\n",
            "--2023-02-02 21:07:35--  https://raw.githubusercontent.com/timflutre/trimmomatic/master/adapters/TruSeq2-PE.fa\n",
            "Resolving raw.githubusercontent.com (raw.githubusercontent.com)... 185.199.108.133, 185.199.109.133, 185.199.110.133, ...\n",
            "Connecting to raw.githubusercontent.com (raw.githubusercontent.com)|185.199.108.133|:443... connected.\n",
            "HTTP request sent, awaiting response... 200 OK\n",
            "Length: 539 [text/plain]\n",
            "Saving to: ‘TruSeq2-PE.fa’\n",
            "\n",
            "TruSeq2-PE.fa       100%[===================>]     539  --.-KB/s    in 0s      \n",
            "\n",
            "2023-02-02 21:07:35 (37.2 MB/s) - ‘TruSeq2-PE.fa’ saved [539/539]\n",
            "\n"
          ]
        }
      ]
    },
    {
      "cell_type": "code",
      "source": [
        "%%bash\n",
        "# Trimming\n",
        "#  PE [-version] [-threads <threads>] [-phred33|-phred64] [-trimlog <trimLogFile>] [-summary <statsSummaryFile>] [-quiet] [-validatePairs] [-basein <inputBase> | <inputFile1> <inputFile2>] [-baseout <outputBase> | <outputFile1P> <outputFile1U> <outputFile2P> <outputFile2U>] <trimmer1>...\n",
        "\n",
        "trimmomatic PE -phred33 -threads 4                         \\\n",
        "     SRR2960981_1.100K.fastq.gz SRR2960981_2.100K.fastq.gz \\\n",
        "     SRR2960981_1.clean.fastq SRR2960981_1.unpaired.fastq  \\\n",
        "     SRR2960981_2.clean.fastq SRR2960981_2.unpaired.fastq  \\\n",
        "     ILLUMINACLIP:TruSeq2-PE.fa:2:30:10 LEADING:30 TRAILING:30 SLIDINGWINDOW:4:15 MINLEN:100"
      ],
      "metadata": {
        "colab": {
          "base_uri": "https://localhost:8080/"
        },
        "id": "IgYq2T2x2j-5",
        "outputId": "591a90e7-92c0-4807-b207-4b3ee72f64b4"
      },
      "execution_count": 21,
      "outputs": [
        {
          "output_type": "stream",
          "name": "stderr",
          "text": [
            "TrimmomaticPE: Started with arguments:\n",
            " -phred33 -threads 4 SRR2960981_1.100K.fastq.gz SRR2960981_2.100K.fastq.gz SRR2960981_1.clean.fastq SRR2960981_1.unpaired.fastq SRR2960981_2.clean.fastq SRR2960981_2.unpaired.fastq ILLUMINACLIP:TruSeq2-PE.fa:2:30:10 LEADING:30 TRAILING:30 SLIDINGWINDOW:4:15 MINLEN:100\n",
            "Using PrefixPair: 'AATGATACGGCGACCACCGAGATCTACACTCTTTCCCTACACGACGCTCTTCCGATCT' and 'CAAGCAGAAGACGGCATACGAGATCGGTCTCGGCATTCCTGCTGAACCGCTCTTCCGATCT'\n",
            "Using Long Clipping Sequence: 'AGATCGGAAGAGCGTCGTGTAGGGAAAGAGTGTAGATCTCGGTGGTCGCCGTATCATT'\n",
            "Using Long Clipping Sequence: 'AGATCGGAAGAGCGGTTCAGCAGGAATGCCGAGACCGATCTCGTATGCCGTCTTCTGCTTG'\n",
            "Using Long Clipping Sequence: 'TTTTTTTTTTAATGATACGGCGACCACCGAGATCTACAC'\n",
            "Using Long Clipping Sequence: 'TTTTTTTTTTCAAGCAGAAGACGGCATACGA'\n",
            "Using Long Clipping Sequence: 'CAAGCAGAAGACGGCATACGAGATCGGTCTCGGCATTCCTGCTGAACCGCTCTTCCGATCT'\n",
            "Using Long Clipping Sequence: 'AATGATACGGCGACCACCGAGATCTACACTCTTTCCCTACACGACGCTCTTCCGATCT'\n",
            "ILLUMINACLIP: Using 1 prefix pairs, 6 forward/reverse sequences, 0 forward only sequences, 0 reverse only sequences\n",
            "Input Read Pairs: 100000 Both Surviving: 96682 (96.68%) Forward Only Surviving: 2516 (2.52%) Reverse Only Surviving: 295 (0.29%) Dropped: 507 (0.51%)\n",
            "TrimmomaticPE: Completed successfully\n"
          ]
        }
      ]
    },
    {
      "cell_type": "code",
      "source": [
        "!ls"
      ],
      "metadata": {
        "colab": {
          "base_uri": "https://localhost:8080/"
        },
        "id": "Mn31AFtt3F63",
        "outputId": "8bcf6365-3ebf-4c55-d7ec-c12f169f97a8"
      },
      "execution_count": 22,
      "outputs": [
        {
          "output_type": "stream",
          "name": "stdout",
          "text": [
            "log.txt\t\t\t     SRR2960981_2.100K.fastq.gz\n",
            "sample_data\t\t     SRR2960981_2.clean.fastq\n",
            "SRR2960981_1.100K.fastq.gz   SRR2960981_2.unpaired.fastq\n",
            "SRR2960981_1.clean.fastq     TruSeq2-PE.fa\n",
            "SRR2960981_1.unpaired.fastq\n"
          ]
        }
      ]
    },
    {
      "cell_type": "code",
      "source": [
        "%%bash\n",
        "echo $(date \"+%Y-%m-%d %H:%M:%S\") \",03. Trim reads\" >> log.txt"
      ],
      "metadata": {
        "id": "GvkLcjBf8R4u"
      },
      "execution_count": 23,
      "outputs": []
    },
    {
      "cell_type": "markdown",
      "source": [
        "## 04. Mapping"
      ],
      "metadata": {
        "id": "XWDY3ZxU7EiV"
      }
    },
    {
      "cell_type": "code",
      "source": [
        "# Load Reference\n",
        "# https://ftp.ncbi.nlm.nih.gov/genomes/all/GCF/000/001/405/GCF_000001405.40_GRCh38.p14/\n",
        "\n",
        "!wget https://ftp.ncbi.nlm.nih.gov/genomes/all/GCF/000/001/405/GCF_000001405.40_GRCh38.p14/GCF_000001405.40_GRCh38.p14_genomic.fna.gz"
      ],
      "metadata": {
        "colab": {
          "base_uri": "https://localhost:8080/"
        },
        "id": "qg4EsFMO7PKA",
        "outputId": "331f3b40-858b-47f4-b5e9-470c38537b5a"
      },
      "execution_count": 24,
      "outputs": [
        {
          "output_type": "stream",
          "name": "stdout",
          "text": [
            "--2023-02-02 21:07:39--  https://ftp.ncbi.nlm.nih.gov/genomes/all/GCF/000/001/405/GCF_000001405.40_GRCh38.p14/GCF_000001405.40_GRCh38.p14_genomic.fna.gz\n",
            "Resolving ftp.ncbi.nlm.nih.gov (ftp.ncbi.nlm.nih.gov)... 130.14.250.12, 130.14.250.10, 2607:f220:41f:250::230, ...\n",
            "Connecting to ftp.ncbi.nlm.nih.gov (ftp.ncbi.nlm.nih.gov)|130.14.250.12|:443... connected.\n",
            "HTTP request sent, awaiting response... 200 OK\n",
            "Length: 972898531 (928M) [application/x-gzip]\n",
            "Saving to: ‘GCF_000001405.40_GRCh38.p14_genomic.fna.gz’\n",
            "\n",
            "GCF_000001405.40_GR 100%[===================>] 927.83M  32.6MB/s    in 29s     \n",
            "\n",
            "2023-02-02 21:08:08 (31.8 MB/s) - ‘GCF_000001405.40_GRCh38.p14_genomic.fna.gz’ saved [972898531/972898531]\n",
            "\n"
          ]
        }
      ]
    },
    {
      "cell_type": "code",
      "source": [
        "# move file to ref folder\n",
        "\n",
        "!mkdir ref\n",
        "!mv GCF_000001405.40_GRCh38.p14_genomic.fna.gz ref/GRCh38.p14.fna.gz"
      ],
      "metadata": {
        "id": "3ZnuWrQnjy2Y"
      },
      "execution_count": 25,
      "outputs": []
    },
    {
      "cell_type": "code",
      "source": [
        "# indexing\n",
        "\n",
        "!bwa index ref/GRCh38.p14.fna.gz"
      ],
      "metadata": {
        "colab": {
          "base_uri": "https://localhost:8080/"
        },
        "id": "Y7zDo--G401J",
        "outputId": "27d09006-2c59-43d0-a7c4-8b2d2761fbc2"
      },
      "execution_count": 26,
      "outputs": [
        {
          "output_type": "stream",
          "name": "stdout",
          "text": [
            "[bwa_index] Pack FASTA... tcmalloc: large alloc 1073741824 bytes == 0x55f4fddbe000 @  0x7fab5b448680 0x7fab5b468bdd 0x55f4ac72169b 0x55f4ac70f52c 0x55f4ac725bee 0x55f4ac726452 0x55f4ac6ee6d2 0x7fab5b0b1083 0x55f4ac6ee825\n",
            "tcmalloc: large alloc 1649221632 bytes == 0x55f53de32000 @  0x7fab5b448680 0x7fab5b468bdd 0x55f4ac72169b 0x55f4ac70f83c 0x55f4ac725bee 0x55f4ac726452 0x55f4ac6ee6d2 0x7fab5b0b1083 0x55f4ac6ee825\n",
            "29.85 sec\n",
            "[bwa_index] Construct BWT for the packed sequence...\n",
            "[BWTIncCreate] textLength=6596861272, availableWord=476179232\n",
            "tcmalloc: large alloc 1904721920 bytes == 0x55f4ae0b4000 @  0x7fab5b448680 0x7fab5b4682ec 0x55f4ac7215bd 0x55f4ac722392 0x55f4ac7240a6 0x55f4ac7244d6 0x55f4ac725c6e 0x55f4ac726452 0x55f4ac6ee6d2 0x7fab5b0b1083 0x55f4ac6ee825\n",
            "[BWTIncConstructFromPacked] 10 iterations done. 99999992 characters processed.\n",
            "[BWTIncConstructFromPacked] 20 iterations done. 199999992 characters processed.\n",
            "[BWTIncConstructFromPacked] 30 iterations done. 299999992 characters processed.\n",
            "[BWTIncConstructFromPacked] 40 iterations done. 399999992 characters processed.\n",
            "[BWTIncConstructFromPacked] 50 iterations done. 499999992 characters processed.\n",
            "[BWTIncConstructFromPacked] 60 iterations done. 599999992 characters processed.\n",
            "[BWTIncConstructFromPacked] 70 iterations done. 699999992 characters processed.\n",
            "[BWTIncConstructFromPacked] 80 iterations done. 799999992 characters processed.\n",
            "[BWTIncConstructFromPacked] 90 iterations done. 899999992 characters processed.\n",
            "[BWTIncConstructFromPacked] 100 iterations done. 999999992 characters processed.\n",
            "[BWTIncConstructFromPacked] 110 iterations done. 1099999992 characters processed.\n",
            "[BWTIncConstructFromPacked] 120 iterations done. 1199999992 characters processed.\n",
            "[BWTIncConstructFromPacked] 130 iterations done. 1299999992 characters processed.\n",
            "[BWTIncConstructFromPacked] 140 iterations done. 1399999992 characters processed.\n",
            "[BWTIncConstructFromPacked] 150 iterations done. 1499999992 characters processed.\n",
            "[BWTIncConstructFromPacked] 160 iterations done. 1599999992 characters processed.\n",
            "[BWTIncConstructFromPacked] 170 iterations done. 1699999992 characters processed.\n",
            "[BWTIncConstructFromPacked] 180 iterations done. 1799999992 characters processed.\n",
            "[BWTIncConstructFromPacked] 190 iterations done. 1899999992 characters processed.\n",
            "[BWTIncConstructFromPacked] 200 iterations done. 1999999992 characters processed.\n",
            "[BWTIncConstructFromPacked] 210 iterations done. 2099999992 characters processed.\n",
            "[BWTIncConstructFromPacked] 220 iterations done. 2199999992 characters processed.\n",
            "[BWTIncConstructFromPacked] 230 iterations done. 2299999992 characters processed.\n",
            "[BWTIncConstructFromPacked] 240 iterations done. 2399999992 characters processed.\n",
            "[BWTIncConstructFromPacked] 250 iterations done. 2499999992 characters processed.\n",
            "[BWTIncConstructFromPacked] 260 iterations done. 2599999992 characters processed.\n",
            "[BWTIncConstructFromPacked] 270 iterations done. 2699999992 characters processed.\n",
            "[BWTIncConstructFromPacked] 280 iterations done. 2799999992 characters processed.\n",
            "[BWTIncConstructFromPacked] 290 iterations done. 2899999992 characters processed.\n",
            "[BWTIncConstructFromPacked] 300 iterations done. 2999999992 characters processed.\n",
            "[BWTIncConstructFromPacked] 310 iterations done. 3099999992 characters processed.\n",
            "[BWTIncConstructFromPacked] 320 iterations done. 3199999992 characters processed.\n",
            "[BWTIncConstructFromPacked] 330 iterations done. 3299999992 characters processed.\n",
            "[BWTIncConstructFromPacked] 340 iterations done. 3399999992 characters processed.\n",
            "[BWTIncConstructFromPacked] 350 iterations done. 3499999992 characters processed.\n",
            "[BWTIncConstructFromPacked] 360 iterations done. 3599999992 characters processed.\n",
            "[BWTIncConstructFromPacked] 370 iterations done. 3699999992 characters processed.\n",
            "[BWTIncConstructFromPacked] 380 iterations done. 3799999992 characters processed.\n",
            "[BWTIncConstructFromPacked] 390 iterations done. 3899999992 characters processed.\n",
            "[BWTIncConstructFromPacked] 400 iterations done. 3999999992 characters processed.\n",
            "[BWTIncConstructFromPacked] 410 iterations done. 4099999992 characters processed.\n",
            "[BWTIncConstructFromPacked] 420 iterations done. 4199999992 characters processed.\n",
            "[BWTIncConstructFromPacked] 430 iterations done. 4299999992 characters processed.\n",
            "[BWTIncConstructFromPacked] 440 iterations done. 4399999992 characters processed.\n",
            "[BWTIncConstructFromPacked] 450 iterations done. 4499999992 characters processed.\n",
            "[BWTIncConstructFromPacked] 460 iterations done. 4599999992 characters processed.\n",
            "[BWTIncConstructFromPacked] 470 iterations done. 4699999992 characters processed.\n",
            "[BWTIncConstructFromPacked] 480 iterations done. 4799999992 characters processed.\n",
            "[BWTIncConstructFromPacked] 490 iterations done. 4899999992 characters processed.\n",
            "[BWTIncConstructFromPacked] 500 iterations done. 4999999992 characters processed.\n",
            "[BWTIncConstructFromPacked] 510 iterations done. 5099999992 characters processed.\n",
            "[BWTIncConstructFromPacked] 520 iterations done. 5199999992 characters processed.\n",
            "[BWTIncConstructFromPacked] 530 iterations done. 5299999992 characters processed.\n",
            "[BWTIncConstructFromPacked] 540 iterations done. 5399999992 characters processed.\n",
            "[BWTIncConstructFromPacked] 550 iterations done. 5499999992 characters processed.\n",
            "[BWTIncConstructFromPacked] 560 iterations done. 5599999992 characters processed.\n",
            "[BWTIncConstructFromPacked] 570 iterations done. 5699999992 characters processed.\n",
            "[BWTIncConstructFromPacked] 580 iterations done. 5799999992 characters processed.\n",
            "[BWTIncConstructFromPacked] 590 iterations done. 5899999992 characters processed.\n",
            "[BWTIncConstructFromPacked] 600 iterations done. 5996509032 characters processed.\n",
            "[BWTIncConstructFromPacked] 610 iterations done. 6082533112 characters processed.\n",
            "[BWTIncConstructFromPacked] 620 iterations done. 6158987528 characters processed.\n",
            "[BWTIncConstructFromPacked] 630 iterations done. 6226936392 characters processed.\n",
            "[BWTIncConstructFromPacked] 640 iterations done. 6287325512 characters processed.\n",
            "[BWTIncConstructFromPacked] 650 iterations done. 6340995480 characters processed.\n",
            "[BWTIncConstructFromPacked] 660 iterations done. 6388693480 characters processed.\n",
            "[BWTIncConstructFromPacked] 670 iterations done. 6431083592 characters processed.\n",
            "[BWTIncConstructFromPacked] 680 iterations done. 6468755960 characters processed.\n",
            "[BWTIncConstructFromPacked] 690 iterations done. 6502235256 characters processed.\n",
            "[BWTIncConstructFromPacked] 700 iterations done. 6531987704 characters processed.\n",
            "[BWTIncConstructFromPacked] 710 iterations done. 6558427720 characters processed.\n",
            "[BWTIncConstructFromPacked] 720 iterations done. 6581923640 characters processed.\n",
            "[bwt_gen] Finished constructing BWT in 728 iterations.\n",
            "[bwa_index] 2883.46 seconds elapse.\n",
            "[bwa_index] Update BWT... tcmalloc: large alloc 1649221632 bytes == 0x55f53de26000 @  0x7fab5b448680 0x7fab5b4682ec 0x55f4ac7215bd 0x55f4ac70e0b5 0x55f4ac725d64 0x55f4ac726452 0x55f4ac6ee6d2 0x7fab5b0b1083 0x55f4ac6ee825\n",
            "tcmalloc: large alloc 3298435072 bytes == 0x55f5a02f8000 @  0x7fab5b448680 0x7fab5b4682ec 0x55f4ac7215bd 0x55f4ac72588e 0x55f4ac725d70 0x55f4ac726452 0x55f4ac6ee6d2 0x7fab5b0b1083 0x55f4ac6ee825\n",
            "17.40 sec\n",
            "[bwa_index] Pack forward-only FASTA... 22.60 sec\n",
            "[bwa_index] Construct SA from BWT and Occ... tcmalloc: large alloc 3298435072 bytes == 0x55f53dde6000 @  0x7fab5b448680 0x7fab5b4682ec 0x55f4ac7215bd 0x55f4ac70e0b5 0x55f4ac725e24 0x55f4ac726452 0x55f4ac6ee6d2 0x7fab5b0b1083 0x55f4ac6ee825\n",
            "2072.51 sec\n",
            "[main] Version: 0.7.17-r1188\n",
            "[main] CMD: bwa index ref/GRCh38.p14.fna.gz\n",
            "[main] Real time: 5051.500 sec; CPU: 5025.826 sec\n"
          ]
        }
      ]
    },
    {
      "cell_type": "code",
      "source": [
        "!ls ref"
      ],
      "metadata": {
        "id": "N0ZWKqX_SDjK",
        "colab": {
          "base_uri": "https://localhost:8080/"
        },
        "outputId": "7a151bc9-78eb-42bb-9f32-fe1f5f169906"
      },
      "execution_count": 27,
      "outputs": [
        {
          "output_type": "stream",
          "name": "stdout",
          "text": [
            "GRCh38.p14.fna.gz      GRCh38.p14.fna.gz.ann  GRCh38.p14.fna.gz.pac\n",
            "GRCh38.p14.fna.gz.amb  GRCh38.p14.fna.gz.bwt  GRCh38.p14.fna.gz.sa\n"
          ]
        }
      ]
    },
    {
      "cell_type": "code",
      "source": [
        "!du -sh ref/GRCh38.p14.fna.gz ref/GRCh38.p14.fna.gz.ann ref/GRCh38.p14.fna.gz.pac ref/GRCh38.p14.fna.gz.amb ref/GRCh38.p14.fna.gz.bwt ref/GRCh38.p14.fna.gz.sa"
      ],
      "metadata": {
        "colab": {
          "base_uri": "https://localhost:8080/"
        },
        "id": "EKHbfGkmjtFC",
        "outputId": "3433e4e4-429d-4f52-ca52-e41b0c8bd9ba"
      },
      "execution_count": 48,
      "outputs": [
        {
          "output_type": "stream",
          "name": "stdout",
          "text": [
            "928M\tref/GRCh38.p14.fna.gz\n",
            "92K\tref/GRCh38.p14.fna.gz.ann\n",
            "787M\tref/GRCh38.p14.fna.gz.pac\n",
            "24K\tref/GRCh38.p14.fna.gz.amb\n",
            "3.1G\tref/GRCh38.p14.fna.gz.bwt\n",
            "1.6G\tref/GRCh38.p14.fna.gz.sa\n"
          ]
        }
      ]
    },
    {
      "cell_type": "code",
      "source": [
        "#  aligning sequence reads\n",
        "\n",
        "!bwa mem -t 4 ref/GRCh38.p14.fna.gz SRR2960981_1.clean.fastq SRR2960981_1.clean.fastq > SRR2960981.sam"
      ],
      "metadata": {
        "colab": {
          "base_uri": "https://localhost:8080/"
        },
        "id": "HX5jGDGt7gGo",
        "outputId": "04a97153-2b91-4732-ade9-92ae0875a54d"
      },
      "execution_count": 28,
      "outputs": [
        {
          "output_type": "stream",
          "name": "stdout",
          "text": [
            "tcmalloc: large alloc 3298435072 bytes == 0x559b2d084000 @  0x7fdc50d84680 0x7fdc50da42ec 0x559b2b6d75bd 0x559b2b6c40b5 0x559b2b6c77a8 0x559b2b6c78a9 0x559b2b6bb7e3 0x559b2b6a4744 0x7fdc509ed083 0x559b2b6a4825\n",
            "tcmalloc: large alloc 1649221632 bytes == 0x559bf1afc000 @  0x7fdc50d84680 0x7fdc50da42ec 0x559b2b6d75bd 0x559b2b6c3f5e 0x559b2b6c77d4 0x559b2b6c78a9 0x559b2b6bb7e3 0x559b2b6a4744 0x7fdc509ed083 0x559b2b6a4825\n",
            "[M::bwa_idx_load_from_disk] read 0 ALT contigs\n",
            "[M::process] read 165410 sequences (40000070 bp)...\n",
            "[M::process] read 27954 sequences (6764088 bp)...\n",
            "[M::mem_pestat] # candidate unique pairs for (FF, FR, RF, RR): (0, 0, 0, 0)\n",
            "[M::mem_pestat] skip orientation FF as there are not enough pairs\n",
            "[M::mem_pestat] skip orientation FR as there are not enough pairs\n",
            "[M::mem_pestat] skip orientation RF as there are not enough pairs\n",
            "[M::mem_pestat] skip orientation RR as there are not enough pairs\n",
            "[M::mem_process_seqs] Processed 165410 reads in 111.833 CPU sec, 28.376 real sec\n",
            "[M::mem_pestat] # candidate unique pairs for (FF, FR, RF, RR): (0, 0, 0, 0)\n",
            "[M::mem_pestat] skip orientation FF as there are not enough pairs\n",
            "[M::mem_pestat] skip orientation FR as there are not enough pairs\n",
            "[M::mem_pestat] skip orientation RF as there are not enough pairs\n",
            "[M::mem_pestat] skip orientation RR as there are not enough pairs\n",
            "[M::mem_process_seqs] Processed 27954 reads in 18.218 CPU sec, 5.089 real sec\n",
            "[main] Version: 0.7.17-r1188\n",
            "[main] CMD: bwa mem -t 4 ref/GRCh38.p14.fna.gz SRR2960981_1.clean.fastq SRR2960981_1.clean.fastq\n",
            "[main] Real time: 50.045 sec; CPU: 140.175 sec\n"
          ]
        }
      ]
    },
    {
      "cell_type": "code",
      "source": [
        "%%bash\n",
        "echo $(date \"+%Y-%m-%d %H:%M:%S\") \",04. Mapping\" >> log.txt"
      ],
      "metadata": {
        "id": "SiLWR0hu-SVk"
      },
      "execution_count": 29,
      "outputs": []
    },
    {
      "cell_type": "markdown",
      "source": [
        "## 05. SAM to BAM"
      ],
      "metadata": {
        "id": "CW_F7G1E8V7s"
      }
    },
    {
      "cell_type": "code",
      "source": [
        "# convert SAM to BAM\n",
        "\n",
        "!samtools view -S -b SRR2960981.sam > SRR2960981.bam"
      ],
      "metadata": {
        "id": "S0vhzDrj8b_l"
      },
      "execution_count": 30,
      "outputs": []
    },
    {
      "cell_type": "code",
      "source": [
        "!du -sh SRR2960981.bam SRR2960981.sam"
      ],
      "metadata": {
        "colab": {
          "base_uri": "https://localhost:8080/"
        },
        "id": "f51Pf6c09BzL",
        "outputId": "13dd7cc7-1fe3-4ad3-c137-3c8b466183cc"
      },
      "execution_count": 31,
      "outputs": [
        {
          "output_type": "stream",
          "name": "stdout",
          "text": [
            "19M\tSRR2960981.bam\n",
            "99M\tSRR2960981.sam\n"
          ]
        }
      ]
    },
    {
      "cell_type": "code",
      "source": [
        "%%bash\n",
        "echo $(date \"+%Y-%m-%d %H:%M:%S\") \",05. SAM to BAM\" >> log.txt   "
      ],
      "metadata": {
        "id": "5h9CR-Zc-ZLU"
      },
      "execution_count": 32,
      "outputs": []
    },
    {
      "cell_type": "markdown",
      "source": [
        "## 06. Sorted BAM"
      ],
      "metadata": {
        "id": "mNpzFUx-8c6K"
      }
    },
    {
      "cell_type": "code",
      "source": [
        "# sort bam file\n",
        "\n",
        "!samtools sort -o SRR2960981.sorted.bam SRR2960981.bam"
      ],
      "metadata": {
        "id": "LH7Nu0ym8qL2"
      },
      "execution_count": 33,
      "outputs": []
    },
    {
      "cell_type": "code",
      "source": [
        "!du -sh SRR2960981.sorted.bam SRR2960981.bam"
      ],
      "metadata": {
        "colab": {
          "base_uri": "https://localhost:8080/"
        },
        "id": "eENRwnW7-ziu",
        "outputId": "eb8e13b3-a336-468b-86b7-4cdcbed07490"
      },
      "execution_count": 34,
      "outputs": [
        {
          "output_type": "stream",
          "name": "stdout",
          "text": [
            "19M\tSRR2960981.sorted.bam\n",
            "19M\tSRR2960981.bam\n"
          ]
        }
      ]
    },
    {
      "cell_type": "code",
      "source": [
        "%%bash\n",
        "echo $(date \"+%Y-%m-%d %H:%M:%S\") \",06. Sorted BAM\" >> log.txt   "
      ],
      "metadata": {
        "id": "Pe_SSREn-aes"
      },
      "execution_count": 35,
      "outputs": []
    },
    {
      "cell_type": "markdown",
      "source": [
        "## 07. Mapping stats"
      ],
      "metadata": {
        "id": "iS3ue6TX8nNO"
      }
    },
    {
      "cell_type": "code",
      "source": [
        "# get mapping statistics\n",
        "\n",
        "!samtools flagstat SRR2960981.sorted.bam > mappingstats.txt"
      ],
      "metadata": {
        "id": "JkeW9Ept-bRa"
      },
      "execution_count": 52,
      "outputs": []
    },
    {
      "cell_type": "code",
      "source": [
        "!cat mappingstats.txt"
      ],
      "metadata": {
        "colab": {
          "base_uri": "https://localhost:8080/"
        },
        "id": "YtnFz2rA-9uy",
        "outputId": "57af1f3b-f30e-47a3-eb18-da25f19aea79"
      },
      "execution_count": 53,
      "outputs": [
        {
          "output_type": "stream",
          "name": "stdout",
          "text": [
            "193535 + 0 in total (QC-passed reads + QC-failed reads)\n",
            "0 + 0 secondary\n",
            "171 + 0 supplementary\n",
            "0 + 0 duplicates\n",
            "1393 + 0 mapped (0.72% : N/A)\n",
            "193364 + 0 paired in sequencing\n",
            "96682 + 0 read1\n",
            "96682 + 0 read2\n",
            "0 + 0 properly paired (0.00% : N/A)\n",
            "1222 + 0 with itself and mate mapped\n",
            "0 + 0 singletons (0.00% : N/A)\n",
            "464 + 0 with mate mapped to a different chr\n",
            "0 + 0 with mate mapped to a different chr (mapQ>=5)\n"
          ]
        }
      ]
    },
    {
      "cell_type": "code",
      "source": [
        "%%bash\n",
        "echo $(date \"+%Y-%m-%d %H:%M:%S\") \",07. Mappingstats\" >> log.txt   "
      ],
      "metadata": {
        "id": "71McNJTh-bN7"
      },
      "execution_count": 38,
      "outputs": []
    },
    {
      "cell_type": "code",
      "source": [
        "!ls"
      ],
      "metadata": {
        "colab": {
          "base_uri": "https://localhost:8080/"
        },
        "id": "qWX9psq6dVZw",
        "outputId": "1c605892-e363-4ed4-f94e-d1e54b243f63"
      },
      "execution_count": 44,
      "outputs": [
        {
          "output_type": "stream",
          "name": "stdout",
          "text": [
            "figure1.png\t  SRR2960981_1.100K.fastq.gz   SRR2960981_2.unpaired.fastq\n",
            "log.txt\t\t  SRR2960981_1.clean.fastq     SRR2960981.bam\n",
            "mappingstats.txt  SRR2960981_1.unpaired.fastq  SRR2960981.sam\n",
            "ref\t\t  SRR2960981_2.100K.fastq.gz   SRR2960981.sorted.bam\n",
            "sample_data\t  SRR2960981_2.clean.fastq     TruSeq2-PE.fa\n"
          ]
        }
      ]
    },
    {
      "cell_type": "code",
      "source": [
        "!du -sh SRR2960981.sorted.bam"
      ],
      "metadata": {
        "colab": {
          "base_uri": "https://localhost:8080/"
        },
        "id": "yaMwXAhTgbf2",
        "outputId": "fb9f2078-6d51-4878-d168-ab60dda231bf"
      },
      "execution_count": 45,
      "outputs": [
        {
          "output_type": "stream",
          "name": "stdout",
          "text": [
            "19M\tSRR2960981.sorted.bam\n"
          ]
        }
      ]
    },
    {
      "cell_type": "markdown",
      "source": [
        "## Summary"
      ],
      "metadata": {
        "id": "-UqSEJEz_OIm"
      }
    },
    {
      "cell_type": "code",
      "source": [
        "# time log\n",
        "\n",
        "!cat log.txt"
      ],
      "metadata": {
        "colab": {
          "base_uri": "https://localhost:8080/"
        },
        "id": "EkJOHfMx_SxQ",
        "outputId": "0314d6c2-c73b-4982-875e-ae2cec00f524"
      },
      "execution_count": 39,
      "outputs": [
        {
          "output_type": "stream",
          "name": "stdout",
          "text": [
            "2023-02-02 21:05:03 ,START\n",
            "2023-02-02 21:07:31 ,01. Environment setting\n",
            "2023-02-02 21:07:35 ,02. Download Reads\n",
            "2023-02-02 21:07:39 ,03. Trim reads\n",
            "2023-02-02 22:33:11 ,04. Mapping\n",
            "2023-02-02 22:33:16 ,05. SAM to BAM\n",
            "2023-02-02 22:33:20 ,06. Sorted BAM\n",
            "2023-02-02 22:33:20 ,07. Mappingstats\n"
          ]
        }
      ]
    },
    {
      "cell_type": "code",
      "source": [
        "%matplotlib inline\n",
        "import matplotlib.pyplot as plt\n",
        "\n",
        "import numpy as np\n",
        "import pandas as pd\n",
        "import matplotlib.ticker as plticker\n",
        "\n",
        "import warnings\n",
        "warnings.filterwarnings(\"ignore\")\n",
        "\n",
        "plt.style.use('seaborn')"
      ],
      "metadata": {
        "id": "fIzTdn8R_St4"
      },
      "execution_count": 40,
      "outputs": []
    },
    {
      "cell_type": "code",
      "source": [
        "# read log file\n",
        "\n",
        "df = pd.read_csv(\"log.txt\", names=[\"timestamp\", \"steps\"])\n",
        "df[\"timestamp\"] = pd.to_datetime(df.timestamp)\n",
        "df[\"duration(second)\"] = (df[\"timestamp\"] - df[\"timestamp\"].shift(+1)).astype('timedelta64[s]')\n",
        "df[\"duration(minute)\"] = (df[\"timestamp\"] - df[\"timestamp\"].shift(+1)).astype('timedelta64[m]')\n",
        "df = df.dropna()\n",
        "df[\"duration(second)\"] = df[\"duration(second)\"].astype(\"int\")\n",
        "\n",
        "df"
      ],
      "metadata": {
        "colab": {
          "base_uri": "https://localhost:8080/",
          "height": 269
        },
        "id": "AN0MTh3N_SrF",
        "outputId": "a3a2147b-1eb1-4fc1-c27e-df5c76a1d268"
      },
      "execution_count": 41,
      "outputs": [
        {
          "output_type": "execute_result",
          "data": {
            "text/plain": [
              "            timestamp                    steps  duration(second)  \\\n",
              "1 2023-02-02 21:07:31  01. Environment setting               148   \n",
              "2 2023-02-02 21:07:35       02. Download Reads                 4   \n",
              "3 2023-02-02 21:07:39           03. Trim reads                 4   \n",
              "4 2023-02-02 22:33:11              04. Mapping              5132   \n",
              "5 2023-02-02 22:33:16           05. SAM to BAM                 5   \n",
              "6 2023-02-02 22:33:20           06. Sorted BAM                 4   \n",
              "7 2023-02-02 22:33:20         07. Mappingstats                 0   \n",
              "\n",
              "   duration(minute)  \n",
              "1               2.0  \n",
              "2               0.0  \n",
              "3               0.0  \n",
              "4              85.0  \n",
              "5               0.0  \n",
              "6               0.0  \n",
              "7               0.0  "
            ],
            "text/html": [
              "\n",
              "  <div id=\"df-04b9bb32-2c74-4498-b39e-49ac9eab53ae\">\n",
              "    <div class=\"colab-df-container\">\n",
              "      <div>\n",
              "<style scoped>\n",
              "    .dataframe tbody tr th:only-of-type {\n",
              "        vertical-align: middle;\n",
              "    }\n",
              "\n",
              "    .dataframe tbody tr th {\n",
              "        vertical-align: top;\n",
              "    }\n",
              "\n",
              "    .dataframe thead th {\n",
              "        text-align: right;\n",
              "    }\n",
              "</style>\n",
              "<table border=\"1\" class=\"dataframe\">\n",
              "  <thead>\n",
              "    <tr style=\"text-align: right;\">\n",
              "      <th></th>\n",
              "      <th>timestamp</th>\n",
              "      <th>steps</th>\n",
              "      <th>duration(second)</th>\n",
              "      <th>duration(minute)</th>\n",
              "    </tr>\n",
              "  </thead>\n",
              "  <tbody>\n",
              "    <tr>\n",
              "      <th>1</th>\n",
              "      <td>2023-02-02 21:07:31</td>\n",
              "      <td>01. Environment setting</td>\n",
              "      <td>148</td>\n",
              "      <td>2.0</td>\n",
              "    </tr>\n",
              "    <tr>\n",
              "      <th>2</th>\n",
              "      <td>2023-02-02 21:07:35</td>\n",
              "      <td>02. Download Reads</td>\n",
              "      <td>4</td>\n",
              "      <td>0.0</td>\n",
              "    </tr>\n",
              "    <tr>\n",
              "      <th>3</th>\n",
              "      <td>2023-02-02 21:07:39</td>\n",
              "      <td>03. Trim reads</td>\n",
              "      <td>4</td>\n",
              "      <td>0.0</td>\n",
              "    </tr>\n",
              "    <tr>\n",
              "      <th>4</th>\n",
              "      <td>2023-02-02 22:33:11</td>\n",
              "      <td>04. Mapping</td>\n",
              "      <td>5132</td>\n",
              "      <td>85.0</td>\n",
              "    </tr>\n",
              "    <tr>\n",
              "      <th>5</th>\n",
              "      <td>2023-02-02 22:33:16</td>\n",
              "      <td>05. SAM to BAM</td>\n",
              "      <td>5</td>\n",
              "      <td>0.0</td>\n",
              "    </tr>\n",
              "    <tr>\n",
              "      <th>6</th>\n",
              "      <td>2023-02-02 22:33:20</td>\n",
              "      <td>06. Sorted BAM</td>\n",
              "      <td>4</td>\n",
              "      <td>0.0</td>\n",
              "    </tr>\n",
              "    <tr>\n",
              "      <th>7</th>\n",
              "      <td>2023-02-02 22:33:20</td>\n",
              "      <td>07. Mappingstats</td>\n",
              "      <td>0</td>\n",
              "      <td>0.0</td>\n",
              "    </tr>\n",
              "  </tbody>\n",
              "</table>\n",
              "</div>\n",
              "      <button class=\"colab-df-convert\" onclick=\"convertToInteractive('df-04b9bb32-2c74-4498-b39e-49ac9eab53ae')\"\n",
              "              title=\"Convert this dataframe to an interactive table.\"\n",
              "              style=\"display:none;\">\n",
              "        \n",
              "  <svg xmlns=\"http://www.w3.org/2000/svg\" height=\"24px\"viewBox=\"0 0 24 24\"\n",
              "       width=\"24px\">\n",
              "    <path d=\"M0 0h24v24H0V0z\" fill=\"none\"/>\n",
              "    <path d=\"M18.56 5.44l.94 2.06.94-2.06 2.06-.94-2.06-.94-.94-2.06-.94 2.06-2.06.94zm-11 1L8.5 8.5l.94-2.06 2.06-.94-2.06-.94L8.5 2.5l-.94 2.06-2.06.94zm10 10l.94 2.06.94-2.06 2.06-.94-2.06-.94-.94-2.06-.94 2.06-2.06.94z\"/><path d=\"M17.41 7.96l-1.37-1.37c-.4-.4-.92-.59-1.43-.59-.52 0-1.04.2-1.43.59L10.3 9.45l-7.72 7.72c-.78.78-.78 2.05 0 2.83L4 21.41c.39.39.9.59 1.41.59.51 0 1.02-.2 1.41-.59l7.78-7.78 2.81-2.81c.8-.78.8-2.07 0-2.86zM5.41 20L4 18.59l7.72-7.72 1.47 1.35L5.41 20z\"/>\n",
              "  </svg>\n",
              "      </button>\n",
              "      \n",
              "  <style>\n",
              "    .colab-df-container {\n",
              "      display:flex;\n",
              "      flex-wrap:wrap;\n",
              "      gap: 12px;\n",
              "    }\n",
              "\n",
              "    .colab-df-convert {\n",
              "      background-color: #E8F0FE;\n",
              "      border: none;\n",
              "      border-radius: 50%;\n",
              "      cursor: pointer;\n",
              "      display: none;\n",
              "      fill: #1967D2;\n",
              "      height: 32px;\n",
              "      padding: 0 0 0 0;\n",
              "      width: 32px;\n",
              "    }\n",
              "\n",
              "    .colab-df-convert:hover {\n",
              "      background-color: #E2EBFA;\n",
              "      box-shadow: 0px 1px 2px rgba(60, 64, 67, 0.3), 0px 1px 3px 1px rgba(60, 64, 67, 0.15);\n",
              "      fill: #174EA6;\n",
              "    }\n",
              "\n",
              "    [theme=dark] .colab-df-convert {\n",
              "      background-color: #3B4455;\n",
              "      fill: #D2E3FC;\n",
              "    }\n",
              "\n",
              "    [theme=dark] .colab-df-convert:hover {\n",
              "      background-color: #434B5C;\n",
              "      box-shadow: 0px 1px 3px 1px rgba(0, 0, 0, 0.15);\n",
              "      filter: drop-shadow(0px 1px 2px rgba(0, 0, 0, 0.3));\n",
              "      fill: #FFFFFF;\n",
              "    }\n",
              "  </style>\n",
              "\n",
              "      <script>\n",
              "        const buttonEl =\n",
              "          document.querySelector('#df-04b9bb32-2c74-4498-b39e-49ac9eab53ae button.colab-df-convert');\n",
              "        buttonEl.style.display =\n",
              "          google.colab.kernel.accessAllowed ? 'block' : 'none';\n",
              "\n",
              "        async function convertToInteractive(key) {\n",
              "          const element = document.querySelector('#df-04b9bb32-2c74-4498-b39e-49ac9eab53ae');\n",
              "          const dataTable =\n",
              "            await google.colab.kernel.invokeFunction('convertToInteractive',\n",
              "                                                     [key], {});\n",
              "          if (!dataTable) return;\n",
              "\n",
              "          const docLinkHtml = 'Like what you see? Visit the ' +\n",
              "            '<a target=\"_blank\" href=https://colab.research.google.com/notebooks/data_table.ipynb>data table notebook</a>'\n",
              "            + ' to learn more about interactive tables.';\n",
              "          element.innerHTML = '';\n",
              "          dataTable['output_type'] = 'display_data';\n",
              "          await google.colab.output.renderOutput(dataTable, element);\n",
              "          const docLink = document.createElement('div');\n",
              "          docLink.innerHTML = docLinkHtml;\n",
              "          element.appendChild(docLink);\n",
              "        }\n",
              "      </script>\n",
              "    </div>\n",
              "  </div>\n",
              "  "
            ]
          },
          "metadata": {},
          "execution_count": 41
        }
      ]
    },
    {
      "cell_type": "code",
      "source": [
        "# Bar grah\n",
        "plt.rcParams[\"figure.figsize\"] = (8,8)\n",
        "\n",
        "def get_bar_chart(df):\n",
        "  x = df['steps']\n",
        "  y = df['duration(second)']\n",
        "\n",
        "  plt.barh(x, y)\n",
        "  plt.title(f\"Process time (second)\")\n",
        "\n",
        "  for index, value in enumerate(y):\n",
        "      plt.text(value, index, str(value),  fontsize=12)\n",
        "  \n",
        "  plt.show()\n",
        "  plt.savefig('figure1.png')\n",
        "\n",
        "\n",
        "get_bar_chart(df)"
      ],
      "metadata": {
        "colab": {
          "base_uri": "https://localhost:8080/",
          "height": 515
        },
        "id": "lUlqQrfC_b79",
        "outputId": "c38b7de0-3035-4f1c-c7b1-4cae652064fb"
      },
      "execution_count": 42,
      "outputs": [
        {
          "output_type": "display_data",
          "data": {
            "text/plain": [
              "<Figure size 576x576 with 1 Axes>"
            ],
            "image/png": "[encoded data removed]"
          },
          "metadata": {}
        },
        {
          "output_type": "display_data",
          "data": {
            "text/plain": [
              "<Figure size 576x576 with 0 Axes>"
            ]
          },
          "metadata": {}
        }
      ]
    },
    {
      "cell_type": "code",
      "source": [
        "plt.rcParams[\"figure.figsize\"] = (15,3)\n",
        "\n",
        "def get_staced_chart(df):\n",
        "  df = df[[\"steps\", \"duration(second)\"]].T\n",
        "  df.columns = df.iloc[0]\n",
        "  df = df.drop(df.index[0])\n",
        "\n",
        "  df.plot.barh(stacked=True)\n",
        "  plt.legend(loc=(1.04, 0))\n",
        "\n",
        "  plt.show()\n",
        "  plt.savefig('figure2.png')\n",
        "\n",
        "  return df\n",
        "\n",
        "get_staced_chart(df)"
      ],
      "metadata": {
        "colab": {
          "base_uri": "https://localhost:8080/",
          "height": 292
        },
        "id": "HqQ9qvWG_eEm",
        "outputId": "4365fb64-1c29-4d6b-8306-c5b79043305b"
      },
      "execution_count": 54,
      "outputs": [
        {
          "output_type": "display_data",
          "data": {
            "text/plain": [
              "<Figure size 1080x216 with 1 Axes>"
            ],
            "image/png": "[encoded data removed]"
          },
          "metadata": {}
        },
        {
          "output_type": "execute_result",
          "data": {
            "text/plain": [
              "steps            01. Environment setting 02. Download Reads 03. Trim reads  \\\n",
              "duration(second)                     148                  4              4   \n",
              "\n",
              "steps            04. Mapping 05. SAM to BAM 06. Sorted BAM 07. Mappingstats  \n",
              "duration(second)        5132              5              4                0  "
            ],
            "text/html": [
              "\n",
              "  <div id=\"df-d4951102-10f2-4ece-883b-6adf2fd04da8\">\n",
              "    <div class=\"colab-df-container\">\n",
              "      <div>\n",
              "<style scoped>\n",
              "    .dataframe tbody tr th:only-of-type {\n",
              "        vertical-align: middle;\n",
              "    }\n",
              "\n",
              "    .dataframe tbody tr th {\n",
              "        vertical-align: top;\n",
              "    }\n",
              "\n",
              "    .dataframe thead th {\n",
              "        text-align: right;\n",
              "    }\n",
              "</style>\n",
              "<table border=\"1\" class=\"dataframe\">\n",
              "  <thead>\n",
              "    <tr style=\"text-align: right;\">\n",
              "      <th>steps</th>\n",
              "      <th>01. Environment setting</th>\n",
              "      <th>02. Download Reads</th>\n",
              "      <th>03. Trim reads</th>\n",
              "      <th>04. Mapping</th>\n",
              "      <th>05. SAM to BAM</th>\n",
              "      <th>06. Sorted BAM</th>\n",
              "      <th>07. Mappingstats</th>\n",
              "    </tr>\n",
              "  </thead>\n",
              "  <tbody>\n",
              "    <tr>\n",
              "      <th>duration(second)</th>\n",
              "      <td>148</td>\n",
              "      <td>4</td>\n",
              "      <td>4</td>\n",
              "      <td>5132</td>\n",
              "      <td>5</td>\n",
              "      <td>4</td>\n",
              "      <td>0</td>\n",
              "    </tr>\n",
              "  </tbody>\n",
              "</table>\n",
              "</div>\n",
              "      <button class=\"colab-df-convert\" onclick=\"convertToInteractive('df-d4951102-10f2-4ece-883b-6adf2fd04da8')\"\n",
              "              title=\"Convert this dataframe to an interactive table.\"\n",
              "              style=\"display:none;\">\n",
              "        \n",
              "  <svg xmlns=\"http://www.w3.org/2000/svg\" height=\"24px\"viewBox=\"0 0 24 24\"\n",
              "       width=\"24px\">\n",
              "    <path d=\"M0 0h24v24H0V0z\" fill=\"none\"/>\n",
              "    <path d=\"M18.56 5.44l.94 2.06.94-2.06 2.06-.94-2.06-.94-.94-2.06-.94 2.06-2.06.94zm-11 1L8.5 8.5l.94-2.06 2.06-.94-2.06-.94L8.5 2.5l-.94 2.06-2.06.94zm10 10l.94 2.06.94-2.06 2.06-.94-2.06-.94-.94-2.06-.94 2.06-2.06.94z\"/><path d=\"M17.41 7.96l-1.37-1.37c-.4-.4-.92-.59-1.43-.59-.52 0-1.04.2-1.43.59L10.3 9.45l-7.72 7.72c-.78.78-.78 2.05 0 2.83L4 21.41c.39.39.9.59 1.41.59.51 0 1.02-.2 1.41-.59l7.78-7.78 2.81-2.81c.8-.78.8-2.07 0-2.86zM5.41 20L4 18.59l7.72-7.72 1.47 1.35L5.41 20z\"/>\n",
              "  </svg>\n",
              "      </button>\n",
              "      \n",
              "  <style>\n",
              "    .colab-df-container {\n",
              "      display:flex;\n",
              "      flex-wrap:wrap;\n",
              "      gap: 12px;\n",
              "    }\n",
              "\n",
              "    .colab-df-convert {\n",
              "      background-color: #E8F0FE;\n",
              "      border: none;\n",
              "      border-radius: 50%;\n",
              "      cursor: pointer;\n",
              "      display: none;\n",
              "      fill: #1967D2;\n",
              "      height: 32px;\n",
              "      padding: 0 0 0 0;\n",
              "      width: 32px;\n",
              "    }\n",
              "\n",
              "    .colab-df-convert:hover {\n",
              "      background-color: #E2EBFA;\n",
              "      box-shadow: 0px 1px 2px rgba(60, 64, 67, 0.3), 0px 1px 3px 1px rgba(60, 64, 67, 0.15);\n",
              "      fill: #174EA6;\n",
              "    }\n",
              "\n",
              "    [theme=dark] .colab-df-convert {\n",
              "      background-color: #3B4455;\n",
              "      fill: #D2E3FC;\n",
              "    }\n",
              "\n",
              "    [theme=dark] .colab-df-convert:hover {\n",
              "      background-color: #434B5C;\n",
              "      box-shadow: 0px 1px 3px 1px rgba(0, 0, 0, 0.15);\n",
              "      filter: drop-shadow(0px 1px 2px rgba(0, 0, 0, 0.3));\n",
              "      fill: #FFFFFF;\n",
              "    }\n",
              "  </style>\n",
              "\n",
              "      <script>\n",
              "        const buttonEl =\n",
              "          document.querySelector('#df-d4951102-10f2-4ece-883b-6adf2fd04da8 button.colab-df-convert');\n",
              "        buttonEl.style.display =\n",
              "          google.colab.kernel.accessAllowed ? 'block' : 'none';\n",
              "\n",
              "        async function convertToInteractive(key) {\n",
              "          const element = document.querySelector('#df-d4951102-10f2-4ece-883b-6adf2fd04da8');\n",
              "          const dataTable =\n",
              "            await google.colab.kernel.invokeFunction('convertToInteractive',\n",
              "                                                     [key], {});\n",
              "          if (!dataTable) return;\n",
              "\n",
              "          const docLinkHtml = 'Like what you see? Visit the ' +\n",
              "            '<a target=\"_blank\" href=https://colab.research.google.com/notebooks/data_table.ipynb>data table notebook</a>'\n",
              "            + ' to learn more about interactive tables.';\n",
              "          element.innerHTML = '';\n",
              "          dataTable['output_type'] = 'display_data';\n",
              "          await google.colab.output.renderOutput(dataTable, element);\n",
              "          const docLink = document.createElement('div');\n",
              "          docLink.innerHTML = docLinkHtml;\n",
              "          element.appendChild(docLink);\n",
              "        }\n",
              "      </script>\n",
              "    </div>\n",
              "  </div>\n",
              "  "
            ]
          },
          "metadata": {},
          "execution_count": 54
        },
        {
          "output_type": "display_data",
          "data": {
            "text/plain": [
              "<Figure size 1080x216 with 0 Axes>"
            ]
          },
          "metadata": {}
        }
      ]
    },
    {
      "cell_type": "code",
      "source": [
        "# move output to drive\n",
        "\n",
        "!cp log.txt figure1.png  figure2.png SRR2960981.sorted.bam mappingstats.txt /content/drive/MyDrive/data/output_s"
      ],
      "metadata": {
        "id": "I3ocXvNZoMkB"
      },
      "execution_count": 55,
      "outputs": []
    },
    {
      "cell_type": "markdown",
      "source": [
        "Ref:\n",
        "- https://bi.biopapyrus.jp/rnaseq/mapping/bwa/bwa-long-dna-paired-reads.html"
      ],
      "metadata": {
        "id": "M39E17o7DE3_"
      }
    },
    {
      "cell_type": "code",
      "source": [],
      "metadata": {
        "id": "1-QE_2nr_0jS"
      },
      "execution_count": 43,
      "outputs": []
    }
  ]
}